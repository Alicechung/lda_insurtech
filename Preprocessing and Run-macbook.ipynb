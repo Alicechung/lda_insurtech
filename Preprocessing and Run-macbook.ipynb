{
 "cells": [
  {
   "cell_type": "code",
   "execution_count": 1,
   "metadata": {
    "collapsed": true
   },
   "outputs": [],
   "source": [
    "import os, re\n",
    "import pandas as pd\n",
    "import datetime\n",
    "import nltk\n",
    "import numpy as np\n",
    "import gensim\n",
    "from stop_words import get_stop_words\n",
    "from nltk.tokenize import PunktSentenceTokenizer\n",
    "from gensim.models import CoherenceModel\n",
    "from gensim.utils import simple_preprocess\n",
    "from gensim.models import TfidfModel\n",
    "from wordcloud import WordCloud\n",
    "from gensim import corpora, models, similarities \n",
    "from gensim.parsing.preprocessing import remove_stopwords\n",
    "import spacy\n",
    "import itertools\n",
    "import warnings\n",
    "warnings.filterwarnings(\"ignore\")\n",
    "from nltk.stem.snowball import SnowballStemmer\n",
    "stemmer = SnowballStemmer(\"english\")\n",
    "from datetime import datetime\n",
    "import matplotlib\n",
    "import matplotlib.pyplot as plt\n",
    "plt.rcParams[\"font.family\"] = \"Times New Roman\"\n",
    "%matplotlib inline\n",
    "matplotlib.use('agg')\n",
    "import itertools\n",
    "import pickle\n",
    "from wordcloud import WordCloud\n",
    "import pyLDAvis\n",
    "import pyLDAvis.gensim \n",
    "pyLDAvis.enable_notebook()"
   ]
  },
  {
   "cell_type": "code",
   "execution_count": 2,
   "metadata": {
    "collapsed": true
   },
   "outputs": [],
   "source": [
    "stops = nltk.corpus.stopwords.words('english')+['can','will','also']"
   ]
  },
  {
   "cell_type": "code",
   "execution_count": 3,
   "metadata": {
    "collapsed": true
   },
   "outputs": [],
   "source": [
    "#stops = get_stop_words('en')\n",
    "#stops = stops +['\"s',\"'s\",'s','can','will','also']"
   ]
  },
  {
   "cell_type": "code",
   "execution_count": 4,
   "metadata": {
    "collapsed": false
   },
   "outputs": [],
   "source": [
    "#pt = nltk.stem.PorterStemmer()"
   ]
  },
  {
   "cell_type": "code",
   "execution_count": 5,
   "metadata": {
    "collapsed": false
   },
   "outputs": [
    {
     "name": "stderr",
     "output_type": "stream",
     "text": [
      "/Users/misun/anaconda/lib/python3.5/site-packages/msgpack_numpy.py:84: DeprecationWarning: The binary mode of fromstring is deprecated, as it behaves surprisingly on unicode inputs. Use frombuffer instead\n",
      "  dtype=np.dtype(descr)).reshape(obj[b'shape'])\n",
      "/Users/misun/anaconda/lib/python3.5/site-packages/msgpack_numpy.py:88: DeprecationWarning: The binary mode of fromstring is deprecated, as it behaves surprisingly on unicode inputs. Use frombuffer instead\n",
      "  dtype=np.dtype(descr))[0]\n",
      "/Users/misun/anaconda/lib/python3.5/site-packages/msgpack_numpy.py:84: DeprecationWarning: The binary mode of fromstring is deprecated, as it behaves surprisingly on unicode inputs. Use frombuffer instead\n",
      "  dtype=np.dtype(descr)).reshape(obj[b'shape'])\n",
      "/Users/misun/anaconda/lib/python3.5/site-packages/msgpack_numpy.py:84: DeprecationWarning: The binary mode of fromstring is deprecated, as it behaves surprisingly on unicode inputs. Use frombuffer instead\n",
      "  dtype=np.dtype(descr)).reshape(obj[b'shape'])\n",
      "/Users/misun/anaconda/lib/python3.5/site-packages/msgpack_numpy.py:88: DeprecationWarning: The binary mode of fromstring is deprecated, as it behaves surprisingly on unicode inputs. Use frombuffer instead\n",
      "  dtype=np.dtype(descr))[0]\n",
      "/Users/misun/anaconda/lib/python3.5/site-packages/msgpack_numpy.py:84: DeprecationWarning: The binary mode of fromstring is deprecated, as it behaves surprisingly on unicode inputs. Use frombuffer instead\n",
      "  dtype=np.dtype(descr)).reshape(obj[b'shape'])\n",
      "/Users/misun/anaconda/lib/python3.5/site-packages/msgpack_numpy.py:84: DeprecationWarning: The binary mode of fromstring is deprecated, as it behaves surprisingly on unicode inputs. Use frombuffer instead\n",
      "  dtype=np.dtype(descr)).reshape(obj[b'shape'])\n",
      "/Users/misun/anaconda/lib/python3.5/site-packages/msgpack_numpy.py:88: DeprecationWarning: The binary mode of fromstring is deprecated, as it behaves surprisingly on unicode inputs. Use frombuffer instead\n",
      "  dtype=np.dtype(descr))[0]\n",
      "/Users/misun/anaconda/lib/python3.5/site-packages/msgpack_numpy.py:84: DeprecationWarning: The binary mode of fromstring is deprecated, as it behaves surprisingly on unicode inputs. Use frombuffer instead\n",
      "  dtype=np.dtype(descr)).reshape(obj[b'shape'])\n",
      "/Users/misun/anaconda/lib/python3.5/site-packages/msgpack_numpy.py:84: DeprecationWarning: The binary mode of fromstring is deprecated, as it behaves surprisingly on unicode inputs. Use frombuffer instead\n",
      "  dtype=np.dtype(descr)).reshape(obj[b'shape'])\n",
      "/Users/misun/anaconda/lib/python3.5/site-packages/msgpack_numpy.py:88: DeprecationWarning: The binary mode of fromstring is deprecated, as it behaves surprisingly on unicode inputs. Use frombuffer instead\n",
      "  dtype=np.dtype(descr))[0]\n",
      "/Users/misun/anaconda/lib/python3.5/site-packages/msgpack_numpy.py:84: DeprecationWarning: The binary mode of fromstring is deprecated, as it behaves surprisingly on unicode inputs. Use frombuffer instead\n",
      "  dtype=np.dtype(descr)).reshape(obj[b'shape'])\n",
      "/Users/misun/anaconda/lib/python3.5/site-packages/msgpack_numpy.py:84: DeprecationWarning: The binary mode of fromstring is deprecated, as it behaves surprisingly on unicode inputs. Use frombuffer instead\n",
      "  dtype=np.dtype(descr)).reshape(obj[b'shape'])\n",
      "/Users/misun/anaconda/lib/python3.5/site-packages/msgpack_numpy.py:88: DeprecationWarning: The binary mode of fromstring is deprecated, as it behaves surprisingly on unicode inputs. Use frombuffer instead\n",
      "  dtype=np.dtype(descr))[0]\n",
      "/Users/misun/anaconda/lib/python3.5/site-packages/msgpack_numpy.py:84: DeprecationWarning: The binary mode of fromstring is deprecated, as it behaves surprisingly on unicode inputs. Use frombuffer instead\n",
      "  dtype=np.dtype(descr)).reshape(obj[b'shape'])\n",
      "/Users/misun/anaconda/lib/python3.5/site-packages/msgpack_numpy.py:84: DeprecationWarning: The binary mode of fromstring is deprecated, as it behaves surprisingly on unicode inputs. Use frombuffer instead\n",
      "  dtype=np.dtype(descr)).reshape(obj[b'shape'])\n",
      "/Users/misun/anaconda/lib/python3.5/site-packages/msgpack_numpy.py:88: DeprecationWarning: The binary mode of fromstring is deprecated, as it behaves surprisingly on unicode inputs. Use frombuffer instead\n",
      "  dtype=np.dtype(descr))[0]\n",
      "/Users/misun/anaconda/lib/python3.5/site-packages/msgpack_numpy.py:84: DeprecationWarning: The binary mode of fromstring is deprecated, as it behaves surprisingly on unicode inputs. Use frombuffer instead\n",
      "  dtype=np.dtype(descr)).reshape(obj[b'shape'])\n",
      "/Users/misun/anaconda/lib/python3.5/site-packages/msgpack_numpy.py:84: DeprecationWarning: The binary mode of fromstring is deprecated, as it behaves surprisingly on unicode inputs. Use frombuffer instead\n",
      "  dtype=np.dtype(descr)).reshape(obj[b'shape'])\n",
      "/Users/misun/anaconda/lib/python3.5/site-packages/msgpack_numpy.py:84: DeprecationWarning: The binary mode of fromstring is deprecated, as it behaves surprisingly on unicode inputs. Use frombuffer instead\n",
      "  dtype=np.dtype(descr)).reshape(obj[b'shape'])\n",
      "/Users/misun/anaconda/lib/python3.5/site-packages/msgpack_numpy.py:88: DeprecationWarning: The binary mode of fromstring is deprecated, as it behaves surprisingly on unicode inputs. Use frombuffer instead\n",
      "  dtype=np.dtype(descr))[0]\n",
      "/Users/misun/anaconda/lib/python3.5/site-packages/msgpack_numpy.py:84: DeprecationWarning: The binary mode of fromstring is deprecated, as it behaves surprisingly on unicode inputs. Use frombuffer instead\n",
      "  dtype=np.dtype(descr)).reshape(obj[b'shape'])\n",
      "/Users/misun/anaconda/lib/python3.5/site-packages/msgpack_numpy.py:84: DeprecationWarning: The binary mode of fromstring is deprecated, as it behaves surprisingly on unicode inputs. Use frombuffer instead\n",
      "  dtype=np.dtype(descr)).reshape(obj[b'shape'])\n",
      "/Users/misun/anaconda/lib/python3.5/site-packages/msgpack_numpy.py:88: DeprecationWarning: The binary mode of fromstring is deprecated, as it behaves surprisingly on unicode inputs. Use frombuffer instead\n",
      "  dtype=np.dtype(descr))[0]\n",
      "/Users/misun/anaconda/lib/python3.5/site-packages/msgpack_numpy.py:84: DeprecationWarning: The binary mode of fromstring is deprecated, as it behaves surprisingly on unicode inputs. Use frombuffer instead\n",
      "  dtype=np.dtype(descr)).reshape(obj[b'shape'])\n",
      "/Users/misun/anaconda/lib/python3.5/site-packages/msgpack_numpy.py:84: DeprecationWarning: The binary mode of fromstring is deprecated, as it behaves surprisingly on unicode inputs. Use frombuffer instead\n",
      "  dtype=np.dtype(descr)).reshape(obj[b'shape'])\n",
      "/Users/misun/anaconda/lib/python3.5/site-packages/msgpack_numpy.py:88: DeprecationWarning: The binary mode of fromstring is deprecated, as it behaves surprisingly on unicode inputs. Use frombuffer instead\n",
      "  dtype=np.dtype(descr))[0]\n",
      "/Users/misun/anaconda/lib/python3.5/site-packages/msgpack_numpy.py:84: DeprecationWarning: The binary mode of fromstring is deprecated, as it behaves surprisingly on unicode inputs. Use frombuffer instead\n",
      "  dtype=np.dtype(descr)).reshape(obj[b'shape'])\n",
      "/Users/misun/anaconda/lib/python3.5/site-packages/msgpack_numpy.py:84: DeprecationWarning: The binary mode of fromstring is deprecated, as it behaves surprisingly on unicode inputs. Use frombuffer instead\n",
      "  dtype=np.dtype(descr)).reshape(obj[b'shape'])\n",
      "/Users/misun/anaconda/lib/python3.5/site-packages/msgpack_numpy.py:88: DeprecationWarning: The binary mode of fromstring is deprecated, as it behaves surprisingly on unicode inputs. Use frombuffer instead\n",
      "  dtype=np.dtype(descr))[0]\n",
      "/Users/misun/anaconda/lib/python3.5/site-packages/msgpack_numpy.py:84: DeprecationWarning: The binary mode of fromstring is deprecated, as it behaves surprisingly on unicode inputs. Use frombuffer instead\n",
      "  dtype=np.dtype(descr)).reshape(obj[b'shape'])\n",
      "/Users/misun/anaconda/lib/python3.5/site-packages/msgpack_numpy.py:84: DeprecationWarning: The binary mode of fromstring is deprecated, as it behaves surprisingly on unicode inputs. Use frombuffer instead\n",
      "  dtype=np.dtype(descr)).reshape(obj[b'shape'])\n",
      "/Users/misun/anaconda/lib/python3.5/site-packages/msgpack_numpy.py:88: DeprecationWarning: The binary mode of fromstring is deprecated, as it behaves surprisingly on unicode inputs. Use frombuffer instead\n",
      "  dtype=np.dtype(descr))[0]\n",
      "/Users/misun/anaconda/lib/python3.5/site-packages/msgpack_numpy.py:84: DeprecationWarning: The binary mode of fromstring is deprecated, as it behaves surprisingly on unicode inputs. Use frombuffer instead\n",
      "  dtype=np.dtype(descr)).reshape(obj[b'shape'])\n",
      "/Users/misun/anaconda/lib/python3.5/site-packages/msgpack_numpy.py:84: DeprecationWarning: The binary mode of fromstring is deprecated, as it behaves surprisingly on unicode inputs. Use frombuffer instead\n",
      "  dtype=np.dtype(descr)).reshape(obj[b'shape'])\n",
      "/Users/misun/anaconda/lib/python3.5/site-packages/msgpack_numpy.py:84: DeprecationWarning: The binary mode of fromstring is deprecated, as it behaves surprisingly on unicode inputs. Use frombuffer instead\n",
      "  dtype=np.dtype(descr)).reshape(obj[b'shape'])\n",
      "/Users/misun/anaconda/lib/python3.5/site-packages/msgpack_numpy.py:84: DeprecationWarning: The binary mode of fromstring is deprecated, as it behaves surprisingly on unicode inputs. Use frombuffer instead\n",
      "  dtype=np.dtype(descr)).reshape(obj[b'shape'])\n",
      "/Users/misun/anaconda/lib/python3.5/site-packages/msgpack_numpy.py:84: DeprecationWarning: The binary mode of fromstring is deprecated, as it behaves surprisingly on unicode inputs. Use frombuffer instead\n",
      "  dtype=np.dtype(descr)).reshape(obj[b'shape'])\n",
      "/Users/misun/anaconda/lib/python3.5/site-packages/msgpack_numpy.py:88: DeprecationWarning: The binary mode of fromstring is deprecated, as it behaves surprisingly on unicode inputs. Use frombuffer instead\n",
      "  dtype=np.dtype(descr))[0]\n",
      "/Users/misun/anaconda/lib/python3.5/site-packages/msgpack_numpy.py:84: DeprecationWarning: The binary mode of fromstring is deprecated, as it behaves surprisingly on unicode inputs. Use frombuffer instead\n",
      "  dtype=np.dtype(descr)).reshape(obj[b'shape'])\n",
      "/Users/misun/anaconda/lib/python3.5/site-packages/msgpack_numpy.py:84: DeprecationWarning: The binary mode of fromstring is deprecated, as it behaves surprisingly on unicode inputs. Use frombuffer instead\n",
      "  dtype=np.dtype(descr)).reshape(obj[b'shape'])\n",
      "/Users/misun/anaconda/lib/python3.5/site-packages/msgpack_numpy.py:88: DeprecationWarning: The binary mode of fromstring is deprecated, as it behaves surprisingly on unicode inputs. Use frombuffer instead\n",
      "  dtype=np.dtype(descr))[0]\n",
      "/Users/misun/anaconda/lib/python3.5/site-packages/msgpack_numpy.py:84: DeprecationWarning: The binary mode of fromstring is deprecated, as it behaves surprisingly on unicode inputs. Use frombuffer instead\n",
      "  dtype=np.dtype(descr)).reshape(obj[b'shape'])\n",
      "/Users/misun/anaconda/lib/python3.5/site-packages/msgpack_numpy.py:84: DeprecationWarning: The binary mode of fromstring is deprecated, as it behaves surprisingly on unicode inputs. Use frombuffer instead\n",
      "  dtype=np.dtype(descr)).reshape(obj[b'shape'])\n",
      "/Users/misun/anaconda/lib/python3.5/site-packages/msgpack_numpy.py:88: DeprecationWarning: The binary mode of fromstring is deprecated, as it behaves surprisingly on unicode inputs. Use frombuffer instead\n",
      "  dtype=np.dtype(descr))[0]\n",
      "/Users/misun/anaconda/lib/python3.5/site-packages/msgpack_numpy.py:84: DeprecationWarning: The binary mode of fromstring is deprecated, as it behaves surprisingly on unicode inputs. Use frombuffer instead\n",
      "  dtype=np.dtype(descr)).reshape(obj[b'shape'])\n",
      "/Users/misun/anaconda/lib/python3.5/site-packages/msgpack_numpy.py:84: DeprecationWarning: The binary mode of fromstring is deprecated, as it behaves surprisingly on unicode inputs. Use frombuffer instead\n",
      "  dtype=np.dtype(descr)).reshape(obj[b'shape'])\n",
      "/Users/misun/anaconda/lib/python3.5/site-packages/msgpack_numpy.py:88: DeprecationWarning: The binary mode of fromstring is deprecated, as it behaves surprisingly on unicode inputs. Use frombuffer instead\n",
      "  dtype=np.dtype(descr))[0]\n",
      "/Users/misun/anaconda/lib/python3.5/site-packages/msgpack_numpy.py:84: DeprecationWarning: The binary mode of fromstring is deprecated, as it behaves surprisingly on unicode inputs. Use frombuffer instead\n",
      "  dtype=np.dtype(descr)).reshape(obj[b'shape'])\n",
      "/Users/misun/anaconda/lib/python3.5/site-packages/msgpack_numpy.py:84: DeprecationWarning: The binary mode of fromstring is deprecated, as it behaves surprisingly on unicode inputs. Use frombuffer instead\n",
      "  dtype=np.dtype(descr)).reshape(obj[b'shape'])\n",
      "/Users/misun/anaconda/lib/python3.5/site-packages/msgpack_numpy.py:88: DeprecationWarning: The binary mode of fromstring is deprecated, as it behaves surprisingly on unicode inputs. Use frombuffer instead\n",
      "  dtype=np.dtype(descr))[0]\n",
      "/Users/misun/anaconda/lib/python3.5/site-packages/msgpack_numpy.py:84: DeprecationWarning: The binary mode of fromstring is deprecated, as it behaves surprisingly on unicode inputs. Use frombuffer instead\n",
      "  dtype=np.dtype(descr)).reshape(obj[b'shape'])\n",
      "/Users/misun/anaconda/lib/python3.5/site-packages/msgpack_numpy.py:84: DeprecationWarning: The binary mode of fromstring is deprecated, as it behaves surprisingly on unicode inputs. Use frombuffer instead\n",
      "  dtype=np.dtype(descr)).reshape(obj[b'shape'])\n",
      "/Users/misun/anaconda/lib/python3.5/site-packages/msgpack_numpy.py:84: DeprecationWarning: The binary mode of fromstring is deprecated, as it behaves surprisingly on unicode inputs. Use frombuffer instead\n",
      "  dtype=np.dtype(descr)).reshape(obj[b'shape'])\n",
      "/Users/misun/anaconda/lib/python3.5/site-packages/msgpack_numpy.py:88: DeprecationWarning: The binary mode of fromstring is deprecated, as it behaves surprisingly on unicode inputs. Use frombuffer instead\n",
      "  dtype=np.dtype(descr))[0]\n",
      "/Users/misun/anaconda/lib/python3.5/site-packages/msgpack_numpy.py:84: DeprecationWarning: The binary mode of fromstring is deprecated, as it behaves surprisingly on unicode inputs. Use frombuffer instead\n",
      "  dtype=np.dtype(descr)).reshape(obj[b'shape'])\n",
      "/Users/misun/anaconda/lib/python3.5/site-packages/msgpack_numpy.py:84: DeprecationWarning: The binary mode of fromstring is deprecated, as it behaves surprisingly on unicode inputs. Use frombuffer instead\n",
      "  dtype=np.dtype(descr)).reshape(obj[b'shape'])\n",
      "/Users/misun/anaconda/lib/python3.5/site-packages/msgpack_numpy.py:88: DeprecationWarning: The binary mode of fromstring is deprecated, as it behaves surprisingly on unicode inputs. Use frombuffer instead\n",
      "  dtype=np.dtype(descr))[0]\n",
      "/Users/misun/anaconda/lib/python3.5/site-packages/msgpack_numpy.py:84: DeprecationWarning: The binary mode of fromstring is deprecated, as it behaves surprisingly on unicode inputs. Use frombuffer instead\n",
      "  dtype=np.dtype(descr)).reshape(obj[b'shape'])\n",
      "/Users/misun/anaconda/lib/python3.5/site-packages/msgpack_numpy.py:84: DeprecationWarning: The binary mode of fromstring is deprecated, as it behaves surprisingly on unicode inputs. Use frombuffer instead\n",
      "  dtype=np.dtype(descr)).reshape(obj[b'shape'])\n",
      "/Users/misun/anaconda/lib/python3.5/site-packages/msgpack_numpy.py:88: DeprecationWarning: The binary mode of fromstring is deprecated, as it behaves surprisingly on unicode inputs. Use frombuffer instead\n",
      "  dtype=np.dtype(descr))[0]\n",
      "/Users/misun/anaconda/lib/python3.5/site-packages/msgpack_numpy.py:84: DeprecationWarning: The binary mode of fromstring is deprecated, as it behaves surprisingly on unicode inputs. Use frombuffer instead\n",
      "  dtype=np.dtype(descr)).reshape(obj[b'shape'])\n",
      "/Users/misun/anaconda/lib/python3.5/site-packages/msgpack_numpy.py:84: DeprecationWarning: The binary mode of fromstring is deprecated, as it behaves surprisingly on unicode inputs. Use frombuffer instead\n",
      "  dtype=np.dtype(descr)).reshape(obj[b'shape'])\n",
      "/Users/misun/anaconda/lib/python3.5/site-packages/msgpack_numpy.py:88: DeprecationWarning: The binary mode of fromstring is deprecated, as it behaves surprisingly on unicode inputs. Use frombuffer instead\n",
      "  dtype=np.dtype(descr))[0]\n",
      "/Users/misun/anaconda/lib/python3.5/site-packages/msgpack_numpy.py:84: DeprecationWarning: The binary mode of fromstring is deprecated, as it behaves surprisingly on unicode inputs. Use frombuffer instead\n",
      "  dtype=np.dtype(descr)).reshape(obj[b'shape'])\n",
      "/Users/misun/anaconda/lib/python3.5/site-packages/msgpack_numpy.py:84: DeprecationWarning: The binary mode of fromstring is deprecated, as it behaves surprisingly on unicode inputs. Use frombuffer instead\n",
      "  dtype=np.dtype(descr)).reshape(obj[b'shape'])\n",
      "/Users/misun/anaconda/lib/python3.5/site-packages/msgpack_numpy.py:88: DeprecationWarning: The binary mode of fromstring is deprecated, as it behaves surprisingly on unicode inputs. Use frombuffer instead\n",
      "  dtype=np.dtype(descr))[0]\n",
      "/Users/misun/anaconda/lib/python3.5/site-packages/msgpack_numpy.py:84: DeprecationWarning: The binary mode of fromstring is deprecated, as it behaves surprisingly on unicode inputs. Use frombuffer instead\n",
      "  dtype=np.dtype(descr)).reshape(obj[b'shape'])\n",
      "/Users/misun/anaconda/lib/python3.5/site-packages/msgpack_numpy.py:84: DeprecationWarning: The binary mode of fromstring is deprecated, as it behaves surprisingly on unicode inputs. Use frombuffer instead\n",
      "  dtype=np.dtype(descr)).reshape(obj[b'shape'])\n",
      "/Users/misun/anaconda/lib/python3.5/site-packages/msgpack_numpy.py:84: DeprecationWarning: The binary mode of fromstring is deprecated, as it behaves surprisingly on unicode inputs. Use frombuffer instead\n",
      "  dtype=np.dtype(descr)).reshape(obj[b'shape'])\n",
      "/Users/misun/anaconda/lib/python3.5/site-packages/msgpack_numpy.py:84: DeprecationWarning: The binary mode of fromstring is deprecated, as it behaves surprisingly on unicode inputs. Use frombuffer instead\n",
      "  dtype=np.dtype(descr)).reshape(obj[b'shape'])\n",
      "/Users/misun/anaconda/lib/python3.5/site-packages/msgpack_numpy.py:84: DeprecationWarning: The binary mode of fromstring is deprecated, as it behaves surprisingly on unicode inputs. Use frombuffer instead\n",
      "  dtype=np.dtype(descr)).reshape(obj[b'shape'])\n",
      "/Users/misun/anaconda/lib/python3.5/site-packages/msgpack_numpy.py:88: DeprecationWarning: The binary mode of fromstring is deprecated, as it behaves surprisingly on unicode inputs. Use frombuffer instead\n",
      "  dtype=np.dtype(descr))[0]\n",
      "/Users/misun/anaconda/lib/python3.5/site-packages/msgpack_numpy.py:84: DeprecationWarning: The binary mode of fromstring is deprecated, as it behaves surprisingly on unicode inputs. Use frombuffer instead\n",
      "  dtype=np.dtype(descr)).reshape(obj[b'shape'])\n",
      "/Users/misun/anaconda/lib/python3.5/site-packages/msgpack_numpy.py:88: DeprecationWarning: The binary mode of fromstring is deprecated, as it behaves surprisingly on unicode inputs. Use frombuffer instead\n",
      "  dtype=np.dtype(descr))[0]\n",
      "/Users/misun/anaconda/lib/python3.5/site-packages/msgpack_numpy.py:84: DeprecationWarning: The binary mode of fromstring is deprecated, as it behaves surprisingly on unicode inputs. Use frombuffer instead\n",
      "  dtype=np.dtype(descr)).reshape(obj[b'shape'])\n",
      "/Users/misun/anaconda/lib/python3.5/site-packages/msgpack_numpy.py:84: DeprecationWarning: The binary mode of fromstring is deprecated, as it behaves surprisingly on unicode inputs. Use frombuffer instead\n",
      "  dtype=np.dtype(descr)).reshape(obj[b'shape'])\n",
      "/Users/misun/anaconda/lib/python3.5/site-packages/msgpack_numpy.py:88: DeprecationWarning: The binary mode of fromstring is deprecated, as it behaves surprisingly on unicode inputs. Use frombuffer instead\n",
      "  dtype=np.dtype(descr))[0]\n",
      "/Users/misun/anaconda/lib/python3.5/site-packages/msgpack_numpy.py:84: DeprecationWarning: The binary mode of fromstring is deprecated, as it behaves surprisingly on unicode inputs. Use frombuffer instead\n",
      "  dtype=np.dtype(descr)).reshape(obj[b'shape'])\n",
      "/Users/misun/anaconda/lib/python3.5/site-packages/msgpack_numpy.py:84: DeprecationWarning: The binary mode of fromstring is deprecated, as it behaves surprisingly on unicode inputs. Use frombuffer instead\n",
      "  dtype=np.dtype(descr)).reshape(obj[b'shape'])\n",
      "/Users/misun/anaconda/lib/python3.5/site-packages/msgpack_numpy.py:88: DeprecationWarning: The binary mode of fromstring is deprecated, as it behaves surprisingly on unicode inputs. Use frombuffer instead\n",
      "  dtype=np.dtype(descr))[0]\n",
      "/Users/misun/anaconda/lib/python3.5/site-packages/msgpack_numpy.py:84: DeprecationWarning: The binary mode of fromstring is deprecated, as it behaves surprisingly on unicode inputs. Use frombuffer instead\n",
      "  dtype=np.dtype(descr)).reshape(obj[b'shape'])\n",
      "/Users/misun/anaconda/lib/python3.5/site-packages/msgpack_numpy.py:84: DeprecationWarning: The binary mode of fromstring is deprecated, as it behaves surprisingly on unicode inputs. Use frombuffer instead\n",
      "  dtype=np.dtype(descr)).reshape(obj[b'shape'])\n",
      "/Users/misun/anaconda/lib/python3.5/site-packages/msgpack_numpy.py:88: DeprecationWarning: The binary mode of fromstring is deprecated, as it behaves surprisingly on unicode inputs. Use frombuffer instead\n",
      "  dtype=np.dtype(descr))[0]\n",
      "/Users/misun/anaconda/lib/python3.5/site-packages/msgpack_numpy.py:84: DeprecationWarning: The binary mode of fromstring is deprecated, as it behaves surprisingly on unicode inputs. Use frombuffer instead\n",
      "  dtype=np.dtype(descr)).reshape(obj[b'shape'])\n",
      "/Users/misun/anaconda/lib/python3.5/site-packages/msgpack_numpy.py:84: DeprecationWarning: The binary mode of fromstring is deprecated, as it behaves surprisingly on unicode inputs. Use frombuffer instead\n",
      "  dtype=np.dtype(descr)).reshape(obj[b'shape'])\n",
      "/Users/misun/anaconda/lib/python3.5/site-packages/msgpack_numpy.py:88: DeprecationWarning: The binary mode of fromstring is deprecated, as it behaves surprisingly on unicode inputs. Use frombuffer instead\n",
      "  dtype=np.dtype(descr))[0]\n",
      "/Users/misun/anaconda/lib/python3.5/site-packages/msgpack_numpy.py:84: DeprecationWarning: The binary mode of fromstring is deprecated, as it behaves surprisingly on unicode inputs. Use frombuffer instead\n",
      "  dtype=np.dtype(descr)).reshape(obj[b'shape'])\n",
      "/Users/misun/anaconda/lib/python3.5/site-packages/msgpack_numpy.py:84: DeprecationWarning: The binary mode of fromstring is deprecated, as it behaves surprisingly on unicode inputs. Use frombuffer instead\n",
      "  dtype=np.dtype(descr)).reshape(obj[b'shape'])\n",
      "/Users/misun/anaconda/lib/python3.5/site-packages/msgpack_numpy.py:88: DeprecationWarning: The binary mode of fromstring is deprecated, as it behaves surprisingly on unicode inputs. Use frombuffer instead\n",
      "  dtype=np.dtype(descr))[0]\n",
      "/Users/misun/anaconda/lib/python3.5/site-packages/msgpack_numpy.py:84: DeprecationWarning: The binary mode of fromstring is deprecated, as it behaves surprisingly on unicode inputs. Use frombuffer instead\n",
      "  dtype=np.dtype(descr)).reshape(obj[b'shape'])\n",
      "/Users/misun/anaconda/lib/python3.5/site-packages/msgpack_numpy.py:84: DeprecationWarning: The binary mode of fromstring is deprecated, as it behaves surprisingly on unicode inputs. Use frombuffer instead\n",
      "  dtype=np.dtype(descr)).reshape(obj[b'shape'])\n",
      "/Users/misun/anaconda/lib/python3.5/site-packages/msgpack_numpy.py:88: DeprecationWarning: The binary mode of fromstring is deprecated, as it behaves surprisingly on unicode inputs. Use frombuffer instead\n",
      "  dtype=np.dtype(descr))[0]\n",
      "/Users/misun/anaconda/lib/python3.5/site-packages/msgpack_numpy.py:84: DeprecationWarning: The binary mode of fromstring is deprecated, as it behaves surprisingly on unicode inputs. Use frombuffer instead\n",
      "  dtype=np.dtype(descr)).reshape(obj[b'shape'])\n",
      "/Users/misun/anaconda/lib/python3.5/site-packages/msgpack_numpy.py:84: DeprecationWarning: The binary mode of fromstring is deprecated, as it behaves surprisingly on unicode inputs. Use frombuffer instead\n",
      "  dtype=np.dtype(descr)).reshape(obj[b'shape'])\n",
      "/Users/misun/anaconda/lib/python3.5/site-packages/msgpack_numpy.py:84: DeprecationWarning: The binary mode of fromstring is deprecated, as it behaves surprisingly on unicode inputs. Use frombuffer instead\n",
      "  dtype=np.dtype(descr)).reshape(obj[b'shape'])\n",
      "/Users/misun/anaconda/lib/python3.5/site-packages/msgpack_numpy.py:88: DeprecationWarning: The binary mode of fromstring is deprecated, as it behaves surprisingly on unicode inputs. Use frombuffer instead\n",
      "  dtype=np.dtype(descr))[0]\n",
      "/Users/misun/anaconda/lib/python3.5/site-packages/msgpack_numpy.py:84: DeprecationWarning: The binary mode of fromstring is deprecated, as it behaves surprisingly on unicode inputs. Use frombuffer instead\n",
      "  dtype=np.dtype(descr)).reshape(obj[b'shape'])\n",
      "/Users/misun/anaconda/lib/python3.5/site-packages/msgpack_numpy.py:84: DeprecationWarning: The binary mode of fromstring is deprecated, as it behaves surprisingly on unicode inputs. Use frombuffer instead\n",
      "  dtype=np.dtype(descr)).reshape(obj[b'shape'])\n",
      "/Users/misun/anaconda/lib/python3.5/site-packages/msgpack_numpy.py:88: DeprecationWarning: The binary mode of fromstring is deprecated, as it behaves surprisingly on unicode inputs. Use frombuffer instead\n",
      "  dtype=np.dtype(descr))[0]\n",
      "/Users/misun/anaconda/lib/python3.5/site-packages/msgpack_numpy.py:84: DeprecationWarning: The binary mode of fromstring is deprecated, as it behaves surprisingly on unicode inputs. Use frombuffer instead\n",
      "  dtype=np.dtype(descr)).reshape(obj[b'shape'])\n",
      "/Users/misun/anaconda/lib/python3.5/site-packages/msgpack_numpy.py:84: DeprecationWarning: The binary mode of fromstring is deprecated, as it behaves surprisingly on unicode inputs. Use frombuffer instead\n",
      "  dtype=np.dtype(descr)).reshape(obj[b'shape'])\n",
      "/Users/misun/anaconda/lib/python3.5/site-packages/msgpack_numpy.py:88: DeprecationWarning: The binary mode of fromstring is deprecated, as it behaves surprisingly on unicode inputs. Use frombuffer instead\n",
      "  dtype=np.dtype(descr))[0]\n",
      "/Users/misun/anaconda/lib/python3.5/site-packages/msgpack_numpy.py:84: DeprecationWarning: The binary mode of fromstring is deprecated, as it behaves surprisingly on unicode inputs. Use frombuffer instead\n",
      "  dtype=np.dtype(descr)).reshape(obj[b'shape'])\n",
      "/Users/misun/anaconda/lib/python3.5/site-packages/msgpack_numpy.py:84: DeprecationWarning: The binary mode of fromstring is deprecated, as it behaves surprisingly on unicode inputs. Use frombuffer instead\n",
      "  dtype=np.dtype(descr)).reshape(obj[b'shape'])\n",
      "/Users/misun/anaconda/lib/python3.5/site-packages/msgpack_numpy.py:88: DeprecationWarning: The binary mode of fromstring is deprecated, as it behaves surprisingly on unicode inputs. Use frombuffer instead\n",
      "  dtype=np.dtype(descr))[0]\n",
      "/Users/misun/anaconda/lib/python3.5/site-packages/msgpack_numpy.py:84: DeprecationWarning: The binary mode of fromstring is deprecated, as it behaves surprisingly on unicode inputs. Use frombuffer instead\n",
      "  dtype=np.dtype(descr)).reshape(obj[b'shape'])\n",
      "/Users/misun/anaconda/lib/python3.5/site-packages/msgpack_numpy.py:84: DeprecationWarning: The binary mode of fromstring is deprecated, as it behaves surprisingly on unicode inputs. Use frombuffer instead\n",
      "  dtype=np.dtype(descr)).reshape(obj[b'shape'])\n",
      "/Users/misun/anaconda/lib/python3.5/site-packages/msgpack_numpy.py:88: DeprecationWarning: The binary mode of fromstring is deprecated, as it behaves surprisingly on unicode inputs. Use frombuffer instead\n",
      "  dtype=np.dtype(descr))[0]\n",
      "/Users/misun/anaconda/lib/python3.5/site-packages/msgpack_numpy.py:84: DeprecationWarning: The binary mode of fromstring is deprecated, as it behaves surprisingly on unicode inputs. Use frombuffer instead\n",
      "  dtype=np.dtype(descr)).reshape(obj[b'shape'])\n",
      "/Users/misun/anaconda/lib/python3.5/site-packages/msgpack_numpy.py:84: DeprecationWarning: The binary mode of fromstring is deprecated, as it behaves surprisingly on unicode inputs. Use frombuffer instead\n",
      "  dtype=np.dtype(descr)).reshape(obj[b'shape'])\n",
      "/Users/misun/anaconda/lib/python3.5/site-packages/msgpack_numpy.py:84: DeprecationWarning: The binary mode of fromstring is deprecated, as it behaves surprisingly on unicode inputs. Use frombuffer instead\n",
      "  dtype=np.dtype(descr)).reshape(obj[b'shape'])\n",
      "/Users/misun/anaconda/lib/python3.5/site-packages/msgpack_numpy.py:84: DeprecationWarning: The binary mode of fromstring is deprecated, as it behaves surprisingly on unicode inputs. Use frombuffer instead\n",
      "  dtype=np.dtype(descr)).reshape(obj[b'shape'])\n",
      "/Users/misun/anaconda/lib/python3.5/site-packages/msgpack_numpy.py:84: DeprecationWarning: The binary mode of fromstring is deprecated, as it behaves surprisingly on unicode inputs. Use frombuffer instead\n",
      "  dtype=np.dtype(descr)).reshape(obj[b'shape'])\n",
      "/Users/misun/anaconda/lib/python3.5/site-packages/msgpack_numpy.py:88: DeprecationWarning: The binary mode of fromstring is deprecated, as it behaves surprisingly on unicode inputs. Use frombuffer instead\n",
      "  dtype=np.dtype(descr))[0]\n",
      "/Users/misun/anaconda/lib/python3.5/site-packages/msgpack_numpy.py:84: DeprecationWarning: The binary mode of fromstring is deprecated, as it behaves surprisingly on unicode inputs. Use frombuffer instead\n",
      "  dtype=np.dtype(descr)).reshape(obj[b'shape'])\n",
      "/Users/misun/anaconda/lib/python3.5/site-packages/msgpack_numpy.py:88: DeprecationWarning: The binary mode of fromstring is deprecated, as it behaves surprisingly on unicode inputs. Use frombuffer instead\n",
      "  dtype=np.dtype(descr))[0]\n",
      "/Users/misun/anaconda/lib/python3.5/site-packages/msgpack_numpy.py:84: DeprecationWarning: The binary mode of fromstring is deprecated, as it behaves surprisingly on unicode inputs. Use frombuffer instead\n",
      "  dtype=np.dtype(descr)).reshape(obj[b'shape'])\n",
      "/Users/misun/anaconda/lib/python3.5/site-packages/msgpack_numpy.py:84: DeprecationWarning: The binary mode of fromstring is deprecated, as it behaves surprisingly on unicode inputs. Use frombuffer instead\n",
      "  dtype=np.dtype(descr)).reshape(obj[b'shape'])\n",
      "/Users/misun/anaconda/lib/python3.5/site-packages/msgpack_numpy.py:88: DeprecationWarning: The binary mode of fromstring is deprecated, as it behaves surprisingly on unicode inputs. Use frombuffer instead\n",
      "  dtype=np.dtype(descr))[0]\n",
      "/Users/misun/anaconda/lib/python3.5/site-packages/msgpack_numpy.py:84: DeprecationWarning: The binary mode of fromstring is deprecated, as it behaves surprisingly on unicode inputs. Use frombuffer instead\n",
      "  dtype=np.dtype(descr)).reshape(obj[b'shape'])\n"
     ]
    }
   ],
   "source": [
    "nlp = spacy.load('en')#, disable=['parser', 'ner'])"
   ]
  },
  {
   "cell_type": "code",
   "execution_count": 6,
   "metadata": {
    "collapsed": true
   },
   "outputs": [],
   "source": [
    "#spacy.load('en')"
   ]
  },
  {
   "cell_type": "code",
   "execution_count": 233,
   "metadata": {
    "collapsed": false
   },
   "outputs": [
    {
     "name": "stdout",
     "output_type": "stream",
     "text": [
      "Found directory: ../LDA/\n",
      "Found directory: ../LDA/.ipynb_checkpoints\n",
      "Found directory: ../LDA/aitho\n",
      "../LDA/aitho\n",
      "aitho aitho_article_1792.txt\n",
      "list index out of range\n",
      "Found directory: ../LDA/fintech\n",
      "../LDA/fintech\n",
      "Found directory: ../LDA/fintech_re\n",
      "Found directory: ../LDA/healthitarticle\n",
      "../LDA/healthitarticle\n",
      "Found directory: ../LDA/reinsu\n",
      "../LDA/reinsu\n"
     ]
    }
   ],
   "source": [
    "rootDir = '../LDA/'\n",
    "d = {}\n",
    "wh = []\n",
    "for dirName, subdirList, fileList in os.walk(rootDir) :\n",
    "    print('Found directory: %s' % dirName)\n",
    "    #print(dirName)\n",
    "    #print(len(fileList))\n",
    "    c = 0\n",
    "\n",
    "    if dirName !='../LDA/.ipynb_checkpoints' and dirName != '../LDA/'\\\n",
    "    and dirName != '../LDA/fintech_re':\n",
    "        print(dirName)\n",
    "        news_name = dirName.replace('../LDA/','')\n",
    "        d[news_name] = {}\n",
    "        c = 0\n",
    "        for fname in fileList: \n",
    "            if fname.endswith(\".txt\"):  \n",
    "                filepath = os.path.join(dirName, fname)\n",
    "                with open(filepath, 'r', -1) as input_file:\n",
    "                    data = input_file.read()\n",
    "                    #print(data)\n",
    "                    if data != '':\n",
    "                        try:                                \n",
    "                            if news_name == 'healthitarticle':\n",
    "                                c+=1\n",
    "                                date = re.search(r'\\w+\\s\\d{1,2}\\,\\s\\d{4}', data).group(0)\n",
    "                                date_obj = datetime.strptime(date, '%B %d, %Y')\n",
    "                                tls = [item for item in data.split('\\n') if item != '']\n",
    "                                body = re.sub(r'\\w+\\s\\d{1,2}\\,\\s\\d{4}\\s\\-\\s+','', tls[3])\n",
    "                                tls[3] = re.sub('LAS VEGAS – ','', body)\n",
    "                                whole_text = \" \".join(tls[3:]) \n",
    "                            if news_name == 'aitho':\n",
    "                                c+=1\n",
    "                                if fname == 'aitho_article_1792.txt':\n",
    "                                    date = re.findall(r'\\d{1,2}\\s\\w+\\s\\d{4}', dd)[1]\n",
    "                                else:\n",
    "                                    date = re.search(r'\\d{1,2}\\s\\w+\\s\\d{4}', data).group(0)\n",
    "                                date_obj = datetime.strptime(date, '%d %b %Y')\n",
    "                                tls = [item for item in data.split('\\n') if item != '']\n",
    "                                whole_text = \" \".join(tls[2:]) \n",
    "                            if news_name == 'fintech':\n",
    "                                c+=1\n",
    "                                date = re.search(r'\\w+\\s\\d{1,2}\\,\\s\\d{4}', data).group(0)\n",
    "                                date_obj = datetime.strptime(date, '%B %d, %Y')\n",
    "                                tls = [item for item in data.split('\\n') if item != '']\n",
    "                                whole_text = \" \".join(tls[2:]) \n",
    "                            if news_name == 'reinsu':\n",
    "                                c +=1\n",
    "                                date = re.search(r'\\d{1,2}\\w+\\s\\w+\\s\\d{4}', data).group(0)\n",
    "                                date = re.sub(r'(?<=[0-9])(?:st|nd|rd|th)', '',date)\n",
    "                                date_obj = datetime.strptime(date, '%d %B %Y')\n",
    "                                tls = [item for item in data.split('\\n') if item != '']\n",
    "                                whole_text = \" \".join(tls[2:]) \n",
    "\n",
    "                        except Exception as e:\n",
    "                            print(news_name, fname)\n",
    "                            print(e)\n",
    "            d[news_name][c] = {'date':date_obj, 'text':whole_text, \n",
    "                                'whole':tls, 'filepath':filepath}"
   ]
  },
  {
   "cell_type": "code",
   "execution_count": 236,
   "metadata": {
    "collapsed": false
   },
   "outputs": [
    {
     "name": "stdout",
     "output_type": "stream",
     "text": [
      "reinsu 289\n",
      "aitho 1939\n",
      "fintech 1109\n",
      "healthitarticle 2272\n"
     ]
    }
   ],
   "source": [
    "for i, v in d.items():\n",
    "    print(i, len(v))"
   ]
  },
  {
   "cell_type": "code",
   "execution_count": 189,
   "metadata": {
    "collapsed": false
   },
   "outputs": [],
   "source": []
  },
  {
   "cell_type": "code",
   "execution_count": 237,
   "metadata": {
    "collapsed": true
   },
   "outputs": [],
   "source": [
    "temp = {}\n",
    "for news_name, values1 in d.items():\n",
    "    for number, values2 in values1.items():\n",
    "        temp.setdefault('newsname', []).append(news_name)\n",
    "        temp.setdefault('number', []).append(number)\n",
    "        for key, value in values2.items():\n",
    "            #for key, value in date.items():\n",
    "            temp.setdefault(key, []).append(value)"
   ]
  },
  {
   "cell_type": "code",
   "execution_count": 238,
   "metadata": {
    "collapsed": true
   },
   "outputs": [],
   "source": [
    "df = pd.DataFrame(temp)"
   ]
  },
  {
   "cell_type": "code",
   "execution_count": 261,
   "metadata": {
    "collapsed": false
   },
   "outputs": [
    {
     "data": {
      "text/plain": [
       "5609"
      ]
     },
     "execution_count": 261,
     "metadata": {},
     "output_type": "execute_result"
    }
   ],
   "source": [
    "df[['date','newsname','text','whole']].shape[0]"
   ]
  },
  {
   "cell_type": "code",
   "execution_count": 272,
   "metadata": {
    "collapsed": false
   },
   "outputs": [],
   "source": [
    "df_clean = df.drop_duplicates(subset=['date','newsname','text'])"
   ]
  },
  {
   "cell_type": "code",
   "execution_count": 276,
   "metadata": {
    "collapsed": false
   },
   "outputs": [
    {
     "data": {
      "text/html": [
       "<div>\n",
       "<style scoped>\n",
       "    .dataframe tbody tr th:only-of-type {\n",
       "        vertical-align: middle;\n",
       "    }\n",
       "\n",
       "    .dataframe tbody tr th {\n",
       "        vertical-align: top;\n",
       "    }\n",
       "\n",
       "    .dataframe thead th {\n",
       "        text-align: right;\n",
       "    }\n",
       "</style>\n",
       "<table border=\"1\" class=\"dataframe\">\n",
       "  <thead>\n",
       "    <tr style=\"text-align: right;\">\n",
       "      <th></th>\n",
       "      <th>date</th>\n",
       "      <th>filepath</th>\n",
       "      <th>number</th>\n",
       "      <th>text</th>\n",
       "      <th>whole</th>\n",
       "    </tr>\n",
       "    <tr>\n",
       "      <th>newsname</th>\n",
       "      <th></th>\n",
       "      <th></th>\n",
       "      <th></th>\n",
       "      <th></th>\n",
       "      <th></th>\n",
       "    </tr>\n",
       "  </thead>\n",
       "  <tbody>\n",
       "    <tr>\n",
       "      <th>aitho</th>\n",
       "      <td>1933</td>\n",
       "      <td>1933</td>\n",
       "      <td>1933</td>\n",
       "      <td>1933</td>\n",
       "      <td>1933</td>\n",
       "    </tr>\n",
       "    <tr>\n",
       "      <th>fintech</th>\n",
       "      <td>1109</td>\n",
       "      <td>1109</td>\n",
       "      <td>1109</td>\n",
       "      <td>1109</td>\n",
       "      <td>1109</td>\n",
       "    </tr>\n",
       "    <tr>\n",
       "      <th>healthitarticle</th>\n",
       "      <td>2272</td>\n",
       "      <td>2272</td>\n",
       "      <td>2272</td>\n",
       "      <td>2272</td>\n",
       "      <td>2272</td>\n",
       "    </tr>\n",
       "    <tr>\n",
       "      <th>reinsu</th>\n",
       "      <td>276</td>\n",
       "      <td>276</td>\n",
       "      <td>276</td>\n",
       "      <td>276</td>\n",
       "      <td>276</td>\n",
       "    </tr>\n",
       "  </tbody>\n",
       "</table>\n",
       "</div>"
      ],
      "text/plain": [
       "                 date  filepath  number  text  whole\n",
       "newsname                                            \n",
       "aitho            1933      1933    1933  1933   1933\n",
       "fintech          1109      1109    1109  1109   1109\n",
       "healthitarticle  2272      2272    2272  2272   2272\n",
       "reinsu            276       276     276   276    276"
      ]
     },
     "execution_count": 276,
     "metadata": {},
     "output_type": "execute_result"
    }
   ],
   "source": [
    "df_clean.groupby('').count()"
   ]
  },
  {
   "cell_type": "code",
   "execution_count": 269,
   "metadata": {
    "collapsed": false
   },
   "outputs": [],
   "source": [
    "df_drop = df[df.duplicated(subset=['date','newsname','text'])]"
   ]
  },
  {
   "cell_type": "code",
   "execution_count": 277,
   "metadata": {
    "collapsed": true
   },
   "outputs": [],
   "source": [
    "df_clean['date'] = pd.to_datetime(df_clean['date'])"
   ]
  },
  {
   "cell_type": "code",
   "execution_count": 278,
   "metadata": {
    "collapsed": true
   },
   "outputs": [],
   "source": [
    "df_clean['year'] = df_clean['date'].dt.year"
   ]
  },
  {
   "cell_type": "code",
   "execution_count": 279,
   "metadata": {
    "collapsed": false
   },
   "outputs": [
    {
     "data": {
      "text/html": [
       "<div>\n",
       "<style scoped>\n",
       "    .dataframe tbody tr th:only-of-type {\n",
       "        vertical-align: middle;\n",
       "    }\n",
       "\n",
       "    .dataframe tbody tr th {\n",
       "        vertical-align: top;\n",
       "    }\n",
       "\n",
       "    .dataframe thead th {\n",
       "        text-align: right;\n",
       "    }\n",
       "</style>\n",
       "<table border=\"1\" class=\"dataframe\">\n",
       "  <thead>\n",
       "    <tr style=\"text-align: right;\">\n",
       "      <th></th>\n",
       "      <th>date</th>\n",
       "      <th>filepath</th>\n",
       "      <th>newsname</th>\n",
       "      <th>number</th>\n",
       "      <th>text</th>\n",
       "      <th>whole</th>\n",
       "    </tr>\n",
       "    <tr>\n",
       "      <th>year</th>\n",
       "      <th></th>\n",
       "      <th></th>\n",
       "      <th></th>\n",
       "      <th></th>\n",
       "      <th></th>\n",
       "      <th></th>\n",
       "    </tr>\n",
       "  </thead>\n",
       "  <tbody>\n",
       "    <tr>\n",
       "      <th>2013</th>\n",
       "      <td>159</td>\n",
       "      <td>159</td>\n",
       "      <td>159</td>\n",
       "      <td>159</td>\n",
       "      <td>159</td>\n",
       "      <td>159</td>\n",
       "    </tr>\n",
       "    <tr>\n",
       "      <th>2014</th>\n",
       "      <td>466</td>\n",
       "      <td>466</td>\n",
       "      <td>466</td>\n",
       "      <td>466</td>\n",
       "      <td>466</td>\n",
       "      <td>466</td>\n",
       "    </tr>\n",
       "    <tr>\n",
       "      <th>2015</th>\n",
       "      <td>588</td>\n",
       "      <td>588</td>\n",
       "      <td>588</td>\n",
       "      <td>588</td>\n",
       "      <td>588</td>\n",
       "      <td>588</td>\n",
       "    </tr>\n",
       "    <tr>\n",
       "      <th>2016</th>\n",
       "      <td>667</td>\n",
       "      <td>667</td>\n",
       "      <td>667</td>\n",
       "      <td>667</td>\n",
       "      <td>667</td>\n",
       "      <td>667</td>\n",
       "    </tr>\n",
       "    <tr>\n",
       "      <th>2017</th>\n",
       "      <td>1156</td>\n",
       "      <td>1156</td>\n",
       "      <td>1156</td>\n",
       "      <td>1156</td>\n",
       "      <td>1156</td>\n",
       "      <td>1156</td>\n",
       "    </tr>\n",
       "    <tr>\n",
       "      <th>2018</th>\n",
       "      <td>2554</td>\n",
       "      <td>2554</td>\n",
       "      <td>2554</td>\n",
       "      <td>2554</td>\n",
       "      <td>2554</td>\n",
       "      <td>2554</td>\n",
       "    </tr>\n",
       "  </tbody>\n",
       "</table>\n",
       "</div>"
      ],
      "text/plain": [
       "      date  filepath  newsname  number  text  whole\n",
       "year                                               \n",
       "2013   159       159       159     159   159    159\n",
       "2014   466       466       466     466   466    466\n",
       "2015   588       588       588     588   588    588\n",
       "2016   667       667       667     667   667    667\n",
       "2017  1156      1156      1156    1156  1156   1156\n",
       "2018  2554      2554      2554    2554  2554   2554"
      ]
     },
     "execution_count": 279,
     "metadata": {},
     "output_type": "execute_result"
    }
   ],
   "source": [
    "df_clean.groupby('year').count()"
   ]
  },
  {
   "cell_type": "code",
   "execution_count": 282,
   "metadata": {
    "collapsed": true
   },
   "outputs": [],
   "source": []
  },
  {
   "cell_type": "code",
   "execution_count": 283,
   "metadata": {
    "collapsed": true
   },
   "outputs": [],
   "source": [
    "#df_clean.to_csv('insuretech_newspaper_all.csv', index = False)"
   ]
  },
  {
   "cell_type": "code",
   "execution_count": 7,
   "metadata": {
    "collapsed": true
   },
   "outputs": [],
   "source": [
    "df_clean = pd.read_csv('insuretech_newspaper_all.csv')"
   ]
  },
  {
   "cell_type": "code",
   "execution_count": 8,
   "metadata": {
    "collapsed": false
   },
   "outputs": [],
   "source": [
    "text_ls = list(df_clean['text'])"
   ]
  },
  {
   "cell_type": "code",
   "execution_count": 40,
   "metadata": {
    "collapsed": false
   },
   "outputs": [],
   "source": [
    "#text"
   ]
  },
  {
   "cell_type": "code",
   "execution_count": 9,
   "metadata": {
    "collapsed": true
   },
   "outputs": [],
   "source": [
    "from gensim.parsing.preprocessing import stem_text, strip_punctuation, strip_punctuation2"
   ]
  },
  {
   "cell_type": "code",
   "execution_count": 10,
   "metadata": {
    "collapsed": true
   },
   "outputs": [],
   "source": [
    "from nltk.stem.snowball import SnowballStemmer\n",
    "stemmer = SnowballStemmer(\"english\")"
   ]
  },
  {
   "cell_type": "code",
   "execution_count": 11,
   "metadata": {
    "collapsed": true
   },
   "outputs": [],
   "source": [
    "total_text = text_ls"
   ]
  },
  {
   "cell_type": "code",
   "execution_count": 12,
   "metadata": {
    "collapsed": true
   },
   "outputs": [],
   "source": [
    "def sent_to_words(sentences):\n",
    "    for sentence in sentences:\n",
    "        yield(gensim.utils.simple_preprocess(str(sentence), deacc=True))"
   ]
  },
  {
   "cell_type": "code",
   "execution_count": 16,
   "metadata": {
    "collapsed": true
   },
   "outputs": [],
   "source": [
    "def tokenized_gensim(total_text):\n",
    "    tokenized_text = []\n",
    "    for k, text_raw in enumerate(total_text):\n",
    "        text = re.sub('\\n', ' ', text_raw, flags= re.IGNORECASE) \n",
    "        text = re.sub(r'\\((?!k\\))(?!b\\))(.*?)\\)',' ', text, flags= re.IGNORECASE)\n",
    "        try:\n",
    "            tokens = [word for sent in nltk.sent_tokenize(text) \\\n",
    "              for word in nltk.word_tokenize(sent) if word.lower() not in stops]              \n",
    "            filtered_tokens = []\n",
    "            for token in tokens:\n",
    "                if re.search('[a-zA-Z]', token):\n",
    "                    token = re.sub(r'[^\\w\\s]', '', token)\n",
    "                    filtered_tokens.append(token.lower())\n",
    "            stems = [stemmer.stem(t) for t in filtered_tokens if t not in stops]\n",
    "            stems = [word for word in stems if word not in stops]\n",
    "            tokenized_text.append(stems)\n",
    "        except Exception as e:\n",
    "            print(e)\n",
    "            print(k)\n",
    "    return tokenized_text"
   ]
  },
  {
   "cell_type": "code",
   "execution_count": 17,
   "metadata": {
    "collapsed": true
   },
   "outputs": [],
   "source": [
    "def remove_stopwords(texts):\n",
    "    return [[word for word in simple_preprocess(str(doc)) if word not in stops] for doc in texts]\n",
    "\n",
    "def make_bigrams(bigram_mod, texts):\n",
    "    return [bigram_mod[doc] for doc in texts]\n",
    "\n",
    "def make_trigrams(texts):\n",
    "    return [trigram_mod[bigram_mod[doc]] for doc in texts]\n",
    "\n",
    "def lemmatization(texts, allowed_postags=['NOUN']):#, 'ADJ', 'VERB', 'ADV']):\n",
    "    \"\"\"https://spacy.io/api/annotation\"\"\"\n",
    "    texts_out = []\n",
    "    for sent in texts:\n",
    "        #print(sent)\n",
    "        doc = nlp(\" \".join(sent))\n",
    "        #print(doc)\n",
    "        texts_out.append([token.lemma_ for token in doc if token.pos_ in allowed_postags])\n",
    "    return texts_out"
   ]
  },
  {
   "cell_type": "code",
   "execution_count": 15,
   "metadata": {
    "collapsed": false
   },
   "outputs": [
    {
     "name": "stdout",
     "output_type": "stream",
     "text": [
      "CPU times: user 2min 33s, sys: 1.17 s, total: 2min 34s\n",
      "Wall time: 2min 37s\n"
     ]
    }
   ],
   "source": [
    "# Tokenized, remove stop words, stemming the whole texts\n",
    "%time data_words = tokenized_gensim(text_ls)"
   ]
  },
  {
   "cell_type": "code",
   "execution_count": 18,
   "metadata": {
    "collapsed": false
   },
   "outputs": [
    {
     "name": "stdout",
     "output_type": "stream",
     "text": [
      "CPU times: user 7.63 s, sys: 444 ms, total: 8.07 s\n",
      "Wall time: 8.3 s\n",
      "CPU times: user 24 s, sys: 195 ms, total: 24.2 s\n",
      "Wall time: 24.4 s\n",
      "CPU times: user 20 s, sys: 116 ms, total: 20.1 s\n",
      "Wall time: 20.3 s\n",
      "CPU times: user 20.2 s, sys: 77.7 ms, total: 20.2 s\n",
      "Wall time: 20.3 s\n"
     ]
    }
   ],
   "source": [
    "# Build the bigram and trigram models\n",
    "%time bigram = gensim.models.Phrases(data_words,\\\n",
    "                                     min_count=5, threshold=100) \n",
    "# higher threshold fewer phrases.\n",
    "%time trigram = gensim.models.Phrases(bigram[data_words], threshold=100)  \n",
    "\n",
    "# Faster way to get a sentence clubbed as a trigram/bigram\n",
    "%time bigram_mod = gensim.models.phrases.Phraser(bigram)\n",
    "%time trigram_mod = gensim.models.phrases.Phraser(trigram)"
   ]
  },
  {
   "cell_type": "code",
   "execution_count": 19,
   "metadata": {
    "collapsed": false
   },
   "outputs": [
    {
     "name": "stdout",
     "output_type": "stream",
     "text": [
      "CPU times: user 15.8 s, sys: 608 ms, total: 16.4 s\n",
      "Wall time: 17.5 s\n",
      "CPU times: user 11.4 s, sys: 202 ms, total: 11.6 s\n",
      "Wall time: 11.8 s\n"
     ]
    }
   ],
   "source": [
    "# Remove Stop Words\n",
    "%time data_words_nostops = remove_stopwords(data_words)\n",
    "# Form Bigrams\n",
    "%time data_words_bigrams = make_bigrams(bigram_mod, data_words_nostops)"
   ]
  },
  {
   "cell_type": "code",
   "execution_count": 21,
   "metadata": {
    "collapsed": false
   },
   "outputs": [
    {
     "name": "stdout",
     "output_type": "stream",
     "text": [
      "CPU times: user 22.5 s, sys: 483 ms, total: 23 s\n",
      "Wall time: 23.6 s\n"
     ]
    }
   ],
   "source": [
    "# Form Trigrams\n",
    "%time data_words_trigrams = make_trigrams(data_words_nostops)"
   ]
  },
  {
   "cell_type": "code",
   "execution_count": 20,
   "metadata": {
    "collapsed": false
   },
   "outputs": [
    {
     "name": "stdout",
     "output_type": "stream",
     "text": [
      "CPU times: user 13min 9s, sys: 2min 10s, total: 15min 20s\n",
      "Wall time: 9min 47s\n"
     ]
    }
   ],
   "source": [
    "# Do lemmatization keeping only noun, adj, vb, adv\n",
    "%time data_lemmatized = lemmatization(data_words_bigrams,\\\n",
    "                                      allowed_postags=['NOUN'])#, 'ADJ', 'VERB', 'ADV'])"
   ]
  },
  {
   "cell_type": "code",
   "execution_count": 41,
   "metadata": {
    "collapsed": false
   },
   "outputs": [
    {
     "name": "stdout",
     "output_type": "stream",
     "text": [
      "CPU times: user 13min 7s, sys: 2min 12s, total: 15min 20s\n",
      "Wall time: 9min 42s\n"
     ]
    }
   ],
   "source": [
    "# Do lemmatization keeping only noun, adj, vb, adv with tri\n",
    "%time data_lemmatized_tri = lemmatization(data_words_trigrams,\\\n",
    "                                      allowed_postags=['NOUN'])"
   ]
  },
  {
   "cell_type": "code",
   "execution_count": 24,
   "metadata": {
    "collapsed": false
   },
   "outputs": [],
   "source": [
    "#data_lemmatized[5000]"
   ]
  },
  {
   "cell_type": "code",
   "execution_count": 42,
   "metadata": {
    "collapsed": false
   },
   "outputs": [
    {
     "name": "stdout",
     "output_type": "stream",
     "text": [
      "CPU times: user 1.74 s, sys: 64.8 ms, total: 1.8 s\n",
      "Wall time: 1.83 s\n",
      "CPU times: user 133 ms, sys: 13.1 ms, total: 146 ms\n",
      "Wall time: 151 ms\n"
     ]
    }
   ],
   "source": [
    "#create a Gensim dictionary from the texts\n",
    "%time dictionary= corpora.Dictionary(data_lemmatized_tri)\n",
    "#remove extremes (similar to the min/max df step used when creating the tf-idf matrix)\n",
    "%time dictionary.filter_extremes(no_below=10, no_above=0.7)"
   ]
  },
  {
   "cell_type": "code",
   "execution_count": null,
   "metadata": {
    "collapsed": true
   },
   "outputs": [],
   "source": [
    "#data_lemmatized[100]"
   ]
  },
  {
   "cell_type": "code",
   "execution_count": 43,
   "metadata": {
    "collapsed": false
   },
   "outputs": [
    {
     "name": "stdout",
     "output_type": "stream",
     "text": [
      "CPU times: user 1.53 s, sys: 310 ms, total: 1.84 s\n",
      "Wall time: 1.93 s\n"
     ]
    }
   ],
   "source": [
    "#convert the dictionary to a bag of words corpus for reference\n",
    "%time corpus = [dictionary.doc2bow(text) for text in data_lemmatized]"
   ]
  },
  {
   "cell_type": "code",
   "execution_count": null,
   "metadata": {
    "collapsed": true
   },
   "outputs": [],
   "source": [
    "#corpus"
   ]
  },
  {
   "cell_type": "code",
   "execution_count": 47,
   "metadata": {
    "collapsed": false
   },
   "outputs": [
    {
     "name": "stdout",
     "output_type": "stream",
     "text": [
      "CPU times: user 5min 50s, sys: 3.67 s, total: 5min 54s\n",
      "Wall time: 5min 51s\n"
     ]
    }
   ],
   "source": [
    "####### LDA model\n",
    "%time ldamodel = models.LdaModel(corpus, num_topics=10, \\\n",
    "                                   id2word=dictionary, update_every=5,\\\n",
    "                                 chunksize=10000, passes=20)"
   ]
  },
  {
   "cell_type": "code",
   "execution_count": 28,
   "metadata": {
    "collapsed": true
   },
   "outputs": [],
   "source": [
    "import pyLDAvis\n",
    "import pyLDAvis.gensim \n",
    "pyLDAvis.enable_notebook()"
   ]
  },
  {
   "cell_type": "code",
   "execution_count": 48,
   "metadata": {
    "collapsed": false
   },
   "outputs": [
    {
     "name": "stdout",
     "output_type": "stream",
     "text": [
      "['health', 'care', 'patient', 'manag', 'datum', 'qualiti', 'system', 'organ', 'popul', 'program']\n",
      "['bank', 'payment', 'financi', 'busi', 'custom', 'regul', 'process', 'datum', 'risk', 'account']\n",
      "['technolog', 'market', 'blockchain', 'busi', 'datum', 'compani', 'digit', 'manag', 'platform', 'cryptocurr']\n",
      "['health', 'patient', 'care', 'percent', 'manag', 'popul', 'hospit', 'studi', 'program', 'datum']\n",
      "['blockchain', 'world', 'platform', 'technolog', 'peopl', 'use', 'user', 'game', 'app', 'work']\n",
      "['custom', 'platform', 'datum', 'technolog', 'product', 'cloud', 'compani', 'manag', 'busi', 'user']\n",
      "['compani', 'market', 'busi', 'innov', 'fintech', 'technolog', 'financi', 'year', 'fund', 'investor']\n",
      "['technolog', 'drone', 'system', 'vehicl', 'sensor', 'datum', 'autonom', 'safeti', 'oper', 'use']\n",
      "['datum', 'health', 'healthcar', 'inform', 'organ', 'patient', 'clinic', 'use', 'manag', 'system']\n",
      "['research', 'datum', 'patient', 'clinic', 'cancer', 'health', 'precis_medicin', 'treatment', 'test', 'care']\n"
     ]
    }
   ],
   "source": [
    "# Get the topic related words \n",
    "topics_matrix = ldamodel.show_topics(formatted=False, num_words=10, num_topics=10)\n",
    "topics_matrix = np.array(topics_matrix, dtype=object)\n",
    "topic_words = topics_matrix[:,1]\n",
    "\n",
    "allls = []\n",
    "allls1 = []\n",
    "for k in range(len(topic_words)):\n",
    "    wordls = []\n",
    "    for i, v in topic_words[k]:\n",
    "        wordls.append(i)\n",
    "    print(wordls)\n",
    "    allls.append(wordls)\n",
    "    allls1.append([wordls])"
   ]
  },
  {
   "cell_type": "code",
   "execution_count": 49,
   "metadata": {
    "collapsed": false
   },
   "outputs": [
    {
     "data": {
      "text/html": [
       "<div>\n",
       "<style scoped>\n",
       "    .dataframe tbody tr th:only-of-type {\n",
       "        vertical-align: middle;\n",
       "    }\n",
       "\n",
       "    .dataframe tbody tr th {\n",
       "        vertical-align: top;\n",
       "    }\n",
       "\n",
       "    .dataframe thead th {\n",
       "        text-align: right;\n",
       "    }\n",
       "</style>\n",
       "<table border=\"1\" class=\"dataframe\">\n",
       "  <thead>\n",
       "    <tr style=\"text-align: right;\">\n",
       "      <th></th>\n",
       "      <th>0</th>\n",
       "      <th>1</th>\n",
       "      <th>2</th>\n",
       "      <th>3</th>\n",
       "      <th>4</th>\n",
       "      <th>5</th>\n",
       "      <th>6</th>\n",
       "      <th>7</th>\n",
       "      <th>8</th>\n",
       "      <th>9</th>\n",
       "    </tr>\n",
       "  </thead>\n",
       "  <tbody>\n",
       "    <tr>\n",
       "      <th>0</th>\n",
       "      <td>health</td>\n",
       "      <td>care</td>\n",
       "      <td>patient</td>\n",
       "      <td>manag</td>\n",
       "      <td>datum</td>\n",
       "      <td>qualiti</td>\n",
       "      <td>system</td>\n",
       "      <td>organ</td>\n",
       "      <td>popul</td>\n",
       "      <td>program</td>\n",
       "    </tr>\n",
       "    <tr>\n",
       "      <th>1</th>\n",
       "      <td>bank</td>\n",
       "      <td>payment</td>\n",
       "      <td>financi</td>\n",
       "      <td>busi</td>\n",
       "      <td>custom</td>\n",
       "      <td>regul</td>\n",
       "      <td>process</td>\n",
       "      <td>datum</td>\n",
       "      <td>risk</td>\n",
       "      <td>account</td>\n",
       "    </tr>\n",
       "    <tr>\n",
       "      <th>2</th>\n",
       "      <td>technolog</td>\n",
       "      <td>market</td>\n",
       "      <td>blockchain</td>\n",
       "      <td>busi</td>\n",
       "      <td>datum</td>\n",
       "      <td>compani</td>\n",
       "      <td>digit</td>\n",
       "      <td>manag</td>\n",
       "      <td>platform</td>\n",
       "      <td>cryptocurr</td>\n",
       "    </tr>\n",
       "    <tr>\n",
       "      <th>3</th>\n",
       "      <td>health</td>\n",
       "      <td>patient</td>\n",
       "      <td>care</td>\n",
       "      <td>percent</td>\n",
       "      <td>manag</td>\n",
       "      <td>popul</td>\n",
       "      <td>hospit</td>\n",
       "      <td>studi</td>\n",
       "      <td>program</td>\n",
       "      <td>datum</td>\n",
       "    </tr>\n",
       "    <tr>\n",
       "      <th>4</th>\n",
       "      <td>blockchain</td>\n",
       "      <td>world</td>\n",
       "      <td>platform</td>\n",
       "      <td>technolog</td>\n",
       "      <td>peopl</td>\n",
       "      <td>use</td>\n",
       "      <td>user</td>\n",
       "      <td>game</td>\n",
       "      <td>app</td>\n",
       "      <td>work</td>\n",
       "    </tr>\n",
       "    <tr>\n",
       "      <th>5</th>\n",
       "      <td>custom</td>\n",
       "      <td>platform</td>\n",
       "      <td>datum</td>\n",
       "      <td>technolog</td>\n",
       "      <td>product</td>\n",
       "      <td>cloud</td>\n",
       "      <td>compani</td>\n",
       "      <td>manag</td>\n",
       "      <td>busi</td>\n",
       "      <td>user</td>\n",
       "    </tr>\n",
       "    <tr>\n",
       "      <th>6</th>\n",
       "      <td>compani</td>\n",
       "      <td>market</td>\n",
       "      <td>busi</td>\n",
       "      <td>innov</td>\n",
       "      <td>fintech</td>\n",
       "      <td>technolog</td>\n",
       "      <td>financi</td>\n",
       "      <td>year</td>\n",
       "      <td>fund</td>\n",
       "      <td>investor</td>\n",
       "    </tr>\n",
       "    <tr>\n",
       "      <th>7</th>\n",
       "      <td>technolog</td>\n",
       "      <td>drone</td>\n",
       "      <td>system</td>\n",
       "      <td>vehicl</td>\n",
       "      <td>sensor</td>\n",
       "      <td>datum</td>\n",
       "      <td>autonom</td>\n",
       "      <td>safeti</td>\n",
       "      <td>oper</td>\n",
       "      <td>use</td>\n",
       "    </tr>\n",
       "    <tr>\n",
       "      <th>8</th>\n",
       "      <td>datum</td>\n",
       "      <td>health</td>\n",
       "      <td>healthcar</td>\n",
       "      <td>inform</td>\n",
       "      <td>organ</td>\n",
       "      <td>patient</td>\n",
       "      <td>clinic</td>\n",
       "      <td>use</td>\n",
       "      <td>manag</td>\n",
       "      <td>system</td>\n",
       "    </tr>\n",
       "    <tr>\n",
       "      <th>9</th>\n",
       "      <td>research</td>\n",
       "      <td>datum</td>\n",
       "      <td>patient</td>\n",
       "      <td>clinic</td>\n",
       "      <td>cancer</td>\n",
       "      <td>health</td>\n",
       "      <td>precis_medicin</td>\n",
       "      <td>treatment</td>\n",
       "      <td>test</td>\n",
       "      <td>care</td>\n",
       "    </tr>\n",
       "  </tbody>\n",
       "</table>\n",
       "</div>"
      ],
      "text/plain": [
       "            0         1           2          3        4          5  \\\n",
       "0      health      care     patient      manag    datum    qualiti   \n",
       "1        bank   payment     financi       busi   custom      regul   \n",
       "2   technolog    market  blockchain       busi    datum    compani   \n",
       "3      health   patient        care    percent    manag      popul   \n",
       "4  blockchain     world    platform  technolog    peopl        use   \n",
       "5      custom  platform       datum  technolog  product      cloud   \n",
       "6     compani    market        busi      innov  fintech  technolog   \n",
       "7   technolog     drone      system     vehicl   sensor      datum   \n",
       "8       datum    health   healthcar     inform    organ    patient   \n",
       "9    research     datum     patient     clinic   cancer     health   \n",
       "\n",
       "                6          7         8           9  \n",
       "0          system      organ     popul     program  \n",
       "1         process      datum      risk     account  \n",
       "2           digit      manag  platform  cryptocurr  \n",
       "3          hospit      studi   program       datum  \n",
       "4            user       game       app        work  \n",
       "5         compani      manag      busi        user  \n",
       "6         financi       year      fund    investor  \n",
       "7         autonom     safeti      oper         use  \n",
       "8          clinic        use     manag      system  \n",
       "9  precis_medicin  treatment      test        care  "
      ]
     },
     "execution_count": 49,
     "metadata": {},
     "output_type": "execute_result"
    }
   ],
   "source": [
    "pd.DataFrame(allls)"
   ]
  },
  {
   "cell_type": "code",
   "execution_count": 50,
   "metadata": {
    "collapsed": false
   },
   "outputs": [
    {
     "name": "stderr",
     "output_type": "stream",
     "text": [
      "/Users/misun/anaconda/lib/python3.5/site-packages/pyLDAvis/_prepare.py:387: DeprecationWarning: \n",
      ".ix is deprecated. Please use\n",
      ".loc for label based indexing or\n",
      ".iloc for positional indexing\n",
      "\n",
      "See the documentation here:\n",
      "http://pandas.pydata.org/pandas-docs/stable/indexing.html#ix-indexer-is-deprecated\n",
      "  topic_term_dists = topic_term_dists.ix[topic_order]\n"
     ]
    },
    {
     "data": {
      "text/html": [
       "\n",
       "<link rel=\"stylesheet\" type=\"text/css\" href=\"https://cdn.rawgit.com/bmabey/pyLDAvis/files/ldavis.v1.0.0.css\">\n",
       "\n",
       "\n",
       "<div id=\"ldavis_el286857960225762579827067\"></div>\n",
       "<script type=\"text/javascript\">\n",
       "\n",
       "var ldavis_el286857960225762579827067_data = {\"topic.order\": [1, 4, 9, 6, 7, 5, 10, 2, 3, 8], \"token.table\": {\"Term\": [\"aafp\", \"academi\", \"academi\", \"academi\", \"academi\", \"academi\", \"academi\", \"academi\", \"access\", \"access\", \"access\", \"access\", \"access\", \"access\", \"access\", \"access\", \"access\", \"access\", \"accid\", \"accid\", \"accid\", \"accid\", \"accid\", \"accid\", \"account\", \"account\", \"account\", \"account\", \"account\", \"account\", \"account\", \"account\", \"account\", \"account\", \"action\", \"action\", \"action\", \"action\", \"action\", \"action\", \"action\", \"action\", \"action\", \"action\", \"addict\", \"addict\", \"addict\", \"adher\", \"adher\", \"adher\", \"adher\", \"adher\", \"adher\", \"adher\", \"adher\", \"adher\", \"adob\", \"adob\", \"adult\", \"adult\", \"adult\", \"adult\", \"adult\", \"adult\", \"adult\", \"adult\", \"agent\", \"agent\", \"agent\", \"agent\", \"agent\", \"agent\", \"agent\", \"agent\", \"agent\", \"agricultur\", \"agricultur\", \"agricultur\", \"agricultur\", \"agricultur\", \"ahima\", \"ahima\", \"ahima\", \"ai\", \"ai\", \"ai\", \"ai\", \"ai\", \"ai\", \"ai\", \"ai\", \"ai\", \"aiba\", \"aiba\", \"aiba\", \"aipow_elder\", \"aipow_elder\", \"aircraft\", \"aircraft\", \"airport\", \"airport\", \"airport\", \"airport\", \"airport\", \"airspac\", \"algorithm\", \"algorithm\", \"algorithm\", \"algorithm\", \"algorithm\", \"algorithm\", \"algorithm\", \"algorithm\", \"algorithm\", \"algorithm\", \"allianz\", \"allianz\", \"alumnus\", \"alumnus\", \"alzheim\", \"alzheim\", \"alzheim\", \"amazon_alexa\", \"amazon_alexa\", \"amazon_echo\", \"amia\", \"amia\", \"amia\", \"amput\", \"analyticshealth\", \"analyticshealth\", \"analyticshealth\", \"angel_investor\", \"angel_investor\", \"antibiot\", \"antibiot\", \"antibiot\", \"antibiot_stewardship\", \"antibiot_stewardship\", \"antibiot_stewardship\", \"antimoney_launder\", \"antimoney_launder\", \"antimoney_launder\", \"apach\", \"app\", \"app\", \"app\", \"app\", \"app\", \"app\", \"app\", \"app\", \"app\", \"app\", \"appl_pay\", \"appl_pay\", \"art\", \"art\", \"art\", \"art\", \"art\", \"art\", \"art\", \"art\", \"art\", \"artifici_intellig\", \"artifici_intellig\", \"artifici_intellig\", \"artifici_intellig\", \"artifici_intellig\", \"artifici_intellig\", \"artifici_intellig\", \"artifici_intellig\", \"artifici_intellig\", \"artifici_intellig\", \"artist\", \"artist\", \"asset\", \"asset\", \"asset\", \"asset\", \"asset\", \"asset\", \"asset\", \"asset\", \"asset\", \"asset\", \"attack\", \"attack\", \"attack\", \"attack\", \"attack\", \"attack\", \"attack\", \"attack\", \"attack\", \"attest\", \"attest\", \"attest\", \"attest\", \"attest\", \"audio\", \"audio\", \"audio\", \"auditor\", \"auditor\", \"auditor\", \"aurora\", \"aurora\", \"aurora\", \"authoris\", \"authoris\", \"authoris\", \"autism\", \"autom\", \"autom\", \"autom\", \"autom\", \"autom\", \"autom\", \"autom\", \"autom\", \"autom\", \"autom\", \"automak\", \"autonom\", \"autonom\", \"autonom\", \"autonom\", \"autonom\", \"autonom_vehicl\", \"autonom_vehicl\", \"autonom_vehicl\", \"autonom_vehicl\", \"aviat\", \"aviat\", \"awesom\", \"azur\", \"azur\", \"bancor\", \"bancor\", \"bank\", \"bank\", \"bank\", \"bank\", \"bank\", \"bank\", \"bank\", \"bank\", \"bank\", \"banker\", \"banker\", \"banker\", \"banker\", \"bcb\", \"behavior\", \"behavior\", \"behavior\", \"behavior\", \"behavior\", \"behavior\", \"behavior\", \"behavior\", \"behavior\", \"behavior\", \"bind\", \"bind\", \"bind\", \"biobank\", \"biobank\", \"biobank\", \"biobank\", \"bioinformat\", \"biolog\", \"biolog\", \"biolog\", \"biolog\", \"biomark\", \"biomark\", \"biomed_informat\", \"biopsi\", \"bitcoin\", \"bitcoin\", \"bitcoin\", \"bitcoin_cash\", \"bitcoin_cash\", \"blockchain\", \"blockchain\", \"blockchain\", \"blockchain\", \"blockchain\", \"blockchain\", \"blockchain\", \"blockchain\", \"blockchain\", \"blood_pressur\", \"blood_pressur\", \"blood_pressur\", \"blood_pressur\", \"blue_button\", \"blue_button\", \"boe\", \"boe\", \"boe\", \"bot\", \"bot\", \"bot\", \"bot\", \"brain\", \"brain\", \"brain\", \"brain\", \"brain\", \"brain\", \"brain\", \"brand\", \"brand\", \"brand\", \"brand\", \"brand\", \"brand\", \"brand\", \"brand\", \"brand\", \"breach\", \"breach\", \"breach\", \"breach\", \"breach\", \"breast_cancer\", \"breast_cancer\", \"breast_cancer\", \"breast_cancer\", \"brexit\", \"brexit\", \"brexit\", \"bundl_payment\", \"bundl_payment\", \"bundl_payment\", \"bundl_payment\", \"busi\", \"busi\", \"busi\", \"busi\", \"busi\", \"busi\", \"busi\", \"busi\", \"busi\", \"busi\", \"cagr\", \"cagr\", \"cagr\", \"cagr\", \"camera\", \"camera\", \"camera\", \"campaign\", \"campaign\", \"campaign\", \"campaign\", \"campaign\", \"campaign\", \"campaign\", \"campaign\", \"campaign\", \"campaign\", \"cancer\", \"cancer\", \"cancer\", \"cancer\", \"cancer_moonshot\", \"cancer_moonshot\", \"cancerlinq\", \"cancerlinq\", \"capabl\", \"capabl\", \"capabl\", \"capabl\", \"capabl\", \"capabl\", \"capabl\", \"capabl\", \"capabl\", \"capabl\", \"capgemini\", \"capgemini\", \"capit\", \"capit\", \"capit\", \"capit\", \"capit\", \"capit\", \"capit\", \"capit\", \"capit\", \"capit\", \"car\", \"car\", \"car\", \"car\", \"car\", \"car\", \"car\", \"car\", \"car\", \"car\", \"card\", \"card\", \"card\", \"card\", \"card\", \"card\", \"card\", \"card\", \"care\", \"care\", \"care\", \"care\", \"care\", \"care\", \"care\", \"care\", \"care\", \"care\", \"cash\", \"cash\", \"cash\", \"cash\", \"cash\", \"cash\", \"cash\", \"cash\", \"cash_flow\", \"cash_flow\", \"cash_flow\", \"cash_flow\", \"cashless\", \"cdc\", \"cdc\", \"cdc\", \"center\", \"center\", \"center\", \"center\", \"center\", \"center\", \"center\", \"center\", \"center\", \"center\", \"ceo\", \"ceo\", \"ceo\", \"ceo\", \"ceo\", \"ceo\", \"ceo\", \"ceo\", \"ceo\", \"ceo\", \"ceo_dapli\", \"certif_criteria\", \"certif_criteria\", \"chain\", \"chain\", \"chain\", \"chain\", \"chain\", \"chain\", \"chain\", \"chain\", \"chain\", \"chain\", \"chairman\", \"chairman\", \"chairman\", \"chairman\", \"chairman\", \"chairman\", \"chairman\", \"chairman\", \"chairman\", \"chairman\", \"channel\", \"channel\", \"channel\", \"channel\", \"channel\", \"channel\", \"channel\", \"channel\", \"channel\", \"chariti\", \"chariti\", \"chariti\", \"chatbot\", \"chatbot\", \"chatbot\", \"chatbot\", \"chatbot\", \"chemotherapi\", \"china\", \"china\", \"china\", \"china\", \"china\", \"china\", \"china\", \"china\", \"chronic_disea\", \"chronic_disea\", \"chronic_disea\", \"chronic_disea\", \"cinema\", \"citi\", \"citi\", \"citi\", \"citi\", \"citi\", \"citi\", \"citi\", \"citi\", \"citi\", \"claim\", \"claim\", \"claim\", \"claim\", \"claim\", \"claim\", \"claim\", \"claim\", \"claim\", \"claim\", \"client\", \"client\", \"client\", \"client\", \"client\", \"client\", \"client\", \"client\", \"clinic\", \"clinic\", \"clinic\", \"clinic\", \"clinic\", \"clinic\", \"clinic\", \"clinic\", \"cloud\", \"cloud\", \"cloud\", \"cloud\", \"cloud\", \"cloud\", \"cloud\", \"cloud\", \"cloud\", \"cloudnat\", \"cms\", \"cms\", \"cms\", \"cms\", \"cocktail\", \"code\", \"code\", \"code\", \"code\", \"code\", \"code\", \"code\", \"code\", \"code\", \"coder\", \"coder\", \"coder\", \"coffe\", \"coffe\", \"coffe\", \"coffe\", \"coin\", \"coin\", \"coin\", \"coin\", \"coin\", \"collabor\", \"collabor\", \"collabor\", \"collabor\", \"collabor\", \"collabor\", \"collabor\", \"collabor\", \"collabor\", \"collabor\", \"commerci\", \"commerci\", \"commerci\", \"commerci\", \"commerci\", \"commerci\", \"commerci\", \"commerci\", \"commerci\", \"commerci\", \"commercialis\", \"commonwel\", \"communiti\", \"communiti\", \"communiti\", \"communiti\", \"communiti\", \"communiti\", \"communiti\", \"communiti\", \"communiti\", \"communiti\", \"compani\", \"compani\", \"compani\", \"compani\", \"compani\", \"compani\", \"compani\", \"compani\", \"compani\", \"compani\", \"complianc\", \"complianc\", \"complianc\", \"complianc\", \"complianc\", \"complianc\", \"complianc\", \"complianc\", \"complianc\", \"condit\", \"condit\", \"condit\", \"condit\", \"condit\", \"condit\", \"condit\", \"condit\", \"condit\", \"condit\", \"configur\", \"configur\", \"configur\", \"configur\", \"configur\", \"configur\", \"configur\", \"congest\", \"congest\", \"congest\", \"connect\", \"connect\", \"connect\", \"connect\", \"connect\", \"connect\", \"connect\", \"connect\", \"connect\", \"connect\", \"consum\", \"consum\", \"consum\", \"consum\", \"consum\", \"consum\", \"consum\", \"consum\", \"consum\", \"consum\", \"consumerfac\", \"consumerfac\", \"consumerfac\", \"consumerfac\", \"consumerfac\", \"content\", \"content\", \"content\", \"content\", \"content\", \"content\", \"content\", \"content\", \"content\", \"content_creator\", \"content_creator\", \"content_creator\", \"control\", \"control\", \"control\", \"control\", \"control\", \"control\", \"control\", \"control\", \"control\", \"control\", \"conver\", \"conver\", \"conver\", \"conver\", \"conver\", \"conver\", \"conver\", \"conver\", \"conver\", \"coordin\", \"coordin\", \"coordin\", \"coordin\", \"coordin\", \"coordin\", \"coordin\", \"coordin\", \"coordin\", \"coordin\", \"copd\", \"copd\", \"cost\", \"cost\", \"cost\", \"cost\", \"cost\", \"cost\", \"cost\", \"cost\", \"cost\", \"cost\", \"cpu\", \"creat\", \"creat\", \"creat\", \"creat\", \"creat\", \"creat\", \"creat\", \"creat\", \"creat\", \"creat\", \"crime\", \"crime\", \"crime\", \"crime\", \"crime\", \"crime\", \"crime\", \"crimin\", \"crimin\", \"crimin\", \"crowdsal\", \"cruis\", \"cruis\", \"cruis\", \"cryptocurr\", \"cryptocurr\", \"cryptocurr\", \"cryptocurr\", \"cryptocurr\", \"cryptograph\", \"cryptograph\", \"cryptograph\", \"cryptograph\", \"cryptographi\", \"cryptographi\", \"cryptographi\", \"cryptographi\", \"cryptographi\", \"cure\", \"cure\", \"cure\", \"cure\", \"cure\", \"currenc\", \"currenc\", \"currenc\", \"currenc\", \"currenc\", \"custom\", \"custom\", \"custom\", \"custom\", \"custom\", \"custom\", \"custom\", \"custom\", \"custom\", \"custom\", \"cvs\", \"cvs\", \"cvs\", \"cx\", \"cx\", \"dapp\", \"data\", \"data\", \"data\", \"data\", \"data\", \"data\", \"data\", \"data\", \"data\", \"data\", \"datacent\", \"datahealthcar\", \"datahealthcar\", \"datahealthcar\", \"datahealthcar\", \"datum\", \"datum\", \"datum\", \"datum\", \"datum\", \"datum\", \"datum\", \"datum\", \"datum\", \"datum\", \"deal\", \"deal\", \"deal\", \"deal\", \"deal\", \"deal\", \"deal\", \"deal\", \"deal\", \"deal\", \"death\", \"death\", \"death\", \"death\", \"death\", \"death\", \"death\", \"death\", \"decentr\", \"decentr\", \"decentr\", \"decentr\", \"decentr\", \"decentrali\", \"decentrali\", \"decentralis\", \"decentralis\", \"decentralis\", \"decis\", \"decis\", \"decis\", \"decis\", \"decis\", \"decis\", \"decis\", \"decis\", \"decis\", \"decis\", \"dell\", \"dell\", \"dell\", \"dell\", \"dell\", \"dell\", \"deloitt\", \"deloitt\", \"deloitt\", \"deloitt\", \"deloitt\", \"deloitt\", \"deloitt\", \"deloitt\", \"deploy\", \"deploy\", \"deploy\", \"deploy\", \"deploy\", \"deploy\", \"deploy\", \"deploy\", \"deploy\", \"deploy\", \"depress\", \"depress\", \"depress\", \"depress\", \"depress\", \"design\", \"design\", \"design\", \"design\", \"design\", \"design\", \"design\", \"design\", \"design\", \"design\", \"devic\", \"devic\", \"devic\", \"devic\", \"devic\", \"devic\", \"devic\", \"devic\", \"devic\", \"devic\", \"diabet\", \"diabet\", \"diabet\", \"diabet\", \"diabet\", \"digit\", \"digit\", \"digit\", \"digit\", \"digit\", \"digit\", \"digit\", \"digit\", \"digit\", \"digit\", \"directtrust\", \"disea\", \"disea\", \"disea\", \"disea\", \"disea\", \"distribut_ledger\", \"distribut_ledger\", \"distribut_ledger\", \"distribut_ledger\", \"dna_sequenc\", \"dod\", \"dod\", \"dod\", \"drive\", \"drive\", \"drive\", \"drive\", \"drive\", \"drive\", \"drive\", \"drive\", \"drive\", \"drive\", \"drone\", \"drone\", \"drown\", \"drown\", \"drug\", \"drug\", \"drug\", \"drug\", \"drug\", \"dublin\", \"dublin\", \"dublin\", \"earlystag\", \"earlystag\", \"earlystag\", \"eclinicalwork\", \"ecosystem\", \"ecosystem\", \"ecosystem\", \"ecosystem\", \"ecosystem\", \"ecosystem\", \"ecosystem\", \"ecosystem\", \"ecosystem\", \"ecosystem\", \"ecri\", \"ecri\", \"ecri_institut\", \"edinburgh\", \"effect\", \"effect\", \"effect\", \"effect\", \"effect\", \"effect\", \"effect\", \"effect\", \"effect\", \"effect\", \"ehr\", \"ehr\", \"ehr\", \"ehr\", \"elast\", \"emram\", \"endpoint\", \"endpoint\", \"endpoint\", \"enquiri\", \"enquiri\", \"enterpris\", \"enterpris\", \"enterpris\", \"enterpris\", \"enterpris\", \"enterpris\", \"enterpris\", \"enterpris\", \"enterpris\", \"enterpris\", \"enterpriselevel\", \"enterpriselevel\", \"enterpriselevel\", \"entrepreneur\", \"entrepreneur\", \"entrepreneur\", \"entrepreneur\", \"entrepreneur\", \"entrepreneur\", \"environment\", \"environment\", \"environment\", \"environment\", \"environment\", \"environment\", \"environment\", \"environment\", \"environment\", \"envoy\", \"eon\", \"ep\", \"erc\", \"error\", \"error\", \"error\", \"error\", \"error\", \"error\", \"error\", \"error\", \"error\", \"error\", \"esport\", \"ether\", \"ether\", \"ethereum\", \"ethereum\", \"europ\", \"europ\", \"europ\", \"europ\", \"europ\", \"europ\", \"europ\", \"europ\", \"event\", \"event\", \"event\", \"event\", \"event\", \"event\", \"event\", \"event\", \"event\", \"event\", \"exchang\", \"exchang\", \"exchang\", \"exchang\", \"exchang\", \"exchang\", \"exchang\", \"exchang\", \"exchang\", \"exchang\", \"experi\", \"experi\", \"experi\", \"experi\", \"experi\", \"experi\", \"experi\", \"experi\", \"experi\", \"experi\", \"express_script\", \"exscudo\", \"exscudocom\", \"extract\", \"extract\", \"extract\", \"extract\", \"extract\", \"extract\", \"extract\", \"fahima\", \"fahima\", \"fan\", \"fan\", \"fan\", \"fan\", \"farm\", \"farm\", \"farm\", \"farm\", \"farmer\", \"farmer\", \"farmer\", \"favour\", \"featur\", \"featur\", \"featur\", \"featur\", \"featur\", \"featur\", \"featur\", \"featur\", \"featur\", \"featur\", \"feeforservic\", \"feeforservic\", \"feeforservic_reimbur\", \"fhir\", \"fhir\", \"fhir\", \"fhirba\", \"fhirba\", \"fiat\", \"film\", \"film\", \"film\", \"film\", \"film\", \"financ\", \"financ\", \"financ\", \"financ\", \"financ\", \"financ\", \"financ\", \"financ\", \"financ\", \"financi\", \"financi\", \"financi\", \"financi\", \"financi\", \"financi\", \"financi\", \"financi\", \"financi\", \"financi\", \"finov\", \"fintech\", \"fintech\", \"fintech\", \"fintech\", \"fintech\", \"fish\", \"fish\", \"fish\", \"fish\", \"fit_tracker\", \"fit_tracker\", \"fit_tracker\", \"fit_tracker\", \"fit_tracker\", \"fli\", \"fli\", \"fli\", \"fli\", \"fli\", \"fli\", \"fli\", \"flight\", \"flight\", \"flight\", \"flight\", \"flight\", \"fodder\", \"fodder\", \"fodder\", \"food\", \"food\", \"food\", \"food\", \"food\", \"food\", \"food\", \"food\", \"forecast\", \"forecast\", \"forecast\", \"forecast\", \"forecast\", \"forecast\", \"forecast\", \"forecast\", \"forecast\", \"forecast\", \"founder\", \"founder\", \"founder\", \"founder\", \"founder\", \"founder\", \"founder\", \"founder\", \"founder\", \"founder\", \"fraud\", \"fraud\", \"fraud\", \"fraud\", \"fraud\", \"fraud\", \"fraud\", \"fraud\", \"fraudster\", \"fraudster\", \"fraudul\", \"fraudul\", \"fraudul\", \"fraudul\", \"fraudul\", \"fund\", \"fund\", \"fund\", \"fund\", \"fund\", \"fund\", \"fund\", \"fund\", \"fund\", \"fund\", \"game\", \"game\", \"game\", \"game\", \"game\", \"game\", \"game\", \"game\", \"game\", \"gamer\", \"gao\", \"gartner\", \"gartner\", \"gartner\", \"gdpr\", \"gdpr\", \"gdpr\", \"gdpr\", \"gdpr\", \"gene\", \"gene\", \"gene\", \"gene\", \"gene\", \"genet\", \"genet\", \"genet\", \"genom\", \"genom\", \"genom\", \"genotyp\", \"gestur\", \"gestur\", \"gestur\", \"gibraltar\", \"gibraltar\", \"governanceicd\", \"governancepati\", \"gpus\", \"gpus\", \"grace_period\", \"grace_period\", \"grace_period\", \"grant\", \"grant\", \"grant\", \"grant\", \"grant\", \"grant\", \"grant\", \"grant\", \"grant\", \"grant\", \"great_deal\", \"great_deal\", \"great_deal\", \"group\", \"group\", \"group\", \"group\", \"group\", \"group\", \"group\", \"group\", \"group\", \"group\", \"growth\", \"growth\", \"growth\", \"growth\", \"growth\", \"growth\", \"growth\", \"growth\", \"growth\", \"growth\", \"hac\", \"hacker\", \"hacker\", \"hacker\", \"hardwar\", \"hardwar\", \"hardwar\", \"hardwar\", \"hardwar\", \"hardwar\", \"hardwar\", \"hardwar\", \"hardwar\", \"health\", \"health\", \"health\", \"health\", \"health\", \"health\", \"health\", \"health\", \"health\", \"health\", \"healthcar\", \"healthcar\", \"healthcar\", \"healthcar\", \"healthcar\", \"healthcar\", \"healthcar\", \"healthcar\", \"healthcar\", \"healthcar\", \"heroin\", \"hie\", \"hie\", \"hie\", \"highway\", \"highway\", \"highway\", \"highway\", \"himss\", \"himss\", \"himss\", \"hmrc\", \"hmrc\", \"hollywood\", \"hong_kong\", \"hong_kong\", \"hong_kong\", \"hospit\", \"hospit\", \"hospit\", \"hospit\", \"hospit\", \"hospit\", \"hospit\", \"hospit\", \"hospit\", \"hub\", \"hub\", \"hub\", \"hub\", \"hub\", \"hub\", \"hub\", \"hub\", \"hub\", \"hub\", \"hyperledg\", \"hyperledg\", \"hyperledg\", \"hyperledg\", \"hyperledg_fabric\", \"hyperten\", \"hyperten\", \"hyperten\", \"hyperten\", \"ibm\", \"ibm\", \"ibm\", \"ibm\", \"ibm\", \"ibm\", \"ibm\", \"ibm\", \"ibm\", \"ibm_mit\", \"ibm_mit\", \"ict\", \"ict\", \"ict\", \"idc\", \"idc\", \"idc\", \"idc\", \"idc\", \"idc\", \"idc\", \"ident\", \"ident\", \"ident\", \"ident\", \"ident\", \"ident\", \"ident\", \"ident\", \"ident\", \"ident_verif\", \"ident_verif\", \"ident_verif\", \"iiot\", \"iiot\", \"imag\", \"imag\", \"imag\", \"imag\", \"imag\", \"imag\", \"imag\", \"imag\", \"imag\", \"imag\", \"imageri\", \"imageri\", \"imageri\", \"imageri\", \"immunotherapi\", \"improv\", \"improv\", \"improv\", \"improv\", \"improv\", \"improv\", \"improv\", \"improv\", \"improv\", \"improv\", \"incent\", \"incent\", \"incent\", \"incent\", \"incent\", \"incent\", \"incent\", \"incent\", \"incent\", \"infect\", \"infect\", \"infect\", \"infect\", \"inform\", \"inform\", \"inform\", \"inform\", \"inform\", \"inform\", \"inform\", \"inform\", \"inform\", \"inform\", \"informat\", \"informat\", \"informat\", \"informat\", \"informaticist\", \"informaticist\", \"informaticist\", \"infosi\", \"infosi\", \"innov\", \"innov\", \"innov\", \"innov\", \"innov\", \"innov\", \"innov\", \"innov\", \"innov\", \"innov\", \"insight\", \"insight\", \"insight\", \"insight\", \"insight\", \"insight\", \"insight\", \"insight\", \"insight\", \"insight\", \"intang\", \"intang\", \"intang\", \"intang\", \"intellig\", \"intellig\", \"intellig\", \"intellig\", \"intellig\", \"intellig\", \"intellig\", \"intellig\", \"intellig\", \"intellig\", \"internet\", \"internet\", \"internet\", \"internet\", \"internet\", \"internet\", \"internet\", \"internet\", \"internet\", \"internet\", \"internet_thingspopul\", \"interoper\", \"interoper\", \"interoper\", \"interoper\", \"interoper\", \"interoper\", \"interoper\", \"interoper\", \"interoper\", \"inventori\", \"inventori\", \"inventori\", \"inventori\", \"invest\", \"invest\", \"invest\", \"invest\", \"invest\", \"invest\", \"invest\", \"invest\", \"invest\", \"invest\", \"investor\", \"investor\", \"investor\", \"investor\", \"investor\", \"investor\", \"investor\", \"investor\", \"investor\", \"invoic\", \"invoic\", \"iot\", \"iot\", \"iot\", \"iot\", \"iot\", \"iot\", \"iot\", \"iot\", \"ireland\", \"ireland\", \"ireland\", \"issuanc\", \"issuanc\", \"issuanc\", \"jamia\", \"jamia\", \"jamia\", \"jurisdict\", \"jurisdict\", \"jurisdict\", \"jurisdict\", \"jurisdict\", \"jurisdict\", \"kati\", \"kibb\", \"kibb\", \"kla\", \"kla\", \"kla\", \"km\", \"km\", \"kyc\", \"kyc\", \"kyc\", \"kyc\", \"kyc\", \"lake\", \"lake\", \"lake\", \"lake\", \"lake\", \"lake\", \"lake\", \"launch\", \"launch\", \"launch\", \"launch\", \"launch\", \"launch\", \"launch\", \"launch\", \"launch\", \"launch\", \"law\", \"law\", \"law\", \"law\", \"law\", \"law\", \"law\", \"law\", \"law\", \"law\", \"leader\", \"leader\", \"leader\", \"leader\", \"leader\", \"leader\", \"leader\", \"leader\", \"leader\", \"leader\", \"legend\", \"lend\", \"lend\", \"lend\", \"lend\", \"lend\", \"lend\", \"lend\", \"lender\", \"lender\", \"lender\", \"liabil\", \"liabil\", \"liabil\", \"liabil\", \"liabil\", \"liabil\", \"liabil\", \"lidar\", \"lidar\", \"litecoin\", \"litecoin\", \"london\", \"london\", \"london\", \"london\", \"london\", \"london\", \"loss\", \"loss\", \"loss\", \"loss\", \"loss\", \"loss\", \"loss\", \"loss\", \"loss\", \"loss\", \"lte\", \"lung_cancer\", \"lung_cancer\", \"lung_cancer\", \"luxembourg\", \"luxembourg\", \"luxembourg\", \"macra\", \"macra\", \"malign\", \"manag\", \"manag\", \"manag\", \"manag\", \"manag\", \"manag\", \"manag\", \"manag\", \"manag\", \"manag\", \"manufactur\", \"manufactur\", \"manufactur\", \"manufactur\", \"manufactur\", \"manufactur\", \"manufactur\", \"manufactur\", \"manufactur\", \"map\", \"map\", \"map\", \"map\", \"map\", \"map\", \"map\", \"map\", \"map\", \"map\", \"market\", \"market\", \"market\", \"market\", \"market\", \"market\", \"market\", \"market\", \"market\", \"market\", \"mastercard\", \"match\", \"match\", \"match\", \"match\", \"match\", \"match\", \"match\", \"match\", \"match\", \"match\", \"meaning\", \"meaning\", \"meaning\", \"meaning\", \"meaning\", \"meaning\", \"meaning\", \"meaning\", \"meaning\", \"measur\", \"measur\", \"measur\", \"measur\", \"measur\", \"measur\", \"measur\", \"measur\", \"measur\", \"measur\", \"medic\", \"medic\", \"medic\", \"medic\", \"medic\", \"medic\", \"medic\", \"medic\", \"medic\", \"medic\", \"medicar\", \"medicar\", \"medicar\", \"medicin\", \"medicin\", \"medicin\", \"medicin\", \"medicin\", \"medicineprecis_medicin\", \"mental_ill\", \"merchant\", \"merchant\", \"merchant\", \"merchant\", \"merchant\", \"merchant\", \"mga\", \"mgma\", \"micropay\", \"micropay\", \"microsoft_azur\", \"microsoft_azur\", \"microsoft_azur\", \"mile\", \"mile\", \"mile\", \"mile\", \"mile\", \"mile\", \"mile\", \"mine\", \"mine\", \"mine\", \"mine\", \"mine\", \"mine\", \"mine\", \"mine\", \"mine\", \"miner\", \"miner\", \"miner\", \"minimis\", \"minimis\", \"minimis\", \"minimis\", \"minuteclin\", \"mip\", \"mobil\", \"mobil\", \"mobil\", \"mobil\", \"mobil\", \"mobil\", \"mobil\", \"mobil\", \"mobil\", \"mobil\", \"model\", \"model\", \"model\", \"model\", \"model\", \"model\", \"model\", \"model\", \"model\", \"model\", \"money\", \"money\", \"money\", \"money\", \"money\", \"money\", \"money\", \"money\", \"money\", \"money\", \"money_launder\", \"money_launder\", \"money_launder\", \"motor\", \"motor\", \"motor\", \"motor\", \"motor\", \"multiplay\", \"munich\", \"munich\", \"museum\", \"museum\", \"music\", \"music\", \"music\", \"music\", \"mutat\", \"nation\", \"nation\", \"nation\", \"nation\", \"nation\", \"nation\", \"nation\", \"nation\", \"nation\", \"nation\", \"naysay\", \"nci\", \"network\", \"network\", \"network\", \"network\", \"network\", \"network\", \"network\", \"network\", \"network\", \"network\", \"neurolog\", \"neurolog\", \"ngo\", \"nih\", \"nih\", \"nih\", \"nokia\", \"nokia\", \"nokia\", \"nonbank\", \"nonbank\", \"number\", \"number\", \"number\", \"number\", \"number\", \"number\", \"number\", \"number\", \"number\", \"number\", \"nvidia\", \"nvidia\", \"nvidia\", \"nvidia\", \"nvidia\", \"obe\", \"obe\", \"obe\", \"oem\", \"omnichannel\", \"omnichannel\", \"oncolog\", \"oncolog\", \"oncolog\", \"oncolog\", \"oncologist\", \"oncologist\", \"oncologist\", \"ondevic\", \"onlin\", \"onlin\", \"onlin\", \"onlin\", \"onlin\", \"onlin\", \"onlin\", \"onlin\", \"onlin\", \"onlin\", \"onpremis\", \"onpremis\", \"oper\", \"oper\", \"oper\", \"oper\", \"oper\", \"oper\", \"oper\", \"oper\", \"oper\", \"oper\", \"opioid\", \"opioid_abus\", \"opioid_abus\", \"opioid_abus\", \"opioid_abus\", \"opioid_addict\", \"opioid_epidem\", \"opioid_overdo\", \"opioidrel\", \"optim\", \"optim\", \"optim\", \"optim\", \"optim\", \"optim\", \"optim\", \"optim\", \"optim\", \"optim\", \"oracl\", \"oracl\", \"oracl\", \"oracl\", \"oracl\", \"oracl\", \"orchestr\", \"orchestr\", \"orchestr\", \"organ\", \"organ\", \"organ\", \"organ\", \"organ\", \"organ\", \"organ\", \"organ\", \"organ\", \"organ\", \"organis\", \"organis\", \"organis\", \"organis\", \"organis\", \"organiz_buyin\", \"outcom\", \"outcom\", \"outcom\", \"outcom\", \"outcom\", \"outcom\", \"outcom\", \"outcom\", \"outcom\", \"outcom\", \"overdo\", \"overdraft\", \"overdraft\", \"pac\", \"pac\", \"pac\", \"pain\", \"pain\", \"pain\", \"pain\", \"pain\", \"pain\", \"pain\", \"pancreat_cancer\", \"partner\", \"partner\", \"partner\", \"partner\", \"partner\", \"partner\", \"partner\", \"partner\", \"partner\", \"partner\", \"passeng\", \"passeng\", \"passport\", \"passport\", \"passport\", \"password\", \"password\", \"password\", \"password\", \"password\", \"pathologist\", \"patient\", \"patient\", \"patient\", \"patient\", \"patient\", \"patient\", \"patient\", \"patient\", \"patient\", \"patient\", \"patientgener\", \"patientgener\", \"patientgener\", \"patientgener\", \"patientgener\", \"pavel_kravchenko\", \"payer\", \"payer\", \"payer\", \"payer\", \"payer\", \"payer\", \"payforperform\", \"payforperform\", \"payforperform\", \"payload\", \"payment\", \"payment\", \"payment\", \"payment\", \"payment\", \"payment\", \"payment\", \"payment\", \"payment\", \"payment\", \"pcmh\", \"pcmh\", \"pcmh_recognit\", \"pcornet\", \"pcornet\", \"pcpcc\", \"pedestrian\", \"pedestrian\", \"penni\", \"penni\", \"penni\", \"peopl\", \"peopl\", \"peopl\", \"peopl\", \"peopl\", \"peopl\", \"peopl\", \"peopl\", \"peopl\", \"peopl\", \"pepper\", \"pepper\", \"percent\", \"percent\", \"percent\", \"percent\", \"percent\", \"percent\", \"percent\", \"percent\", \"percent\", \"percent\", \"perenni\", \"perenni\", \"person\", \"person\", \"person\", \"person\", \"person\", \"person\", \"person\", \"person\", \"person\", \"person\", \"personcent\", \"pghd\", \"pghd\", \"pharmaceut\", \"pharmaceut\", \"pharmaceut\", \"pharmaceut\", \"pharmaceut\", \"pharmaceut\", \"pharmaceut\", \"pharmaceut\", \"pharmaceut\", \"pharmaceut\", \"pharmaci\", \"pharmaci\", \"pharmaci\", \"pharmaci\", \"pharmaci\", \"pharmaci\", \"pharmacist\", \"pharmacist\", \"pharmacist\", \"phd\", \"phd\", \"phd\", \"phd\", \"phd\", \"phd\", \"phd\", \"phm\", \"phm\", \"phm\", \"phm\", \"physician\", \"physician\", \"physician\", \"physician\", \"physician\", \"phytel\", \"phytel\", \"piecem\", \"piecem\", \"piecem\", \"plane\", \"plane\", \"plane\", \"plant\", \"plant\", \"plant\", \"platform\", \"platform\", \"platform\", \"platform\", \"platform\", \"platform\", \"platform\", \"platform\", \"platform\", \"platform\", \"player\", \"player\", \"player\", \"player\", \"player\", \"player\", \"player\", \"player\", \"plc\", \"plc\", \"pmi\", \"poll\", \"poll\", \"poll\", \"poll\", \"poll\", \"poll\", \"popul\", \"popul\", \"popul\", \"popul\", \"popul\", \"popul\", \"popul\", \"popul\", \"popul\", \"popul\", \"potenti\", \"potenti\", \"potenti\", \"potenti\", \"potenti\", \"potenti\", \"potenti\", \"potenti\", \"potenti\", \"potenti\", \"power\", \"power\", \"power\", \"power\", \"power\", \"power\", \"power\", \"power\", \"power\", \"power\", \"pqrs\", \"practic\", \"practic\", \"practic\", \"practic\", \"practic\", \"practic\", \"practic\", \"practic\", \"practic\", \"practic\", \"precis_medicin\", \"precis_medicin\", \"precis_medicin\", \"precis_medicin\", \"prediabet\", \"presal\", \"presal\", \"presal\", \"presal\", \"presal\", \"prescript\", \"prescript\", \"prescript\", \"prescript\", \"prescript\", \"prescript\", \"prescript\", \"prescript_drug\", \"pressur_ulcer\", \"pressur_ulcer\", \"prevent\", \"prevent\", \"prevent\", \"prevent\", \"prevent\", \"prevent\", \"prevent\", \"prevent\", \"prevent\", \"prevent\", \"primari\", \"primari\", \"primari\", \"primari\", \"primari\", \"primari\", \"primari\", \"primari\", \"primari\", \"primari\", \"privaci\", \"privaci\", \"privaci\", \"privaci\", \"privaci\", \"privaci\", \"privaci\", \"privaci\", \"privaci\", \"privaci\", \"pro\", \"pro\", \"pro\", \"pro\", \"pro\", \"pro\", \"pro\", \"process\", \"process\", \"process\", \"process\", \"process\", \"process\", \"process\", \"process\", \"process\", \"process\", \"product\", \"product\", \"product\", \"product\", \"product\", \"product\", \"product\", \"product\", \"product\", \"product\", \"program\", \"program\", \"program\", \"program\", \"program\", \"program\", \"program\", \"program\", \"program\", \"program\", \"project\", \"project\", \"project\", \"project\", \"project\", \"project\", \"project\", \"project\", \"project\", \"project\", \"prostat_cancer\", \"protein\", \"provid\", \"provid\", \"provid\", \"provid\", \"provid\", \"provid\", \"provid\", \"provid\", \"provid\", \"provid\", \"psd\", \"purport\", \"purport\", \"purport\", \"purposebuilt\", \"pwc\", \"pwc\", \"pwc\", \"pwc\", \"pwc\", \"pwc\", \"python\", \"qpp\", \"qualcomm\", \"qualcomm\", \"qualcomm\", \"qualcomm\", \"qualiti\", \"qualiti\", \"qualiti\", \"qualiti\", \"qualiti\", \"qualiti\", \"qualiti\", \"qualiti\", \"qualiti\", \"qualiti\", \"rate\", \"rate\", \"rate\", \"rate\", \"rate\", \"rate\", \"rate\", \"rate\", \"rate\", \"rate\", \"rcm\", \"readmiss\", \"readmiss\", \"readmiss\", \"readmiss\", \"readmit\", \"realworld_scenario\", \"realworld_scenario\", \"record\", \"record\", \"record\", \"record\", \"record\", \"record\", \"record\", \"record\", \"record\", \"record\", \"reform\", \"reform\", \"reform\", \"reform\", \"reform\", \"reform\", \"reform\", \"regtech\", \"regtech\", \"regtech\", \"regtech\", \"regul\", \"regul\", \"regul\", \"regul\", \"regul\", \"regul\", \"regul\", \"regul\", \"regul\", \"regul\", \"regulatori_sandbox\", \"regulatori_sandbox\", \"reimbur\", \"reimbur\", \"reimbur\", \"reimbur\", \"reimbur\", \"reloc\", \"reloc\", \"reloc\", \"renault\", \"repeal\", \"report\", \"report\", \"report\", \"report\", \"report\", \"report\", \"report\", \"report\", \"report\", \"report\", \"research\", \"research\", \"research\", \"research\", \"research\", \"research\", \"research\", \"research\", \"research\", \"research\", \"researchpati\", \"rig\", \"rig\", \"rig\", \"rig\", \"rippl\", \"rippl\", \"rippl\", \"risk\", \"risk\", \"risk\", \"risk\", \"risk\", \"risk\", \"risk\", \"risk\", \"risk\", \"risk\", \"road\", \"road\", \"road\", \"road\", \"road\", \"road\", \"road\", \"road\", \"road\", \"road\", \"robo\", \"robo\", \"roboadvisor\", \"robot\", \"robot\", \"robot\", \"robot\", \"robot\", \"robot\", \"round\", \"round\", \"round\", \"round\", \"rule_maker\", \"rule_maker\", \"rule_maker\", \"russia\", \"russia\", \"russia\", \"russia\", \"russia\", \"sa\", \"sa\", \"sa\", \"sa\", \"safeti\", \"safeti\", \"safeti\", \"safeti\", \"safeti\", \"safeti\", \"safeti\", \"safeti\", \"safeti\", \"safeti\", \"safeti_hazard\", \"safetyqu\", \"sale\", \"sale\", \"sale\", \"sale\", \"sale\", \"sale\", \"sale\", \"sale\", \"sale\", \"sale\", \"sanction\", \"sandbox\", \"sandbox\", \"sandbox\", \"sandbox\", \"sandbox\", \"sap\", \"sap\", \"sap\", \"sap\", \"sap\", \"sap\", \"sap\", \"scaleup\", \"scaleup\", \"scaleup\", \"scheme\", \"scheme\", \"scheme\", \"scheme\", \"scheme\", \"scheme\", \"scheme\", \"scheme\", \"scheme\", \"scheme\", \"scholar\", \"scholar\", \"scholar\", \"scholar\", \"scienc\", \"scienc\", \"scienc\", \"scienc\", \"scienc\", \"scienc\", \"scienc\", \"scienc\", \"scienc\", \"scienc\", \"scientif\", \"scientif\", \"scientif\", \"scientif\", \"scientif\", \"scientif\", \"scientif\", \"scientif\", \"scientif\", \"scor\", \"scor\", \"scotland\", \"screen\", \"screen\", \"screen\", \"screen\", \"screen\", \"screen\", \"screen\", \"screen\", \"screen\", \"screen\", \"search\", \"search\", \"search\", \"search\", \"search\", \"search\", \"search\", \"search\", \"search\", \"search\", \"sec\", \"sec\", \"sec\", \"sec\", \"sector\", \"sector\", \"sector\", \"sector\", \"sector\", \"sector\", \"sector\", \"sector\", \"sector\", \"sector\", \"sei\", \"sei\", \"sei\", \"selfcar\", \"selfcar\", \"selfmanag\", \"selfmanag\", \"selfmanag\", \"selfservic\", \"selfservic\", \"selfservic\", \"selfservic\", \"semant_comput\", \"semant_comput\", \"sensor\", \"sensor\", \"sensor\", \"sensor\", \"sensor\", \"sensor\", \"sensor\", \"sensor\", \"sequenc\", \"sequenc\", \"sequenc\", \"sequenc\", \"sequenc\", \"server\", \"server\", \"server\", \"server\", \"servic\", \"servic\", \"servic\", \"servic\", \"servic\", \"servic\", \"servic\", \"servic\", \"servic\", \"servic\", \"shah\", \"shah\", \"shah\", \"shah\", \"shah\", \"shah\", \"share\", \"share\", \"share\", \"share\", \"share\", \"share\", \"share\", \"share\", \"share\", \"share\", \"sharehold\", \"sharehold\", \"shiec\", \"silo\", \"silo\", \"silo\", \"silo\", \"silo\", \"silo\", \"silo\", \"silo\", \"singapor\", \"singapor\", \"singapor\", \"singapor\", \"singapor\", \"singapor\", \"slavitt\", \"smart_contract\", \"smart_contract\", \"smart_contract\", \"smart_glass\", \"soc\", \"social_determin\", \"social_determin\", \"social_determin\", \"social_determin\", \"socioeconom_status\", \"socioeconom_status\", \"sourc\", \"sourc\", \"sourc\", \"sourc\", \"sourc\", \"sourc\", \"sourc\", \"sourc\", \"sourc\", \"sourc\", \"southeast_asia\", \"southeast_asia\", \"southeast_asia\", \"southeast_asia\", \"speaker\", \"speaker\", \"speaker\", \"speaker\", \"speaker\", \"speaker\", \"stadium\", \"stage_meaning\", \"stage_meaning\", \"stage_meaning\", \"stanford\", \"stanford\", \"stanford\", \"stanford\", \"stanford\", \"starl\", \"starl\", \"startup\", \"startup\", \"startup\", \"startup\", \"startup\", \"startup\", \"startup\", \"startup\", \"startup\", \"state\", \"state\", \"state\", \"state\", \"state\", \"state\", \"state\", \"state\", \"state\", \"state\", \"station\", \"station\", \"station\", \"station\", \"station\", \"stock\", \"stock\", \"stock\", \"stock\", \"stock\", \"stock\", \"stock\", \"stock\", \"studi\", \"studi\", \"studi\", \"studi\", \"studi\", \"studi\", \"studi\", \"studi\", \"studi\", \"studi\", \"substanc_abus\", \"substanc_abus\", \"substanc_abus\", \"suicid\", \"suicid\", \"suicid\", \"summit\", \"summit\", \"summit\", \"summit\", \"summit\", \"summit\", \"summit\", \"summit\", \"survey\", \"survey\", \"survey\", \"survey\", \"survey\", \"survey\", \"survey\", \"survey\", \"survey\", \"survey\", \"syndicateroom\", \"system\", \"system\", \"system\", \"system\", \"system\", \"system\", \"system\", \"system\", \"system\", \"system\", \"tag\", \"tag\", \"tag\", \"tag\", \"tag\", \"tag\", \"tag\", \"tag\", \"tag\", \"tag\", \"talent\", \"talent\", \"talent\", \"talent\", \"talent\", \"talent\", \"talent\", \"talent\", \"talent\", \"talent\", \"talent_pool\", \"talent_pool\", \"tavenn\", \"tax\", \"tax\", \"tax\", \"tax\", \"tax\", \"teacher\", \"teacher\", \"team\", \"team\", \"team\", \"team\", \"team\", \"team\", \"team\", \"team\", \"team\", \"team\", \"tech\", \"tech\", \"tech\", \"tech\", \"tech\", \"tech\", \"tech\", \"tech\", \"tech\", \"tech\", \"technolog\", \"technolog\", \"technolog\", \"technolog\", \"technolog\", \"technolog\", \"technolog\", \"technolog\", \"technolog\", \"technolog\", \"technologyl\", \"temperatur\", \"temperatur\", \"temperatur\", \"temperatur\", \"temperatur\", \"temperatur\", \"terrain\", \"terrain\", \"test\", \"test\", \"test\", \"test\", \"test\", \"test\", \"test\", \"test\", \"test\", \"test\", \"testnet\", \"tether\", \"tether\", \"therapi\", \"therapi\", \"therapi\", \"therapi\", \"therapi\", \"thirst\", \"thirst\", \"thirst\", \"ticket\", \"ticket\", \"ticket\", \"ticket\", \"ticket\", \"time\", \"time\", \"time\", \"time\", \"time\", \"time\", \"time\", \"time\", \"time\", \"time\", \"timetomarket\", \"timetomarket\", \"tissu\", \"tissu\", \"today\", \"today\", \"today\", \"today\", \"today\", \"today\", \"today\", \"today\", \"today\", \"today\", \"token\", \"token_holder\", \"tool\", \"tool\", \"tool\", \"tool\", \"tool\", \"tool\", \"tool\", \"tool\", \"tool\", \"tool\", \"trade\", \"trade\", \"trade\", \"trade\", \"trade\", \"trade\", \"trade\", \"trade\", \"trade\", \"traffic\", \"traffic\", \"traffic\", \"traffic\", \"traffic\", \"traffic\", \"transact\", \"transact\", \"transact\", \"transact\", \"transact\", \"transact\", \"transact\", \"transact\", \"transact\", \"transfer\", \"transfer\", \"transfer\", \"transfer\", \"transfer\", \"transfer\", \"transfer\", \"transfer\", \"transfer\", \"transfer\", \"transit\", \"transit\", \"transit\", \"transit\", \"transit\", \"transit\", \"transit\", \"transit\", \"transit\", \"transit\", \"transport\", \"transport\", \"transport\", \"transport\", \"transport\", \"transport\", \"transport\", \"transport\", \"transport\", \"treatment\", \"treatment\", \"treatment\", \"treatment\", \"treatment\", \"treatment\", \"treatment\", \"trial\", \"trial\", \"trial\", \"trial\", \"trial\", \"trial\", \"trial\", \"trial\", \"trial\", \"trial\", \"truck\", \"truck\", \"tumor\", \"uav\", \"underwat\", \"unhealthi\", \"univer\", \"univer\", \"univer\", \"univer\", \"univer\", \"univer\", \"univer\", \"univer\", \"univer\", \"univer\", \"unspecifi\", \"unspecifi\", \"use\", \"use\", \"use\", \"use\", \"use\", \"use\", \"use\", \"use\", \"use\", \"use\", \"user\", \"user\", \"user\", \"user\", \"user\", \"user\", \"user\", \"user\", \"user\", \"user\", \"valu\", \"valu\", \"valu\", \"valu\", \"valu\", \"valu\", \"valu\", \"valu\", \"valu\", \"valu\", \"valueba\", \"valueba\", \"valueba\", \"valueba\", \"valuebas_reimbur\", \"valuebas_reimbur\", \"valuebas_reimbur\", \"vanderbilt_univer\", \"vat\", \"vat\", \"vehicl\", \"vehicl\", \"vehicl\", \"vehicl\", \"vehicl\", \"vehicl\", \"vehicl\", \"vendor\", \"vendor\", \"vendor\", \"vendor\", \"vendor\", \"vendor\", \"vendor\", \"vendor\", \"vendor\", \"ventur\", \"ventur\", \"ventur\", \"ventur\", \"ventur\", \"ventur_capit\", \"ventur_capit\", \"ventur_capit\", \"ventur_capit\", \"ventur_capit\", \"video\", \"video\", \"video\", \"video\", \"video\", \"video\", \"video\", \"video\", \"video\", \"wallet\", \"wallet\", \"wallet\", \"wallet\", \"wallet\", \"wallet\", \"wallet\", \"wareh\", \"wareh\", \"wareh\", \"wareh\", \"wax\", \"way\", \"way\", \"way\", \"way\", \"way\", \"way\", \"way\", \"way\", \"way\", \"way\", \"weather\", \"weather\", \"weather\", \"weather\", \"weather\", \"weather\", \"weather\", \"weather\", \"wedi\", \"wedi\", \"weight_loss\", \"willi\", \"willi\", \"work\", \"work\", \"work\", \"work\", \"work\", \"work\", \"work\", \"work\", \"work\", \"work\", \"world\", \"world\", \"world\", \"world\", \"world\", \"world\", \"world\", \"world\", \"world\", \"world\", \"yandex\", \"yandexcheckout\", \"year\", \"year\", \"year\", \"year\", \"year\", \"year\", \"year\", \"year\", \"year\", \"year\", \"zurich\", \"zurich\", \"zurich\", \"zurich\"], \"Freq\": [0.9805116653442383, 0.06237161159515381, 0.031185805797576904, 0.031185805797576904, 0.01039526890963316, 0.031185805797576904, 0.8004357218742371, 0.02079053781926632, 0.12748880684375763, 0.17545489966869354, 0.23036344349384308, 0.09151424467563629, 0.07762932777404785, 0.07426328212022781, 0.08015385270118713, 0.10666143149137497, 0.022720778360962868, 0.013674542307853699, 0.08320579677820206, 0.013867633417248726, 0.09707342833280563, 0.055470533668994904, 0.013867633417248726, 0.7349845767021179, 0.4015386998653412, 0.1093013659119606, 0.049089737236499786, 0.021093245595693588, 0.033365678042173386, 0.05484243854880333, 0.007670271210372448, 0.3060438334941864, 0.013806488364934921, 0.0030681085772812366, 0.11406296491622925, 0.1042056679725647, 0.34570935368537903, 0.21263588964939117, 0.03450052812695503, 0.02464323304593563, 0.04506191238760948, 0.0633683130145073, 0.04294963553547859, 0.012673662975430489, 0.9221372604370117, 0.04657258838415146, 0.018629034981131554, 0.04995417967438698, 0.8306666016578674, 0.06565406173467636, 0.007136311382055283, 0.002854524413123727, 0.008563573472201824, 0.021408934146165848, 0.011418097652494907, 0.0014272622065618634, 0.9271524548530579, 0.06394155323505402, 0.04550200328230858, 0.7865346074104309, 0.013000572100281715, 0.003250143025070429, 0.04550200328230858, 0.05200228840112686, 0.05200228840112686, 0.00975042860955, 0.002985734958201647, 0.03881455585360527, 0.6568617224693298, 0.1761583685874939, 0.020900145173072815, 0.017914410680532455, 0.029857350513339043, 0.05075749382376671, 0.002985734958201647, 0.03481197729706764, 0.04351497069001198, 0.04351497069001198, 0.00870299432426691, 0.861596405506134, 0.23019137978553772, 0.007425528485327959, 0.7574039101600647, 0.001649596611969173, 0.013196772895753384, 0.5509652495384216, 0.09732620418071747, 0.061035074293613434, 0.03134233504533768, 0.001649596611969173, 0.2243451476097107, 0.018145563080906868, 0.8352737426757812, 0.026657672598958015, 0.1244024708867073, 0.21269764006137848, 0.7089921832084656, 0.02845383994281292, 0.9674305319786072, 0.054440997540950775, 0.054440997540950775, 0.02177639864385128, 0.032664597034454346, 0.8383913636207581, 0.9858098030090332, 0.005319453310221434, 0.036349598318338394, 0.16312991082668304, 0.20302580296993256, 0.01773151196539402, 0.03723617270588875, 0.40516504645347595, 0.028370417654514313, 0.07713207602500916, 0.0257106926292181, 0.8596885800361633, 0.12803871929645538, 0.9566891193389893, 0.019931023940443993, 0.044789642095565796, 0.008957928977906704, 0.9495404362678528, 0.9346702694892883, 0.03594885766506195, 0.9130052924156189, 0.035961780697107315, 0.008990445174276829, 0.9439967274665833, 0.973167359828949, 0.17751114070415497, 0.7889384031295776, 0.01972346007823944, 0.9397545456886292, 0.04819254204630852, 0.9319829940795898, 0.011723056435585022, 0.0527537539601326, 0.02049282379448414, 0.9631627202033997, 0.01024641189724207, 0.02714216522872448, 0.895691454410553, 0.02714216522872448, 0.9358273148536682, 0.0053466628305613995, 0.04752589389681816, 0.15327100455760956, 0.2287183552980423, 0.020792577415704727, 0.45862486958503723, 0.0035644418094307184, 0.029109608381986618, 0.0017822209047153592, 0.05109033361077309, 0.021501729264855385, 0.9675777554512024, 0.03704505041241646, 0.02646075002849102, 0.058213647454977036, 0.05292150005698204, 0.6879794597625732, 0.04233719781041145, 0.015876449644565582, 0.03704505041241646, 0.04762934893369675, 0.005714975763112307, 0.003516908036544919, 0.1481497585773468, 0.3336666524410248, 0.09231884032487869, 0.032971013337373734, 0.18683573603630066, 0.0017584540182724595, 0.18199999630451202, 0.012748791836202145, 0.010757195763289928, 0.9789048433303833, 0.006877174600958824, 0.0007641304982826114, 0.11385544389486313, 0.16887283325195312, 0.14518480002880096, 0.1940891444683075, 0.00764130474999547, 0.05654565617442131, 0.3048880696296692, 0.0007641304982826114, 0.017274266108870506, 0.011516177095472813, 0.005758088547736406, 0.4001871347427368, 0.002879044273868203, 0.028790442273020744, 0.025911398231983185, 0.4923165738582611, 0.014395221136510372, 0.9202205538749695, 0.012780841439962387, 0.025561682879924774, 0.0063904207199811935, 0.03195210173726082, 0.9192314147949219, 0.037776634097099304, 0.025184422731399536, 0.10257347673177719, 0.10257347673177719, 0.7863966822624207, 0.013967232778668404, 0.935804545879364, 0.027934465557336807, 0.11719641089439392, 0.04687856510281563, 0.7969356179237366, 0.9600120186805725, 0.014591636136174202, 0.02684861049056053, 0.02451394870877266, 0.6455339789390564, 0.059533875435590744, 0.014591636136174202, 0.01517530158162117, 0.044358573853969574, 0.14650002121925354, 0.00933864712715149, 0.9330450296401978, 0.24884234368801117, 0.002108833286911249, 0.0358501672744751, 0.004217666573822498, 0.7085680365562439, 0.19860176742076874, 0.005226362030953169, 0.005226362030953169, 0.7839543223381042, 0.11362966895103455, 0.8332841992378235, 0.9568081498146057, 0.9850701689720154, 0.010261147283017635, 0.02946293354034424, 0.9428138732910156, 0.00029430832364596426, 0.0005886166472919285, 0.0014715415891259909, 0.0020601581782102585, 0.20307272672653198, 0.05768442898988724, 0.0032373913563787937, 0.7263529300689697, 0.005297549534589052, 0.15751369297504425, 0.10904794186353683, 0.7148697972297668, 0.012116437777876854, 0.9621186852455139, 0.0613805390894413, 0.5668109059333801, 0.06425774842500687, 0.23401330411434174, 0.018222346901893616, 0.009590708650648594, 0.028772126883268356, 0.0009590709232725203, 0.007672567386180162, 0.009590708650648594, 0.10206938534975052, 0.06804625689983368, 0.8165550827980042, 0.020027747377753258, 0.030041620135307312, 0.9312902092933655, 0.010013873688876629, 0.9713295698165894, 0.00616801343858242, 0.01850404031574726, 0.9498740434646606, 0.01233602687716484, 0.01488512847572565, 0.9675333499908447, 0.9391990303993225, 0.9757376313209534, 0.837214469909668, 0.003771236166357994, 0.15084944665431976, 0.18251942098140717, 0.7964484095573425, 0.004103262443095446, 0.00027355083147995174, 0.03337320312857628, 0.006018118467181921, 0.009574279189109802, 0.45163244009017944, 0.002188406651839614, 0.48938244581222534, 0.0032826100941747427, 0.004049463663250208, 0.8908819556236267, 0.06074195355176926, 0.040494635701179504, 0.8961573839187622, 0.08534832298755646, 0.0654069110751152, 0.0654069110751152, 0.8502898216247559, 0.8084030151367188, 0.006968991830945015, 0.17422479391098022, 0.006968991830945015, 0.0040232958272099495, 0.06437273323535919, 0.016093183308839798, 0.07241933047771454, 0.7282165884971619, 0.008046591654419899, 0.10460569709539413, 0.010245570912957191, 0.013660761527717113, 0.48068803548812866, 0.2979753613471985, 0.18356648087501526, 0.0017075951909646392, 0.0034151903819292784, 0.007684178184717894, 0.0008537975954823196, 0.003772117430344224, 0.16220104694366455, 0.060353878885507584, 0.7506513595581055, 0.01886058785021305, 0.008950083516538143, 0.04475041478872299, 0.03580033406615257, 0.9039583802223206, 0.7564795613288879, 0.053446926176548004, 0.18500858545303345, 0.8342714309692383, 0.00937383621931076, 0.12185987085103989, 0.01874767243862152, 0.03593125939369202, 0.0044263144955039024, 0.07537753134965897, 0.18616558611392975, 0.29070472717285156, 0.05155354365706444, 0.0014320429181680083, 0.17249608039855957, 0.1775733232498169, 0.004165943246334791, 0.017948878929018974, 0.0717955157160759, 0.017948878929018974, 0.8794950842857361, 0.14036107063293457, 0.11058750748634338, 0.7443389892578125, 0.029743308201432228, 0.019120696932077408, 0.00637356610968709, 0.5863680839538574, 0.16996175050735474, 0.16996175050735474, 0.00637356610968709, 0.004249043762683868, 0.004249043762683868, 0.004249043762683868, 0.006156697403639555, 0.0347013846039772, 0.019589491188526154, 0.9386164546012878, 0.022479042410850525, 0.9665988087654114, 0.034867819398641586, 0.9588649868965149, 0.15174613893032074, 0.017624905332922935, 0.17882829904556274, 0.42041847109794617, 0.04986558482050896, 0.005588384345173836, 0.03095105290412903, 0.009457265958189964, 0.08855440467596054, 0.047716207802295685, 0.334751695394516, 0.6323087811470032, 0.023352261632680893, 0.005189391318708658, 0.007784087210893631, 0.028541652485728264, 0.7368935942649841, 0.07697597146034241, 0.003459594212472439, 0.03027145005762577, 0.08216536045074463, 0.006054290104657412, 0.0043318262323737144, 0.0021659131161868572, 0.0043318262323737144, 0.3530438244342804, 0.047650087624788284, 0.06064556911587715, 0.0021659131161868572, 0.012995478697121143, 0.0021659131161868572, 0.5111554861068726, 0.02012707106769085, 0.008945365436375141, 0.017890730872750282, 0.042490486055612564, 0.004472682718187571, 0.3600509464740753, 0.5434309244155884, 0.004472682718187571, 0.47049304842948914, 0.3676813542842865, 0.10097458958625793, 0.0017714840359985828, 0.0008529367623850703, 0.0009185472736135125, 0.05524405837059021, 0.0013778209686279297, 0.0003280526143498719, 0.0003280526143498719, 0.013318730518221855, 0.034628696739673615, 0.010654984042048454, 0.11986856907606125, 0.5673779249191284, 0.0026637460105121136, 0.2344096451997757, 0.015982476994395256, 0.0405459925532341, 0.0405459925532341, 0.871738851070404, 0.02027299627661705, 0.9569668173789978, 0.9611490964889526, 0.010562078095972538, 0.010562078095972538, 0.17556165158748627, 0.2165394276380539, 0.056244008243083954, 0.17556165158748627, 0.014061002060770988, 0.02611328847706318, 0.30010196566581726, 0.0012052287347614765, 0.021694118157029152, 0.013257516548037529, 0.045702237635850906, 0.012464246712625027, 0.048610564321279526, 0.22726476192474365, 0.3273942172527313, 0.1632816344499588, 0.021189220249652863, 0.032822515815496445, 0.08309497684240341, 0.038223691284656525, 0.9463398456573486, 0.9346056580543518, 0.04063502699136734, 0.0348297618329525, 0.06146428734064102, 0.05531785637140274, 0.04917142912745476, 0.07785475999116898, 0.2847845256328583, 0.0020488095469772816, 0.07785475999116898, 0.352395236492157, 0.0020488095469772816, 0.04160161688923836, 0.0029715439304709435, 0.00891463179141283, 0.0802316889166832, 0.6151096224784851, 0.09508940577507019, 0.08617477864027023, 0.00891463179141283, 0.03565852716565132, 0.029715439304709435, 0.011311361566185951, 0.01319658849388361, 0.015081815421581268, 0.5749942064285278, 0.23753859102725983, 0.10745793581008911, 0.015081815421581268, 0.02073749527335167, 0.003770453855395317, 0.018771348521113396, 0.9698529839515686, 0.006257115863263607, 0.9010416865348816, 0.04727688059210777, 0.013904964551329613, 0.00278099300339818, 0.030590921640396118, 0.9696363210678101, 0.0014594559324905276, 0.09778355062007904, 0.669890284538269, 0.0831889882683754, 0.01605401560664177, 0.0029189118649810553, 0.08464844524860382, 0.043783679604530334, 0.10701566189527512, 0.7927894592285156, 0.08371973037719727, 0.016743946820497513, 0.9569727182388306, 0.06540817022323608, 0.004004582297056913, 0.04004582017660141, 0.30568310618400574, 0.1655227243900299, 0.014683467335999012, 0.00667430367320776, 0.012013746425509453, 0.38577473163604736, 0.32599812746047974, 0.101226806640625, 0.16100642085075378, 0.0063764918595552444, 0.03108539618551731, 0.0023911844473332167, 0.0015941229648888111, 0.3228099048137665, 0.04304131865501404, 0.004782368894666433, 0.01531622838228941, 0.0005281458143144846, 0.007394041400402784, 0.2482285350561142, 0.3617798686027527, 0.017428811639547348, 0.27199509739875793, 0.07658114284276962, 0.18340791761875153, 0.21054556965827942, 0.33388471603393555, 0.00015245878603309393, 0.27152907848358154, 0.00015245878603309393, 0.00015245878603309393, 0.00015245878603309393, 0.001022043637931347, 0.0005110218189656734, 0.04905809462070465, 0.8697591423988342, 0.018907807767391205, 0.004088174551725388, 0.008687370456755161, 0.009709414094686508, 0.03781561553478241, 0.968242883682251, 0.810007631778717, 0.163960799574852, 0.02268640138208866, 0.002578000072389841, 0.9569195508956909, 0.5417160987854004, 0.019999148324131966, 0.10956055670976639, 0.05825838819146156, 0.005217169411480427, 0.13303782045841217, 0.0217382051050663, 0.10086527466773987, 0.006956225726753473, 0.9365917444229126, 0.04625144228339195, 0.011562860570847988, 0.011610954068601131, 0.05805477127432823, 0.20899717509746552, 0.7082682251930237, 0.003851007204502821, 0.011553021147847176, 0.7239893078804016, 0.003851007204502821, 0.25416648387908936, 0.150495707988739, 0.10371511429548264, 0.09211062639951706, 0.14977042376995087, 0.1381659358739853, 0.04750587418675423, 0.20489174127578735, 0.01631881110370159, 0.07216541469097137, 0.024659538641572, 0.11815515905618668, 0.021241378039121628, 0.0225689634680748, 0.22170688211917877, 0.23498272895812988, 0.05443102866411209, 0.03053447976708412, 0.039827581495046616, 0.05443102866411209, 0.20179308950901031, 0.9603438973426819, 0.9902163743972778, 0.18990030884742737, 0.3015502393245697, 0.07220665365457535, 0.020675914362072945, 0.07697802037000656, 0.19467167556285858, 0.09860820323228836, 0.0054075466468930244, 0.01844927668571472, 0.02131209522485733, 0.005631932523101568, 0.0034053544513881207, 0.029076488688588142, 0.202749565243721, 0.42697906494140625, 0.09338530153036118, 0.01741969771683216, 0.0688929408788681, 0.12364056706428528, 0.028814539313316345, 0.042918141931295395, 0.05150177329778671, 0.01594102382659912, 0.14224298298358917, 0.05272800475358963, 0.0012262326199561357, 0.0012262326199561357, 0.5775555968284607, 0.11403963714838028, 0.042232513427734375, 0.581371009349823, 0.03324687480926514, 0.017971282824873924, 0.016174154356122017, 0.015275590121746063, 0.19858267903327942, 0.018869847059249878, 0.03594256564974785, 0.03953682258725166, 0.06205856800079346, 0.06205856800079346, 0.03102928400039673, 0.7881438136100769, 0.006205856800079346, 0.012411713600158691, 0.037235140800476074, 0.037980128079652786, 0.07596025615930557, 0.8355627655982971, 0.11832169443368912, 0.048404332250356674, 0.10532423853874207, 0.4056103527545929, 0.09143040329217911, 0.10173872858285904, 0.01568658836185932, 0.010308329947292805, 0.02599491737782955, 0.07664018869400024, 0.05874636396765709, 0.03609716519713402, 0.15995998680591583, 0.1974727213382721, 0.1780085563659668, 0.11041485518217087, 0.004954512696713209, 0.1751774102449417, 0.05166848748922348, 0.027249818667769432, 0.03069603256881237, 0.8287928700447083, 0.06139206513762474, 0.03069603256881237, 0.06139206513762474, 0.013840898871421814, 0.0027681798674166203, 0.028604524210095406, 0.45951783657073975, 0.12272264063358307, 0.3506360948085785, 0.003690906334668398, 0.007381812669336796, 0.010149993002414703, 0.026462266221642494, 0.026462266221642494, 0.9526416063308716, 0.03838136047124863, 0.31208449602127075, 0.05411142855882645, 0.2208501249551773, 0.016988471150398254, 0.0673246830701828, 0.027055714279413223, 0.11514408141374588, 0.02957252413034439, 0.11829009652137756, 0.12428414821624756, 0.038241274654865265, 0.07010900974273682, 0.5226307511329651, 0.0924164205789566, 0.09719657897949219, 0.03346111625432968, 0.015933865681290627, 0.004780159331858158, 0.6079003214836121, 0.28052595257759094, 0.08466578274965286, 0.01015989389270544, 0.0011288771638646722, 0.0005644385819323361, 0.011288771405816078, 0.0005644385819323361, 0.0011288771638646722, 0.0011288771638646722, 0.02668965421617031, 0.9608275890350342, 0.20939072966575623, 0.33425676822662354, 0.07107758522033691, 0.10428372025489807, 0.036499302834272385, 0.028815237805247307, 0.028540808707475662, 0.1295313537120819, 0.05104413628578186, 0.006311909295618534, 0.9379600286483765, 0.07726524025201797, 0.06368529051542282, 0.17092007398605347, 0.1432919055223465, 0.11847337335348129, 0.21259649097919464, 0.07960661500692368, 0.03231091797351837, 0.08147971332073212, 0.01966751553118229, 0.009853086434304714, 0.07882469147443771, 0.009853086434304714, 0.009853086434304714, 0.04926542937755585, 0.8375123143196106, 0.009853086434304714, 0.04212898761034012, 0.08425797522068024, 0.8566227555274963, 0.9282975196838379, 0.04770917445421219, 0.09541834890842438, 0.763346791267395, 0.0022514602169394493, 0.004502920433878899, 0.5441028475761414, 0.0007504867389798164, 0.44653958082199097, 0.1299474835395813, 0.24690023064613342, 0.012994748540222645, 0.597758412361145, 0.08052447438240051, 0.02684149332344532, 0.1878904402256012, 0.10736597329378128, 0.5905128121376038, 0.007373500149697065, 0.02949400059878826, 0.07373499870300293, 0.007373500149697065, 0.8700730204582214, 0.0053817653097212315, 0.05381765216588974, 0.8072647452354431, 0.02690882608294487, 0.10584138333797455, 0.010119087994098663, 0.0026878826320171356, 0.011542084626853466, 0.589120626449585, 0.17913947999477386, 0.012806970626115799, 0.0009486644994467497, 0.15905942022800446, 0.03257081285119057, 0.002055439632385969, 0.008235756307840347, 0.947111964225769, 0.041178781539201736, 0.9293777346611023, 0.051632095128297806, 0.9276077747344971, 0.0778484046459198, 0.03981288522481918, 0.5232550501823425, 0.12405978888273239, 0.014929831959307194, 0.0035547218285501003, 0.0778484046459198, 0.04443402215838432, 0.08389143645763397, 0.010308693163096905, 0.9521248936653137, 0.03784303367137909, 0.11352909356355667, 0.8325467109680176, 0.03784303367137909, 0.09632207453250885, 0.06126942113041878, 0.56931471824646, 0.08261372148990631, 0.01018126867711544, 0.0017817220650613308, 0.08468633890151978, 0.0335618257522583, 0.04792468622326851, 0.01232660748064518, 0.03828220069408417, 0.03975459188222885, 0.0883435383439064, 0.02650306187570095, 0.578650176525116, 0.070674829185009, 0.005889569409191608, 0.12809813022613525, 0.0220858845859766, 0.001472392352297902, 0.004881901200860739, 0.7371671199798584, 0.014645704068243504, 0.007322852034121752, 0.014645704068243504, 0.20259889960289001, 0.004881901200860739, 0.009763802401721478, 0.003438954707235098, 0.010316863656044006, 0.8184711933135986, 0.15819191932678223, 0.006877909414470196, 0.9100824594497681, 0.04789907485246658, 0.7749062180519104, 0.054699260741472244, 0.16409778594970703, 0.08486519008874893, 0.13837625086307526, 0.3749954402446747, 0.08904574066400528, 0.037624962627887726, 0.011705543845891953, 0.1509179025888443, 0.04598606377840042, 0.062290214002132416, 0.004180551040917635, 0.15041673183441162, 0.07019447535276413, 0.010027782060205936, 0.030083347111940384, 0.16044451296329498, 0.5715835690498352, 0.006478249095380306, 0.04534774273633957, 0.09717373549938202, 0.19434747099876404, 0.012956498190760612, 0.006478249095380306, 0.03239124268293381, 0.5959988832473755, 0.033833689987659454, 0.01812518946826458, 0.03866707161068916, 0.6343816518783569, 0.026583611965179443, 0.008458422496914864, 0.029000304639339447, 0.020541882142424583, 0.16916844248771667, 0.020541882142424583, 0.009300715290009975, 0.906819760799408, 0.009300715290009975, 0.06510500609874725, 0.004650357645004988, 0.10894707590341568, 0.0735507681965828, 0.05056615173816681, 0.3741895258426666, 0.05792123079299927, 0.13055261969566345, 0.04872738569974899, 0.03493661433458328, 0.041372306644916534, 0.07952676713466644, 0.007088800892233849, 0.05198453739285469, 0.27173736691474915, 0.4507295787334442, 0.006498067174106836, 0.04844013974070549, 0.03721620514988899, 0.012996134348213673, 0.012996134348213673, 0.10101541131734848, 0.020296495407819748, 0.8795148134231567, 0.026385445147752762, 0.07103773951530457, 0.002029649680480361, 0.0032907514832913876, 0.007087772712111473, 0.036957670003175735, 0.20934242010116577, 0.2989521324634552, 0.18124447762966156, 0.0058220988139510155, 0.06125860661268234, 0.18656030297279358, 0.009619119577109814, 0.9787701964378357, 0.02584330551326275, 0.2658168375492096, 0.03876495733857155, 0.6645421385765076, 0.0036919007543474436, 0.0411788709461689, 0.0823577418923378, 0.0823577418923378, 0.7823985815048218, 0.9838899970054626, 0.9291069507598877, 0.017530320212244987, 0.05259095877408981, 0.11236720532178879, 0.02918628789484501, 0.09558509290218353, 0.2641358971595764, 0.20868195593357086, 0.021160058677196503, 0.01970074512064457, 0.018241429701447487, 0.09704440832138062, 0.13425692915916443, 0.0028953677974641323, 0.9945588111877441, 0.08926810324192047, 0.8926810622215271, 0.007826630026102066, 0.34325364232063293, 0.038015060126781464, 0.6082409620285034, 0.0011180900037288666, 0.044981300830841064, 0.022490650415420532, 0.8996260166168213, 0.02109657973051071, 0.8649597764015198, 0.08438631892204285, 0.9314343929290771, 0.0993306115269661, 0.00634025176987052, 0.13948553800582886, 0.16484655439853668, 0.16625548899173737, 0.1902075558900833, 0.02395206317305565, 0.009158141911029816, 0.1880941390991211, 0.011976031586527824, 0.9538887143135071, 0.029809022322297096, 0.9760523438453674, 0.9665429592132568, 0.1646878719329834, 0.2999405860900879, 0.0894232764840126, 0.08346172422170639, 0.05551695078611374, 0.03241593763232231, 0.1251925826072693, 0.09463963657617569, 0.047319818288087845, 0.007079342845827341, 0.46928805112838745, 0.1350560039281845, 0.37134090065956116, 0.02423434890806675, 0.9571847915649414, 0.9366934299468994, 0.9250552654266357, 0.016229040920734406, 0.03245808184146881, 0.1437157392501831, 0.814389169216156, 0.007768313400447369, 0.0023902503307908773, 0.05736600607633591, 0.6196723580360413, 0.1487930715084076, 0.011951250955462456, 0.003585375379770994, 0.003585375379770994, 0.13445156812667847, 0.010158563032746315, 0.07111459970474243, 0.14222919940948486, 0.7111459970474243, 0.002066764049232006, 0.004133528098464012, 0.7213006615638733, 0.2624790370464325, 0.002066764049232006, 0.006200292147696018, 0.10999377071857452, 0.07173506915569305, 0.004782337695360184, 0.028694026172161102, 0.05260571464896202, 0.2343345582485199, 0.009564675390720367, 0.02391168847680092, 0.4638867676258087, 0.9603453874588013, 0.9869331121444702, 0.9532006978988647, 0.9374443292617798, 0.12388916313648224, 0.6143370270729065, 0.07663247734308243, 0.0434250682592392, 0.001277207862585783, 0.002554415725171566, 0.02554415725171566, 0.0996222198009491, 0.001277207862585783, 0.011494871228933334, 0.9453771114349365, 0.9057828187942505, 0.06175791844725609, 0.8919902443885803, 0.10323961079120636, 0.0018743887776508927, 0.08059871196746826, 0.5473214983940125, 0.18556448817253113, 0.0037487775553017855, 0.0674779936671257, 0.110588937997818, 0.0037487775553017855, 0.022885823622345924, 0.19392724335193634, 0.05058971792459488, 0.0770890936255455, 0.15297366678714752, 0.3980928957462311, 0.01023839507251978, 0.031919702887535095, 0.024090340360999107, 0.03734003007411957, 0.43834108114242554, 0.012289936654269695, 0.22121886909008026, 0.01065127830952406, 0.01597691886126995, 0.22203819453716278, 0.0024579872842878103, 0.007373962085694075, 0.06964297592639923, 0.00040966455708257854, 0.07891034334897995, 0.043164633214473724, 0.07688700407743454, 0.38308611512184143, 0.15309956669807434, 0.15107621252536774, 0.020907869562506676, 0.04788576439023018, 0.02023342251777649, 0.024280106648802757, 0.9749648571014404, 0.986910879611969, 0.9114998579025269, 0.014182581566274166, 0.5850315093994141, 0.1950104981660843, 0.007091290783137083, 0.1453714668750763, 0.014182581566274166, 0.03900209814310074, 0.8145560026168823, 0.12861411273479462, 0.016230495646595955, 0.05680673569440842, 0.9170230031013489, 0.008115247823297977, 0.03981417417526245, 0.01327139139175415, 0.14598530530929565, 0.7830120921134949, 0.032509975135326385, 0.016254987567663193, 0.9265343546867371, 0.9699452519416809, 0.07611237466335297, 0.034525200724601746, 0.02981721982359886, 0.43470367789268494, 0.02824789099395275, 0.2510923743247986, 0.04001784697175026, 0.04394116625189781, 0.006277309264987707, 0.05492645502090454, 0.9264035820960999, 0.07265910506248474, 0.9629290103912354, 0.04916868731379509, 0.9201568365097046, 0.02809639275074005, 0.925483226776123, 0.05444018915295601, 0.9584402441978455, 0.012090948410332203, 0.012090948410332203, 0.8947302103042603, 0.03627284616231918, 0.04836379364132881, 0.01679176278412342, 0.00876091979444027, 0.004380459897220135, 0.00876091979444027, 0.6139944195747375, 0.08103850483894348, 0.0007300766301341355, 0.2139124572277069, 0.05037528648972511, 0.16710156202316284, 0.04364299401640892, 0.06605426222085953, 0.005897701717913151, 0.28328627347946167, 0.037745293229818344, 0.0029488508589565754, 0.29960325360298157, 0.09357687085866928, 0.0003931801184080541, 0.8863725066184998, 0.000493887928314507, 0.9018394351005554, 0.015804413706064224, 0.07852818816900253, 0.0029633278027176857, 0.03984728455543518, 0.07969456911087036, 0.07969456911087036, 0.757098376750946, 0.14057491719722748, 0.7591045498847961, 0.05622996762394905, 0.028114983811974525, 0.028114983811974525, 0.007822762243449688, 0.05475933849811554, 0.05475933849811554, 0.05475933849811554, 0.02346828766167164, 0.04693657532334328, 0.7588079571723938, 0.018822578713297844, 0.018822578713297844, 0.009411289356648922, 0.023528221994638443, 0.9223062992095947, 0.08972927927970886, 0.8075635433197021, 0.08972927927970886, 0.009323172271251678, 0.19889433681964874, 0.0031077240128070116, 0.018646344542503357, 0.02175406739115715, 0.28591060638427734, 0.05593902990221977, 0.40400412678718567, 0.009043920785188675, 0.013565881177783012, 0.08139529079198837, 0.15826861560344696, 0.08591724932193756, 0.040697645395994186, 0.022609801962971687, 0.0361756831407547, 0.45671799778938293, 0.09043920785188675, 0.0009785903384909034, 0.0009785903384909034, 0.006850132253021002, 0.14874573051929474, 0.3806716501712799, 0.3473995625972748, 0.012721674516797066, 0.02152898721396923, 0.04403656721115112, 0.03522925078868866, 0.03767973557114601, 0.025119824334979057, 0.012559912167489529, 0.07117283344268799, 0.006279956083744764, 0.029306460171937943, 0.6635820269584656, 0.15490557253360748, 0.03788282722234726, 0.9470706582069397, 0.023297617211937904, 0.04659523442387581, 0.04659523442387581, 0.8154166340827942, 0.04659523442387581, 0.04172543063759804, 0.08735043555498123, 0.02339743822813034, 0.0027297011110931635, 0.5319017767906189, 0.11152778565883636, 0.16612181067466736, 0.023787396028637886, 0.008579060435295105, 0.0027297011110931635, 0.034299444407224655, 0.021022239699959755, 0.023235106840729713, 0.023235106840729713, 0.8762954473495483, 0.013277203775942326, 0.0033193009439855814, 0.002212867373600602, 0.004425734747201204, 0.9282832145690918, 0.9790593385696411, 0.04207158833742142, 0.33657270669937134, 0.6142451763153076, 0.10578058660030365, 0.003777878126129508, 0.003777878126129508, 0.5969047546386719, 0.29089662432670593, 0.0067934622056782246, 0.027173848822712898, 0.0067934622056782246, 0.033967312425374985, 0.9171174168586731, 0.005969179794192314, 0.020892128348350525, 0.9714840054512024, 0.0035652152728289366, 0.06892749667167664, 0.9257675409317017, 0.963502049446106, 0.018821710720658302, 0.037643421441316605, 0.9410855174064636, 0.1367606222629547, 0.8433572053909302, 0.9760738611221313, 0.8909270763397217, 0.9630081653594971, 0.02140018157660961, 0.9356680512428284, 0.031717561185359955, 0.015858780592679977, 0.06349006295204163, 0.2767515480518341, 0.06349006295204163, 0.014651552774012089, 0.017907453700900078, 0.026047205552458763, 0.47210559248924255, 0.03255900740623474, 0.006511801388114691, 0.02767515555024147, 0.07582361251115799, 0.07582361251115799, 0.7582361102104187, 0.1281600296497345, 0.20273266732692719, 0.06482948362827301, 0.07007580250501633, 0.27955374121665955, 0.051338955760002136, 0.07869475334882736, 0.0502147451043129, 0.06145685538649559, 0.012741055339574814, 0.04954272881150246, 0.013559062965214252, 0.05840827152132988, 0.05162873864173889, 0.4724811911582947, 0.0448492094874382, 0.019817091524600983, 0.009908545762300491, 0.27170276641845703, 0.007301033940166235, 0.9677208065986633, 0.08250945061445236, 0.15126733481884003, 0.7563366293907166, 0.005794586148113012, 0.002897293074056506, 0.005794586148113012, 0.6982476711273193, 0.002897293074056506, 0.1970159262418747, 0.005794586148113012, 0.0579458624124527, 0.026075638830661774, 0.33515843749046326, 0.3522127568721771, 0.24550925195217133, 0.0008663959451951087, 0.0010031952988356352, 0.00027359870728105307, 0.06247170642018318, 0.00031919850152917206, 0.0006383970030583441, 0.0015959924785420299, 0.22237463295459747, 0.1817450076341629, 0.5215344429016113, 0.002539351349696517, 0.0010882935021072626, 0.0008464505081064999, 0.05876784771680832, 0.00036276449100114405, 0.00979464128613472, 0.0009673719760030508, 0.9716435670852661, 0.7368375062942505, 0.017491690814495087, 0.24269720911979675, 0.07945965975522995, 0.039729829877614975, 0.11918949335813522, 0.7548667788505554, 0.14275318384170532, 0.05900464951992035, 0.7956110835075378, 0.20860812067985535, 0.7562044262886047, 0.9227576851844788, 0.8474000692367554, 0.0932140052318573, 0.05084400251507759, 0.29504692554473877, 0.4886714518070221, 0.1713244765996933, 0.0017153890803456306, 0.0006432709051296115, 0.04009721800684929, 0.0017153890803456306, 0.00021442363504320383, 0.00021442363504320383, 0.06833221763372421, 0.04141346365213394, 0.02070673182606697, 0.03727211803197861, 0.612919270992279, 0.04348413646221161, 0.04348413646221161, 0.02898942492902279, 0.053837504237890244, 0.04969615861773491, 0.08170070499181747, 0.02042517624795437, 0.07148811221122742, 0.8170070648193359, 0.9216975569725037, 0.016625167801976204, 0.9393219947814941, 0.008312583900988102, 0.02493775077164173, 0.00536138704046607, 0.002680693520233035, 0.23053964972496033, 0.18764854967594147, 0.02144554816186428, 0.01072277408093214, 0.17692577838897705, 0.002680693520233035, 0.3618936538696289, 0.02660849317908287, 0.9579057693481445, 0.115143321454525, 0.15352442860603333, 0.6908599138259888, 0.013061387464404106, 0.013061387464404106, 0.052245549857616425, 0.3004119098186493, 0.013061387464404106, 0.5877624154090881, 0.013061387464404106, 0.005749896168708801, 0.022999584674835205, 0.03449937701225281, 0.07858191430568695, 0.01341642439365387, 0.1399141401052475, 0.6248220801353455, 0.055582329630851746, 0.022999584674835205, 0.032800476998090744, 0.032800476998090744, 0.8856128454208374, 0.9640008211135864, 0.020510654896497726, 0.0017153696389868855, 0.0017153696389868855, 0.132083460688591, 0.20069825649261475, 0.003430739277973771, 0.0566071979701519, 0.499172568321228, 0.006861478555947542, 0.0017153696389868855, 0.09606070071458817, 0.08161549270153046, 0.08161549270153046, 0.05441032722592354, 0.7617445588111877, 0.9813246130943298, 0.27029383182525635, 0.2922573983669281, 0.14542020857334137, 0.10999505966901779, 0.03223687782883644, 0.007085028104484081, 0.054200466722249985, 0.041624538600444794, 0.0341852605342865, 0.012753050774335861, 0.7602311372756958, 0.06714975088834763, 0.061154238879680634, 0.0035973081830888987, 0.031176671385765076, 0.058756034821271896, 0.0011991027276962996, 0.008393718861043453, 0.007194616366177797, 0.8624716997146606, 0.040746696293354034, 0.07470227777957916, 0.013582231476902962, 0.24532301723957062, 0.06249997019767761, 0.44968798756599426, 0.06349202990531921, 0.01998298428952694, 0.01899092085659504, 0.057114485651254654, 0.052154168486595154, 0.01899092085659504, 0.011904756538569927, 0.04779394343495369, 0.05462165176868439, 0.7134953141212463, 0.1826411485671997, 0.05657421052455902, 0.01885806955397129, 0.9240454435348511, 0.2558109760284424, 0.7209218740463257, 0.0638468861579895, 0.02487286739051342, 0.06149669736623764, 0.13807378709316254, 0.38778170943260193, 0.08539031445980072, 0.06365104019641876, 0.03153174743056297, 0.1143760234117508, 0.029181553050875664, 0.0254264734685421, 0.0368245467543602, 0.3309825360774994, 0.304679274559021, 0.0789097398519516, 0.005260649602860212, 0.0736490935087204, 0.034632608294487, 0.0907462015748024, 0.0184122733771801, 0.05620107054710388, 0.05620107054710388, 0.05620107054710388, 0.7868149876594543, 0.026103949174284935, 0.003981958609074354, 0.23139603435993195, 0.5043814182281494, 0.03937714546918869, 0.009291236288845539, 0.014600514434278011, 0.010618556290864944, 0.14777490496635437, 0.012830754742026329, 0.02308068610727787, 0.03692909702658653, 0.14463895559310913, 0.09693887829780579, 0.060009781271219254, 0.3123586177825928, 0.006154849659651518, 0.040006522089242935, 0.06308721005916595, 0.2184971570968628, 0.897948145866394, 0.4644223153591156, 0.004042360465973616, 0.5043967962265015, 0.013025384396314621, 0.001796604716219008, 0.002694907132536173, 0.0013474535662680864, 0.0067372675985097885, 0.001796604716219008, 0.03810630366206169, 0.8891470432281494, 0.012702100910246372, 0.06351050734519958, 0.10051096230745316, 0.03246316686272621, 0.09052229672670364, 0.0224745012819767, 0.5631111264228821, 0.04182754456996918, 0.014983001165091991, 0.023098792880773544, 0.10737816989421844, 0.0031214584596455097, 0.0005964975571259856, 0.0005964975571259856, 0.0023859902285039425, 0.7766397595405579, 0.13838742673397064, 0.0029824876692146063, 0.001789492554962635, 0.07575518637895584, 0.0011929951142519712, 0.021524609997868538, 0.9470828175544739, 0.0015487164491787553, 0.010841014795005322, 0.170358806848526, 0.5513430833816528, 0.011615373194217682, 0.005420507397502661, 0.15177421271800995, 0.09679477661848068, 0.9066998362541199, 0.03777915984392166, 0.05037221312522888, 0.05703745409846306, 0.22814981639385223, 0.7129681706428528, 0.0939599946141243, 0.0939599946141243, 0.7516799569129944, 0.020102210342884064, 0.04020442068576813, 0.04020442068576813, 0.020102210342884064, 0.8543439507484436, 0.010051105171442032, 0.9543707966804504, 0.9285054206848145, 0.04421454295516014, 0.9231014251708984, 0.013187162578105927, 0.052748650312423706, 0.09978219121694565, 0.8481485843658447, 0.02436847612261772, 0.04873695224523544, 0.13402661681175232, 0.7676069736480713, 0.01218423806130886, 0.005520225036889315, 0.7452303767204285, 0.03864157572388649, 0.005520225036889315, 0.05520224943757057, 0.1435258537530899, 0.005520225036889315, 0.02394934743642807, 0.026344282552599907, 0.022751880809664726, 0.18021884560585022, 0.22632133960723877, 0.3101440370082855, 0.06705817580223083, 0.02394934743642807, 0.06765690445899963, 0.05149109661579132, 0.09036514908075333, 0.05861523002386093, 0.009769205003976822, 0.004884602501988411, 0.1367688775062561, 0.10013435035943985, 0.034192219376564026, 0.5055563449859619, 0.0561729297041893, 0.0024423012509942055, 0.10474389046430588, 0.05446682125329971, 0.09869202226400375, 0.21181541681289673, 0.2453334629535675, 0.06098422035574913, 0.03398357331752777, 0.005120812449604273, 0.1587451845407486, 0.02606959082186222, 0.9620255827903748, 0.013321062549948692, 0.013321062549948692, 0.004440354183316231, 0.8214655518531799, 0.07548601925373077, 0.013321062549948692, 0.05772460624575615, 0.8411208391189575, 0.022939659655094147, 0.12999139726161957, 0.023438014090061188, 0.09375205636024475, 0.023438014090061188, 0.07031404227018356, 0.05859503522515297, 0.7265784740447998, 0.011719007045030594, 0.07250265032052994, 0.9183669090270996, 0.3131010830402374, 0.6575123071670532, 0.0013002542546018958, 0.7944554090499878, 0.15603052079677582, 0.041608136147260666, 0.0039007628802210093, 0.0026005085092037916, 0.12292855232954025, 0.06289367377758026, 0.01143521349877119, 0.06861128658056259, 0.06575247645378113, 0.005717606749385595, 0.025729231536388397, 0.491714209318161, 0.11149333417415619, 0.034305643290281296, 0.9781040549278259, 0.02437848411500454, 0.02437848411500454, 0.9385716319084167, 0.9655994772911072, 0.01755635440349579, 0.01755635440349579, 0.8977235555648804, 0.09771140664815903, 0.9677656888961792, 0.22932970523834229, 0.25310322642326355, 0.1534242033958435, 0.1303299069404602, 0.09033942967653275, 0.014518837444484234, 0.009084886871278286, 0.05136781558394432, 0.05790553614497185, 0.010698090307414532, 0.0014756812015548348, 0.007378405891358852, 0.0029513624031096697, 0.622737467288971, 0.07083269953727722, 0.026562262326478958, 0.011805449612438679, 0.04574611783027649, 0.21102240681648254, 0.039491139352321625, 0.10719023644924164, 0.10436944663524628, 0.2200220674276352, 0.014103978872299194, 0.062057506293058395, 0.07616148889064789, 0.011283183470368385, 0.016924774274230003, 0.3497786819934845, 0.021471086889505386, 0.0026838858611881733, 0.05396023020148277, 0.17388755083084106, 0.32757532596588135, 0.08602560311555862, 0.004802742972970009, 0.026415087282657623, 0.2969225347042084, 0.006215314846485853, 0.9704228639602661, 0.03755297139286995, 0.042673833668231964, 0.5718293786048889, 0.07339899241924286, 0.08364070951938629, 0.07339899241924286, 0.04950164631009102, 0.054622504860162735, 0.003413906553760171, 0.008534766733646393, 0.5299909114837646, 0.06284008920192719, 0.2976011633872986, 0.0367555245757103, 0.03438419848680496, 0.0047426484525203705, 0.020156254991889, 0.0011856621131300926, 0.011856620199978352, 0.45144784450531006, 0.2485269010066986, 0.08506281673908234, 0.07327700406312943, 0.01691007800400257, 0.01691007800400257, 0.020497063174843788, 0.035357434302568436, 0.02254677005112171, 0.029720742255449295, 0.2226313203573227, 0.4694490432739258, 0.12442876398563385, 0.0049538384191691875, 0.0002914022479671985, 0.0014570113271474838, 0.17047032713890076, 0.0002914022479671985, 0.0008742067730054259, 0.005245240870863199, 0.6949095726013184, 0.29723870754241943, 0.007101265713572502, 0.10473507642745972, 0.18925811350345612, 0.05144880712032318, 0.6513786911964417, 0.0018374574137851596, 0.9689878225326538, 0.964748203754425, 0.16544491052627563, 0.04389354959130287, 0.27011415362358093, 0.003376426873728633, 0.5132169127464294, 0.003376426873728633, 0.9589513540267944, 0.9465011358261108, 0.3343857228755951, 0.6130405068397522, 0.9522547721862793, 0.013225761242210865, 0.02645152248442173, 0.04726991429924965, 0.07563186436891556, 0.02836194820702076, 0.10399381071329117, 0.08508584648370743, 0.009453983046114445, 0.6428708434104919, 0.007886772975325584, 0.005257848650217056, 0.1314462125301361, 0.060465257614851, 0.06572310626506805, 0.060465257614851, 0.010515697300434113, 0.6572310328483582, 0.002628924325108528, 0.014289109036326408, 0.28578218817710876, 0.7001663446426392, 0.03693145513534546, 0.11079435795545578, 0.03693145513534546, 0.8124919533729553, 0.965478241443634, 0.9759448170661926, 0.003030224470421672, 0.03939291834831238, 0.05100877583026886, 0.4151407480239868, 0.06868508458137512, 0.3025174140930176, 0.003030224470421672, 0.04797855392098427, 0.012120897881686687, 0.05656418949365616, 0.286480575799942, 0.09916635602712631, 0.05509242042899132, 0.1481374055147171, 0.10069670528173447, 0.0480528324842453, 0.0725383535027504, 0.039482902735471725, 0.13191574811935425, 0.018364140763878822, 0.09074147045612335, 0.024103201925754547, 0.04324398189783096, 0.0035445885732769966, 0.11342683434486389, 0.4232238829135895, 0.019140778109431267, 0.2764779031276703, 0.0021267530974000692, 0.0035445885732769966, 0.015049205161631107, 0.9180015325546265, 0.06019682064652443, 0.1632511019706726, 0.09069506078958511, 0.027208518236875534, 0.04534753039479256, 0.6711434125900269, 0.9282597899436951, 0.1487104743719101, 0.8485245108604431, 0.9310802817344666, 0.06421243399381638, 0.015274600125849247, 0.06873570382595062, 0.022911900654435158, 0.8859267830848694, 0.976037323474884, 0.20506691932678223, 0.22523744404315948, 0.12564551830291748, 0.007563943974673748, 0.05925089493393898, 0.03613884374499321, 0.23910467326641083, 0.05925089493393898, 0.0033617529552429914, 0.03950059413909912, 0.9377446174621582, 0.9638340473175049, 0.13390831649303436, 0.036460187286138535, 0.046735331416130066, 0.2953275144100189, 0.0858471691608429, 0.21345782279968262, 0.0831955149769783, 0.031156886368989944, 0.05038134753704071, 0.024196306243538857, 0.01466235239058733, 0.9677152633666992, 0.9619508981704712, 0.004622307606041431, 0.0739569216966629, 0.9198392033576965, 0.9458252787590027, 0.04503929987549782, 0.015013099648058414, 0.05944140627980232, 0.8916211128234863, 0.16854430735111237, 0.21925042569637299, 0.14890460669994354, 0.05320572108030319, 0.09355636686086655, 0.07570210099220276, 0.06784622371196747, 0.13676370680332184, 0.022853463888168335, 0.013212159276008606, 0.8802863955497742, 0.016301600262522697, 0.016301600262522697, 0.04075399786233902, 0.04075399786233902, 0.9528895020484924, 0.008823051117360592, 0.017646102234721184, 0.971396267414093, 0.8733347654342651, 0.11644463241100311, 0.009815841913223267, 0.019631683826446533, 0.039263367652893066, 0.9226891398429871, 0.038195520639419556, 0.009548880159854889, 0.9453391432762146, 0.9649057984352112, 0.028671925887465477, 0.11381885409355164, 0.04952423274517059, 0.10773693025112152, 0.141621932387352, 0.33016157150268555, 0.020852308720350266, 0.19114616513252258, 0.010426154360175133, 0.0060819233767688274, 0.9295987486839294, 0.04498058557510376, 0.06857006251811981, 0.01870092563331127, 0.08588573336601257, 0.2988685071468353, 0.11532237380743027, 0.04709862545132637, 0.006579955108463764, 0.0980067029595375, 0.15410947799682617, 0.10631822794675827, 0.992553174495697, 0.04034971073269844, 0.9028247594833374, 0.025218568742275238, 0.030262282118201256, 0.9716018438339233, 0.9749537110328674, 0.9813647270202637, 0.9716488122940063, 0.14860878884792328, 0.07338705658912659, 0.20915311574935913, 0.4329836368560791, 0.030272161588072777, 0.01009072083979845, 0.0403628833591938, 0.011925396509468555, 0.033941514790058136, 0.01009072083979845, 0.03683372586965561, 0.8333631157875061, 0.013812648132443428, 0.013812648132443428, 0.009208431467413902, 0.09208431839942932, 0.953748881816864, 0.026130106300115585, 0.013065053150057793, 0.2989904582500458, 0.10626942664384842, 0.3929096758365631, 0.0729525238275528, 0.015078769996762276, 0.006749544758349657, 0.041358914226293564, 0.0028721466660499573, 0.059453435242176056, 0.003302968805655837, 0.007246091496199369, 0.31701651215553284, 0.09419918805360794, 0.5072264075279236, 0.07246091216802597, 0.8907055854797363, 0.23350967466831207, 0.38797131180763245, 0.1667277216911316, 0.023623546585440636, 0.023623546585440636, 0.0068144844844937325, 0.13901548087596893, 0.007268783636391163, 0.00954027846455574, 0.0013628968736156821, 0.9916943907737732, 0.18064749240875244, 0.782805860042572, 0.03649159148335457, 0.766323447227478, 0.14596636593341827, 0.065505750477314, 0.762248694896698, 0.041685476899147034, 0.026797806844115257, 0.032752875238657, 0.03870794177055359, 0.029775340110063553, 0.9679116606712341, 0.127127543091774, 0.03887605667114258, 0.08910278230905533, 0.26361939311027527, 0.27638888359069824, 0.05476699769496918, 0.059307269752025604, 0.021566279232501984, 0.05675336718559265, 0.012201974168419838, 0.05233629047870636, 0.9158850908279419, 0.13723523914813995, 0.04574507847428322, 0.8005388379096985, 0.03847038745880127, 0.03847038745880127, 0.13464635610580444, 0.019235193729400635, 0.7501725554466248, 0.9790160655975342, 0.21908557415008545, 0.4755239188671112, 0.18014775216579437, 0.00027566603966988623, 6.891650991747156e-05, 0.00013783301983494312, 0.12425646185874939, 0.00020674952247645706, 6.891650991747156e-05, 0.00027566603966988623, 0.03249630331993103, 0.04332840442657471, 0.8810108304023743, 0.036107003688812256, 0.003610700136050582, 0.962036669254303, 0.642724335193634, 0.13876217603683472, 0.20089450478553772, 0.007593950256705284, 0.008284308947622776, 0.0013807181967422366, 0.8744880557060242, 0.04663936421275139, 0.06995904445648193, 0.9653517603874207, 0.2858257293701172, 0.012077143415808678, 0.009909451007843018, 0.006812747567892075, 0.024773627519607544, 0.13749362528324127, 0.0006193406879901886, 0.5177688002586365, 0.0046450551599264145, 0.0003096703439950943, 0.8901238441467285, 0.10596712678670883, 0.9851711988449097, 0.03064625896513462, 0.9500340819358826, 0.9484035968780518, 0.06726576387882233, 0.9080877900123596, 0.01356943603605032, 0.02713887207210064, 0.9362910985946655, 0.09709110110998154, 0.11072375625371933, 0.06749826669692993, 0.05519562587141991, 0.12535391747951508, 0.3564440608024597, 0.06450573354959488, 0.08179593086242676, 0.009642609395086765, 0.031587857753038406, 0.9411415457725525, 0.044816263020038605, 0.1223537027835846, 0.5457335114479065, 0.16049927473068237, 0.026809856295585632, 0.00899659562855959, 0.003778570331633091, 0.02537040039896965, 0.011155778542160988, 0.09392446279525757, 0.001439455314539373, 0.8404092788696289, 0.07003410905599594, 0.0633220374584198, 0.07393890619277954, 0.15015284717082977, 0.1797284185886383, 0.08493494987487793, 0.08038485795259476, 0.22257506847381592, 0.11678555607795715, 0.016683651134371758, 0.011754389852285385, 0.948356568813324, 0.07893553376197815, 0.9133968949317932, 0.0033762198872864246, 0.0641481801867485, 0.17893965542316437, 0.020257318392395973, 0.027009759098291397, 0.0033762198872864246, 0.6786202192306519, 0.0033762198872864246, 0.016881098970770836, 0.0033762198872864246, 0.05136223882436752, 0.9021888971328735, 0.026797689497470856, 0.002233140869066119, 0.002233140869066119, 0.013398844748735428, 0.0186721533536911, 0.9460557103157043, 0.03112025372684002, 0.0451463982462883, 0.1632215976715088, 0.06945599615573883, 0.017363999038934708, 0.02430959977209568, 0.670250415802002, 0.013891199603676796, 0.852910578250885, 0.04610327258706093, 0.023051636293530464, 0.06915491074323654, 0.6542907357215881, 0.19727188348770142, 0.08013109117746353, 0.06756816804409027, 0.0006790770567022264, 0.20760735869407654, 0.7785276174545288, 0.14085128903388977, 0.07042564451694489, 0.7746821045875549, 0.04129009321331978, 0.08258018642663956, 0.8258019089698792, 0.18175740540027618, 0.045439351350069046, 0.7573224902153015, 0.006790859624743462, 0.001821937970817089, 0.022360147908329964, 0.48132288455963135, 0.1409517377614975, 0.1964380294084549, 0.022691408172249794, 0.014244241639971733, 0.10136599838733673, 0.012256673537194729, 0.014105290174484253, 0.04074861481785774, 0.04231587052345276, 0.24449169635772705, 0.43883126974105835, 0.0062690177001059055, 0.04231587052345276, 0.17239798605442047, 0.05434108525514603, 0.8694573640823364, 0.9625704884529114, 0.16802260279655457, 0.15773549675941467, 0.5657903552055359, 0.027432261034846306, 0.03429032489657402, 0.044577423483133316, 0.3531884253025055, 0.45316082239151, 0.14028097689151764, 0.0005327125545591116, 0.0063925511203706264, 0.005149554926902056, 0.03533660247921944, 0.0040841298177838326, 0.0007102834060788155, 0.001242995960637927, 0.06620959937572479, 0.15145985782146454, 0.15145985782146454, 0.041543275117874146, 0.11900417506694794, 0.07702815532684326, 0.1410740464925766, 0.08308655023574829, 0.1354483962059021, 0.03375391289591789, 0.01625898852944374, 0.02415621094405651, 0.06642957776784897, 0.49102142453193665, 0.06782320886850357, 0.12542647123336792, 0.07061046361923218, 0.020904412493109703, 0.0775785967707634, 0.0390215702354908, 0.9850538372993469, 0.5034472346305847, 0.16958223283290863, 0.06022096052765846, 0.037577878683805466, 0.04095025360584259, 0.029869597405195236, 0.051067374646663666, 0.05540328472852707, 0.045767929404973984, 0.006744747515767813, 0.0013047709362581372, 0.0019571564625948668, 0.1141674593091011, 0.8820251822471619, 0.9914369583129883, 0.011978150345385075, 0.011978150345385075, 0.9223175644874573, 0.0359344519674778, 0.011978150345385075, 0.021813053637742996, 0.8842676877975464, 0.07215087115764618, 0.015101345255970955, 0.0016779272118583322, 0.0016779272118583322, 0.0016779272118583322, 0.9781366586685181, 0.9586626291275024, 0.027390360832214355, 0.11435136198997498, 0.6309437155723572, 0.05803762748837471, 0.029880758374929428, 0.002873149700462818, 0.0034477796871215105, 0.07757504284381866, 0.06435855478048325, 0.014365749433636665, 0.004022409673780203, 0.4381081461906433, 0.46648481488227844, 0.020071305334568024, 0.014534393325448036, 0.013842279091477394, 0.011765937320888042, 0.01591862179338932, 0.0055369115434587, 0.008305368013679981, 0.004844797775149345, 0.026181349530816078, 0.006233654450625181, 0.4874717891216278, 0.08477769792079926, 0.006233654450625181, 0.04363558068871498, 0.022441156208515167, 0.1371403932571411, 0.16581520438194275, 0.018700962886214256, 0.018762292340397835, 0.07504916936159134, 0.7973974347114563, 0.07504916936159134, 0.009381146170198917, 0.009381146170198917, 0.018762292340397835, 0.16099950671195984, 0.04189368709921837, 0.15141844749450684, 0.2188616394996643, 0.05128689110279083, 0.03663349524140358, 0.07232766598463058, 0.17339853942394257, 0.08829611539840698, 0.004696602001786232, 0.09088452905416489, 0.01082445029169321, 0.050037551671266556, 0.3880463242530823, 0.2320108562707901, 0.06698904931545258, 0.014704912900924683, 0.05759424343705177, 0.07372879981994629, 0.01511338260024786, 0.3682589530944824, 0.3236890435218811, 0.06815483421087265, 0.05515527352690697, 0.03082752600312233, 0.04679841548204422, 0.08078297972679138, 0.0053855315782129765, 0.0022284958977252245, 0.018570799380540848, 0.08439430594444275, 0.06812552362680435, 0.1589595526456833, 0.05524607002735138, 0.03728262335062027, 0.24470959603786469, 0.2175949513912201, 0.018980246037244797, 0.08066604286432266, 0.033893294632434845, 0.9712865352630615, 0.9811795353889465, 0.3842734694480896, 0.19936980307102203, 0.18542969226837158, 0.08022136241197586, 0.037611979991197586, 0.01341406349092722, 0.02525000087916851, 0.04103125259280205, 0.023145833984017372, 0.010257813148200512, 0.9464864730834961, 0.1036180704832077, 0.8289445638656616, 0.05180903524160385, 0.9576882123947144, 0.008379139937460423, 0.025137420743703842, 0.05865398049354553, 0.016758279874920845, 0.1927202194929123, 0.7038477659225464, 0.9680467247962952, 0.9381371140480042, 0.017634330317378044, 0.8993508219718933, 0.017634330317378044, 0.05290298908948898, 0.48980075120925903, 0.2460610419511795, 0.1456107348203659, 0.03524201735854149, 0.012239743024110794, 0.012028712779283524, 0.024057425558567047, 0.009707381948828697, 0.013083863072097301, 0.012239743024110794, 0.09575388580560684, 0.4944301247596741, 0.04877183958888054, 0.06174783408641815, 0.0787508562207222, 0.03848053514957428, 0.04027032479643822, 0.08456768095493317, 0.05235142260789871, 0.004921928513795137, 0.9656171202659607, 0.15271766483783722, 0.7692445516586304, 0.07353072613477707, 0.0037708065938204527, 0.9654877781867981, 0.9219002723693848, 0.04190455749630928, 0.1710493117570877, 0.12095629423856735, 0.4394338130950928, 0.05050026997923851, 0.049685750156641006, 0.03828246518969536, 0.06231081858277321, 0.03868972510099411, 0.02443561516702175, 0.004887123126536608, 0.7325990796089172, 0.0703626200556755, 0.09312700480222702, 0.02690335549414158, 0.03518131002783775, 0.03725080192089081, 0.0020694888662546873, 0.002969076856970787, 0.2790932357311249, 0.6294443011283875, 0.08907230943441391, 0.08283570408821106, 0.006181769073009491, 0.03585426136851311, 0.011745361611247063, 0.08716294169425964, 0.0210180152207613, 0.016690775752067566, 0.611376941204071, 0.12301720678806305, 0.004327238537371159, 0.26351869106292725, 0.6851485967636108, 0.8066868185997009, 0.1022171676158905, 0.06354039907455444, 0.013813130557537079, 0.013813130557537079, 0.051688965409994125, 0.827023446559906, 0.051688965409994125, 0.9458361864089966, 0.9634965062141418, 0.2514931261539459, 0.24906431138515472, 0.1706797182559967, 0.03753628954291344, 0.04879717528820038, 0.007065654266625643, 0.02428818680346012, 0.07176055014133453, 0.11790810525417328, 0.02097616158425808, 0.007524948101490736, 0.16304053366184235, 0.08720086514949799, 0.018295951187610626, 0.027148831635713577, 0.012098935432732105, 0.56569904088974, 0.011361195705831051, 0.08424990624189377, 0.023312583565711975, 0.981280505657196, 0.05082400143146515, 0.05082400143146515, 0.025412000715732574, 0.8640080094337463, 0.01776719093322754, 0.9061267375946045, 0.03553438186645508, 0.08222127705812454, 0.31957703828811646, 0.03826650604605675, 0.035422373563051224, 0.05403851345181465, 0.0031026897486299276, 0.08041137456893921, 0.2290819138288498, 0.1520317941904068, 0.00568826450034976, 0.1387636959552765, 0.025229763239622116, 0.07884301245212555, 0.07253556698560715, 0.018922321498394012, 0.07568928599357605, 0.006307440809905529, 0.025229763239622116, 0.0031537204049527645, 0.5519010424613953, 0.8467942476272583, 0.09408824890851974, 0.9711982011795044, 0.36408740282058716, 0.006654338911175728, 0.2661735713481903, 0.003802479477599263, 0.08175330609083176, 0.27758100628852844, 0.03338368237018585, 0.8846675753593445, 0.05007552355527878, 0.016691841185092926, 0.903042197227478, 0.04515210911631584, 0.02257605455815792, 0.00951450876891613, 0.07611607015132904, 0.837276816368103, 0.0475725457072258, 0.01902901753783226, 0.02867353893816471, 0.02867353893816471, 0.860206127166748, 0.0764627680182457, 0.08575041592121124, 0.6322426795959473, 0.07508715242147446, 0.03287839516997337, 0.0013329079374670982, 0.005775934550911188, 0.018660711124539375, 0.0017772106220945716, 0.0031101186759769917, 0.14350976049900055, 0.9504860639572144, 0.9655023217201233, 0.0007592811598442495, 0.0007592811598442495, 0.0022778434213250875, 0.30219390988349915, 0.4715135991573334, 0.15717120468616486, 0.0007592811598442495, 0.011389217339456081, 0.045556869357824326, 0.00835209246724844, 0.9462812542915344, 0.059862129390239716, 0.1316966861486435, 0.059862129390239716, 0.04788970202207565, 0.6944007277488708, 0.044941388070583344, 0.013482416979968548, 0.1213417500257492, 0.7280504703521729, 0.013482416979968548, 0.022470694035291672, 0.058423805981874466, 0.0383528470993042, 0.9204683303833008, 0.0191764235496521, 0.06783139705657959, 0.004845099523663521, 0.009690199047327042, 0.004845099523663521, 0.16957849264144897, 0.019380398094654083, 0.014535298570990562, 0.6928492784500122, 0.014535298570990562, 0.004845099523663521, 0.07395527511835098, 0.09860704094171524, 0.6902492642402649, 0.09860704094171524, 0.008243266493082047, 0.021066125482320786, 0.1263967603445053, 0.10075103491544724, 0.04304816946387291, 0.04488000646233559, 0.43689313530921936, 0.003663673996925354, 0.17768819630146027, 0.0357208214700222, 0.0033791332971304655, 0.03717046603560448, 0.027033066377043724, 0.010137399658560753, 0.02365393377840519, 0.02365393377840519, 0.7298927903175354, 0.1081322655081749, 0.03717046603560448, 0.06806644797325134, 0.8848638534545898, 0.9600447416305542, 0.06434927880764008, 0.6099774837493896, 0.017427928745746613, 0.07373354583978653, 0.005362439900636673, 0.038877688348293304, 0.14478586614131927, 0.02815280854701996, 0.0013406099751591682, 0.01608731970191002, 0.03452856093645096, 0.061384107917547226, 0.15346026420593262, 0.20845019817352295, 0.06266294419765472, 0.06905712187290192, 0.020461369305849075, 0.015346026979386806, 0.02557671070098877, 0.3478432595729828, 0.09701251238584518, 0.25870001316070557, 0.032337501645088196, 0.6144125461578369, 0.019960647448897362, 0.0049901618622243404, 0.03881236910820007, 0.01552494801580906, 0.5738686323165894, 0.057664092630147934, 0.01774279773235321, 0.12309066206216812, 0.1325165182352066, 0.016079410910606384, 0.8751369714736938, 0.02243940904736519, 0.08975763618946075, 0.04286818951368332, 0.9431001543998718, 0.04824581742286682, 0.9166705012321472, 0.01608193852007389, 0.9135635495185852, 0.022282037883996964, 0.022282037883996964, 0.022282037883996964, 0.7731513381004333, 0.21261662244796753, 0.002011046512052417, 0.024132559075951576, 0.1106075569987297, 0.002011046512052417, 0.006033139768987894, 0.006033139768987894, 0.020110465586185455, 0.8305622339248657, 0.03584158793091774, 0.0298679918050766, 0.8960397243499756, 0.01792079396545887, 0.011947196908295155, 0.09513907879590988, 0.7429909110069275, 0.1359129697084427, 0.013591296970844269, 0.13020336627960205, 0.13609658181667328, 0.026335334405303, 0.2530401945114136, 0.18176905810832977, 0.04456748813390732, 0.011233953759074211, 0.14291061460971832, 0.06814037263393402, 0.0057090581394732, 0.04627712443470955, 0.7250083088874817, 0.15425708889961243, 0.04627712443470955, 0.015425709076225758, 0.015425709076225758, 0.19978906214237213, 0.0340549536049366, 0.2691963016986847, 0.06681257486343384, 0.11870583891868591, 0.11059751361608505, 0.08756987750530243, 0.028865626081824303, 0.07394789904356003, 0.01037865225225687, 0.8556450009346008, 0.0855645015835762, 0.9598459005355835, 0.15904249250888824, 0.057833634316921234, 0.6274949312210083, 0.08675045520067215, 0.0086750453338027, 0.023133454844355583, 0.0347001813352108, 0.002891681855544448, 0.012360340915620327, 0.46969297528266907, 0.05768159404397011, 0.004120113793760538, 0.004120113793760538, 0.44909238815307617, 0.963304877281189, 0.852333128452301, 0.03899563476443291, 0.10584528744220734, 0.9739163517951965, 0.9649254083633423, 0.05694989860057831, 0.782311737537384, 0.12588924169540405, 0.03297099471092224, 0.9444525241851807, 0.023035427555441856, 0.045479048043489456, 0.10429861396551132, 0.4238647222518921, 0.12976688146591187, 0.04729820787906647, 0.03941517323255539, 0.04062794893980026, 0.041840724647045135, 0.10126667469739914, 0.025468265637755394, 0.1109100952744484, 0.0554550476372242, 0.1109100952744484, 0.6654605865478516, 0.017356785014271736, 0.07636985182762146, 0.23952363431453705, 0.6560865044593811, 0.003471357049420476, 0.006942714098840952, 0.9620377421379089, 0.8374707698822021, 0.006442083045840263, 0.15460999310016632, 0.009832692332565784, 0.03933076933026314, 0.02949807606637478, 0.04916346073150635, 0.8554442524909973, 0.13310715556144714, 0.8252643346786499, 0.005407197866588831, 0.013517994433641434, 0.010814395733177662, 0.7876484394073486, 0.1441919356584549, 0.0027035989332944155, 0.009011995978653431, 0.01532039325684309, 0.009913195855915546, 0.28940892219543457, 0.3221587836742401, 0.07226324081420898, 0.02954605408012867, 0.06229589506983757, 0.04556499794125557, 0.05268453061580658, 0.06229589506983757, 0.033105820417404175, 0.030613983049988747, 0.07091844081878662, 0.1595664918422699, 0.008864805102348328, 0.12410727888345718, 0.6294012069702148, 0.003686706069856882, 0.025806942954659462, 0.022120235487818718, 0.1806485950946808, 0.6488602757453918, 0.007373412139713764, 0.036867059767246246, 0.07373411953449249, 0.021819960325956345, 0.6341865658760071, 0.02393156848847866, 0.0035193483345210552, 0.023227699100971222, 0.014077393338084221, 0.22805377840995789, 0.022875765338540077, 0.022523829713463783, 0.005630957428365946, 0.0070449537597596645, 0.9862935543060303, 0.0070449537597596645, 0.012370176613330841, 0.9277632236480713, 0.03711052983999252, 0.027888037264347076, 0.002324003027752042, 0.04880406707525253, 0.10922814905643463, 0.1208481639623642, 0.5902968049049377, 0.07669210433959961, 0.02324003167450428, 0.1317247897386551, 0.29028239846229553, 0.2890627384185791, 0.015855761244893074, 0.03232135996222496, 0.012806576676666737, 0.007927880622446537, 0.03780989348888397, 0.17258386313915253, 0.0097573921084404, 0.971621036529541, 0.25118350982666016, 0.12936727702617645, 0.19055300951004028, 0.13547475636005402, 0.012770161032676697, 0.05119168758392334, 0.056632887572050095, 0.08328365534543991, 0.03509018197655678, 0.0545230358839035, 0.2535504102706909, 0.3104255795478821, 0.2657069265842438, 0.004775778390467167, 0.0004341616586316377, 0.0034732932690531015, 0.1562981903553009, 0.00217080838046968, 0.00217080838046968, 0.0017366466345265508, 0.01089442614465952, 0.0018157376907765865, 0.11620721220970154, 0.014525901526212692, 0.7226635813713074, 0.06899803131818771, 0.01089442614465952, 0.012710163369774818, 0.04357770457863808, 0.0018157376907765865, 0.08585768193006516, 0.8585768342018127, 0.9723420143127441, 0.006271788384765387, 0.16306650638580322, 0.03135894238948822, 0.7871094346046448, 0.009407682344317436, 0.03819453716278076, 0.954863429069519, 0.06873494386672974, 0.15062618255615234, 0.057995107024908066, 0.2043253481388092, 0.21721315383911133, 0.1261930614709854, 0.07464185357093811, 0.01691523939371109, 0.049134742468595505, 0.03436747193336487, 0.003917917143553495, 0.0009794792858883739, 0.038199689239263535, 0.03232281655073166, 0.7013071179389954, 0.17728574573993683, 0.0009794792858883739, 0.010774271562695503, 0.012733230367302895, 0.021548543125391006, 0.07751503586769104, 0.0174294151365757, 0.0911833643913269, 0.18475180864334106, 0.16512078046798706, 0.10109061002731323, 0.02394251339137554, 0.031648147851228714, 0.2368565797805786, 0.07054326683282852, 0.9394448399543762, 0.016427984461188316, 0.03285596892237663, 0.11499588936567307, 0.06571193784475327, 0.03285596892237663, 0.7392593026161194, 0.0726061761379242, 0.7986679673194885, 0.18810516595840454, 0.09027368575334549, 0.036109473556280136, 0.09279295057058334, 0.011756572872400284, 0.019314369186758995, 0.3686525225639343, 0.0516449436545372, 0.03988837078213692, 0.10203025490045547, 0.9460525512695312, 0.032412540167570114, 0.9399636387825012, 0.008283334784209728, 0.2319333702325821, 0.012425001710653305, 0.002070833696052432, 0.7434293031692505, 0.05787433683872223, 0.8681150078773499, 0.05787433683872223, 0.01632223092019558, 0.09249264001846313, 0.059848181903362274, 0.7889078259468079, 0.0380852073431015, 0.18939080834388733, 0.1172180026769638, 0.11085474491119385, 0.1471923291683197, 0.091262586414814, 0.10901274532079697, 0.06731662899255753, 0.12140436470508575, 0.022941237315535545, 0.02344360016286373, 0.9101972579956055, 0.04790512099862099, 0.012654177844524384, 0.9743716716766357, 0.06076968461275101, 0.012153936550021172, 0.04006297513842583, 0.4316898286342621, 0.16070204973220825, 0.12784141302108765, 0.022507289424538612, 0.0328606441617012, 0.07877551764249802, 0.0328606441617012, 0.9553347826004028, 0.9655041694641113, 0.1583544909954071, 0.15480095148086548, 0.3546874225139618, 0.09861065447330475, 0.02642943151295185, 0.02887248806655407, 0.08972681313753128, 0.026207335293293, 0.04730646312236786, 0.014880436472594738, 0.0016367450589314103, 0.0008183725294657052, 0.0016367450589314103, 0.009820470586419106, 0.18822568655014038, 0.4803846776485443, 0.0008183725294657052, 0.09656795859336853, 0.2201422154903412, 0.3261118233203888, 0.009591523557901382, 0.13428133726119995, 0.004795761778950691, 0.009591523557901382, 0.5131465196609497, 0.00582290580496192, 0.01682172901928425, 0.04528927057981491, 0.039466362446546555, 0.33643457293510437, 0.0006469895597547293, 0.269147664308548, 0.2859693765640259, 0.0006469895597547293, 0.07791446149349213, 0.011856548488140106, 0.027100682258605957, 0.03895723074674606, 0.054201364517211914, 0.24898751080036163, 0.02201930433511734, 0.42514193058013916, 0.07622066885232925, 0.01524413377046585, 0.6051689982414246, 0.08162744343280792, 0.0900716632604599, 0.04081372171640396, 0.04503583163022995, 0.023925285786390305, 0.005629478953778744, 0.015481066890060902, 0.06051689758896828, 0.030962133780121803, 0.015260551124811172, 0.13516488671302795, 0.00872031506150961, 0.1635058969259262, 0.023980865254998207, 0.052321888506412506, 0.01744063012301922, 0.00872031506150961, 0.5733606815338135, 0.034871991723775864, 0.3416365385055542, 0.05176310986280441, 0.0005448748706839979, 0.5650352239608765, 0.004358998965471983, 0.0010897497413679957, 0.0013228073948994279, 0.03042457066476345, 0.05688071623444557, 0.039684221148490906, 0.0052912295795977116, 0.0039684223011136055, 0.8241090178489685, 0.027778955176472664, 0.0026456147897988558, 0.007936844602227211, 0.9609236717224121, 0.03002886474132538, 0.99213045835495, 0.9721434712409973, 0.9734399318695068, 0.9733688831329346, 0.028563572093844414, 0.14118565618991852, 0.05794324725866318, 0.01958644948899746, 0.11098988354206085, 0.2023933082818985, 0.385200172662735, 0.00571271451190114, 0.028563572093844414, 0.01958644948899746, 0.9154043197631836, 0.05085579305887222, 0.1631072461605072, 0.14231106638908386, 0.1989908367395401, 0.13058774173259735, 0.037820491939783096, 0.104796402156353, 0.07258272171020508, 0.06473318487405777, 0.05504869297146797, 0.03017484024167061, 0.03356023132801056, 0.03462563455104828, 0.1329091638326645, 0.37076064944267273, 0.026635102927684784, 0.2711453437805176, 0.009854988195002079, 0.04954129084944725, 0.03675644099712372, 0.03435928374528885, 0.1203405112028122, 0.0520503930747509, 0.1886306256055832, 0.1382458508014679, 0.14324268698692322, 0.09618912637233734, 0.019987352192401886, 0.06787371635437012, 0.16656126081943512, 0.007078853435814381, 0.6822353601455688, 0.09616615623235703, 0.2141057699918747, 0.007257822901010513, 0.8245976567268372, 0.10307470709085464, 0.07052479684352875, 0.9811949133872986, 0.9102624654769897, 0.03792760148644447, 0.004782536532729864, 0.21680833399295807, 0.017535967752337456, 0.012753431685268879, 0.007970894686877728, 0.0031883579213172197, 0.7365106344223022, 0.4269941747188568, 0.007091243285685778, 0.42952674627304077, 0.06483422964811325, 0.004052139353007078, 0.012156417593359947, 0.006584726274013519, 0.04811915382742882, 0.0010130348382517695, 0.08673648536205292, 0.7971495985984802, 0.08260617405176163, 0.0041303085163235664, 0.0247818510979414, 0.006539918016642332, 0.8959687352180481, 0.02615967206656933, 0.006539918016642332, 0.05885925889015198, 0.0020220864098519087, 0.013143561780452728, 0.007077302783727646, 0.4377817213535309, 0.00606625946238637, 0.5014774203300476, 0.009099389426410198, 0.0010110432049259543, 0.022242950275540352, 0.008454331196844578, 0.0056362212635576725, 0.0056362212635576725, 0.0056362212635576725, 0.8313425779342651, 0.0056362212635576725, 0.1380874216556549, 0.11118840426206589, 0.7366231679916382, 0.1250869482755661, 0.013898550532758236, 0.9810289144515991, 0.18189680576324463, 0.06612320244312286, 0.22899508476257324, 0.06844331324100494, 0.09535661339759827, 0.12621410191059113, 0.07795577496290207, 0.10046086460351944, 0.038977887481451035, 0.01577676273882389, 0.006991764064878225, 0.0559341125190258, 0.09788469970226288, 0.01398352812975645, 0.006991764064878225, 0.006991764064878225, 0.0559341125190258, 0.755110502243042, 0.24491968750953674, 0.7510870099067688, 0.9677401781082153, 0.026009853929281235, 0.9363546967506409, 0.20162470638751984, 0.08113740384578705, 0.10412053018808365, 0.10429464280605316, 0.166453555226326, 0.1265813112258911, 0.10011589527130127, 0.04770740121603012, 0.034822918474674225, 0.03290766105055809, 0.027379110455513, 0.006457337643951178, 0.03641938418149948, 0.17254005372524261, 0.18726278841495514, 0.36651846766471863, 0.03745255619287491, 0.029187165200710297, 0.07335535436868668, 0.06328190863132477, 0.9510756134986877, 0.9865891337394714, 0.15422482788562775, 0.14012810587882996, 0.09280340373516083, 0.057393789291381836, 0.23377060890197754, 0.10421503335237503, 0.06209269538521767, 0.07937795668840408, 0.05303051695227623, 0.022991079837083817, 0.019871708005666733, 0.9140985608100891, 0.019871708005666733, 0.019871708005666733], \"Topic\": [1, 1, 2, 3, 4, 5, 6, 7, 1, 2, 3, 4, 5, 6, 7, 8, 9, 10, 2, 3, 4, 5, 7, 10, 1, 2, 3, 4, 5, 6, 7, 8, 9, 10, 1, 2, 3, 4, 5, 6, 7, 8, 9, 10, 2, 6, 7, 1, 2, 3, 4, 6, 7, 8, 9, 10, 4, 5, 1, 2, 3, 5, 6, 7, 8, 10, 1, 2, 4, 5, 6, 7, 8, 9, 10, 4, 5, 6, 9, 10, 1, 2, 3, 2, 3, 4, 5, 6, 7, 8, 9, 10, 4, 5, 9, 4, 9, 4, 10, 4, 6, 8, 9, 10, 10, 1, 2, 3, 4, 5, 6, 7, 8, 9, 10, 5, 10, 5, 6, 2, 3, 7, 4, 5, 5, 1, 2, 3, 2, 1, 3, 7, 5, 6, 2, 3, 7, 1, 2, 3, 6, 8, 9, 4, 1, 2, 3, 4, 5, 6, 7, 8, 9, 10, 4, 6, 1, 3, 4, 5, 6, 7, 8, 9, 10, 1, 2, 3, 4, 5, 6, 7, 8, 9, 10, 4, 6, 1, 2, 3, 4, 5, 6, 7, 8, 9, 10, 1, 2, 3, 4, 5, 6, 7, 8, 9, 1, 3, 5, 8, 9, 4, 5, 6, 2, 4, 8, 3, 4, 6, 5, 6, 8, 7, 1, 2, 3, 4, 5, 6, 7, 8, 9, 10, 4, 4, 5, 6, 9, 10, 4, 6, 9, 10, 4, 10, 6, 4, 5, 4, 6, 1, 2, 3, 4, 5, 6, 7, 8, 9, 5, 6, 8, 9, 2, 1, 2, 3, 4, 5, 6, 7, 8, 9, 10, 3, 4, 8, 3, 4, 7, 9, 7, 3, 6, 7, 10, 2, 7, 7, 7, 6, 8, 9, 6, 9, 1, 2, 3, 4, 5, 6, 8, 9, 10, 1, 2, 3, 7, 3, 7, 4, 5, 10, 4, 5, 6, 9, 3, 4, 5, 6, 7, 9, 10, 1, 3, 4, 5, 6, 7, 8, 9, 10, 2, 3, 4, 8, 9, 1, 2, 3, 7, 5, 6, 8, 1, 2, 3, 7, 1, 2, 3, 4, 5, 6, 7, 8, 9, 10, 2, 3, 6, 9, 4, 6, 10, 1, 2, 3, 4, 5, 6, 7, 8, 9, 10, 1, 2, 3, 7, 3, 7, 3, 7, 1, 2, 3, 4, 5, 6, 7, 8, 9, 10, 5, 9, 1, 2, 3, 4, 5, 6, 7, 8, 9, 10, 1, 2, 3, 4, 5, 6, 7, 8, 9, 10, 1, 2, 3, 4, 5, 6, 8, 9, 1, 2, 3, 4, 5, 6, 7, 8, 9, 10, 1, 3, 4, 5, 6, 7, 8, 9, 1, 5, 8, 9, 6, 2, 3, 7, 1, 2, 3, 4, 5, 6, 7, 8, 9, 10, 1, 2, 3, 4, 5, 6, 7, 8, 9, 10, 4, 1, 3, 1, 2, 3, 4, 5, 6, 7, 8, 9, 10, 1, 2, 3, 4, 5, 6, 7, 8, 9, 10, 1, 2, 3, 4, 5, 6, 8, 9, 10, 1, 6, 8, 4, 5, 6, 8, 9, 7, 3, 4, 5, 6, 7, 8, 9, 10, 1, 2, 3, 7, 6, 2, 3, 4, 5, 6, 7, 8, 9, 10, 1, 2, 3, 4, 5, 6, 7, 8, 9, 10, 1, 2, 3, 4, 5, 6, 8, 9, 1, 2, 3, 4, 7, 8, 9, 10, 1, 2, 3, 4, 5, 6, 7, 8, 9, 4, 1, 2, 3, 7, 6, 1, 2, 3, 4, 5, 6, 7, 8, 9, 1, 6, 8, 3, 5, 6, 10, 3, 4, 6, 8, 9, 1, 2, 3, 4, 5, 6, 7, 8, 9, 10, 1, 2, 3, 4, 5, 6, 7, 8, 9, 10, 5, 1, 1, 2, 3, 4, 5, 6, 7, 8, 9, 10, 1, 2, 3, 4, 5, 6, 7, 8, 9, 10, 1, 2, 3, 4, 5, 6, 7, 8, 9, 1, 2, 3, 4, 5, 6, 7, 8, 9, 10, 1, 2, 3, 4, 5, 6, 9, 4, 6, 10, 1, 2, 3, 4, 5, 6, 7, 8, 9, 10, 1, 2, 3, 4, 5, 6, 7, 8, 9, 10, 2, 3, 4, 7, 9, 1, 2, 3, 4, 5, 6, 7, 9, 10, 4, 5, 6, 1, 2, 3, 4, 5, 6, 7, 8, 9, 10, 1, 2, 3, 4, 5, 6, 7, 8, 9, 1, 2, 3, 4, 5, 6, 7, 8, 9, 10, 1, 2, 1, 2, 3, 4, 5, 6, 7, 8, 9, 10, 4, 1, 2, 3, 4, 5, 6, 7, 8, 9, 10, 1, 2, 4, 5, 6, 8, 9, 2, 6, 8, 6, 4, 6, 10, 4, 5, 6, 8, 9, 4, 6, 8, 9, 4, 5, 6, 8, 9, 1, 2, 3, 6, 7, 4, 5, 6, 8, 9, 1, 2, 3, 4, 5, 6, 7, 8, 9, 10, 1, 2, 3, 4, 5, 6, 1, 2, 3, 4, 5, 6, 7, 8, 9, 10, 4, 1, 2, 3, 7, 1, 2, 3, 4, 5, 6, 7, 8, 9, 10, 1, 2, 3, 4, 5, 6, 7, 8, 9, 10, 1, 2, 3, 5, 6, 7, 8, 10, 3, 4, 6, 9, 10, 6, 9, 6, 8, 9, 1, 2, 3, 4, 5, 6, 7, 8, 9, 10, 3, 4, 5, 6, 7, 9, 2, 3, 4, 5, 6, 7, 8, 9, 1, 2, 3, 4, 5, 6, 7, 8, 9, 10, 1, 2, 3, 7, 8, 1, 2, 3, 4, 5, 6, 7, 8, 9, 10, 1, 2, 3, 4, 5, 6, 7, 8, 9, 10, 1, 2, 3, 7, 10, 1, 2, 3, 4, 5, 6, 7, 8, 9, 10, 1, 1, 2, 3, 7, 10, 3, 6, 8, 9, 7, 1, 4, 7, 1, 2, 3, 4, 5, 6, 7, 8, 9, 10, 4, 10, 1, 3, 1, 2, 3, 7, 8, 2, 4, 5, 2, 5, 7, 1, 1, 2, 3, 4, 5, 6, 7, 8, 9, 10, 2, 3, 2, 5, 1, 2, 3, 4, 5, 6, 7, 8, 9, 10, 1, 2, 3, 7, 4, 3, 4, 6, 7, 5, 8, 1, 2, 3, 4, 5, 6, 7, 8, 9, 10, 3, 5, 9, 3, 4, 5, 6, 8, 9, 2, 3, 4, 5, 6, 7, 8, 9, 10, 5, 9, 1, 6, 1, 2, 3, 4, 5, 6, 7, 8, 9, 10, 6, 6, 9, 6, 9, 3, 4, 5, 6, 7, 8, 9, 10, 1, 2, 3, 4, 5, 6, 7, 8, 9, 10, 1, 2, 3, 4, 5, 6, 7, 8, 9, 10, 1, 2, 3, 4, 5, 6, 7, 8, 9, 10, 2, 9, 9, 1, 3, 4, 5, 7, 8, 9, 3, 6, 3, 4, 6, 7, 1, 4, 6, 10, 5, 6, 10, 5, 1, 2, 3, 4, 5, 6, 7, 8, 9, 10, 1, 2, 1, 1, 3, 7, 3, 7, 6, 4, 5, 6, 7, 10, 1, 2, 3, 4, 5, 6, 7, 8, 9, 1, 2, 3, 4, 5, 6, 7, 8, 9, 10, 5, 4, 5, 6, 8, 9, 5, 6, 7, 10, 2, 3, 4, 9, 10, 1, 3, 4, 5, 6, 7, 10, 4, 5, 6, 8, 10, 1, 3, 6, 1, 2, 3, 4, 5, 6, 7, 10, 1, 2, 3, 4, 5, 6, 7, 8, 9, 10, 1, 2, 3, 4, 5, 6, 7, 8, 9, 10, 1, 2, 3, 4, 5, 6, 8, 9, 4, 8, 3, 4, 6, 8, 9, 1, 2, 3, 4, 5, 6, 7, 8, 9, 10, 1, 3, 4, 5, 6, 7, 8, 9, 10, 6, 1, 3, 4, 9, 4, 5, 6, 8, 9, 2, 3, 5, 6, 7, 2, 3, 7, 2, 3, 7, 7, 4, 6, 10, 6, 8, 1, 3, 4, 6, 1, 3, 8, 1, 2, 3, 4, 5, 6, 7, 8, 9, 10, 1, 2, 3, 1, 2, 3, 4, 5, 6, 7, 8, 9, 10, 1, 2, 3, 4, 5, 6, 7, 8, 9, 10, 2, 4, 6, 8, 1, 2, 3, 4, 5, 6, 7, 9, 10, 1, 2, 3, 4, 5, 6, 7, 8, 9, 10, 1, 2, 3, 4, 5, 6, 7, 8, 9, 10, 2, 1, 2, 3, 1, 3, 4, 10, 1, 2, 3, 5, 8, 6, 5, 6, 9, 1, 2, 3, 4, 6, 7, 8, 9, 10, 1, 2, 3, 4, 5, 6, 7, 8, 9, 10, 3, 5, 6, 9, 9, 1, 2, 3, 7, 1, 2, 3, 4, 5, 6, 7, 8, 9, 3, 7, 4, 5, 9, 1, 2, 3, 4, 7, 9, 10, 1, 2, 3, 4, 5, 6, 8, 9, 10, 4, 7, 8, 4, 9, 1, 2, 3, 4, 5, 6, 7, 8, 9, 10, 3, 4, 5, 10, 7, 1, 2, 3, 4, 5, 6, 7, 8, 9, 10, 1, 2, 3, 4, 5, 6, 7, 8, 9, 2, 3, 7, 8, 1, 2, 3, 4, 5, 6, 7, 8, 9, 10, 1, 2, 3, 7, 1, 2, 3, 5, 9, 1, 2, 3, 4, 5, 6, 7, 8, 9, 10, 1, 2, 3, 4, 5, 6, 7, 8, 9, 10, 3, 4, 6, 8, 1, 2, 3, 4, 5, 6, 7, 8, 9, 10, 1, 2, 3, 4, 5, 6, 7, 8, 9, 10, 3, 1, 2, 3, 4, 6, 7, 8, 9, 10, 3, 4, 5, 9, 1, 2, 3, 4, 5, 6, 7, 8, 9, 10, 1, 3, 4, 5, 6, 7, 8, 9, 10, 5, 8, 1, 2, 3, 4, 5, 6, 9, 10, 5, 6, 8, 4, 6, 9, 1, 2, 3, 2, 5, 6, 7, 8, 9, 5, 1, 7, 1, 2, 3, 4, 10, 4, 5, 6, 8, 9, 2, 3, 4, 5, 7, 9, 10, 1, 2, 3, 4, 5, 6, 7, 8, 9, 10, 1, 2, 3, 4, 5, 6, 7, 8, 9, 10, 1, 2, 3, 4, 5, 6, 7, 8, 9, 10, 6, 2, 3, 4, 5, 6, 7, 8, 5, 6, 8, 2, 3, 4, 5, 7, 8, 9, 4, 10, 6, 9, 4, 5, 6, 8, 9, 10, 1, 2, 3, 4, 5, 6, 7, 8, 9, 10, 4, 2, 3, 7, 5, 6, 8, 1, 3, 7, 1, 2, 3, 4, 5, 6, 7, 8, 9, 10, 1, 2, 3, 4, 5, 6, 7, 9, 10, 1, 2, 3, 4, 5, 6, 7, 8, 9, 10, 1, 2, 3, 4, 5, 6, 7, 8, 9, 10, 6, 1, 2, 3, 4, 5, 6, 7, 8, 9, 10, 1, 2, 3, 4, 5, 6, 7, 8, 9, 1, 2, 3, 4, 5, 6, 7, 8, 9, 10, 1, 2, 3, 4, 5, 6, 7, 8, 9, 10, 1, 2, 3, 1, 2, 3, 7, 10, 7, 2, 4, 5, 6, 7, 8, 9, 5, 1, 6, 9, 4, 5, 9, 1, 2, 3, 4, 5, 6, 10, 1, 2, 3, 4, 6, 7, 8, 9, 10, 4, 6, 9, 4, 5, 6, 8, 2, 1, 1, 2, 3, 4, 5, 6, 7, 8, 9, 10, 1, 2, 3, 4, 5, 6, 7, 8, 9, 10, 1, 2, 3, 4, 5, 6, 7, 8, 9, 10, 6, 8, 9, 4, 5, 7, 9, 10, 6, 4, 5, 6, 10, 1, 4, 5, 6, 7, 1, 2, 3, 4, 5, 6, 7, 8, 9, 10, 1, 7, 1, 2, 3, 4, 5, 6, 7, 8, 9, 10, 3, 7, 6, 2, 3, 7, 4, 6, 10, 6, 8, 1, 2, 3, 4, 5, 6, 7, 8, 9, 10, 4, 5, 6, 9, 10, 2, 3, 5, 4, 4, 5, 1, 2, 3, 7, 1, 3, 7, 4, 1, 2, 3, 4, 5, 6, 7, 8, 9, 10, 4, 9, 1, 2, 3, 4, 5, 6, 7, 8, 9, 10, 2, 1, 2, 3, 7, 2, 2, 2, 2, 1, 2, 3, 4, 5, 6, 7, 8, 9, 10, 3, 4, 5, 6, 7, 9, 4, 5, 7, 1, 2, 3, 4, 5, 6, 7, 8, 9, 10, 4, 5, 6, 8, 9, 3, 1, 2, 3, 4, 5, 6, 7, 8, 9, 10, 2, 5, 8, 1, 3, 7, 1, 2, 3, 5, 6, 7, 8, 7, 1, 2, 3, 4, 5, 6, 7, 8, 9, 10, 4, 10, 5, 6, 8, 3, 4, 6, 7, 8, 7, 1, 2, 3, 4, 5, 6, 7, 8, 9, 10, 1, 2, 3, 7, 10, 6, 1, 2, 3, 7, 8, 9, 1, 2, 3, 10, 1, 2, 3, 4, 5, 6, 7, 8, 9, 10, 1, 2, 1, 3, 7, 1, 4, 10, 3, 4, 6, 1, 2, 3, 4, 5, 6, 7, 8, 9, 10, 6, 9, 1, 2, 3, 4, 5, 6, 7, 8, 9, 10, 3, 9, 1, 2, 3, 4, 5, 6, 7, 8, 9, 10, 1, 2, 3, 1, 2, 3, 4, 5, 6, 7, 8, 9, 10, 1, 2, 3, 5, 6, 7, 1, 2, 7, 1, 2, 3, 5, 6, 7, 10, 1, 2, 3, 9, 1, 2, 3, 7, 10, 1, 3, 1, 2, 3, 6, 7, 10, 4, 5, 10, 1, 2, 3, 4, 5, 6, 7, 8, 9, 10, 1, 3, 4, 5, 6, 7, 8, 9, 4, 5, 7, 1, 2, 3, 5, 6, 9, 1, 2, 3, 4, 5, 6, 7, 8, 9, 10, 1, 2, 3, 4, 5, 6, 7, 8, 9, 10, 1, 2, 3, 4, 5, 6, 7, 8, 9, 10, 1, 1, 2, 3, 4, 5, 6, 7, 8, 9, 10, 1, 2, 3, 7, 2, 4, 5, 6, 9, 10, 1, 2, 3, 4, 7, 8, 9, 2, 2, 3, 1, 2, 3, 4, 5, 6, 7, 8, 9, 10, 1, 2, 3, 4, 5, 6, 7, 8, 9, 10, 1, 2, 3, 4, 5, 6, 7, 8, 9, 10, 1, 2, 3, 4, 5, 6, 7, 1, 2, 3, 4, 5, 6, 7, 8, 9, 10, 1, 2, 3, 4, 5, 6, 7, 8, 9, 10, 1, 2, 3, 4, 5, 6, 7, 8, 9, 10, 1, 2, 3, 4, 5, 6, 7, 8, 9, 10, 7, 7, 1, 2, 3, 4, 5, 6, 7, 8, 9, 10, 8, 1, 3, 7, 4, 1, 2, 3, 4, 5, 9, 4, 1, 2, 4, 6, 9, 1, 2, 3, 4, 5, 6, 7, 8, 9, 10, 1, 2, 3, 4, 5, 6, 7, 8, 9, 10, 1, 1, 2, 3, 7, 2, 4, 5, 1, 2, 3, 4, 5, 6, 7, 8, 9, 10, 1, 2, 3, 5, 6, 8, 9, 4, 5, 8, 9, 1, 2, 3, 4, 5, 6, 7, 8, 9, 10, 5, 9, 1, 2, 3, 7, 8, 2, 5, 6, 4, 1, 1, 2, 3, 4, 5, 6, 7, 8, 9, 10, 1, 2, 3, 4, 5, 6, 7, 8, 9, 10, 7, 4, 5, 6, 9, 2, 6, 9, 1, 2, 3, 4, 5, 6, 7, 8, 9, 10, 1, 2, 3, 4, 5, 6, 7, 8, 9, 10, 5, 6, 5, 4, 5, 6, 7, 9, 10, 1, 5, 6, 8, 1, 2, 3, 4, 5, 6, 8, 10, 2, 3, 4, 9, 1, 2, 3, 4, 5, 6, 7, 8, 9, 10, 2, 2, 1, 2, 3, 4, 5, 6, 7, 8, 9, 10, 8, 3, 5, 6, 8, 9, 1, 2, 3, 4, 5, 7, 9, 4, 5, 6, 1, 2, 3, 4, 5, 6, 7, 8, 9, 10, 3, 6, 9, 10, 1, 2, 3, 4, 5, 6, 7, 8, 9, 10, 1, 2, 3, 4, 5, 6, 7, 9, 10, 5, 8, 5, 1, 2, 3, 4, 5, 6, 7, 8, 9, 10, 1, 2, 3, 4, 5, 6, 7, 8, 9, 10, 5, 6, 8, 9, 1, 2, 3, 4, 5, 6, 7, 8, 9, 10, 5, 6, 9, 1, 2, 1, 2, 10, 4, 8, 9, 10, 3, 7, 2, 3, 4, 5, 6, 7, 9, 10, 3, 6, 7, 8, 10, 3, 4, 6, 8, 1, 2, 3, 4, 5, 6, 7, 8, 9, 10, 1, 3, 4, 5, 7, 8, 1, 2, 3, 4, 5, 6, 7, 8, 9, 10, 5, 10, 1, 1, 2, 3, 4, 5, 7, 8, 9, 4, 5, 6, 7, 8, 9, 1, 6, 8, 9, 4, 4, 1, 2, 3, 7, 2, 3, 1, 2, 3, 4, 5, 6, 7, 8, 9, 10, 4, 5, 6, 9, 1, 4, 5, 6, 7, 10, 6, 1, 2, 3, 2, 3, 5, 6, 7, 5, 8, 1, 3, 4, 5, 6, 7, 8, 9, 10, 1, 2, 3, 4, 5, 6, 7, 8, 9, 10, 2, 4, 5, 6, 10, 1, 3, 4, 5, 6, 7, 8, 9, 1, 2, 3, 4, 5, 6, 7, 8, 9, 10, 1, 2, 3, 1, 2, 7, 1, 2, 3, 4, 5, 6, 7, 9, 1, 2, 3, 4, 5, 6, 7, 8, 9, 10, 5, 1, 2, 3, 4, 5, 6, 7, 8, 9, 10, 1, 2, 3, 4, 5, 6, 7, 8, 9, 10, 1, 2, 3, 4, 5, 6, 7, 8, 9, 10, 3, 5, 1, 4, 5, 6, 8, 9, 4, 6, 1, 2, 3, 4, 5, 6, 7, 8, 9, 10, 1, 2, 3, 4, 5, 6, 7, 8, 9, 10, 1, 2, 3, 4, 5, 6, 7, 8, 9, 10, 5, 1, 2, 3, 4, 6, 10, 8, 10, 1, 2, 3, 4, 5, 6, 7, 8, 9, 10, 9, 4, 10, 1, 2, 3, 6, 7, 1, 3, 6, 3, 4, 5, 6, 9, 1, 2, 3, 4, 5, 6, 7, 8, 9, 10, 4, 5, 1, 7, 1, 2, 3, 4, 5, 6, 7, 8, 9, 10, 6, 6, 1, 2, 3, 4, 5, 6, 7, 8, 9, 10, 1, 2, 3, 4, 5, 6, 7, 8, 9, 4, 5, 6, 8, 9, 10, 1, 3, 4, 5, 6, 7, 8, 9, 10, 1, 2, 3, 4, 5, 6, 7, 8, 9, 10, 1, 2, 3, 4, 5, 6, 7, 8, 9, 10, 1, 2, 3, 4, 5, 6, 8, 9, 10, 1, 2, 3, 4, 7, 8, 10, 1, 2, 3, 4, 5, 6, 7, 8, 9, 10, 4, 6, 7, 10, 10, 2, 1, 2, 3, 4, 5, 6, 7, 8, 9, 10, 1, 5, 1, 2, 3, 4, 5, 6, 7, 8, 9, 10, 1, 2, 3, 4, 5, 6, 7, 8, 9, 10, 1, 2, 3, 4, 5, 6, 7, 8, 9, 10, 1, 2, 3, 7, 1, 2, 3, 7, 8, 9, 1, 4, 5, 6, 8, 9, 10, 1, 2, 3, 4, 5, 7, 8, 9, 10, 4, 5, 6, 7, 9, 3, 5, 6, 8, 9, 1, 2, 3, 4, 5, 6, 7, 9, 10, 1, 3, 4, 5, 6, 8, 9, 1, 3, 4, 5, 6, 1, 2, 3, 4, 5, 6, 7, 8, 9, 10, 1, 3, 4, 5, 6, 8, 9, 10, 1, 3, 2, 5, 9, 1, 2, 3, 4, 5, 6, 7, 8, 9, 10, 1, 2, 3, 4, 5, 6, 7, 8, 9, 10, 6, 6, 1, 2, 3, 4, 5, 6, 7, 8, 9, 10, 4, 5, 6, 10]}, \"mdsDat\": {\"x\": [-0.1364630010832588, -0.2001223684475315, -0.1089252535415271, 0.1045466167221578, 0.13179970208414893, 0.12619137539356706, -0.1309749869886421, 0.046476099615077815, 0.09503202077648477, 0.07243979546952288], \"y\": [-0.04751595638460003, -0.009421023435808876, -0.0034974034412376476, 0.04317230938038882, -0.05679820758196524, -0.010438126749885385, 0.06569579060633328, -0.13208746330520674, -0.028675561097183607, 0.17956564200916517], \"cluster\": [1, 1, 1, 1, 1, 1, 1, 1, 1, 1], \"Freq\": [15.635013580322266, 14.298327445983887, 14.141623497009277, 12.575244903564453, 10.981449127197266, 9.103320121765137, 7.896850109100342, 6.627209663391113, 5.962516784667969, 2.7784476280212402], \"topics\": [1, 2, 3, 4, 5, 6, 7, 8, 9, 10]}, \"lambda.step\": 0.01, \"R\": 30, \"tinfo\": {\"Freq\": [21929.0, 27501.0, 15241.0, 14510.0, 10901.0, 6777.0, 3397.0, 7079.0, 3655.0, 6324.0, 6559.0, 8269.0, 7681.0, 7635.0, 3229.0, 5086.0, 6037.0, 1786.0, 5631.0, 2024.0, 1532.0, 4663.0, 2250.0, 5557.0, 3961.0, 9005.0, 3871.0, 3950.0, 1835.0, 1956.0, 72.77347564697266, 71.40986633300781, 51.081092834472656, 61.56667709350586, 36.27644348144531, 30.541095733642578, 36.22478485107422, 30.41226577758789, 26.527334213256836, 25.56838607788086, 23.66820526123047, 27.401155471801758, 21.633962631225586, 24.36311912536621, 17.737890243530273, 16.753461837768555, 22.256235122680664, 59.404666900634766, 18.517105102539062, 23.14173126220703, 81.23906707763672, 13.843132019042969, 42.331939697265625, 13.708414077758789, 11.875761985778809, 70.36622619628906, 52.72529983520508, 18.146100997924805, 101.580322265625, 143.87452697753906, 378.1900939941406, 147.00965881347656, 40.34556579589844, 1570.8643798828125, 291.5716247558594, 633.646728515625, 74.61128234863281, 129.9201202392578, 151.8407440185547, 1927.0654296875, 684.6402587890625, 751.642822265625, 337.45977783203125, 354.3539123535156, 930.5095825195312, 89.05143737792969, 7171.3173828125, 1077.1436767578125, 2320.609375, 1858.7886962890625, 73.93206787109375, 430.00689697265625, 1044.5257568359375, 7349.68408203125, 623.4234619140625, 1033.73388671875, 1069.7271728515625, 1983.2821044921875, 881.127685546875, 1988.5567626953125, 1460.57177734375, 1046.5635986328125, 842.95703125, 2082.185791015625, 447.4412536621094, 3178.941162109375, 2261.7138671875, 2700.601806640625, 1376.1610107421875, 1526.0230712890625, 1731.23388671875, 1839.060791015625, 2649.090087890625, 1600.2125244140625, 1138.8055419921875, 1158.1968994140625, 1203.3095703125, 1130.5653076171875, 936.1927490234375, 225.2840118408203, 86.67768096923828, 85.60723114013672, 139.64395141601562, 51.30586242675781, 54.17258834838867, 37.4479866027832, 29.64418601989746, 39.1049690246582, 24.727413177490234, 94.0011978149414, 24.689817428588867, 23.70908546447754, 22.745380401611328, 22.745258331298828, 90.86152648925781, 22.715877532958984, 30.2320613861084, 20.775333404541016, 23.602434158325195, 108.42144775390625, 64.17616271972656, 20.752851486206055, 19.78631591796875, 19.761646270751953, 35.639251708984375, 41.27970886230469, 19.650060653686523, 34.63151550292969, 152.13453674316406, 114.7177734375, 113.46382904052734, 66.14801788330078, 158.69940185546875, 403.8265075683594, 1299.558837890625, 527.3372192382812, 195.15245056152344, 75.19345092773438, 178.58087158203125, 220.05348205566406, 98.5388412475586, 582.3316040039062, 1088.796630859375, 57.339717864990234, 126.9288101196289, 408.43768310546875, 1801.791748046875, 260.51910400390625, 1423.480224609375, 3032.78955078125, 1098.4403076171875, 241.54730224609375, 6900.44482421875, 256.0551452636719, 301.7871398925781, 2279.28466796875, 7724.0869140625, 2552.17529296875, 5604.27978515625, 1610.77294921875, 646.6843872070312, 1105.1600341796875, 480.9232482910156, 590.5040893554688, 455.2137756347656, 1743.0899658203125, 2980.538330078125, 674.4527587890625, 1649.6124267578125, 1217.6239013671875, 1236.241455078125, 854.0397338867188, 905.0882568359375, 948.2225341796875, 1381.48974609375, 1165.98681640625, 1503.4271240234375, 1128.3824462890625, 1395.734619140625, 1105.0877685546875, 1685.2650146484375, 1164.6400146484375, 805.3035888671875, 834.4642944335938, 834.5358276367188, 22.311479568481445, 105.44014739990234, 49.133182525634766, 17.000019073486328, 11.304407119750977, 393.36773681640625, 10.28508472442627, 80.94160461425781, 41.843074798583984, 244.48870849609375, 9.688467025756836, 9.605202674865723, 14.72805404663086, 12.14640998840332, 19.36632537841797, 21.832490921020508, 26.685537338256836, 15.695592880249023, 418.19525146484375, 84.7659683227539, 39.743431091308594, 21.45496368408203, 14.883541107177734, 39.80094528198242, 8.551766395568848, 10.037524223327637, 203.97544860839844, 16.102128982543945, 10.714832305908203, 26.800039291381836, 91.8344955444336, 134.69570922851562, 417.8643493652344, 53.31235122680664, 15656.5615234375, 4312.75634765625, 1472.3333740234375, 216.73109436035156, 3172.589111328125, 1123.359375, 335.34515380859375, 2735.97314453125, 1079.0867919921875, 164.50596618652344, 46.63357925415039, 847.6887817382812, 391.0931701660156, 1470.55029296875, 2190.28369140625, 1596.6217041015625, 699.3671264648438, 5384.23486328125, 896.8212890625, 165.10150146484375, 754.5348510742188, 2613.66650390625, 1951.9786376953125, 1715.93017578125, 830.2109375, 1094.7183837890625, 986.8363037109375, 1806.7071533203125, 491.0718078613281, 612.0763549804688, 1538.5047607421875, 891.6849365234375, 799.4490966796875, 772.9031982421875, 806.0850830078125, 821.3834228515625, 993.6734008789062, 789.9639282226562, 704.63623046875, 95.84318542480469, 57.3422966003418, 35.84889602661133, 30.729429244995117, 64.22289276123047, 46.997222900390625, 23.951583862304688, 23.94401741027832, 44.956363677978516, 73.3905258178711, 72.38404083251953, 25.68579864501953, 19.967836380004883, 25.6309757232666, 27.48651695251465, 17.959943771362305, 15.98120403289795, 22.44403076171875, 62.6016845703125, 19.576698303222656, 67.04296112060547, 13.951546669006348, 13.013106346130371, 62.257469177246094, 58.17523956298828, 15.691831588745117, 35.89870834350586, 19.319501876831055, 56.97599411010742, 25.656076431274414, 73.11571502685547, 323.8988037109375, 1701.909912109375, 40.89978790283203, 108.20106506347656, 51.14155578613281, 69.66278839111328, 89.90489196777344, 180.98004150390625, 90.21497344970703, 3726.007080078125, 1106.3365478515625, 93.8425521850586, 1037.1861572265625, 115.67679595947266, 126.56094360351562, 525.3424072265625, 2905.68408203125, 240.95191955566406, 422.2483215332031, 1139.8685302734375, 711.9417724609375, 164.0277557373047, 1057.4354248046875, 161.95233154296875, 1899.832763671875, 220.0541534423828, 958.5964965820312, 977.7701416015625, 762.629638671875, 1392.1776123046875, 562.6033935546875, 904.985107421875, 822.4649658203125, 305.49462890625, 333.8509521484375, 276.125, 498.4952392578125, 814.2794189453125, 553.9384765625, 1374.4659423828125, 327.8683166503906, 471.9306335449219, 758.562255859375, 2014.0452880859375, 890.5189208984375, 863.3099365234375, 1547.871826171875, 568.36572265625, 929.2271728515625, 1164.855224609375, 1430.41748046875, 1231.119140625, 2272.3837890625, 1534.9466552734375, 1280.9683837890625, 1219.763671875, 827.059326171875, 879.11181640625, 45.07377624511719, 29.944263458251953, 55.022830963134766, 27.957565307617188, 25.112600326538086, 48.14876937866211, 15.495030403137207, 14.538147926330566, 38.970401763916016, 12.61455249786377, 12.577032089233398, 48.41157531738281, 12.531669616699219, 11.633916854858398, 46.407649993896484, 12.418015480041504, 9.732046127319336, 72.26195526123047, 40.38441467285156, 1826.283447265625, 137.45314025878906, 53.115478515625, 16.304702758789062, 39.480709075927734, 20.419126510620117, 18.49260711669922, 41.21700668334961, 20.13283348083496, 47.09507369995117, 16.471460342407227, 99.91218566894531, 96.54652404785156, 874.48828125, 1302.4996337890625, 611.3049926757812, 185.2217559814453, 109.53649139404297, 193.25477600097656, 852.3416137695312, 715.9514770507812, 397.9224853515625, 348.63604736328125, 184.10494995117188, 459.18634033203125, 841.3265380859375, 1035.308349609375, 1364.27294921875, 902.2164306640625, 3259.714599609375, 393.1083068847656, 295.757080078125, 906.1795654296875, 1980.4556884765625, 620.6524047851562, 2318.708740234375, 2233.07275390625, 291.5536804199219, 206.83889770507812, 1440.8919677734375, 1180.5626220703125, 685.0646362304688, 788.0307006835938, 1393.0711669921875, 974.3253784179688, 1135.927978515625, 1799.57275390625, 745.9923706054688, 1132.975341796875, 986.9658203125, 808.965087890625, 956.2754516601562, 1064.2689208984375, 850.5640869140625, 725.126953125, 690.3728637695312, 57.127601623535156, 91.06304168701172, 42.606773376464844, 39.49406814575195, 29.065977096557617, 154.6125030517578, 44.7783203125, 25.119802474975586, 18.475801467895508, 18.46099090576172, 35.862770080566406, 20.231380462646484, 17.46978759765625, 18.359567642211914, 21.993755340576172, 15.563629150390625, 42.022483825683594, 24.642620086669922, 69.22103881835938, 18.190065383911133, 13.634584426879883, 13.626110076904297, 13.626031875610352, 13.612634658813477, 31.72679328918457, 12.669859886169434, 12.591843605041504, 11.689677238464355, 12.535866737365723, 12.529565811157227, 76.86871337890625, 112.85503387451172, 28.691057205200195, 38.329368591308594, 791.821533203125, 215.57582092285156, 51.49736785888672, 115.96995544433594, 44.1805534362793, 73.65323638916016, 294.6500549316406, 222.37525939941406, 450.3363952636719, 153.06893920898438, 237.55113220214844, 88.4775619506836, 145.06021118164062, 187.63023376464844, 77.26708221435547, 725.3973388671875, 1650.884033203125, 85.33438873291016, 188.82009887695312, 772.3320922851562, 495.794921875, 586.9680786132812, 254.0563507080078, 175.53260803222656, 1419.224853515625, 1071.5010986328125, 129.92054748535156, 597.01953125, 661.3544921875, 212.7585906982422, 1018.0895385742188, 520.3568115234375, 598.8314208984375, 1185.8719482421875, 518.2396240234375, 721.784912109375, 380.3520202636719, 279.728271484375, 643.9630737304688, 380.4718933105469, 716.1047973632812, 354.6064147949219, 611.677001953125, 541.646484375, 1102.257080078125, 1027.5821533203125, 727.0606689453125, 713.2801513671875, 651.4913940429688, 454.1740417480469, 620.558349609375, 543.79052734375, 609.0773315429688, 470.25103759765625, 461.202392578125, 147.12509155273438, 59.2797966003418, 54.363922119140625, 45.394752502441406, 40.4892463684082, 77.04135131835938, 34.6254768371582, 44.23641586303711, 39.41002655029297, 31.695220947265625, 651.12451171875, 31.64655113220215, 66.12471771240234, 31.60431480407715, 31.55742835998535, 64.98373413085938, 26.742563247680664, 37.22663116455078, 42.82615661621094, 23.77883529663086, 23.748872756958008, 22.7905330657959, 21.81470489501953, 109.76240539550781, 19.835657119750977, 26.399015426635742, 154.39076232910156, 31.01900863647461, 35.63274002075195, 99.16124725341797, 1677.00927734375, 105.62274932861328, 778.9310302734375, 398.4994201660156, 77.13448333740234, 93.4471664428711, 1352.06689453125, 135.2187042236328, 94.24077606201172, 149.6956329345703, 623.3020629882812, 100.90885162353516, 118.37598419189453, 3833.804931640625, 359.3692321777344, 708.9095458984375, 87.41415405273438, 1036.9063720703125, 359.5329895019531, 215.87010192871094, 543.5847778320312, 181.1862030029297, 201.30516052246094, 192.58494567871094, 877.9151000976562, 1780.93603515625, 477.08343505859375, 457.2939758300781, 747.4269409179688, 472.1666564941406, 291.4468994140625, 290.2742614746094, 1802.6129150390625, 2329.316162109375, 648.4495849609375, 641.6511840820312, 568.9811401367188, 586.8651123046875, 565.2196655273438, 1370.134521484375, 584.7853393554688, 841.7091064453125, 711.8220825195312, 575.1387329101562, 510.074462890625, 486.0284118652344, 424.7566223144531, 434.83270263671875, 30.385818481445312, 25.2310848236084, 44.361114501953125, 24.90134620666504, 24.439651489257812, 60.60185241699219, 33.440147399902344, 15.1280517578125, 26.1032772064209, 26.915735244750977, 43.37696838378906, 85.42399597167969, 61.11654281616211, 36.82383728027344, 85.18360900878906, 31.312801361083984, 17.10238265991211, 34.93381881713867, 35.37371063232422, 21.703794479370117, 23.53724479675293, 34.139892578125, 14.197644233703613, 23.05193519592285, 250.8737335205078, 63.4796257019043, 12.7470064163208, 29.35137367248535, 55.054046630859375, 39.170772552490234, 199.2671661376953, 2468.301025390625, 316.64544677734375, 988.9981689453125, 142.5059051513672, 325.5495910644531, 61.6923828125, 1671.6700439453125, 471.2201843261719, 211.5994110107422, 243.14561462402344, 157.6297607421875, 280.29449462890625, 1523.7635498046875, 206.58270263671875, 58.694244384765625, 798.06591796875, 172.32386779785156, 170.99404907226562, 151.97268676757812, 251.4198455810547, 404.581298828125, 885.7205200195312, 514.9871215820312, 1325.477783203125, 923.0220336914062, 415.5189208984375, 1005.728515625, 390.0562744140625, 775.9457397460938, 494.63934326171875, 724.8248901367188, 749.9324951171875, 472.1700744628906, 507.3338928222656, 634.575927734375, 922.737060546875, 604.9880981445312, 526.1513061523438, 473.00628662109375, 433.05743408203125, 382.8312683105469, 367.87115478515625, 344.791748046875, 75.04544830322266, 73.50049591064453, 23.377952575683594, 36.46289825439453, 12.256136894226074, 13.955601692199707, 49.233055114746094, 34.10558319091797, 79.86039733886719, 48.179996490478516, 19.092147827148438, 10.161730766296387, 30.66936683654785, 24.78489112854004, 83.610107421875, 58.37152099609375, 48.68385696411133, 28.217952728271484, 9.72764778137207, 17.59241485595703, 12.76806354522705, 42.229618072509766, 250.3585968017578, 11.657586097717285, 16.86295509338379, 19.074201583862305, 73.30241394042969, 10.950634002685547, 46.01606369018555, 22.18938446044922, 91.53875732421875, 45.133914947509766, 1788.781005859375, 57.21824264526367, 595.00146484375, 2101.844970703125, 109.30411529541016, 2581.600341796875, 100.6042251586914, 399.48663330078125, 520.9989624023438, 441.8891296386719, 1364.1033935546875, 171.9468231201172, 737.4931640625, 135.21141052246094, 943.6610717773438, 587.6874389648438, 414.3431701660156, 269.2207946777344, 400.0191955566406, 445.3006286621094, 583.812744140625, 534.4696044921875, 612.0328369140625, 430.8773193359375, 341.45098876953125, 1318.09228515625, 266.843505859375, 334.30987548828125, 521.989013671875, 571.0143432617188, 475.80242919921875, 681.8434448242188, 470.4477233886719, 282.8685607910156, 539.808837890625, 312.6236267089844, 413.8999938964844, 369.9715881347656, 361.1089172363281, 686.97265625, 60.88877868652344, 55.15941619873047, 36.055511474609375, 28.777482986450195, 67.51849365234375, 29.23113250732422, 50.0360107421875, 57.14201736450195, 195.68869018554688, 27.352046966552734, 34.89754104614258, 37.59454345703125, 98.57051086425781, 25.94794273376465, 22.294322967529297, 22.074386596679688, 16.770265579223633, 76.66902160644531, 20.14078140258789, 413.2235107421875, 11.428545951843262, 59.25817108154297, 150.1082763671875, 16.44094467163086, 19.234241485595703, 50.152435302734375, 19.09238052368164, 27.836063385009766, 96.6860580444336, 107.7174301147461, 175.01100158691406, 462.02642822265625, 335.8743896484375, 53.052242279052734, 61.24262619018555, 263.1546936035156, 74.00553131103516, 44.86934280395508, 174.7030029296875, 235.5652618408203, 289.1019592285156, 272.0010986328125, 68.13565063476562, 107.4412841796875, 70.91954040527344, 291.5918884277344, 130.2708282470703, 96.94986724853516, 769.1085815429688, 322.59039306640625, 123.5674819946289, 307.3699951171875, 490.9786071777344, 243.02346801757812, 151.79953002929688, 142.22315979003906, 184.2030487060547, 142.8516387939453, 187.85989379882812, 244.94419860839844, 295.9361572265625, 338.88385009765625, 171.07904052734375, 220.47633361816406, 173.1573944091797, 171.17584228515625, 188.5210418701172, 158.48239135742188], \"loglift\": [30.0, 29.0, 28.0, 27.0, 26.0, 25.0, 24.0, 23.0, 22.0, 21.0, 20.0, 19.0, 18.0, 17.0, 16.0, 15.0, 14.0, 13.0, 12.0, 11.0, 10.0, 9.0, 8.0, 7.0, 6.0, 5.0, 4.0, 3.0, 2.0, 1.0, 1.8427000045776367, 1.8371000289916992, 1.835800051689148, 1.8336000442504883, 1.8260999917984009, 1.8257999420166016, 1.8244999647140503, 1.8214000463485718, 1.8183000087738037, 1.8178000450134277, 1.8174999952316284, 1.8154000043869019, 1.8107999563217163, 1.8068000078201294, 1.8032000064849854, 1.8000999689102173, 1.7962000370025635, 1.7960000038146973, 1.7948999404907227, 1.7941999435424805, 1.7930999994277954, 1.7913999557495117, 1.7893999814987183, 1.781599998474121, 1.781000018119812, 1.780900001525879, 1.776900053024292, 1.7754000425338745, 1.7750999927520752, 1.7716000080108643, 1.739799976348877, 1.7477999925613403, 1.7623000144958496, 1.6448999643325806, 1.6394000053405762, 1.5809999704360962, 1.7163000106811523, 1.6777000427246094, 1.6617000102996826, 1.43149995803833, 1.4911999702453613, 1.4728000164031982, 1.5515999794006348, 1.5455000400543213, 1.413100004196167, 1.6749999523162842, 1.101699948310852, 1.3580000400543213, 1.141700029373169, 1.0989999771118164, 1.6956000328063965, 1.3533999919891357, 1.1689000129699707, 0.762499988079071, 1.243299961090088, 1.0884000062942505, 1.0305999517440796, 0.8568000197410583, 1.0605000257492065, 0.8147000074386597, 0.8989999890327454, 0.942799985408783, 1.0046000480651855, 0.6484000086784363, 1.2216999530792236, 0.33730000257492065, 0.4740000069141388, 0.3828999996185303, 0.635200023651123, 0.5473999977111816, 0.4505999982357025, 0.3522999882698059, -0.4844000041484833, 0.042399998754262924, 0.47510001063346863, 0.25450000166893005, 0.1598999947309494, 0.19130000472068787, 0.6057999730110168, 1.9387999773025513, 1.9329999685287476, 1.9318000078201294, 1.9286999702453613, 1.926800012588501, 1.9261000156402588, 1.9184000492095947, 1.9142999649047852, 1.9118000268936157, 1.9086999893188477, 1.9075000286102295, 1.9071999788284302, 1.9057999849319458, 1.9050999879837036, 1.9050999879837036, 1.9039000272750854, 1.9038000106811523, 1.9019999504089355, 1.9014999866485596, 1.9011000394821167, 1.9006999731063843, 1.9005999565124512, 1.9004000425338745, 1.8991999626159668, 1.8978999853134155, 1.8949999809265137, 1.894700050354004, 1.892300009727478, 1.892199993133545, 1.8904999494552612, 1.888200044631958, 1.8865000009536743, 1.888700008392334, 1.8726999759674072, 1.8416999578475952, 1.8163000345230103, 1.822700023651123, 1.8480000495910645, 1.8725999593734741, 1.840499997138977, 1.829699993133545, 1.8593000173568726, 1.76010000705719, 1.7125999927520752, 1.8639999628067017, 1.7964999675750732, 1.6837999820709229, 1.4895000457763672, 1.697700023651123, 1.486899971961975, 1.3393000364303589, 1.4848999977111816, 1.7029999494552612, 1.201799988746643, 1.673799991607666, 1.6394000053405762, 1.229099988937378, 0.9014999866485596, 1.1535999774932861, 0.9445000290870667, 1.1886999607086182, 1.4021999835968018, 1.2408000230789185, 1.4577000141143799, 1.3765000104904175, 1.451200008392334, 0.8170999884605408, 0.570900022983551, 1.1832000017166138, 0.7146999835968018, 0.8489000201225281, 0.8044999837875366, 0.9983000159263611, 0.8123999834060669, 0.746399998664856, 0.3873000144958496, 0.5428000092506409, 0.2401999980211258, 0.5552999973297119, -0.004900000058114529, 0.131400004029274, -0.8472999930381775, -0.10040000081062317, 0.7411999702453613, 0.20520000159740448, -0.02070000022649765, 1.9047000408172607, 1.9026000499725342, 1.8797999620437622, 1.878600001335144, 1.8756999969482422, 1.8738000392913818, 1.868399977684021, 1.8646999597549438, 1.8427000045776367, 1.8314000368118286, 1.808899998664856, 1.8021999597549438, 1.7963000535964966, 1.7942999601364136, 1.7699999809265137, 1.7651000022888184, 1.756500005722046, 1.7491999864578247, 1.7279000282287598, 1.7268999814987183, 1.712499976158142, 1.711300015449524, 1.6979000568389893, 1.6937999725341797, 1.6912000179290771, 1.6829999685287476, 1.6780999898910522, 1.6770000457763672, 1.6744999885559082, 1.6729999780654907, 1.6679999828338623, 1.6597000360488892, 1.6181000471115112, 1.6562000513076782, 1.392699956893921, 1.3049999475479126, 1.3085999488830566, 1.488800048828125, 1.1567000150680542, 1.2719999551773071, 1.3982000350952148, 1.0219000577926636, 1.1339000463485718, 1.4170000553131104, 1.6266000270843506, 1.1105999946594238, 1.2378000020980835, 0.9650999903678894, 0.8592000007629395, 0.9193000197410583, 1.0981999635696411, 0.5516999959945679, 0.9750000238418579, 1.3870999813079834, 0.8496999740600586, 0.2418999969959259, 0.34150001406669617, 0.29820001125335693, 0.6439999938011169, 0.4876999855041504, 0.48179998993873596, 0.08129999786615372, 0.8939999938011169, 0.6308000087738037, -0.33719998598098755, 0.12620000541210175, 0.1923999935388565, 0.18799999356269836, 0.06840000301599503, 0.0284000001847744, -0.4392000138759613, -0.008100000210106373, 0.2705000042915344, 2.05679988861084, 2.0504000186920166, 2.047100067138672, 2.0381999015808105, 2.037100076675415, 2.0367000102996826, 2.0357000827789307, 2.035399913787842, 2.0348000526428223, 2.031399965286255, 2.0297999382019043, 2.0288000106811523, 2.02810001373291, 2.026900053024292, 2.0250000953674316, 2.022200107574463, 2.0165998935699463, 2.0120999813079834, 2.011399984359741, 2.0088000297546387, 2.007699966430664, 2.0058999061584473, 2.0051000118255615, 2.0046000480651855, 2.0007998943328857, 1.9988000392913818, 1.9974000453948975, 1.996000051498413, 1.9951000213623047, 1.9925999641418457, 1.9908000230789185, 1.9688999652862549, 1.9337999820709229, 1.9805999994277954, 1.9478000402450562, 1.9701000452041626, 1.9510999917984009, 1.936900019645691, 1.8910000324249268, 1.9251999855041504, 1.5442999601364136, 1.6361000537872314, 1.891800045967102, 1.5951000452041626, 1.8580000400543213, 1.8319000005722046, 1.61899995803833, 1.3421000242233276, 1.7141000032424927, 1.6003999710083008, 1.3889000415802002, 1.4780000448226929, 1.7764999866485596, 1.3625999689102173, 1.7558000087738037, 1.1267000436782837, 1.65339994430542, 1.2330000400543213, 1.2066999673843384, 1.2761000394821167, 1.0814000368118286, 1.3401999473571777, 1.1711000204086304, 1.1949000358581543, 1.5217000246047974, 1.4768999814987183, 1.5400999784469604, 1.2969000339508057, 1.0908000469207764, 1.2402000427246094, 0.6995999813079834, 1.4242000579833984, 1.236199975013733, 0.9753000140190125, 0.3847000002861023, 0.8532000184059143, 0.8659999966621399, 0.47760000824928284, 1.1145999431610107, 0.7404000163078308, 0.5540000200271606, 0.39259999990463257, 0.32420000433921814, -0.41999998688697815, 0.0357000008225441, 0.037700001150369644, 0.07429999858140945, 0.5097000002861023, 0.15760000050067902, 2.18179988861084, 2.1779000759124756, 2.1744000911712646, 2.1733999252319336, 2.1714999675750732, 2.167799949645996, 2.150399923324585, 2.147200107574463, 2.1461000442504883, 2.138400077819824, 2.1354000568389893, 2.1345999240875244, 2.131500005722046, 2.1312999725341797, 2.128000020980835, 2.1226000785827637, 2.11929988861084, 2.1147000789642334, 2.112799882888794, 2.105799913406372, 2.102400064468384, 2.088599920272827, 2.087899923324585, 2.0878000259399414, 2.0738000869750977, 2.069700002670288, 2.069200038909912, 2.0631000995635986, 2.059799909591675, 2.048099994659424, 2.0425000190734863, 2.0399999618530273, 1.9708000421524048, 1.9565999507904053, 1.9794000387191772, 2.0134999752044678, 2.0316998958587646, 1.9836000204086304, 1.904099941253662, 1.854099988937378, 1.8839999437332153, 1.8811999559402466, 1.9305000305175781, 1.8086999654769897, 1.72160005569458, 1.6539000272750854, 1.5779000520706177, 1.6348999738693237, 1.3579000234603882, 1.6621999740600586, 1.7186000347137451, 1.4594000577926636, 1.2618999481201172, 1.4565999507904053, 1.0928000211715698, 0.9735000133514404, 1.604699969291687, 1.7222000360488892, 0.9476000070571899, 1.001099944114685, 1.1922999620437622, 1.0923999547958374, 0.7555999755859375, 0.9233999848365784, 0.7479000091552734, 0.4075999855995178, 0.9344000220298767, 0.4893999993801117, 0.5038999915122986, 0.6819999814033508, 0.41620001196861267, -0.19499999284744263, 0.249099999666214, 0.5339000225067139, 0.6152999997138977, 2.3796000480651855, 2.3759000301361084, 2.373800039291382, 2.3666999340057373, 2.3636999130249023, 2.3633999824523926, 2.358599901199341, 2.355600118637085, 2.3482000827789307, 2.347399950027466, 2.3441998958587646, 2.343400001525879, 2.343400001525879, 2.341900110244751, 2.340100049972534, 2.338900089263916, 2.336400032043457, 2.335900068283081, 2.333899974822998, 2.331899881362915, 2.331399917602539, 2.3308000564575195, 2.330699920654297, 2.329699993133545, 2.3290998935699463, 2.3268001079559326, 2.32069993019104, 2.320199966430664, 2.3160998821258545, 2.315500020980835, 2.313999891281128, 2.3085999488830566, 2.3143999576568604, 2.3108999729156494, 2.2643001079559326, 2.2802999019622803, 2.3076999187469482, 2.2751998901367188, 2.3017001152038574, 2.280600070953369, 2.210599899291992, 2.2204999923706055, 2.183199882507324, 2.2372000217437744, 2.1942999362945557, 2.224299907684326, 2.1598000526428223, 2.0715999603271484, 2.1774001121520996, 1.7884999513626099, 1.6016000509262085, 2.145400047302246, 1.9740999937057495, 1.617400050163269, 1.705899953842163, 1.6633000373840332, 1.8696000576019287, 1.961300015449524, 1.3930000066757202, 1.3645000457763672, 2.021899938583374, 1.5367000102996826, 1.4759999513626099, 1.8286999464035034, 1.0915000438690186, 1.3078999519348145, 1.200600028038025, 0.7689999938011169, 1.2263000011444092, 0.9886000156402588, 1.3494999408721924, 1.5719000101089478, 0.8521999716758728, 1.2896000146865845, 0.6887999773025513, 1.3380999565124512, 0.7595999836921692, 0.890999972820282, 0.10499999672174454, 0.1404000073671341, 0.3296999931335449, 0.02590000070631504, 0.1809999942779541, 0.8485999703407288, 0.13449999690055847, 0.3264000117778778, -0.05649999901652336, 0.32710000872612, -0.5752000212669373, 2.5316998958587646, 2.522200107574463, 2.521199941635132, 2.515899896621704, 2.5139999389648438, 2.5132999420166016, 2.511699914932251, 2.5114998817443848, 2.510999917984009, 2.5102999210357666, 2.509999990463257, 2.508699893951416, 2.5078001022338867, 2.5072999000549316, 2.5058000087738037, 2.505500078201294, 2.5046000480651855, 2.503999948501587, 2.500699996948242, 2.5004000663757324, 2.4990999698638916, 2.498699903488159, 2.497499942779541, 2.494499921798706, 2.493299961090088, 2.4911999702453613, 2.489799976348877, 2.488100051879883, 2.4853999614715576, 2.484100103378296, 2.475399971008301, 2.4834001064300537, 2.4614999294281006, 2.456399917602539, 2.477099895477295, 2.4723000526428223, 2.4131999015808105, 2.4537999629974365, 2.4607999324798584, 2.4268999099731445, 2.3457000255584717, 2.436800003051758, 2.4026999473571777, 1.968999981880188, 2.243299961090088, 2.1098999977111816, 2.3873000144958496, 1.9677000045776367, 2.1287999153137207, 2.2232000827789307, 2.040800094604492, 2.222599983215332, 2.1524999141693115, 2.136399984359741, 1.5406999588012695, 1.2350000143051147, 1.710800051689148, 1.6359000205993652, 1.3356000185012817, 1.5851000547409058, 1.8453999757766724, 1.7891000509262085, 0.4530999958515167, 0.07000000029802322, 1.0612000226974487, 1.0130000114440918, 1.107800006866455, 1.0360000133514404, 0.9538000226020813, -0.23420000076293945, 0.76910001039505, -0.35760000348091125, -0.08460000157356262, 0.23749999701976776, -0.33230000734329224, -0.2953999936580658, 0.8605999946594238, 0.022299999371170998, 2.671799898147583, 2.6679999828338623, 2.667799949645996, 2.6556999683380127, 2.6380999088287354, 2.6219000816345215, 2.6171000003814697, 2.607800006866455, 2.595599889755249, 2.589400053024292, 2.585400104522705, 2.561500072479248, 2.5611000061035156, 2.538800001144409, 2.538800001144409, 2.5320000648498535, 2.514699935913086, 2.507999897003174, 2.5020999908447266, 2.492799997329712, 2.4918999671936035, 2.4911000728607178, 2.4881999492645264, 2.4758999347686768, 2.474100112915039, 2.4570999145507812, 2.44950008392334, 2.4465999603271484, 2.435699939727783, 2.4309000968933105, 2.428499937057495, 2.394399881362915, 2.302799940109253, 2.22189998626709, 2.343600034713745, 2.242300033569336, 2.3896000385284424, 2.0555999279022217, 2.1654999256134033, 2.2492001056671143, 2.1047000885009766, 2.1956000328063965, 2.0362000465393066, 1.5084999799728394, 2.029900074005127, 2.3731000423431396, 1.5299999713897705, 2.00600004196167, 2.0053000450134277, 2.0467000007629395, 1.8602999448776245, 1.5822999477386475, 1.2400000095367432, 1.4119999408721924, 0.9570000171661377, 0.9617999792098999, 1.4003000259399414, 0.8751999735832214, 1.4285000562667847, 0.7684000134468079, 0.9713000059127808, 0.6050999760627747, 0.22840000689029694, 0.6704999804496765, 0.476500004529953, -0.02419999986886978, -0.6807000041007996, -0.2547999918460846, 0.03909999877214432, 0.18050000071525574, 0.41609999537467957, 0.7239999771118164, -0.23989999294281006, -0.7397000193595886, 2.8071000576019287, 2.799799919128418, 2.7804999351501465, 2.766700029373169, 2.7481000423431396, 2.734999895095825, 2.696000099182129, 2.6765999794006348, 2.615799903869629, 2.5957999229431152, 2.5790998935699463, 2.494800090789795, 2.4816999435424805, 2.4727001190185547, 2.4637999534606934, 2.461400032043457, 2.4567999839782715, 2.456700086593628, 2.448199987411499, 2.427000045776367, 2.4235999584198, 2.4058001041412354, 2.401400089263916, 2.383500099182129, 2.3531999588012695, 2.3364999294281006, 2.3364999294281006, 2.325900077819824, 2.305500030517578, 2.301500082015991, 2.297100067138672, 2.2911999225616455, 2.1048998832702637, 2.26419997215271, 2.0134999752044678, 1.605299949645996, 2.021899938583374, 1.3791999816894531, 2.032099962234497, 1.6331000328063965, 1.5166000127792358, 1.5676000118255615, 1.0914000272750854, 1.7763999700546265, 1.1412999629974365, 1.804800033569336, 0.7289000153541565, 0.9355000257492065, 1.1167999505996704, 1.3070000410079956, 1.0273000001907349, 0.9502999782562256, 0.6510999798774719, 0.682699978351593, 0.5307000279426575, 0.7937999963760376, 0.9804999828338623, -0.2184000015258789, 1.148300051689148, 0.9085000157356262, 0.4544000029563904, 0.3456999957561493, 0.450300008058548, -0.029500000178813934, 0.3935999870300293, 1.0622999668121338, -0.08020000159740448, 0.8192999958992004, -0.003100000089034438, 0.13339999318122864, 0.2125999927520752, 3.5778000354766846, 3.567199945449829, 3.559299945831299, 3.5495998859405518, 3.547300100326538, 3.543100118637085, 3.5292999744415283, 3.5232999324798584, 3.509500026702881, 3.5007998943328857, 3.499799966812134, 3.492500066757202, 3.4874000549316406, 3.430000066757202, 3.419100046157837, 3.4142000675201416, 3.4070000648498535, 3.4049999713897705, 3.4026999473571777, 3.398900032043457, 3.398200035095215, 3.396699905395508, 3.3429999351501465, 3.34060001373291, 3.340399980545044, 3.3173000812530518, 3.3083999156951904, 3.3069000244140625, 3.305299997329712, 3.303999900817871, 3.299799919128418, 3.288100004196167, 3.2774999141693115, 3.2383999824523926, 3.276400089263916, 3.242300033569336, 3.027600049972534, 3.1846001148223877, 3.2783000469207764, 2.9872000217437744, 2.910399913787842, 2.6310999393463135, 2.5272998809814453, 3.1435000896453857, 2.9202001094818115, 3.1191999912261963, 2.3001999855041504, 2.678999900817871, 2.8145999908447266, 0.9319000244140625, 1.6406999826431274, 2.5292999744415283, 1.3431999683380127, 0.6740999817848206, 1.3008999824523926, 1.9814000129699707, 2.0638999938964844, 1.5764000415802002, 2.026400089263916, 1.4479000568389893, 0.8228999972343445, 0.08229999989271164, -0.8130999803543091, 1.2913000583648682, 0.038600001484155655, 1.0525000095367432, 1.0156999826431274, 0.16670000553131104, -0.17239999771118164], \"Total\": [21929.0, 27501.0, 15241.0, 14510.0, 10901.0, 6777.0, 3397.0, 7079.0, 3655.0, 6324.0, 6559.0, 8269.0, 7681.0, 7635.0, 3229.0, 5086.0, 6037.0, 1786.0, 5631.0, 2024.0, 1532.0, 4663.0, 2250.0, 5557.0, 3961.0, 9005.0, 3871.0, 3950.0, 1835.0, 1956.0, 73.72126007080078, 72.75001525878906, 52.106204986572266, 62.94072341918945, 37.363914489746094, 31.466611862182617, 37.37134552001953, 31.472909927368164, 27.536643981933594, 26.556102752685547, 24.588302612304688, 28.52611541748047, 22.625783920288086, 25.58261489868164, 18.69296646118164, 17.7111759185791, 23.619483947753906, 63.056549072265625, 19.676536560058594, 24.609310150146484, 86.4837875366211, 14.761648178100586, 45.233985900878906, 14.76237964630127, 12.796661376953125, 75.8313217163086, 57.04402542114258, 19.663442611694336, 110.10320281982422, 156.48422241210938, 424.6600036621094, 163.7475128173828, 44.29471969604492, 1939.4879150390625, 361.97442626953125, 833.9569091796875, 85.76446533203125, 155.2292938232422, 184.3323211669922, 2945.173828125, 985.73974609375, 1102.2589111328125, 457.3600158691406, 483.2110900878906, 1448.521484375, 106.6799087524414, 15241.4580078125, 1771.6719970703125, 4738.66162109375, 3961.319580078125, 86.76173400878906, 710.5453491210938, 2075.689208984375, 21929.927734375, 1150.0489501953125, 2226.421875, 2441.021484375, 5384.7978515625, 1951.4990234375, 5631.5546875, 3801.97998046875, 2607.4697265625, 1974.265869140625, 6963.4326171875, 843.41064453125, 14510.3115234375, 9005.3681640625, 11777.802734375, 4663.6650390625, 5645.7080078125, 7056.00341796875, 8269.828125, 27501.484375, 9809.4970703125, 4528.95068359375, 5743.34375, 6559.14990234375, 5971.77880859375, 3267.237060546875, 226.6881103515625, 87.7286376953125, 86.74278259277344, 141.94557189941406, 52.25129699707031, 55.207008361816406, 38.45679473876953, 30.569673538208008, 40.42505645751953, 25.641950607299805, 97.59513854980469, 25.642242431640625, 24.656633377075195, 23.671104431152344, 23.671232223510742, 94.67833709716797, 23.67224884033203, 31.56279754638672, 21.70047378540039, 24.661739349365234, 113.3394775390625, 67.09378051757812, 21.70003890991211, 20.7146053314209, 20.71512222290039, 37.46770095825195, 43.41139221191406, 20.71491813659668, 36.509193420410156, 160.6670684814453, 121.42176055908203, 120.2995376586914, 69.98196411132812, 170.60397338867188, 447.7998046875, 1478.087646484375, 595.973388671875, 215.03721618652344, 80.83959197998047, 198.2666015625, 246.9462890625, 107.35929107666016, 700.64208984375, 1373.6307373046875, 62.181556701660156, 147.25120544433594, 530.3905029296875, 2841.43505859375, 333.6265869140625, 2250.718017578125, 5557.65771484375, 1740.2503662109375, 307.67877197265625, 14510.3115234375, 335.848388671875, 409.67645263671875, 4663.6650390625, 21929.927734375, 5631.5546875, 15241.4580078125, 3431.682373046875, 1112.8865966796875, 2234.896240234375, 782.9578857421875, 1042.67578125, 745.9291381835938, 5384.7978515625, 11777.802734375, 1444.8487548828125, 5645.7080078125, 3643.9052734375, 3867.612060546875, 2201.193603515625, 2809.173828125, 3143.754638671875, 6559.14990234375, 4738.66162109375, 8269.828125, 4528.95068359375, 9809.4970703125, 6777.45556640625, 27501.484375, 9005.3681640625, 2683.864990234375, 4753.3583984375, 5958.8330078125, 23.486873626708984, 111.22920227050781, 53.02769470214844, 18.36878204345703, 12.250150680541992, 427.1011047363281, 11.227054595947266, 88.67996215820312, 46.86676788330078, 276.95458984375, 11.224263191223145, 11.20220947265625, 17.27881622314453, 14.278757095336914, 23.325590133666992, 26.424943923950195, 32.57749938964844, 19.301652908325195, 525.38232421875, 106.5967788696289, 50.70104217529297, 27.40357208251953, 19.267139434814453, 51.73631286621094, 11.144634246826172, 13.188504219055176, 269.3410949707031, 21.285654067993164, 14.199373245239258, 35.56822204589844, 122.4891357421875, 181.15203857421875, 585.8482666015625, 71.949951171875, 27501.484375, 8269.828125, 2813.15966796875, 345.81951904296875, 7056.00341796875, 2226.421875, 585.839111328125, 6963.4326171875, 2455.432373046875, 282.0361022949219, 64.82684326171875, 1974.265869140625, 802.0977172851562, 3961.319580078125, 6559.14990234375, 4502.55615234375, 1649.111083984375, 21929.927734375, 2392.029052734375, 291.62744140625, 2281.087158203125, 14510.3115234375, 9809.4970703125, 9005.3681640625, 3083.251953125, 4753.3583984375, 4310.13623046875, 11777.802734375, 1420.2681884765625, 2303.28955078125, 15241.4580078125, 5557.65771484375, 4663.6650390625, 4528.95068359375, 5322.99755859375, 5645.7080078125, 10901.111328125, 5631.5546875, 3801.97998046875, 97.45498657226562, 58.67842102050781, 36.80590057373047, 31.830249786376953, 66.60258483886719, 48.75514602661133, 24.872894287109375, 24.87238883972168, 46.72857666015625, 76.5400619506836, 75.61001586914062, 26.85820770263672, 20.894607543945312, 26.852766036987305, 28.851476669311523, 18.90508270263672, 16.916248321533203, 23.863752365112305, 66.6084976196289, 20.883623123168945, 71.59614562988281, 14.926009178161621, 13.932875633239746, 66.69544219970703, 62.557132720947266, 16.907245635986328, 38.735595703125, 20.874595642089844, 61.61793899536133, 27.817296981811523, 79.41416931152344, 359.58380126953125, 1956.8636474609375, 44.87919998168945, 122.68734741210938, 56.70756912231445, 78.72713470458984, 103.05326843261719, 217.19224548339844, 104.62608337402344, 6324.6806640625, 1713.310302734375, 112.53795623779297, 1673.4649658203125, 143.49278259277344, 161.1381072998047, 827.5775146484375, 6037.52734375, 345.1497497558594, 677.6531372070312, 2260.1943359375, 1291.3919677734375, 220.7294921875, 2152.655517578125, 222.5120391845703, 4896.32275390625, 334.9259033203125, 2221.50244140625, 2326.253662109375, 1692.81103515625, 3754.44384765625, 1171.23779296875, 2231.205322265625, 1980.0513916015625, 530.4401245117188, 606.2088012695312, 470.6941223144531, 1083.74462890625, 2175.3681640625, 1274.431396484375, 5429.96728515625, 627.5941162109375, 1090.1104736328125, 2274.725341796875, 10901.111328125, 3016.989501953125, 2887.5576171875, 7635.03466796875, 1482.6953125, 3524.02001953125, 5322.99755859375, 7681.333984375, 7079.28759765625, 27501.484375, 11777.802734375, 9809.4970703125, 9005.3681640625, 3950.46533203125, 5971.77880859375, 46.314353942871094, 30.889678955078125, 56.959434509277344, 28.96922492980957, 26.070144653320312, 50.173038482666016, 16.429258346557617, 15.464790344238281, 41.50019836425781, 13.536796569824219, 13.53681755065918, 52.14736557006836, 13.541035652160645, 12.573729515075684, 50.32279968261719, 13.538326263427734, 10.644584655761719, 79.40885925292969, 44.462921142578125, 2024.750732421875, 152.90711975097656, 59.909507751464844, 18.40228271484375, 44.564453125, 23.37417984008789, 21.25663948059082, 47.40104675292969, 23.294363021850586, 54.67095947265625, 19.34648895263672, 118.00801849365234, 114.31608581542969, 1109.632080078125, 1676.452880859375, 769.080322265625, 225.20726013183594, 130.7778778076172, 242.11265563964844, 1156.2049560546875, 1020.95068359375, 550.7403564453125, 483.8481750488281, 243.23194885253906, 685.1868286132812, 1369.71923828125, 1803.5487060546875, 2564.38330078125, 1601.8153076171875, 7635.03466796875, 679.1668090820312, 482.9347229003906, 1917.53662109375, 5105.96533203125, 1317.03515625, 7079.28759765625, 7681.333984375, 533.5072631835938, 336.525390625, 5086.72705078125, 3950.46533203125, 1893.41650390625, 2406.88427734375, 5958.8330078125, 3524.02001953125, 4896.32275390625, 10901.111328125, 2668.538818359375, 6324.6806640625, 5429.96728515625, 3724.4521484375, 5743.34375, 11777.802734375, 6037.52734375, 3871.564697265625, 3397.79736328125, 58.102264404296875, 92.96102905273438, 43.58450698852539, 40.69111251831055, 30.036121368408203, 159.8180389404297, 46.50788879394531, 26.16883659362793, 19.390634536743164, 19.391122817993164, 37.78965759277344, 21.3346004486084, 18.423038482666016, 19.390335083007812, 23.271137237548828, 16.48765754699707, 44.62665557861328, 26.18175506591797, 73.69503021240234, 19.404752731323242, 14.552443504333496, 14.552459716796875, 14.552627563476562, 14.553757667541504, 33.94095230102539, 13.584588050842285, 13.584504127502441, 12.617293357849121, 13.585259437561035, 13.586840629577637, 83.48534393310547, 123.22482299804688, 31.146615982055664, 41.754459381103516, 903.8047485351562, 242.15512084960938, 56.28351593017578, 130.9363250732422, 48.57676696777344, 82.70649719238281, 354.8476867675781, 265.1650390625, 557.4379272460938, 179.5072784423828, 290.7860412597656, 105.1026382446289, 183.79840087890625, 259.6723327636719, 96.1976089477539, 1332.4686279296875, 3655.627685546875, 109.6906967163086, 288.07177734375, 1683.29296875, 989.077392578125, 1221.9373779296875, 430.2920227050781, 271.2448425292969, 3871.564697265625, 3007.484619140625, 188.95912170410156, 1410.6009521484375, 1660.41650390625, 375.4111633300781, 3754.44384765625, 1545.6199951171875, 1980.0513916015625, 6037.52734375, 1670.191650390625, 2950.43603515625, 1083.74462890625, 638.0584716796875, 3016.989501953125, 1150.95166015625, 3950.46533203125, 1021.8780517578125, 3143.754638671875, 2441.021484375, 10901.111328125, 9809.4970703125, 5743.34375, 7635.03466796875, 5971.77880859375, 2135.5009765625, 5958.8330078125, 4310.13623046875, 7079.28759765625, 3724.4521484375, 9005.3681640625, 148.16600036621094, 60.26458740234375, 55.32575225830078, 46.44021224975586, 41.500919342041016, 79.02528381347656, 35.573081970214844, 45.45869445800781, 40.51651382446289, 32.608985900878906, 670.1088256835938, 32.610450744628906, 68.2018814086914, 32.613807678222656, 32.61329650878906, 67.18114471435547, 27.67137336730957, 38.54118347167969, 44.48588180541992, 24.70840072631836, 24.709495544433594, 23.720233917236328, 22.73277473449707, 114.71896362304688, 20.757610321044922, 27.683162689208984, 162.1267547607422, 32.630409240722656, 37.58198547363281, 104.72431945800781, 1786.6722412109375, 111.63294982910156, 841.4639282226562, 432.684326171875, 82.03955841064453, 99.86145782470703, 1532.8360595703125, 147.20034790039062, 101.87612915039062, 167.40328979492188, 755.9679565429688, 111.73080444335938, 135.6208038330078, 6777.45556640625, 482.8973083496094, 1088.4605712890625, 101.70154571533203, 1835.2838134765625, 541.7263793945312, 295.9338684082031, 894.3823852539062, 248.55242919921875, 296.1892395019531, 287.95208740234375, 2381.646484375, 6559.14990234375, 1091.8001708984375, 1127.9354248046875, 2489.154052734375, 1225.3369140625, 582.9647216796875, 614.2693481445312, 14510.3115234375, 27501.484375, 2841.43505859375, 2950.43603515625, 2379.7109375, 2637.3125, 2757.5537109375, 21929.927734375, 3431.682373046875, 15241.4580078125, 9809.4970703125, 5743.34375, 9005.3681640625, 8269.828125, 2274.725341796875, 5384.7978515625, 31.69617462158203, 26.419206619262695, 46.45845031738281, 26.397186279296875, 26.36602210998535, 66.44869232177734, 36.84304428100586, 16.82328987121582, 29.3830509185791, 30.487361907958984, 49.326698303222656, 99.49154663085938, 71.20987701416016, 43.872276306152344, 101.49104309082031, 37.563720703125, 20.874540328979492, 42.92284393310547, 43.720550537109375, 27.077190399169922, 29.39177131652832, 42.663421630859375, 17.793254852294922, 29.247325897216797, 318.8883056640625, 82.07324981689453, 16.6069278717041, 38.34941864013672, 72.71894073486328, 51.988040924072266, 265.10308837890625, 3397.79736328125, 477.7103576660156, 1617.659912109375, 206.39410400390625, 521.74853515625, 85.33145904541016, 3229.240478515625, 815.5059204101562, 336.8050231933594, 447.158935546875, 264.6988525390625, 552.021728515625, 5086.72705078125, 409.44989013671875, 82.53250885009766, 2607.4697265625, 349.79669189453125, 347.3374938964844, 296.17108154296875, 590.3910522460938, 1254.6083984375, 3867.612060546875, 1893.41650390625, 7681.333984375, 5322.99755859375, 1545.6199951171875, 6324.6806640625, 1410.6009521484375, 5429.96728515625, 2825.706787109375, 5971.77880859375, 9005.3681640625, 3643.9052734375, 4753.3583984375, 9809.4970703125, 27501.484375, 11777.802734375, 7635.03466796875, 5958.8330078125, 4310.13623046875, 2800.45068359375, 7056.00341796875, 10901.111328125, 75.99470520019531, 74.97975158691406, 24.311546325683594, 38.44696807861328, 13.165114402770996, 15.189364433288574, 55.713783264160156, 39.35148620605469, 97.91837310791016, 60.26755905151367, 24.284297943115234, 14.061810493469238, 43.0004997253418, 35.06467819213867, 119.34398651123047, 83.52526092529297, 69.98336791992188, 40.56505584716797, 14.104528427124023, 26.054485321044922, 18.97398567199707, 63.877132415771484, 380.38372802734375, 18.032623291015625, 26.88559913635254, 30.923847198486328, 118.84504699707031, 17.943349838256836, 76.95416259765625, 37.25575256347656, 154.36270141601562, 76.5615463256836, 3655.627685546875, 99.72294616699219, 1332.4686279296875, 7079.28759765625, 242.7117462158203, 10901.111328125, 221.1430206298828, 1308.677001953125, 1917.53662109375, 1545.6199951171875, 7681.333984375, 488.08831787109375, 3950.46533203125, 373.03778076171875, 7635.03466796875, 3867.612060546875, 2274.725341796875, 1221.9373779296875, 2401.518798828125, 2887.5576171875, 5105.96533203125, 4528.95068359375, 6037.52734375, 3267.237060546875, 2148.0966796875, 27501.484375, 1419.501953125, 2260.1943359375, 5557.65771484375, 6777.45556640625, 5086.72705078125, 11777.802734375, 5322.99755859375, 1639.782470703125, 9809.4970703125, 2310.84326171875, 6963.4326171875, 5429.96728515625, 4896.32275390625, 690.758544921875, 61.8780632019043, 56.50065994262695, 37.29210662841797, 29.83098793029785, 70.2892837524414, 30.852256774902344, 53.13013458251953, 61.51957702636719, 212.5107421875, 29.732807159423828, 38.21440124511719, 41.3777961730957, 114.90298461914062, 30.577808380126953, 26.40155601501465, 26.329559326171875, 20.043657302856445, 91.8425521850586, 24.218883514404297, 497.2535400390625, 13.772933006286621, 75.35005187988281, 191.33767700195312, 20.960329055786133, 25.095813751220703, 66.0220718383789, 25.17000389099121, 36.757728576660156, 127.83207702636719, 143.02542114257812, 235.10792541503906, 627.2821655273438, 474.1958312988281, 72.11035919189453, 86.12556457519531, 458.69903564453125, 110.25959014892578, 60.871742248535156, 317.0858154296875, 461.69903564453125, 749.141845703125, 781.9613647460938, 105.77552795410156, 208.51744079589844, 112.80563354492188, 1051.9451904296875, 321.7789001464844, 209.10275268554688, 10901.111328125, 2250.718017578125, 354.5098876953125, 2887.5576171875, 9005.3681640625, 2381.646484375, 753.246826171875, 649.89404296875, 1370.506591796875, 677.6531372070312, 1589.3131103515625, 3871.564697265625, 9809.4970703125, 27501.484375, 1692.81103515625, 7635.03466796875, 2175.3681640625, 2231.205322265625, 5743.34375, 6777.45556640625], \"logprob\": [30.0, 29.0, 28.0, 27.0, 26.0, 25.0, 24.0, 23.0, 22.0, 21.0, 20.0, 19.0, 18.0, 17.0, 16.0, 15.0, 14.0, 13.0, 12.0, 11.0, 10.0, 9.0, 8.0, 7.0, 6.0, 5.0, 4.0, 3.0, 2.0, 1.0, -7.8649001121521, -7.883800029754639, -8.218799591064453, -8.032099723815918, -8.561100006103516, -8.733200073242188, -8.5625, -8.73740005493164, -8.874099731445312, -8.910900115966797, -8.988100051879883, -8.841699600219727, -9.07800006866455, -8.959199905395508, -9.27649974822998, -9.333600044250488, -9.049599647521973, -8.067899703979492, -9.233599662780762, -9.010600090026855, -7.754899978637695, -9.524499893188477, -8.406700134277344, -9.534199714660645, -9.677800178527832, -7.898499965667725, -8.187199592590332, -9.253800392150879, -7.531400203704834, -7.183300018310547, -6.216899871826172, -7.161799907684326, -8.45479965209961, -4.792900085449219, -6.4770002365112305, -5.700799942016602, -7.840000152587891, -7.285299777984619, -7.12939977645874, -4.588500022888184, -5.6234002113342285, -5.53000020980835, -6.3308000564575195, -6.2820000648498535, -5.316500186920166, -7.663000106811523, -3.274399995803833, -5.170199871063232, -4.402699947357178, -4.624599933624268, -7.849100112915039, -6.088399887084961, -5.200900077819824, -3.249799966812134, -5.7170000076293945, -5.211299896240234, -5.17710018157959, -4.559700012207031, -5.370999813079834, -4.55709981918335, -4.865699768066406, -5.198999881744385, -5.415299892425537, -4.511099815368652, -6.048699855804443, -4.087900161743164, -4.428400039672852, -4.250999927520752, -4.92519998550415, -4.821800231933594, -4.695700168609619, -4.635200023651123, -4.270299911499023, -4.774400234222412, -5.114500045776367, -5.097599983215332, -5.0594000816345215, -5.121799945831299, -5.310400009155273, -6.645500183105469, -7.6006999015808105, -7.613100051879883, -7.123799800872803, -8.125100135803223, -8.070699691772461, -8.439900398254395, -8.673600196838379, -8.396599769592285, -8.854999542236328, -7.519599914550781, -8.856499671936035, -8.897000312805176, -8.93850040435791, -8.93850040435791, -7.553500175476074, -8.939800262451172, -8.654000282287598, -9.02910041809082, -8.90149974822998, -7.3769001960754395, -7.901199817657471, -9.030200004577637, -9.077899932861328, -9.079099655151367, -8.489399909973145, -8.342499732971191, -9.084799766540527, -8.518099784851074, -7.038099765777588, -7.320400238037109, -7.331399917602539, -7.870999813079834, -6.9959001541137695, -6.0619001388549805, -4.893099784851074, -5.795000076293945, -6.789100170135498, -7.742800235748291, -6.877799987792969, -6.669000148773193, -7.472400188446045, -5.695799827575684, -5.070099830627441, -8.013899803161621, -7.219299793243408, -6.05049991607666, -4.566299915313721, -6.500199794769287, -4.802000045776367, -4.045599937438965, -5.061200141906738, -6.575799942016602, -3.2235000133514404, -6.517499923706055, -6.3531999588012695, -4.331299781799316, -3.11080002784729, -4.218200206756592, -3.4316000938415527, -4.678400039672852, -5.591000080108643, -5.055099964141846, -5.887199878692627, -5.6819000244140625, -5.9421000480651855, -4.5995001792907715, -4.063000202178955, -5.548999786376953, -4.654600143432617, -4.958199977874756, -4.942999839782715, -5.312900066375732, -5.254799842834473, -5.2083001136779785, -4.831999778747559, -5.0015997886657715, -4.747399806976318, -5.034299850463867, -4.821700096130371, -5.055200099945068, -4.633200168609619, -5.002699851989746, -5.371699810028076, -5.336100101470947, -5.335999965667725, -8.946800231933594, -7.393700122833252, -8.157299995422363, -9.218600273132324, -9.626700401306152, -6.077099800109863, -9.721199989318848, -7.658100128173828, -8.317899703979492, -6.552700042724609, -9.780900001525879, -9.789600372314453, -9.362099647521973, -9.554800033569336, -9.088299751281738, -8.968500137329102, -8.7677001953125, -9.298500061035156, -6.015900135040283, -7.611999988555908, -8.369400024414062, -8.985899925231934, -9.35159969329834, -8.368000030517578, -9.905699729919434, -9.745499610900879, -6.73390007019043, -9.272899627685547, -9.68019962310791, -8.763500213623047, -7.531899929046631, -7.148799896240234, -6.01669979095459, -8.075699806213379, -2.393199920654297, -3.682499885559082, -4.757299900054932, -6.6732001304626465, -3.9895999431610107, -5.0278000831604, -6.236700057983398, -4.137599945068359, -5.067999839782715, -6.94890022277832, -8.209500312805176, -5.309299945831299, -6.082900047302246, -4.758500099182129, -4.360099792480469, -4.676199913024902, -5.501699924468994, -3.460599899291992, -5.252999782562256, -6.945300102233887, -5.42579984664917, -4.1834001541137695, -4.475299835205078, -4.6041998863220215, -5.3302001953125, -5.053599834442139, -5.157400131225586, -4.552599906921387, -5.855299949645996, -5.635000228881836, -4.7133002281188965, -5.258699893951416, -5.3678998947143555, -5.401700019836426, -5.3597002029418945, -5.34089994430542, -5.1504998207092285, -5.379899978637695, -5.494200229644775, -7.371799945831299, -7.88539981842041, -8.355199813842773, -8.509200096130371, -7.77209997177124, -8.084400177001953, -8.758399963378906, -8.75879955291748, -8.128800392150879, -7.638700008392334, -7.652500152587891, -8.68850040435791, -8.940299987792969, -8.690699577331543, -8.620800018310547, -9.046299934387207, -9.163100242614746, -8.823399543762207, -7.797699928283691, -8.960100173950195, -7.729100227355957, -9.29889965057373, -9.368499755859375, -7.803199768066406, -7.870999813079834, -9.181300163269043, -8.353799819946289, -8.973400115966797, -7.8917999267578125, -8.68970012664795, -7.642399787902832, -6.1539998054504395, -4.494999885559082, -8.223299980163574, -7.250500202178955, -7.999899864196777, -7.690800189971924, -7.435699939727783, -6.736100196838379, -7.432300090789795, -3.711400032043457, -4.9257001876831055, -7.3927998542785645, -4.990200042724609, -7.183700084686279, -7.093699932098389, -5.670400142669678, -3.9600000381469727, -6.449900150299072, -5.888899803161621, -4.8958001136779785, -5.366499900817871, -6.834400177001953, -4.970900058746338, -6.8471999168396, -4.384900093078613, -6.540599822998047, -5.068999767303467, -5.049200057983398, -5.297699928283691, -4.695799827575684, -5.601900100708008, -5.126500129699707, -5.2221999168396, -6.212500095367432, -6.123799800872803, -6.313600063323975, -5.722899913787842, -5.2322001457214355, -5.617400169372559, -4.708600044250488, -6.141900062561035, -5.777599811553955, -5.302999973297119, -4.326600074768066, -5.1427001953125, -5.173699855804443, -4.589799880981445, -5.591700077056885, -5.100100040435791, -4.874100208282471, -4.668700218200684, -4.81879997253418, -4.205900192260742, -4.598199844360352, -4.779099941253662, -4.828100204467773, -5.216599941253662, -5.155600070953369, -7.990600109100342, -8.3996000289917, -7.791200160980225, -8.468299865722656, -8.575599670410156, -7.924600124359131, -9.05840015411377, -9.122200012207031, -8.136099815368652, -9.264100074768066, -9.26710033416748, -7.9191999435424805, -9.270700454711914, -9.345000267028809, -7.96150016784668, -9.279800415039062, -9.523500442504883, -7.518599987030029, -8.100500106811523, -4.288899898529053, -6.875699996948242, -7.826499938964844, -9.007499694824219, -8.123100280761719, -8.782500267028809, -8.881600379943848, -8.080100059509277, -8.796600341796875, -7.946800231933594, -8.997300148010254, -7.194699764251709, -7.228899955749512, -5.025300025939941, -4.6269001960754395, -5.383299827575684, -6.577400207519531, -7.102700233459473, -6.534900188446045, -5.051000118255615, -5.225299835205078, -5.812699794769287, -5.944900035858154, -6.583399772644043, -5.66949987411499, -5.064000129699707, -4.856500148773193, -4.580599784851074, -4.994100093841553, -3.7095999717712402, -5.824900150299072, -6.109399795532227, -4.989699840545654, -4.207900047302246, -5.368199825286865, -4.05019998550415, -4.087800025939941, -6.123700141906738, -6.4670000076293945, -4.525899887084961, -4.725200176239014, -5.269400119781494, -5.12939977645874, -4.559700012207031, -4.917200088500977, -4.763700008392334, -4.303599834442139, -5.184199810028076, -4.766300201416016, -4.904300212860107, -5.1031999588012695, -4.9359002113342285, -4.82889986038208, -5.052999973297119, -5.212600231170654, -5.26170015335083, -7.566100120544434, -7.099800109863281, -7.859399795532227, -7.935200214385986, -8.241800308227539, -6.570499897003174, -7.809700012207031, -8.387700080871582, -8.694899559020996, -8.695699691772461, -8.031700134277344, -8.604100227355957, -8.750900268554688, -8.701199531555176, -8.520600318908691, -8.866399765014648, -7.873199939727783, -8.406900405883789, -7.374100208282471, -8.71049976348877, -8.998800277709961, -8.99940013885498, -8.99940013885498, -9.000399589538574, -8.154199600219727, -9.072199821472168, -9.078300476074219, -9.152700424194336, -9.082799911499023, -9.08329963684082, -7.2692999839782715, -6.885300159454346, -8.254799842834473, -7.965199947357178, -4.936999797821045, -6.238100051879883, -7.6697998046875, -6.857999801635742, -7.8231000900268555, -7.311999797821045, -5.925600051879883, -6.206999778747559, -5.501399993896484, -6.58050012588501, -6.140999794006348, -7.128600120544434, -6.634200096130371, -6.3769001960754395, -7.264100074768066, -5.024700164794922, -4.202300071716309, -7.16480016708374, -6.37060022354126, -4.961999893188477, -5.405200004577637, -5.236400127410889, -6.073800086975098, -6.443600177764893, -4.353499889373779, -4.6346001625061035, -6.744500160217285, -5.219399929046631, -5.117099761962891, -6.251200199127197, -4.685699939727783, -5.356900215148926, -5.216400146484375, -4.533100128173828, -5.360899925231934, -5.029600143432617, -5.670300006866455, -5.97760009765625, -5.143700122833252, -5.670000076293945, -5.037600040435791, -5.7403998374938965, -5.195199966430664, -5.316800117492676, -4.606299877166748, -4.676400184631348, -5.02239990234375, -5.041500091552734, -5.1321001052856445, -5.4928998947143555, -5.180799961090088, -5.31279993057251, -5.199399948120117, -5.458099842071533, -5.477499961853027, -6.47790002822876, -7.386899948120117, -7.473499774932861, -7.653800010681152, -7.768199920654297, -7.124899864196777, -7.924600124359131, -7.679699897766113, -7.795199871063232, -8.012999534606934, -4.990499973297119, -8.014599800109863, -7.277699947357178, -8.015899658203125, -8.017399787902832, -7.295100212097168, -8.182900428771973, -7.852200031280518, -7.712100028991699, -8.300399780273438, -8.3016996383667, -8.342900276184082, -8.38659954071045, -6.770899772644043, -8.48169994354248, -8.195899963378906, -6.429699897766113, -8.034600257873535, -7.895899772644043, -6.872499942779541, -4.044400215148926, -6.809299945831299, -4.811299800872803, -5.481500148773193, -7.123700141906738, -6.93179988861084, -4.259799957275391, -6.562300205230713, -6.923299789428711, -6.460599899291992, -5.034200191497803, -6.855000019073486, -6.695300102233887, -3.217600107192993, -5.58489990234375, -4.9054999351501465, -6.998499870300293, -4.525199890136719, -5.584400177001953, -6.0945000648498535, -5.171000003814697, -6.269700050354004, -6.164400100708008, -6.208700180053711, -4.691699981689453, -3.984299898147583, -5.301499843597412, -5.343900203704834, -4.85260009765625, -5.3119001388549805, -5.794300079345703, -5.798399925231934, -3.9721999168395996, -3.71589994430542, -4.99459981918335, -5.005199909210205, -5.125400066375732, -5.094399929046631, -5.131999969482422, -4.246500015258789, -5.0980000495910645, -4.733799934387207, -4.901400089263916, -5.11460018157959, -5.234600067138672, -5.282899856567383, -5.417699813842773, -5.394199848175049, -7.879899978637695, -8.065799713134766, -7.5015997886657715, -8.079000473022461, -8.097700119018555, -7.189599990844727, -7.784200191497803, -8.577400207519531, -8.031900405883789, -8.001199722290039, -7.52400016784668, -6.84630012512207, -7.181099891662598, -7.68779993057251, -6.849100112915039, -7.849899768829346, -8.454700469970703, -7.740499973297119, -7.728000164031982, -8.216400146484375, -8.135299682617188, -7.763500213623047, -8.640800476074219, -8.156200408935547, -5.769000053405762, -7.143199920654297, -8.748600006103516, -7.914599895477295, -7.285600185394287, -7.625999927520752, -5.999300003051758, -3.482599973678589, -5.536099910736084, -4.397200107574463, -6.334499835968018, -5.508399963378906, -7.171800136566162, -3.872299909591675, -5.138599872589111, -5.939199924468994, -5.800300121307373, -6.233699798583984, -5.658100128173828, -3.9649999141693115, -5.963200092315674, -7.22160005569458, -4.611700057983398, -6.144499778747559, -6.152299880981445, -6.270199775695801, -5.7667999267578125, -5.291100025177002, -4.507500171661377, -5.049799919128418, -4.104400157928467, -4.466300010681152, -5.264400005340576, -4.380499839782715, -5.327600002288818, -4.639800071716309, -5.090099811553955, -4.708000183105469, -4.673900127410889, -5.136600017547607, -5.064799785614014, -4.841000080108643, -4.466599941253662, -4.888700008392334, -5.028299808502197, -5.134799957275391, -5.223100185394287, -5.34630012512207, -5.386199951171875, -5.451000213623047, -6.870100021362305, -6.890900135040283, -8.036399841308594, -7.591899871826172, -8.68220043182373, -8.552300453186035, -7.2916998863220215, -7.65880012512207, -6.808000087738037, -7.313300132751465, -8.23900032043457, -8.869600296020508, -7.764999866485596, -7.978000164031982, -6.7621002197265625, -7.121399879455566, -7.3028998374938965, -7.848299980163574, -8.913299560546875, -8.320799827575684, -8.641300201416016, -7.445099830627441, -5.665299892425537, -8.7322998046875, -8.363100051879883, -8.239899635314941, -6.893599987030029, -8.7947998046875, -7.3592000007629395, -8.088600158691406, -6.671500205993652, -7.378600120544434, -3.698899984359741, -7.14139986038208, -4.799699783325195, -3.5376999378204346, -6.494100093841553, -3.3320999145507812, -6.577000141143799, -5.197999954223633, -4.932499885559082, -5.0971999168396, -3.9700000286102295, -6.040999889373779, -4.585000038146973, -6.281400203704834, -4.338500022888184, -4.811999797821045, -5.161499977111816, -5.592700004577637, -5.196700096130371, -5.0894999504089355, -4.818699836730957, -4.9070000648498535, -4.771399974822998, -5.122399806976318, -5.355000019073486, -4.004300117492676, -5.601600170135498, -5.376200199127197, -4.930600166320801, -4.840799808502197, -5.023200035095215, -4.663400173187256, -5.0345001220703125, -5.5432000160217285, -4.896999835968018, -5.44320011138916, -5.162600040435791, -5.274799823760986, -5.299099922180176, -3.8922998905181885, -6.3155999183654785, -6.414400100708008, -6.839600086212158, -7.065000057220459, -6.212200164794922, -7.0493998527526855, -6.511899948120117, -6.3790998458862305, -5.148099899291992, -7.115799903869629, -6.872200012207031, -6.797800064086914, -5.833899974822998, -7.168499946594238, -7.320300102233887, -7.3302001953125, -7.605000019073486, -6.085100173950195, -7.421899795532227, -4.400599956512451, -7.988500118255615, -6.342700004577637, -5.413300037384033, -7.624899864196777, -7.467899799346924, -6.5096001625061035, -7.475299835205078, -7.098299980163574, -5.8531999588012695, -5.745100021362305, -5.259799957275391, -4.289000034332275, -4.607900142669678, -6.453400135040283, -6.309800148010254, -4.851900100708008, -6.120500087738037, -6.6209001541137695, -5.261499881744385, -4.962600231170654, -4.757900238037109, -4.81879997253418, -6.203100204467773, -5.747700214385986, -6.163099765777588, -4.749300003051758, -5.554999828338623, -5.850399971008301, -3.779400110244751, -4.648200035095215, -5.607800006866455, -4.696599960327148, -4.2281999588012695, -4.93149995803833, -5.402100086212158, -5.467199802398682, -5.208600044250488, -5.462800025939941, -5.188899993896484, -4.923600196838379, -4.734499931335449, -4.598999977111816, -5.28249979019165, -5.028800010681152, -5.270400047302246, -5.281899929046631, -5.185400009155273, -5.359000205993652], \"Term\": [\"health\", \"datum\", \"care\", \"patient\", \"technolog\", \"research\", \"bank\", \"market\", \"blockchain\", \"custom\", \"clinic\", \"healthcar\", \"busi\", \"compani\", \"payment\", \"financi\", \"platform\", \"cancer\", \"popul\", \"fintech\", \"precis_medicin\", \"hospit\", \"safeti\", \"percent\", \"ehr\", \"system\", \"world\", \"digit\", \"treatment\", \"cloud\", \"commonwel\", \"mip\", \"directtrust\", \"pqrs\", \"repeal\", \"pcmh_recognit\", \"slavitt\", \"ep\", \"aafp\", \"gao\", \"governanceicd\", \"mgma\", \"tavenn\", \"qpp\", \"feeforservic_reimbur\", \"shiec\", \"eclinicalwork\", \"grace_period\", \"rcm\", \"certif_criteria\", \"coder\", \"pcpcc\", \"kibb\", \"personcent\", \"naysay\", \"kla\", \"dod\", \"unspecifi\", \"feeforservic\", \"attest\", \"pcmh\", \"macra\", \"rule_maker\", \"cms\", \"reimbur\", \"incent\", \"payforperform\", \"stage_meaning\", \"valuebas_reimbur\", \"physician\", \"medicar\", \"valueba\", \"hie\", \"reform\", \"payer\", \"bundl_payment\", \"care\", \"coordin\", \"qualiti\", \"ehr\", \"phm\", \"transit\", \"practic\", \"health\", \"code\", \"interoper\", \"exchang\", \"program\", \"measur\", \"popul\", \"provid\", \"account\", \"vendor\", \"organ\", \"meaning\", \"patient\", \"system\", \"manag\", \"hospit\", \"improv\", \"inform\", \"healthcar\", \"datum\", \"use\", \"report\", \"work\", \"clinic\", \"time\", \"model\", \"opioid\", \"overdo\", \"prediabet\", \"substanc_abus\", \"ecri_institut\", \"prescript_drug\", \"bcb\", \"opioid_overdo\", \"mental_ill\", \"express_script\", \"antibiot_stewardship\", \"opioid_epidem\", \"unhealthi\", \"opioidrel\", \"heroin\", \"cdc\", \"opioid_addict\", \"safeti_hazard\", \"hac\", \"amput\", \"obe\", \"ecri\", \"weight_loss\", \"safetyqu\", \"minuteclin\", \"copd\", \"socioeconom_status\", \"readmit\", \"pressur_ulcer\", \"pharmacist\", \"cvs\", \"hyperten\", \"selfcar\", \"antibiot\", \"pharmaci\", \"diabet\", \"prescript\", \"depress\", \"suicid\", \"opioid_abus\", \"blood_pressur\", \"addict\", \"adher\", \"chronic_disea\", \"selfmanag\", \"infect\", \"readmiss\", \"studi\", \"social_determin\", \"safeti\", \"percent\", \"prevent\", \"adult\", \"patient\", \"pain\", \"death\", \"hospit\", \"health\", \"popul\", \"care\", \"medic\", \"condit\", \"rate\", \"error\", \"behavior\", \"screen\", \"program\", \"manag\", \"primari\", \"improv\", \"cost\", \"risk\", \"outcom\", \"state\", \"communiti\", \"clinic\", \"qualiti\", \"healthcar\", \"report\", \"use\", \"research\", \"datum\", \"system\", \"effect\", \"access\", \"year\", \"emram\", \"amia\", \"informaticist\", \"fhirba\", \"internet_thingspopul\", \"fhir\", \"organiz_buyin\", \"pghd\", \"blue_button\", \"patientgener\", \"governancepati\", \"drown\", \"thirst\", \"perenni\", \"fahima\", \"datahealthcar\", \"consumerfac\", \"purport\", \"himss\", \"pro\", \"analyticshealth\", \"pac\", \"phytel\", \"semant_comput\", \"fodder\", \"great_deal\", \"ahima\", \"jamia\", \"piecem\", \"fit_tracker\", \"wedi\", \"lake\", \"informat\", \"wareh\", \"datum\", \"healthcar\", \"data\", \"silo\", \"inform\", \"interoper\", \"match\", \"organ\", \"record\", \"extract\", \"shah\", \"vendor\", \"privaci\", \"ehr\", \"clinic\", \"tool\", \"sourc\", \"health\", \"decis\", \"poll\", \"insight\", \"patient\", \"use\", \"system\", \"share\", \"access\", \"way\", \"manag\", \"action\", \"tag\", \"care\", \"percent\", \"hospit\", \"report\", \"process\", \"improv\", \"technolog\", \"popul\", \"provid\", \"azur\", \"oem\", \"lte\", \"smart_glass\", \"truck\", \"iiot\", \"ondevic\", \"soc\", \"gpus\", \"orchestr\", \"microsoft_azur\", \"python\", \"elast\", \"cloudnat\", \"apach\", \"datacent\", \"renault\", \"realworld_scenario\", \"nokia\", \"purposebuilt\", \"aurora\", \"cpu\", \"automak\", \"onpremis\", \"adob\", \"ceo_dapli\", \"cx\", \"timetomarket\", \"endpoint\", \"amazon_alexa\", \"audio\", \"chatbot\", \"cloud\", \"selfservic\", \"nvidia\", \"qualcomm\", \"inventori\", \"omnichannel\", \"oracl\", \"sa\", \"custom\", \"autom\", \"aiba\", \"enterpris\", \"bot\", \"configur\", \"deploy\", \"platform\", \"hardwar\", \"manufactur\", \"intellig\", \"iot\", \"server\", \"power\", \"sap\", \"product\", \"agent\", \"today\", \"capabl\", \"devic\", \"user\", \"brand\", \"connect\", \"mobil\", \"channel\", \"ai\", \"campaign\", \"content\", \"design\", \"featur\", \"servic\", \"conver\", \"optim\", \"artifici_intellig\", \"technolog\", \"network\", \"oper\", \"compani\", \"experi\", \"partner\", \"process\", \"busi\", \"market\", \"datum\", \"manag\", \"use\", \"system\", \"digit\", \"time\", \"syndicateroom\", \"roboadvisor\", \"luxembourg\", \"edinburgh\", \"mga\", \"alumnus\", \"amazon_echo\", \"favour\", \"angel_investor\", \"envoy\", \"commercialis\", \"scaleup\", \"scotland\", \"kati\", \"zurich\", \"finov\", \"technologyl\", \"ireland\", \"dublin\", \"fintech\", \"ventur_capit\", \"round\", \"plc\", \"sei\", \"sharehold\", \"robo\", \"earlystag\", \"talent_pool\", \"allianz\", \"reloc\", \"hong_kong\", \"munich\", \"startup\", \"investor\", \"london\", \"lend\", \"lender\", \"ventur\", \"capit\", \"tech\", \"talent\", \"entrepreneur\", \"brexit\", \"china\", \"financ\", \"sector\", \"fund\", \"invest\", \"compani\", \"deal\", \"hub\", \"growth\", \"innov\", \"sale\", \"market\", \"busi\", \"europ\", \"chairman\", \"financi\", \"digit\", \"client\", \"ceo\", \"year\", \"partner\", \"product\", \"technolog\", \"group\", \"custom\", \"servic\", \"team\", \"work\", \"manag\", \"platform\", \"world\", \"bank\", \"wax\", \"artist\", \"yandexcheckout\", \"fiat\", \"token_holder\", \"chariti\", \"appl_pay\", \"token\", \"gamer\", \"multiplay\", \"content_creator\", \"erc\", \"hollywood\", \"crowdsal\", \"esport\", \"mastercard\", \"pepper\", \"teacher\", \"penni\", \"dapp\", \"stadium\", \"pavel_kravchenko\", \"legend\", \"ngo\", \"bancor\", \"cashless\", \"cinema\", \"yandex\", \"cocktail\", \"awesom\", \"presal\", \"fan\", \"museum\", \"decentrali\", \"game\", \"ethereum\", \"rippl\", \"music\", \"ether\", \"film\", \"wallet\", \"bitcoin\", \"currenc\", \"smart_contract\", \"decentr\", \"russia\", \"ticket\", \"coin\", \"academi\", \"cryptocurr\", \"blockchain\", \"decentralis\", \"speaker\", \"app\", \"video\", \"trade\", \"summit\", \"stock\", \"world\", \"peopl\", \"art\", \"money\", \"event\", \"cash\", \"user\", \"transact\", \"mobil\", \"platform\", \"launch\", \"project\", \"content\", \"player\", \"network\", \"onlin\", \"digit\", \"founder\", \"communiti\", \"exchang\", \"technolog\", \"use\", \"work\", \"compani\", \"time\", \"creat\", \"year\", \"way\", \"market\", \"team\", \"system\", \"tumor\", \"pathologist\", \"mutat\", \"medicineprecis_medicin\", \"nci\", \"tissu\", \"dna_sequenc\", \"pancreat_cancer\", \"pmi\", \"immunotherapi\", \"genet\", \"researchpati\", \"neurolog\", \"protein\", \"vanderbilt_univer\", \"biomark\", \"biopsi\", \"autism\", \"cancer_moonshot\", \"bioinformat\", \"prostat_cancer\", \"chemotherapi\", \"malign\", \"cancerlinq\", \"genotyp\", \"biomed_informat\", \"biolog\", \"pcornet\", \"ibm_mit\", \"oncologist\", \"cancer\", \"alzheim\", \"genom\", \"nih\", \"lung_cancer\", \"biobank\", \"precis_medicin\", \"gene\", \"oncolog\", \"sequenc\", \"trial\", \"breast_cancer\", \"cure\", \"research\", \"therapi\", \"medicin\", \"stanford\", \"treatment\", \"disea\", \"scientif\", \"drug\", \"brain\", \"pharmaceut\", \"phd\", \"test\", \"clinic\", \"scienc\", \"algorithm\", \"center\", \"univer\", \"imag\", \"grant\", \"patient\", \"datum\", \"studi\", \"project\", \"nation\", \"person\", \"collabor\", \"health\", \"medic\", \"care\", \"use\", \"work\", \"system\", \"healthcar\", \"artifici_intellig\", \"program\", \"psd\", \"sanction\", \"invoic\", \"fraudster\", \"vat\", \"money_launder\", \"antimoney_launder\", \"nonbank\", \"scor\", \"ident_verif\", \"cash_flow\", \"jurisdict\", \"crimin\", \"gibraltar\", \"crime\", \"starl\", \"enquiri\", \"fraudul\", \"passport\", \"minimis\", \"bind\", \"authoris\", \"intang\", \"auditor\", \"tax\", \"kyc\", \"overdraft\", \"hmrc\", \"hacker\", \"password\", \"breach\", \"bank\", \"fraud\", \"regul\", \"scheme\", \"ident\", \"liabil\", \"payment\", \"complianc\", \"regtech\", \"card\", \"gdpr\", \"organis\", \"financi\", \"law\", \"banker\", \"account\", \"loss\", \"attack\", \"merchant\", \"transfer\", \"claim\", \"risk\", \"client\", \"busi\", \"process\", \"transact\", \"custom\", \"money\", \"servic\", \"consum\", \"time\", \"system\", \"cost\", \"access\", \"use\", \"datum\", \"manag\", \"compani\", \"year\", \"way\", \"number\", \"inform\", \"technolog\", \"exscudo\", \"eon\", \"testnet\", \"willi\", \"exscudocom\", \"hyperledg_fabric\", \"cagr\", \"rig\", \"hyperledg\", \"bitcoin_cash\", \"distribut_ledger\", \"enterpriselevel\", \"infosi\", \"issuanc\", \"pwc\", \"sandbox\", \"miner\", \"scholar\", \"aipow_elder\", \"ict\", \"regulatori_sandbox\", \"litecoin\", \"mine\", \"southeast_asia\", \"capgemini\", \"sec\", \"gartner\", \"micropay\", \"cryptograph\", \"cryptographi\", \"deloitt\", \"idc\", \"blockchain\", \"dell\", \"cryptocurr\", \"market\", \"singapor\", \"technolog\", \"forecast\", \"asset\", \"growth\", \"transact\", \"busi\", \"chain\", \"digit\", \"ibm\", \"compani\", \"risk\", \"artifici_intellig\", \"trade\", \"valu\", \"oper\", \"innov\", \"report\", \"platform\", \"model\", \"leader\", \"datum\", \"ecosystem\", \"intellig\", \"percent\", \"research\", \"financi\", \"manag\", \"process\", \"survey\", \"use\", \"potenti\", \"organ\", \"servic\", \"product\", \"drone\", \"airspac\", \"underwat\", \"payload\", \"uav\", \"aircraft\", \"tether\", \"gestur\", \"farmer\", \"flight\", \"pedestrian\", \"passeng\", \"lidar\", \"agricultur\", \"boe\", \"aviat\", \"congest\", \"km\", \"airport\", \"plane\", \"sensor\", \"terrain\", \"farm\", \"autonom_vehicl\", \"cruis\", \"fish\", \"plant\", \"highway\", \"imageri\", \"fli\", \"weather\", \"camera\", \"vehicl\", \"autonom\", \"accid\", \"coffe\", \"transport\", \"motor\", \"temperatur\", \"road\", \"car\", \"citi\", \"search\", \"mile\", \"traffic\", \"station\", \"robot\", \"food\", \"environment\", \"technolog\", \"safeti\", \"map\", \"oper\", \"system\", \"test\", \"commerci\", \"internet\", \"drive\", \"manufactur\", \"control\", \"world\", \"use\", \"datum\", \"devic\", \"compani\", \"design\", \"connect\", \"work\", \"research\"], \"Category\": [\"Default\", \"Default\", \"Default\", \"Default\", \"Default\", \"Default\", \"Default\", \"Default\", \"Default\", \"Default\", \"Default\", \"Default\", \"Default\", \"Default\", \"Default\", \"Default\", \"Default\", \"Default\", \"Default\", \"Default\", \"Default\", \"Default\", \"Default\", \"Default\", \"Default\", \"Default\", \"Default\", \"Default\", \"Default\", \"Default\", \"Topic1\", \"Topic1\", \"Topic1\", \"Topic1\", \"Topic1\", \"Topic1\", \"Topic1\", \"Topic1\", \"Topic1\", \"Topic1\", \"Topic1\", \"Topic1\", \"Topic1\", \"Topic1\", \"Topic1\", \"Topic1\", \"Topic1\", \"Topic1\", \"Topic1\", \"Topic1\", \"Topic1\", \"Topic1\", \"Topic1\", \"Topic1\", \"Topic1\", \"Topic1\", \"Topic1\", \"Topic1\", \"Topic1\", \"Topic1\", \"Topic1\", \"Topic1\", \"Topic1\", \"Topic1\", \"Topic1\", \"Topic1\", \"Topic1\", \"Topic1\", \"Topic1\", \"Topic1\", \"Topic1\", \"Topic1\", \"Topic1\", \"Topic1\", \"Topic1\", \"Topic1\", \"Topic1\", \"Topic1\", \"Topic1\", \"Topic1\", \"Topic1\", \"Topic1\", \"Topic1\", \"Topic1\", \"Topic1\", \"Topic1\", \"Topic1\", \"Topic1\", \"Topic1\", \"Topic1\", \"Topic1\", \"Topic1\", \"Topic1\", \"Topic1\", \"Topic1\", \"Topic1\", \"Topic1\", \"Topic1\", \"Topic1\", \"Topic1\", \"Topic1\", \"Topic1\", \"Topic1\", \"Topic1\", \"Topic1\", \"Topic1\", \"Topic1\", \"Topic1\", \"Topic1\", \"Topic2\", \"Topic2\", \"Topic2\", \"Topic2\", \"Topic2\", \"Topic2\", \"Topic2\", \"Topic2\", \"Topic2\", \"Topic2\", \"Topic2\", \"Topic2\", \"Topic2\", \"Topic2\", \"Topic2\", \"Topic2\", \"Topic2\", \"Topic2\", \"Topic2\", \"Topic2\", \"Topic2\", \"Topic2\", \"Topic2\", \"Topic2\", \"Topic2\", \"Topic2\", \"Topic2\", \"Topic2\", \"Topic2\", \"Topic2\", \"Topic2\", \"Topic2\", \"Topic2\", \"Topic2\", \"Topic2\", \"Topic2\", \"Topic2\", \"Topic2\", \"Topic2\", \"Topic2\", \"Topic2\", \"Topic2\", \"Topic2\", \"Topic2\", \"Topic2\", \"Topic2\", \"Topic2\", \"Topic2\", \"Topic2\", \"Topic2\", \"Topic2\", \"Topic2\", \"Topic2\", \"Topic2\", \"Topic2\", \"Topic2\", \"Topic2\", \"Topic2\", \"Topic2\", \"Topic2\", \"Topic2\", \"Topic2\", \"Topic2\", \"Topic2\", \"Topic2\", \"Topic2\", \"Topic2\", \"Topic2\", \"Topic2\", \"Topic2\", \"Topic2\", \"Topic2\", \"Topic2\", \"Topic2\", \"Topic2\", \"Topic2\", \"Topic2\", \"Topic2\", \"Topic2\", \"Topic2\", \"Topic2\", \"Topic2\", \"Topic2\", \"Topic2\", \"Topic2\", \"Topic2\", \"Topic3\", \"Topic3\", \"Topic3\", \"Topic3\", \"Topic3\", \"Topic3\", \"Topic3\", \"Topic3\", \"Topic3\", \"Topic3\", \"Topic3\", \"Topic3\", \"Topic3\", \"Topic3\", \"Topic3\", \"Topic3\", \"Topic3\", \"Topic3\", \"Topic3\", \"Topic3\", \"Topic3\", \"Topic3\", \"Topic3\", \"Topic3\", \"Topic3\", \"Topic3\", \"Topic3\", \"Topic3\", \"Topic3\", \"Topic3\", \"Topic3\", \"Topic3\", \"Topic3\", \"Topic3\", \"Topic3\", \"Topic3\", \"Topic3\", \"Topic3\", \"Topic3\", \"Topic3\", \"Topic3\", \"Topic3\", \"Topic3\", \"Topic3\", \"Topic3\", \"Topic3\", \"Topic3\", \"Topic3\", \"Topic3\", \"Topic3\", \"Topic3\", \"Topic3\", \"Topic3\", \"Topic3\", \"Topic3\", \"Topic3\", \"Topic3\", \"Topic3\", \"Topic3\", \"Topic3\", \"Topic3\", \"Topic3\", \"Topic3\", \"Topic3\", \"Topic3\", \"Topic3\", \"Topic3\", \"Topic3\", \"Topic3\", \"Topic3\", \"Topic3\", \"Topic3\", \"Topic3\", \"Topic4\", \"Topic4\", \"Topic4\", \"Topic4\", \"Topic4\", \"Topic4\", \"Topic4\", \"Topic4\", \"Topic4\", \"Topic4\", \"Topic4\", \"Topic4\", \"Topic4\", \"Topic4\", \"Topic4\", \"Topic4\", \"Topic4\", \"Topic4\", \"Topic4\", \"Topic4\", \"Topic4\", \"Topic4\", \"Topic4\", \"Topic4\", \"Topic4\", \"Topic4\", \"Topic4\", \"Topic4\", \"Topic4\", \"Topic4\", \"Topic4\", \"Topic4\", \"Topic4\", \"Topic4\", \"Topic4\", \"Topic4\", \"Topic4\", \"Topic4\", \"Topic4\", \"Topic4\", \"Topic4\", \"Topic4\", \"Topic4\", \"Topic4\", \"Topic4\", \"Topic4\", \"Topic4\", \"Topic4\", \"Topic4\", \"Topic4\", \"Topic4\", \"Topic4\", \"Topic4\", \"Topic4\", \"Topic4\", \"Topic4\", \"Topic4\", \"Topic4\", \"Topic4\", \"Topic4\", \"Topic4\", \"Topic4\", \"Topic4\", \"Topic4\", \"Topic4\", \"Topic4\", \"Topic4\", \"Topic4\", \"Topic4\", \"Topic4\", \"Topic4\", \"Topic4\", \"Topic4\", \"Topic4\", \"Topic4\", \"Topic4\", \"Topic4\", \"Topic4\", \"Topic4\", \"Topic4\", \"Topic4\", \"Topic4\", \"Topic4\", \"Topic4\", \"Topic4\", \"Topic4\", \"Topic4\", \"Topic4\", \"Topic4\", \"Topic5\", \"Topic5\", \"Topic5\", \"Topic5\", \"Topic5\", \"Topic5\", \"Topic5\", \"Topic5\", \"Topic5\", \"Topic5\", \"Topic5\", \"Topic5\", \"Topic5\", \"Topic5\", \"Topic5\", \"Topic5\", \"Topic5\", \"Topic5\", \"Topic5\", \"Topic5\", \"Topic5\", \"Topic5\", \"Topic5\", \"Topic5\", \"Topic5\", \"Topic5\", \"Topic5\", \"Topic5\", \"Topic5\", \"Topic5\", \"Topic5\", \"Topic5\", \"Topic5\", \"Topic5\", \"Topic5\", \"Topic5\", \"Topic5\", \"Topic5\", \"Topic5\", \"Topic5\", \"Topic5\", \"Topic5\", \"Topic5\", \"Topic5\", \"Topic5\", \"Topic5\", \"Topic5\", \"Topic5\", \"Topic5\", \"Topic5\", \"Topic5\", \"Topic5\", \"Topic5\", \"Topic5\", \"Topic5\", \"Topic5\", \"Topic5\", \"Topic5\", \"Topic5\", \"Topic5\", \"Topic5\", \"Topic5\", \"Topic5\", \"Topic5\", \"Topic5\", \"Topic5\", \"Topic5\", \"Topic5\", \"Topic5\", \"Topic5\", \"Topic5\", \"Topic5\", \"Topic5\", \"Topic5\", \"Topic5\", \"Topic6\", \"Topic6\", \"Topic6\", \"Topic6\", \"Topic6\", \"Topic6\", \"Topic6\", \"Topic6\", \"Topic6\", \"Topic6\", \"Topic6\", \"Topic6\", \"Topic6\", \"Topic6\", \"Topic6\", \"Topic6\", \"Topic6\", \"Topic6\", \"Topic6\", \"Topic6\", \"Topic6\", \"Topic6\", \"Topic6\", \"Topic6\", \"Topic6\", \"Topic6\", \"Topic6\", \"Topic6\", \"Topic6\", \"Topic6\", \"Topic6\", \"Topic6\", \"Topic6\", \"Topic6\", \"Topic6\", \"Topic6\", \"Topic6\", \"Topic6\", \"Topic6\", \"Topic6\", \"Topic6\", \"Topic6\", \"Topic6\", \"Topic6\", \"Topic6\", \"Topic6\", \"Topic6\", \"Topic6\", \"Topic6\", \"Topic6\", \"Topic6\", \"Topic6\", \"Topic6\", \"Topic6\", \"Topic6\", \"Topic6\", \"Topic6\", \"Topic6\", \"Topic6\", \"Topic6\", \"Topic6\", \"Topic6\", \"Topic6\", \"Topic6\", \"Topic6\", \"Topic6\", \"Topic6\", \"Topic6\", \"Topic6\", \"Topic6\", \"Topic6\", \"Topic6\", \"Topic6\", \"Topic6\", \"Topic6\", \"Topic6\", \"Topic6\", \"Topic6\", \"Topic6\", \"Topic6\", \"Topic6\", \"Topic6\", \"Topic6\", \"Topic6\", \"Topic6\", \"Topic6\", \"Topic6\", \"Topic6\", \"Topic6\", \"Topic7\", \"Topic7\", \"Topic7\", \"Topic7\", \"Topic7\", \"Topic7\", \"Topic7\", \"Topic7\", \"Topic7\", \"Topic7\", \"Topic7\", \"Topic7\", \"Topic7\", \"Topic7\", \"Topic7\", \"Topic7\", \"Topic7\", \"Topic7\", \"Topic7\", \"Topic7\", \"Topic7\", \"Topic7\", \"Topic7\", \"Topic7\", \"Topic7\", \"Topic7\", \"Topic7\", \"Topic7\", \"Topic7\", \"Topic7\", \"Topic7\", \"Topic7\", \"Topic7\", \"Topic7\", \"Topic7\", \"Topic7\", \"Topic7\", \"Topic7\", \"Topic7\", \"Topic7\", \"Topic7\", \"Topic7\", \"Topic7\", \"Topic7\", \"Topic7\", \"Topic7\", \"Topic7\", \"Topic7\", \"Topic7\", \"Topic7\", \"Topic7\", \"Topic7\", \"Topic7\", \"Topic7\", \"Topic7\", \"Topic7\", \"Topic7\", \"Topic7\", \"Topic7\", \"Topic7\", \"Topic7\", \"Topic7\", \"Topic7\", \"Topic7\", \"Topic7\", \"Topic7\", \"Topic7\", \"Topic7\", \"Topic7\", \"Topic7\", \"Topic7\", \"Topic7\", \"Topic7\", \"Topic7\", \"Topic7\", \"Topic7\", \"Topic7\", \"Topic7\", \"Topic8\", \"Topic8\", \"Topic8\", \"Topic8\", \"Topic8\", \"Topic8\", \"Topic8\", \"Topic8\", \"Topic8\", \"Topic8\", \"Topic8\", \"Topic8\", \"Topic8\", \"Topic8\", \"Topic8\", \"Topic8\", \"Topic8\", \"Topic8\", \"Topic8\", \"Topic8\", \"Topic8\", \"Topic8\", \"Topic8\", \"Topic8\", \"Topic8\", \"Topic8\", \"Topic8\", \"Topic8\", \"Topic8\", \"Topic8\", \"Topic8\", \"Topic8\", \"Topic8\", \"Topic8\", \"Topic8\", \"Topic8\", \"Topic8\", \"Topic8\", \"Topic8\", \"Topic8\", \"Topic8\", \"Topic8\", \"Topic8\", \"Topic8\", \"Topic8\", \"Topic8\", \"Topic8\", \"Topic8\", \"Topic8\", \"Topic8\", \"Topic8\", \"Topic8\", \"Topic8\", \"Topic8\", \"Topic8\", \"Topic8\", \"Topic8\", \"Topic8\", \"Topic8\", \"Topic8\", \"Topic8\", \"Topic8\", \"Topic8\", \"Topic8\", \"Topic8\", \"Topic8\", \"Topic8\", \"Topic8\", \"Topic8\", \"Topic8\", \"Topic8\", \"Topic8\", \"Topic8\", \"Topic8\", \"Topic9\", \"Topic9\", \"Topic9\", \"Topic9\", \"Topic9\", \"Topic9\", \"Topic9\", \"Topic9\", \"Topic9\", \"Topic9\", \"Topic9\", \"Topic9\", \"Topic9\", \"Topic9\", \"Topic9\", \"Topic9\", \"Topic9\", \"Topic9\", \"Topic9\", \"Topic9\", \"Topic9\", \"Topic9\", \"Topic9\", \"Topic9\", \"Topic9\", \"Topic9\", \"Topic9\", \"Topic9\", \"Topic9\", \"Topic9\", \"Topic9\", \"Topic9\", \"Topic9\", \"Topic9\", \"Topic9\", \"Topic9\", \"Topic9\", \"Topic9\", \"Topic9\", \"Topic9\", \"Topic9\", \"Topic9\", \"Topic9\", \"Topic9\", \"Topic9\", \"Topic9\", \"Topic9\", \"Topic9\", \"Topic9\", \"Topic9\", \"Topic9\", \"Topic9\", \"Topic9\", \"Topic9\", \"Topic9\", \"Topic9\", \"Topic9\", \"Topic9\", \"Topic9\", \"Topic9\", \"Topic9\", \"Topic9\", \"Topic9\", \"Topic9\", \"Topic9\", \"Topic9\", \"Topic9\", \"Topic9\", \"Topic9\", \"Topic9\", \"Topic9\", \"Topic10\", \"Topic10\", \"Topic10\", \"Topic10\", \"Topic10\", \"Topic10\", \"Topic10\", \"Topic10\", \"Topic10\", \"Topic10\", \"Topic10\", \"Topic10\", \"Topic10\", \"Topic10\", \"Topic10\", \"Topic10\", \"Topic10\", \"Topic10\", \"Topic10\", \"Topic10\", \"Topic10\", \"Topic10\", \"Topic10\", \"Topic10\", \"Topic10\", \"Topic10\", \"Topic10\", \"Topic10\", \"Topic10\", \"Topic10\", \"Topic10\", \"Topic10\", \"Topic10\", \"Topic10\", \"Topic10\", \"Topic10\", \"Topic10\", \"Topic10\", \"Topic10\", \"Topic10\", \"Topic10\", \"Topic10\", \"Topic10\", \"Topic10\", \"Topic10\", \"Topic10\", \"Topic10\", \"Topic10\", \"Topic10\", \"Topic10\", \"Topic10\", \"Topic10\", \"Topic10\", \"Topic10\", \"Topic10\", \"Topic10\", \"Topic10\", \"Topic10\", \"Topic10\", \"Topic10\", \"Topic10\", \"Topic10\", \"Topic10\", \"Topic10\", \"Topic10\", \"Topic10\", \"Topic10\", \"Topic10\", \"Topic10\"]}, \"plot.opts\": {\"ylab\": \"PC2\", \"xlab\": \"PC1\"}};\n",
       "\n",
       "function LDAvis_load_lib(url, callback){\n",
       "  var s = document.createElement('script');\n",
       "  s.src = url;\n",
       "  s.async = true;\n",
       "  s.onreadystatechange = s.onload = callback;\n",
       "  s.onerror = function(){console.warn(\"failed to load library \" + url);};\n",
       "  document.getElementsByTagName(\"head\")[0].appendChild(s);\n",
       "}\n",
       "\n",
       "if(typeof(LDAvis) !== \"undefined\"){\n",
       "   // already loaded: just create the visualization\n",
       "   !function(LDAvis){\n",
       "       new LDAvis(\"#\" + \"ldavis_el286857960225762579827067\", ldavis_el286857960225762579827067_data);\n",
       "   }(LDAvis);\n",
       "}else if(typeof define === \"function\" && define.amd){\n",
       "   // require.js is available: use it to load d3/LDAvis\n",
       "   require.config({paths: {d3: \"https://cdnjs.cloudflare.com/ajax/libs/d3/3.5.5/d3.min\"}});\n",
       "   require([\"d3\"], function(d3){\n",
       "      window.d3 = d3;\n",
       "      LDAvis_load_lib(\"https://cdn.rawgit.com/bmabey/pyLDAvis/files/ldavis.v1.0.0.js\", function(){\n",
       "        new LDAvis(\"#\" + \"ldavis_el286857960225762579827067\", ldavis_el286857960225762579827067_data);\n",
       "      });\n",
       "    });\n",
       "}else{\n",
       "    // require.js not available: dynamically load d3 & LDAvis\n",
       "    LDAvis_load_lib(\"https://cdnjs.cloudflare.com/ajax/libs/d3/3.5.5/d3.min.js\", function(){\n",
       "         LDAvis_load_lib(\"https://cdn.rawgit.com/bmabey/pyLDAvis/files/ldavis.v1.0.0.js\", function(){\n",
       "                 new LDAvis(\"#\" + \"ldavis_el286857960225762579827067\", ldavis_el286857960225762579827067_data);\n",
       "            })\n",
       "         });\n",
       "}\n",
       "</script>"
      ],
      "text/plain": [
       "<IPython.core.display.HTML object>"
      ]
     },
     "execution_count": 50,
     "metadata": {},
     "output_type": "execute_result"
    }
   ],
   "source": [
    "dataprepared = pyLDAvis.gensim.prepare(ldamodel, corpus, dictionary)\n",
    "pyLDAvis.display(dataprepared)"
   ]
  },
  {
   "cell_type": "code",
   "execution_count": 51,
   "metadata": {
    "collapsed": true
   },
   "outputs": [],
   "source": [
    "pyLDAvis.save_html(dataprepared, 'lda_tri.html')"
   ]
  },
  {
   "cell_type": "code",
   "execution_count": 35,
   "metadata": {
    "collapsed": true
   },
   "outputs": [],
   "source": [
    "## SAVE \n",
    "dictionary.save('dictionary.dict')\n",
    "corpora.MmCorpus.serialize('corpus.mm', corpus)"
   ]
  },
  {
   "cell_type": "code",
   "execution_count": 36,
   "metadata": {
    "collapsed": true
   },
   "outputs": [],
   "source": [
    "## SAVE TEXTS\n",
    "with open(\"data_lemmetized.txt\", \"wb\") as fp:   #Pickling\n",
    "    pickle.dump(data_lemmatized, fp)"
   ]
  },
  {
   "cell_type": "code",
   "execution_count": 37,
   "metadata": {
    "collapsed": true
   },
   "outputs": [],
   "source": [
    "### SAVE MODEL\n",
    "ldamodel.save('ldamodel.model')"
   ]
  },
  {
   "cell_type": "code",
   "execution_count": null,
   "metadata": {
    "collapsed": true
   },
   "outputs": [],
   "source": [
    "## LOAD\n",
    "dictionary = gensim.corpora.Dictionary.load('dictionary.dict')\n",
    "corpus = gensim.corpora.MmCorpus('corpus.mm')\n",
    "ldamodel = gensim.models.ldamodel.LdaModel.load('ldamodel.model')\n",
    "with open(\"data_lemmetized.txt\",'rb')as f:\n",
    "    data_lemmatized = pickle.load(f)\n",
    "    f.close()"
   ]
  },
  {
   "cell_type": "code",
   "execution_count": null,
   "metadata": {
    "collapsed": false
   },
   "outputs": [],
   "source": [
    "dictionary.num_pos"
   ]
  },
  {
   "cell_type": "code",
   "execution_count": null,
   "metadata": {
    "collapsed": false
   },
   "outputs": [],
   "source": [
    "dictionary.num_nnz"
   ]
  },
  {
   "cell_type": "code",
   "execution_count": null,
   "metadata": {
    "collapsed": false,
    "scrolled": false
   },
   "outputs": [],
   "source": []
  },
  {
   "cell_type": "markdown",
   "metadata": {},
   "source": [
    "# Finding optimal number of topics"
   ]
  },
  {
   "cell_type": "code",
   "execution_count": null,
   "metadata": {
    "collapsed": true
   },
   "outputs": [],
   "source": [
    "def compute_optimal_tp_num(dictionary, corpus, texts, limit, start=2, step=1):\n",
    "    \"\"\"\n",
    "    Compute c_v coherence for various number of topics\n",
    "\n",
    "    Parameters:\n",
    "    ----------\n",
    "    dictionary : Gensim dictionary\n",
    "    corpus : Gensim corpus s\n",
    "    texts : List of input texts\n",
    "    limit : Max num of topics\n",
    "\n",
    "    Returns:\n",
    "    -------\n",
    "    model_list : List of LDA topic models\n",
    "    coherence_values : Coherence values corresponding to the LDA model with respective number of topics\n",
    "    \"\"\"\n",
    "    coherence_values = []\n",
    "    model_list = []\n",
    "    parameter_list = list(range(0, limit, 5))\n",
    "    parameter_list[0] = start\n",
    "    grid ={}\n",
    "    cv_dic = {}\n",
    "    for num_topics in parameter_list:\n",
    "        print(num_topics)\n",
    "\n",
    "        model = models.LdaModel(corpus, num_topics=num_topics,\\\n",
    "                                id2word=dictionary, \\\n",
    "                                      update_every=5, chunksize=500,  passes=20)\n",
    "        model_list.append(model)\n",
    "        perplex = model.log_perplexity(corpus, total_docs=len(corpus))\n",
    "        grid[num_topics]=[]\n",
    "        grid[num_topics].append(perplex)\n",
    "        coherencemodel = CoherenceModel(model=model, texts=texts,\\\n",
    "                                              dictionary=dictionary, coherence='c_v')\n",
    "        cv_dic[num_topics]=[]\n",
    "        cv_dic[num_topics].append(coherencemodel.get_coherence())\n",
    "\n",
    "    return model_list, cv_dic, grid"
   ]
  },
  {
   "cell_type": "code",
   "execution_count": null,
   "metadata": {
    "collapsed": false,
    "scrolled": true
   },
   "outputs": [],
   "source": [
    "%time model_list_rev, coherence_values_rev, grid_rev = compute_optimal_tp_num(dictionary=dictionary,\\\n",
    "                                                                           corpus=corpus,\\\n",
    "                                                       texts=data_lemmatized, start=2, limit=50, step=5)"
   ]
  },
  {
   "cell_type": "code",
   "execution_count": null,
   "metadata": {
    "collapsed": false
   },
   "outputs": [],
   "source": [
    "coherence_values_rev"
   ]
  },
  {
   "cell_type": "code",
   "execution_count": null,
   "metadata": {
    "collapsed": false
   },
   "outputs": [],
   "source": [
    "grid_rev"
   ]
  },
  {
   "cell_type": "code",
   "execution_count": null,
   "metadata": {
    "collapsed": false
   },
   "outputs": [],
   "source": [
    "# Show CV\n",
    "#x = range(start, limit, step)\n",
    "dfcv = pd.DataFrame(coherence_values_rev)\n",
    "\n",
    "axcv = plt.figure(figsize=(6,4)).add_subplot(111)\n",
    "plt.plot(dfcv.iloc[0].transpose())"
   ]
  },
  {
   "cell_type": "code",
   "execution_count": null,
   "metadata": {
    "collapsed": false
   },
   "outputs": [],
   "source": [
    "# perplexity\n",
    "dfp = pd.DataFrame(grid_rev)\n",
    "plt.plot(dfp.iloc[0].transpose())"
   ]
  },
  {
   "cell_type": "markdown",
   "metadata": {},
   "source": [
    "# simple_process\n"
   ]
  },
  {
   "cell_type": "code",
   "execution_count": null,
   "metadata": {
    "collapsed": false
   },
   "outputs": [],
   "source": [
    "# Build the bigram and trigram models\n",
    "%time bigram2 = gensim.models.Phrases(tokenized_text,\\\n",
    "                                     min_count=5, threshold=100) \n",
    "# higher threshold fewer phrases.\n",
    "#trigram = gensim.models.Phrases(bigram[data_words], threshold=100)  \n",
    "\n",
    "# Faster way to get a sentence clubbed as a trigram/bigram\n",
    "%time bigram_mod2 = gensim.models.phrases.Phraser(bigram2)\n",
    "#trigram_mod = gensim.models.phrases.Phraser(trigram)"
   ]
  },
  {
   "cell_type": "code",
   "execution_count": null,
   "metadata": {
    "collapsed": false
   },
   "outputs": [],
   "source": [
    "# Remove Stop Words\n",
    "%time data_words_nostops2 = remove_stopwords(tokenized_text)\n",
    "# Form Bigrams\n",
    "%time data_words_bigrams2 = make_bigrams(bigram_mod2, data_words_nostops2)"
   ]
  },
  {
   "cell_type": "code",
   "execution_count": null,
   "metadata": {
    "collapsed": false
   },
   "outputs": [],
   "source": [
    "# Do lemmatization keeping only noun, adj, vb, adv\n",
    "%time data_lemmatized2 = lemmatization(data_words_bigrams2,\\\n",
    "                                      allowed_postags=['NOUN', 'ADJ', 'VERB', 'ADV'])"
   ]
  },
  {
   "cell_type": "code",
   "execution_count": null,
   "metadata": {
    "collapsed": false
   },
   "outputs": [],
   "source": [
    "#create a Gensim dictionary from the texts\n",
    "%time dictionary2= corpora.Dictionary(data_lemmatized2)\n",
    "#remove extremes (similar to the min/max df step used when creating the tf-idf matrix)\n",
    "%time dictionary2.filter_extremes(no_below=5, no_above=0.7)"
   ]
  },
  {
   "cell_type": "code",
   "execution_count": null,
   "metadata": {
    "collapsed": false
   },
   "outputs": [],
   "source": [
    "#convert the dictionary to a bag of words corpus for reference\n",
    "%time corpus2 = [dictionary2.doc2bow(text2) for text2 in data_lemmatized2]"
   ]
  },
  {
   "cell_type": "code",
   "execution_count": null,
   "metadata": {
    "collapsed": false
   },
   "outputs": [],
   "source": [
    "####### LDA model\n",
    "%time ldamodel2 = models.LdaModel(corpus2, num_topics=20, \\\n",
    "                                   id2word=dictionary2, update_every=5,\\\n",
    "                                 chunksize=500, passes=20)"
   ]
  },
  {
   "cell_type": "code",
   "execution_count": null,
   "metadata": {
    "collapsed": false
   },
   "outputs": [],
   "source": [
    "# Get the topic related words \n",
    "topics_matrix2 = ldamodel2.show_topics(formatted=False, num_words=15, num_topics=15)\n",
    "topics_matrix2 = np.array(topics_matrix2, dtype=object)\n",
    "topic_words2 = topics_matrix2[:,1]\n",
    "\n",
    "allls2 = []\n",
    "allls12 = []\n",
    "for k2 in range(len(topic_words2)):\n",
    "    wordls2 = []\n",
    "    for i2, v2 in topic_words2[k2]:\n",
    "        wordls2.append(i2)\n",
    "    print(wordls2)\n",
    "    allls.append(wordls2)\n",
    "    allls1.append([wordls2])"
   ]
  },
  {
   "cell_type": "code",
   "execution_count": null,
   "metadata": {
    "collapsed": false
   },
   "outputs": [],
   "source": [
    "dataprepared2 = pyLDAvis.gensim.prepare(ldamodel2, corpus2, dictionary2)\n",
    "pyLDAvis.display(dataprepared2)"
   ]
  },
  {
   "cell_type": "markdown",
   "metadata": {},
   "source": [
    "# calculate topic distribution"
   ]
  },
  {
   "cell_type": "code",
   "execution_count": null,
   "metadata": {
    "collapsed": true
   },
   "outputs": [],
   "source": [
    "from __future__ import absolute_import\n",
    "import funcy as fp\n",
    "import numpy as np\n",
    "import pandas as pd\n",
    "from scipy.sparse import issparse\n",
    "from past.builtins import xrange\n",
    "#from . import prepare as vis_prepare\n",
    "\n",
    "\n",
    "def _extract_data(topic_model, corpus, dictionary, doc_topic_dists=None):\n",
    "    import gensim\n",
    "    if not gensim.matutils.ismatrix(corpus):\n",
    "        corpus_csc = gensim.matutils.corpus2csc(corpus, num_terms=len(dictionary))\n",
    "    else:\n",
    "        corpus_csc = corpus\n",
    "        # Need corpus to be a streaming gensim list corpus for len and inference functions below:\n",
    "        corpus = gensim.matutils.Sparse2Corpus(corpus_csc)\n",
    "\n",
    "    vocab = list(dictionary.token2id.keys())\n",
    "     # TODO: add the hyperparam to smooth it out? no beta in online LDA impl.. hmm..\n",
    "    # for now, I'll just make sure we don't ever get zeros...\n",
    "    beta = 0.01\n",
    "    fnames_argsort = np.asarray(list(dictionary.token2id.values()), dtype=np.int_)\n",
    "    term_freqs = corpus_csc.sum(axis=1).A.ravel()[fnames_argsort]\n",
    "    term_freqs[term_freqs == 0] = beta\n",
    "    doc_lengths = corpus_csc.sum(axis=0).A.ravel()\n",
    "\n",
    "    assert term_freqs.shape[0] == len(dictionary), 'Term frequencies and dictionary have different shape {} != {}'.format(term_freqs.shape[0], len(dictionary))\n",
    "    assert doc_lengths.shape[0] == len(corpus), 'Document lengths and corpus have different sizes {} != {}'.format(doc_lengths.shape[0], len(corpus))\n",
    "\n",
    "    if hasattr(topic_model, 'lda_alpha'):\n",
    "        num_topics = len(topic_model.lda_alpha)\n",
    "    else:\n",
    "        num_topics = topic_model.num_topics\n",
    "\n",
    "    if doc_topic_dists is None:\n",
    "        # If its an HDP model.\n",
    "        if hasattr(topic_model, 'lda_beta'):\n",
    "            gamma = topic_model.inference(corpus)\n",
    "        else:\n",
    "            gamma, _ = topic_model.inference(corpus)\n",
    "        doc_topic_dists = gamma / gamma.sum(axis=1)[:, None]\n",
    "    else:\n",
    "        if isinstance(doc_topic_dists, list):\n",
    "            doc_topic_dists = gensim.matutils.corpus2dense(doc_topic_dists, num_topics).T\n",
    "        elif issparse(doc_topic_dists):\n",
    "            doc_topic_dists = doc_topic_dists.T.todense()\n",
    "        doc_topic_dists = doc_topic_dists / doc_topic_dists.sum(axis=1)\n",
    "\n",
    "    assert doc_topic_dists.shape[1] == num_topics, 'Document topics and number of topics do not match {} != {}'.format(doc_topic_dists.shape[1], num_topics)\n",
    "\n",
    "    # get the topic-term distribution straight from gensim without\n",
    "    # iterating over tuples\n",
    "    if hasattr(topic_model, 'lda_beta'):\n",
    "        topic = topic_model.lda_beta\n",
    "    else:\n",
    "        topic = topic_model.state.get_lambda()\n",
    "    topic = topic / topic.sum(axis=1)[:, None]\n",
    "    topic_term_dists = topic[:, fnames_argsort]\n",
    "\n",
    "    assert topic_term_dists.shape[0] == doc_topic_dists.shape[1]\n",
    "\n",
    "    d =  {'topic_term_dists': topic_term_dists, 'doc_topic_dists': doc_topic_dists,\n",
    "           'doc_lengths': doc_lengths, 'vocab': vocab, 'term_frequency': term_freqs}\n",
    "    return d"
   ]
  },
  {
   "cell_type": "code",
   "execution_count": null,
   "metadata": {
    "collapsed": true
   },
   "outputs": [],
   "source": [
    "do = _extract_data(ldamodel, corpus, dictionary)"
   ]
  },
  {
   "cell_type": "code",
   "execution_count": null,
   "metadata": {
    "collapsed": true
   },
   "outputs": [],
   "source": [
    "dtt = pd.DataFrame(do['doc_topic_dists']).reset_index()"
   ]
  },
  {
   "cell_type": "code",
   "execution_count": null,
   "metadata": {
    "collapsed": true
   },
   "outputs": [],
   "source": [
    "dtt['year'] = df['year']"
   ]
  },
  {
   "cell_type": "code",
   "execution_count": null,
   "metadata": {
    "collapsed": true
   },
   "outputs": [],
   "source": []
  },
  {
   "cell_type": "code",
   "execution_count": null,
   "metadata": {
    "collapsed": true
   },
   "outputs": [],
   "source": [
    "dttm = pd.melt(dtt, id_vars=['index','year'], value_vars=[0,1,2,3,4,5,6,7,8,9])"
   ]
  },
  {
   "cell_type": "code",
   "execution_count": null,
   "metadata": {
    "collapsed": true
   },
   "outputs": [],
   "source": [
    "dttm.rename(columns={'index':'doc_index','variable':'topic_no','value':'topic_weight'}, inplace = True)"
   ]
  },
  {
   "cell_type": "code",
   "execution_count": null,
   "metadata": {
    "collapsed": true
   },
   "outputs": [],
   "source": [
    "dtm1 = dttm.pivot(index='doc_index', columns='topic_no', values='topic_weight').fillna(0)"
   ]
  },
  {
   "cell_type": "code",
   "execution_count": null,
   "metadata": {
    "collapsed": true
   },
   "outputs": [],
   "source": [
    "dtm2 = dtm1.div(dtm1.sum(axis=1), axis=0)\n",
    "\n",
    "# Shift back to a long dataframe\n",
    "dt_norm2 = dtm2.stack().reset_index()\n",
    "dt_norm2.columns = ['doc_index', 'topic_id', 'norm_topic_weight']"
   ]
  },
  {
   "cell_type": "code",
   "execution_count": null,
   "metadata": {
    "collapsed": false
   },
   "outputs": [],
   "source": [
    "len(text_ls)"
   ]
  },
  {
   "cell_type": "code",
   "execution_count": null,
   "metadata": {
    "collapsed": true
   },
   "outputs": [],
   "source": [
    "dt_norm21 = dt_norm2.merge(dttm[['year','doc_index']] ,on = 'doc_index').drop_duplicates()"
   ]
  },
  {
   "cell_type": "code",
   "execution_count": null,
   "metadata": {
    "collapsed": true
   },
   "outputs": [],
   "source": [
    "#text_ls[674]"
   ]
  },
  {
   "cell_type": "code",
   "execution_count": null,
   "metadata": {
    "collapsed": true
   },
   "outputs": [],
   "source": [
    "#wh[235]"
   ]
  },
  {
   "cell_type": "code",
   "execution_count": null,
   "metadata": {
    "collapsed": true
   },
   "outputs": [],
   "source": [
    "max_df = dt_norm21[dt_norm21.groupby(['doc_index'])['norm_topic_weight'].transform(max) == dt_norm21['norm_topic_weight']]"
   ]
  },
  {
   "cell_type": "code",
   "execution_count": null,
   "metadata": {
    "collapsed": false
   },
   "outputs": [],
   "source": [
    "topic1 = max_df[max_df['topic_id'] == 0]\n",
    "topic1.sort_values('norm_topic_weight', ascending=False)"
   ]
  },
  {
   "cell_type": "code",
   "execution_count": null,
   "metadata": {
    "collapsed": true
   },
   "outputs": [],
   "source": [
    "max_counts = max_df[['doc_index', 'year', 'topic_id']].groupby(['year', 'topic_id']).agg({'doc_index' : 'count'}).reset_index()\n",
    "max_counts.columns = ['year', 'topic_id', 'max_count']"
   ]
  },
  {
   "cell_type": "code",
   "execution_count": null,
   "metadata": {
    "collapsed": true
   },
   "outputs": [],
   "source": [
    "# Count the number of individual documents per year\n",
    "total_docs = max_df[['year', 'doc_index']].groupby('year').agg({'doc_index' : 'count'}).reset_index()\n",
    "total_docs.columns = ['year', 'total_docs']"
   ]
  },
  {
   "cell_type": "code",
   "execution_count": null,
   "metadata": {
    "collapsed": false
   },
   "outputs": [],
   "source": [
    "total_docs"
   ]
  },
  {
   "cell_type": "code",
   "execution_count": null,
   "metadata": {
    "collapsed": true
   },
   "outputs": [],
   "source": [
    "# Combine the two dataframes\n",
    "max_counts = max_counts.merge(total_docs, on='year', how='left')"
   ]
  },
  {
   "cell_type": "code",
   "execution_count": null,
   "metadata": {
    "collapsed": true
   },
   "outputs": [],
   "source": [
    "max_counts['prevalence'] = max_counts['max_count']/max_counts['total_docs']\n"
   ]
  },
  {
   "cell_type": "code",
   "execution_count": null,
   "metadata": {
    "collapsed": false
   },
   "outputs": [],
   "source": [
    "max_counts"
   ]
  },
  {
   "cell_type": "markdown",
   "metadata": {},
   "source": [
    "# Graph"
   ]
  },
  {
   "cell_type": "code",
   "execution_count": null,
   "metadata": {
    "collapsed": true
   },
   "outputs": [],
   "source": [
    "NUMDOCS = 60 # number of subreddits OR number of BBC documents per category\n",
    "NUMTOPICS = 10\n",
    "def toVector(l):\n",
    "    ''' inserts 0s for unrepresented topics in a document\n",
    "        input: return value from ldamodel.get_document_topics(corpus[i])\n",
    "        output: document topics with 0s for unrepresented topics'''\n",
    "    ret = []\n",
    "    t = 0\n",
    "    for i in range(NUMTOPICS):\n",
    "        if t == len(l):\n",
    "            ret += [0]\n",
    "        elif l[t][0] == i + 1:\n",
    "            ret += [l[t][1]]\n",
    "            t = t + 1\n",
    "        else:\n",
    "            ret += [0]\n",
    "    return ret"
   ]
  },
  {
   "cell_type": "code",
   "execution_count": null,
   "metadata": {
    "collapsed": true
   },
   "outputs": [],
   "source": [
    "#text_ls#"
   ]
  },
  {
   "cell_type": "code",
   "execution_count": null,
   "metadata": {
    "collapsed": true
   },
   "outputs": [],
   "source": [
    "EPS = 0.001\n",
    "numDocs = len(text_ls)\n",
    "# note: this can take a long time on large corpora\n",
    "similarity = [[0 for x in range(numDocs)] for y in range(numDocs)]\n",
    "\n",
    "for i in range(numDocs):\n",
    "    itops = toVector(ldamodel.get_document_topics(corpus[i]))\n",
    "    for j in range(numDocs)[i:]:\n",
    "        jtops = toVector(ldamodel.get_document_topics(corpus[j]))\n",
    "        sim = 1.0 - gensim.matutils.hellinger(itops, jtops)\n",
    "        sim = min(sim + EPS, 1.0)\n",
    "        \n",
    "        similarity[i][j] = sim\n"
   ]
  },
  {
   "cell_type": "code",
   "execution_count": null,
   "metadata": {
    "collapsed": false
   },
   "outputs": [],
   "source": [
    "type(similarity)"
   ]
  },
  {
   "cell_type": "code",
   "execution_count": null,
   "metadata": {
    "collapsed": true
   },
   "outputs": [],
   "source": [
    "import pickle"
   ]
  },
  {
   "cell_type": "code",
   "execution_count": null,
   "metadata": {
    "collapsed": true
   },
   "outputs": [],
   "source": [
    "with open('similarity','wb') as f:\n",
    "    pickle.dump(similarity,f)"
   ]
  },
  {
   "cell_type": "code",
   "execution_count": null,
   "metadata": {
    "collapsed": true
   },
   "outputs": [],
   "source": [
    "d = pickle.load(open('similarity', 'rb'))"
   ]
  },
  {
   "cell_type": "code",
   "execution_count": null,
   "metadata": {
    "collapsed": false
   },
   "outputs": [],
   "source": [
    "len(d)"
   ]
  },
  {
   "cell_type": "code",
   "execution_count": null,
   "metadata": {
    "collapsed": true
   },
   "outputs": [],
   "source": [
    "# Wordclouds\n",
    "wc = WordCloud(\n",
    "    background_color=\"white\",\n",
    "    max_words=200,\n",
    "    width=800,\n",
    "    height=600,\n",
    "    stopwords= stops#stopwords.words('english')\n",
    ")\n",
    "#WordCloud().fit_words(dict(lda.show_topic(t, 200)))\n",
    "for t in range(ldamodel.num_topics):\n",
    "    name = \"Topic #\" + str(t+1)\n",
    "    plt.figure().subplots_adjust(bottom=0, top=1, left=0, right=1)\n",
    "    plt.imshow(wc.fit_words(dict(ldamodel.show_topic(t, 200))))\n",
    "    plt.axis(\"off\")\n",
    "    #plt.title(\"Topic #\" + str(t))\n",
    "    \n",
    "    plt.savefig(str(name)+'.png', dpi=300,facecolor='w',bbox_inches=\"tight\", pad_inches = 0)\n",
    "    plt.close()\n",
    "    #plt.close()\n",
    "    #plt.show()"
   ]
  },
  {
   "cell_type": "code",
   "execution_count": null,
   "metadata": {
    "collapsed": true
   },
   "outputs": [],
   "source": []
  }
 ],
 "metadata": {
  "anaconda-cloud": {},
  "kernelspec": {
   "display_name": "Python [default]",
   "language": "python",
   "name": "python3"
  },
  "language_info": {
   "codemirror_mode": {
    "name": "ipython",
    "version": 3
   },
   "file_extension": ".py",
   "mimetype": "text/x-python",
   "name": "python",
   "nbconvert_exporter": "python",
   "pygments_lexer": "ipython3",
   "version": "3.5.2"
  }
 },
 "nbformat": 4,
 "nbformat_minor": 2
}
