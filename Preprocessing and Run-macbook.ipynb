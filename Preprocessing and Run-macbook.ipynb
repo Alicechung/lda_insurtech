{
 "cells": [
  {
   "cell_type": "code",
   "execution_count": 157,
   "metadata": {
    "collapsed": true
   },
   "outputs": [],
   "source": [
    "import os, re\n",
    "import pandas as pd\n",
    "import datetime\n",
    "import nltk\n",
    "import numpy as np\n",
    "import gensim\n",
    "from stop_words import get_stop_words\n",
    "from nltk.tokenize import PunktSentenceTokenizer\n",
    "from gensim.models import CoherenceModel\n",
    "from gensim.utils import simple_preprocess\n",
    "from gensim.models import TfidfModel\n",
    "from wordcloud import WordCloud\n",
    "from gensim import corpora, models, similarities \n",
    "from gensim.parsing.preprocessing import remove_stopwords\n",
    "import spacy\n",
    "import itertools\n",
    "import warnings\n",
    "warnings.filterwarnings(\"ignore\")\n",
    "from nltk.stem.snowball import SnowballStemmer\n",
    "stemmer = SnowballStemmer(\"english\")\n",
    "from datetime import datetime\n",
    "import matplotlib\n",
    "import matplotlib.pyplot as plt\n",
    "plt.rcParams[\"font.family\"] = \"Times New Roman\"\n",
    "%matplotlib inline\n",
    "matplotlib.use('agg')\n",
    "import itertools\n",
    "import pickle\n",
    "import pyLDAvis\n",
    "import pyLDAvis.gensim \n",
    "pyLDAvis.enable_notebook()"
   ]
  },
  {
   "cell_type": "code",
   "execution_count": 158,
   "metadata": {
    "collapsed": true
   },
   "outputs": [],
   "source": [
    "stops = nltk.corpus.stopwords.words('english')+['can','will','also','health','healthcare','datum','data'\n",
    "                                               'technology','technolog','care']"
   ]
  },
  {
   "cell_type": "code",
   "execution_count": null,
   "metadata": {
    "collapsed": true
   },
   "outputs": [],
   "source": [
    "#stops = get_stop_words('en')\n",
    "#stops = stops +['\"s',\"'s\",'s','can','will','also']"
   ]
  },
  {
   "cell_type": "code",
   "execution_count": null,
   "metadata": {
    "collapsed": false
   },
   "outputs": [],
   "source": [
    "#pt = nltk.stem.PorterStemmer()"
   ]
  },
  {
   "cell_type": "code",
   "execution_count": 159,
   "metadata": {
    "collapsed": false
   },
   "outputs": [],
   "source": [
    "nlp = spacy.load('en')#, disable=['parser', 'ner'])"
   ]
  },
  {
   "cell_type": "code",
   "execution_count": null,
   "metadata": {
    "collapsed": true
   },
   "outputs": [],
   "source": [
    "#spacy.load('en')"
   ]
  },
  {
   "cell_type": "code",
   "execution_count": null,
   "metadata": {
    "collapsed": false
   },
   "outputs": [],
   "source": [
    "rootDir = '../LDA/'\n",
    "d = {}\n",
    "wh = []\n",
    "for dirName, subdirList, fileList in os.walk(rootDir) :\n",
    "    print('Found directory: %s' % dirName)\n",
    "    #print(dirName)\n",
    "    #print(len(fileList))\n",
    "    c = 0\n",
    "\n",
    "    if dirName !='../LDA/.ipynb_checkpoints' and dirName != '../LDA/'\\\n",
    "    and dirName != '../LDA/fintech_re':\n",
    "        print(dirName)\n",
    "        news_name = dirName.replace('../LDA/','')\n",
    "        d[news_name] = {}\n",
    "        c = 0\n",
    "        for fname in fileList: \n",
    "            if fname.endswith(\".txt\"):  \n",
    "                filepath = os.path.join(dirName, fname)\n",
    "                with open(filepath, 'r', -1) as input_file:\n",
    "                    data = input_file.read()\n",
    "                    #print(data)\n",
    "                    if data != '':\n",
    "                        try:                                \n",
    "                            if news_name == 'healthitarticle':\n",
    "                                c+=1\n",
    "                                date = re.search(r'\\w+\\s\\d{1,2}\\,\\s\\d{4}', data).group(0)\n",
    "                                date_obj = datetime.strptime(date, '%B %d, %Y')\n",
    "                                tls = [item for item in data.split('\\n') if item != ''and 'tagged' not in item.lower()]\n",
    "                                body = re.sub(r'\\w+\\s\\d{1,2}\\,\\s\\d{4}\\s\\-\\s+','', tls[3])\n",
    "                                tls[3] = re.sub('LAS VEGAS – ','', body)\n",
    "                                whole_text = \" \".join(tls[3:]) \n",
    "                            if news_name == 'aitho':\n",
    "                                c+=1\n",
    "                                if fname == 'aitho_article_1792.txt':\n",
    "                                    date = re.findall(r'\\d{1,2}\\s\\w+\\s\\d{4}', data)[1]\n",
    "                                else:\n",
    "                                    date = re.search(r'\\d{1,2}\\s\\w+\\s\\d{4}', data).group(0)\n",
    "                                date_obj = datetime.strptime(date, '%d %b %Y')\n",
    "                                tls = [item for item in data.split('\\n') if item != '']\n",
    "                                whole_text = \" \".join(tls[2:]) \n",
    "                            if news_name == 'fintech':\n",
    "                                c+=1\n",
    "                                date = re.search(r'\\w+\\s\\d{1,2}\\,\\s\\d{4}', data).group(0)\n",
    "                                date_obj = datetime.strptime(date, '%B %d, %Y')\n",
    "                                tls = [item for item in data.split('\\n') if item != '']\n",
    "                                whole_text = \" \".join(tls[2:]) \n",
    "                            if news_name == 'reinsu':\n",
    "                                c +=1\n",
    "                                date = re.search(r'\\d{1,2}\\w+\\s\\w+\\s\\d{4}', data).group(0)\n",
    "                                date = re.sub(r'(?<=[0-9])(?:st|nd|rd|th)', '',date)\n",
    "                                date_obj = datetime.strptime(date, '%d %B %Y')\n",
    "                                tls = [item for item in data.split('\\n') if item != '']\n",
    "                                whole_text = \" \".join(tls[2:]) \n",
    "\n",
    "                        except Exception as e:\n",
    "                            print(news_name, fname)\n",
    "                            print(e)\n",
    "            d[news_name][c] = {'date':date_obj, 'text':whole_text, \n",
    "                                'whole':tls, 'filepath':filepath}"
   ]
  },
  {
   "cell_type": "code",
   "execution_count": null,
   "metadata": {
    "collapsed": false
   },
   "outputs": [],
   "source": [
    "#[item for item in data.split('\\n') if item != '' and 'tagged' not in item.lower()]\n",
    "#[item for item in tp if item != '' and 'tagged' not in item.lower()]"
   ]
  },
  {
   "cell_type": "code",
   "execution_count": null,
   "metadata": {
    "collapsed": false
   },
   "outputs": [],
   "source": [
    "#tp = d['healthitarticle'][1]['whole']\n",
    "#tp"
   ]
  },
  {
   "cell_type": "code",
   "execution_count": null,
   "metadata": {
    "collapsed": false
   },
   "outputs": [],
   "source": [
    "for i, v in d.items():\n",
    "    print(i, len(v))"
   ]
  },
  {
   "cell_type": "code",
   "execution_count": null,
   "metadata": {
    "collapsed": false
   },
   "outputs": [],
   "source": []
  },
  {
   "cell_type": "code",
   "execution_count": null,
   "metadata": {
    "collapsed": true
   },
   "outputs": [],
   "source": [
    "temp = {}\n",
    "for news_name, values1 in d.items():\n",
    "    for number, values2 in values1.items():\n",
    "        temp.setdefault('newsname', []).append(news_name)\n",
    "        temp.setdefault('number', []).append(number)\n",
    "        for key, value in values2.items():\n",
    "            #for key, value in date.items():\n",
    "            temp.setdefault(key, []).append(value)"
   ]
  },
  {
   "cell_type": "code",
   "execution_count": null,
   "metadata": {
    "collapsed": true
   },
   "outputs": [],
   "source": [
    "df = pd.DataFrame(temp)"
   ]
  },
  {
   "cell_type": "code",
   "execution_count": null,
   "metadata": {
    "collapsed": false
   },
   "outputs": [],
   "source": [
    "df[['date','newsname','text','whole']].shape[0]"
   ]
  },
  {
   "cell_type": "code",
   "execution_count": null,
   "metadata": {
    "collapsed": false
   },
   "outputs": [],
   "source": [
    "df_clean = df.drop_duplicates(subset=['date','newsname','text'])"
   ]
  },
  {
   "cell_type": "code",
   "execution_count": null,
   "metadata": {
    "collapsed": false
   },
   "outputs": [],
   "source": [
    "df_drop = df[df.duplicated(subset=['date','newsname','text'])]"
   ]
  },
  {
   "cell_type": "code",
   "execution_count": null,
   "metadata": {
    "collapsed": true
   },
   "outputs": [],
   "source": [
    "df_clean['date'] = pd.to_datetime(df_clean['date'])"
   ]
  },
  {
   "cell_type": "code",
   "execution_count": null,
   "metadata": {
    "collapsed": true
   },
   "outputs": [],
   "source": [
    "df_clean['year'] = df_clean['date'].dt.year"
   ]
  },
  {
   "cell_type": "code",
   "execution_count": null,
   "metadata": {
    "collapsed": false
   },
   "outputs": [],
   "source": [
    "df_clean.groupby('newsname').count()"
   ]
  },
  {
   "cell_type": "code",
   "execution_count": null,
   "metadata": {
    "collapsed": true
   },
   "outputs": [],
   "source": [
    "#df_clean.to_csv('insuretech_newspaper_all_fine.csv', index = False)"
   ]
  },
  {
   "cell_type": "code",
   "execution_count": 160,
   "metadata": {
    "collapsed": false
   },
   "outputs": [],
   "source": [
    "df_clean = pd.read_csv('insuretech_newspaper_all_fine.csv')"
   ]
  },
  {
   "cell_type": "code",
   "execution_count": 161,
   "metadata": {
    "collapsed": false
   },
   "outputs": [],
   "source": [
    "text_ls = list(df_clean['text'])"
   ]
  },
  {
   "cell_type": "code",
   "execution_count": 162,
   "metadata": {
    "collapsed": true
   },
   "outputs": [],
   "source": [
    "from gensim.parsing.preprocessing import stem_text, strip_punctuation, strip_punctuation2"
   ]
  },
  {
   "cell_type": "code",
   "execution_count": 163,
   "metadata": {
    "collapsed": true
   },
   "outputs": [],
   "source": [
    "total_text = text_ls"
   ]
  },
  {
   "cell_type": "code",
   "execution_count": 164,
   "metadata": {
    "collapsed": true
   },
   "outputs": [],
   "source": [
    "def sent_to_words(sentences):\n",
    "    for sentence in sentences:\n",
    "        yield(gensim.utils.simple_preprocess(str(sentence), deacc=True))"
   ]
  },
  {
   "cell_type": "code",
   "execution_count": 165,
   "metadata": {
    "collapsed": true
   },
   "outputs": [],
   "source": [
    "def tokenized_gensim(total_text):\n",
    "    tokenized_text = []\n",
    "    for k, text_raw in enumerate(total_text):\n",
    "        text = re.sub('\\n', ' ', text_raw, flags= re.IGNORECASE) \n",
    "        text = re.sub(r'\\((?!k\\))(?!b\\))(.*?)\\)',' ', text, flags= re.IGNORECASE)\n",
    "        try:\n",
    "            tokens = [word for sent in nltk.sent_tokenize(text) \\\n",
    "              for word in nltk.word_tokenize(sent) if word.lower() not in stops]              \n",
    "            filtered_tokens = []\n",
    "            for token in tokens:\n",
    "                if re.search('[a-zA-Z]', token):\n",
    "                    token = re.sub(r'[^\\w\\s]', '', token)\n",
    "                    filtered_tokens.append(token.lower())\n",
    "            stems = [stemmer.stem(t) for t in filtered_tokens if t not in stops]\n",
    "            stems = [word for word in stems if word not in stops]\n",
    "            tokenized_text.append(stems)\n",
    "        except Exception as e:\n",
    "            print(e)\n",
    "            print(k)\n",
    "    return tokenized_text"
   ]
  },
  {
   "cell_type": "code",
   "execution_count": 166,
   "metadata": {
    "collapsed": true
   },
   "outputs": [],
   "source": [
    "def remove_stopwords(texts):\n",
    "    return [[word for word in simple_preprocess(str(doc)) if word not in stops] for doc in texts]\n",
    "\n",
    "def make_bigrams(bigram_mod, texts):\n",
    "    return [bigram_mod[doc] for doc in texts]\n",
    "\n",
    "def make_trigrams(texts):\n",
    "    return [trigram_mod[bigram_mod[doc]] for doc in texts]\n",
    "\n",
    "def lemmatization(texts, allowed_postags=['NOUN']):#, 'ADJ', 'VERB', 'ADV']):\n",
    "    \"\"\"https://spacy.io/api/annotation\"\"\"\n",
    "    texts_out = []\n",
    "    for sent in texts:\n",
    "        #print(sent)\n",
    "        doc = nlp(\" \".join(sent))\n",
    "        #print(doc)\n",
    "        texts_out.append([token.lemma_ for token in doc if token.pos_ in allowed_postags and token.lemma_ not in stops])\n",
    "    return texts_out"
   ]
  },
  {
   "cell_type": "code",
   "execution_count": 174,
   "metadata": {
    "collapsed": false
   },
   "outputs": [
    {
     "name": "stdout",
     "output_type": "stream",
     "text": [
      "CPU times: user 2min 20s, sys: 993 ms, total: 2min 21s\n",
      "Wall time: 2min 23s\n"
     ]
    }
   ],
   "source": [
    "# Tokenized, remove stop words, stemming the whole texts\n",
    "%time data_words = tokenized_gensim(total_text)"
   ]
  },
  {
   "cell_type": "code",
   "execution_count": 175,
   "metadata": {
    "collapsed": false
   },
   "outputs": [
    {
     "name": "stdout",
     "output_type": "stream",
     "text": [
      "CPU times: user 7.87 s, sys: 422 ms, total: 8.29 s\n",
      "Wall time: 8.51 s\n",
      "CPU times: user 21.4 s, sys: 353 ms, total: 21.8 s\n",
      "Wall time: 21.9 s\n",
      "CPU times: user 19.2 s, sys: 34.3 ms, total: 19.2 s\n",
      "Wall time: 19.3 s\n",
      "CPU times: user 26.8 s, sys: 61.9 ms, total: 26.9 s\n",
      "Wall time: 27.1 s\n"
     ]
    }
   ],
   "source": [
    "# Build the bigram and trigram models\n",
    "%time bigram = gensim.models.Phrases(data_words,\\\n",
    "                                     min_count=5, threshold=10) \n",
    "# higher threshold fewer phrases.\n",
    "%time trigram = gensim.models.Phrases(bigram[data_words], threshold=10)  \n",
    "\n",
    "# Faster way to get a sentence clubbed as a trigram/bigram\n",
    "%time bigram_mod = gensim.models.phrases.Phraser(bigram)\n",
    "%time trigram_mod = gensim.models.phrases.Phraser(trigram)"
   ]
  },
  {
   "cell_type": "code",
   "execution_count": 176,
   "metadata": {
    "collapsed": false
   },
   "outputs": [
    {
     "name": "stdout",
     "output_type": "stream",
     "text": [
      "CPU times: user 13.3 s, sys: 377 ms, total: 13.7 s\n",
      "Wall time: 13.8 s\n",
      "CPU times: user 10.7 s, sys: 3.07 s, total: 13.8 s\n",
      "Wall time: 14.4 s\n"
     ]
    }
   ],
   "source": [
    "# Remove Stop Words\n",
    "%time data_words_nostops = remove_stopwords(data_words)\n",
    "# Form Bigrams\n",
    "%time data_words_bigrams = make_bigrams(bigram_mod, data_words_nostops)"
   ]
  },
  {
   "cell_type": "code",
   "execution_count": 177,
   "metadata": {
    "collapsed": false
   },
   "outputs": [
    {
     "name": "stdout",
     "output_type": "stream",
     "text": [
      "CPU times: user 19.2 s, sys: 362 ms, total: 19.6 s\n",
      "Wall time: 19.7 s\n"
     ]
    }
   ],
   "source": [
    "# Form Trigrams\n",
    "%time data_words_trigrams = make_trigrams(data_words_nostops)"
   ]
  },
  {
   "cell_type": "code",
   "execution_count": null,
   "metadata": {
    "collapsed": false
   },
   "outputs": [],
   "source": [
    "#len(data_lemmatized_tri[100])"
   ]
  },
  {
   "cell_type": "code",
   "execution_count": null,
   "metadata": {
    "collapsed": false
   },
   "outputs": [],
   "source": [
    "# Do lemmatization keeping only noun, adj, vb, adv\n",
    "%time data_lemmatized = lemmatization(data_words_bigrams,\\\n",
    "                                      allowed_postags=['NOUN'])#, 'ADJ', 'VERB', 'ADV'])"
   ]
  },
  {
   "cell_type": "code",
   "execution_count": 178,
   "metadata": {
    "collapsed": false
   },
   "outputs": [
    {
     "name": "stdout",
     "output_type": "stream",
     "text": [
      "CPU times: user 12min 16s, sys: 1min 58s, total: 14min 14s\n",
      "Wall time: 9min 15s\n"
     ]
    }
   ],
   "source": [
    "# Do lemmatization keeping only noun, adj, vb, adv with tri\n",
    "%time data_lemmatized_tri = lemmatization(data_words_trigrams,\\\n",
    "                                      allowed_postags=['NOUN'])"
   ]
  },
  {
   "cell_type": "code",
   "execution_count": 179,
   "metadata": {
    "collapsed": false
   },
   "outputs": [
    {
     "name": "stdout",
     "output_type": "stream",
     "text": [
      "CPU times: user 1.6 s, sys: 14.8 ms, total: 1.62 s\n",
      "Wall time: 1.65 s\n",
      "CPU times: user 178 ms, sys: 9.8 ms, total: 188 ms\n",
      "Wall time: 189 ms\n"
     ]
    }
   ],
   "source": [
    "#create a Gensim dictionary from the texts\n",
    "%time dictionary= corpora.Dictionary(data_lemmatized_tri)\n",
    "#remove extremes (similar to the min/max df step used when creating the tf-idf matrix)\n",
    "%time dictionary.filter_extremes(no_below=5, no_above=0.6)%%!₩"
   ]
  },
  {
   "cell_type": "code",
   "execution_count": 180,
   "metadata": {
    "collapsed": false
   },
   "outputs": [],
   "source": [
    "dicls = list(dictionary.values())"
   ]
  },
  {
   "cell_type": "code",
   "execution_count": 191,
   "metadata": {
    "collapsed": false
   },
   "outputs": [],
   "source": [
    "#dicls"
   ]
  },
  {
   "cell_type": "code",
   "execution_count": null,
   "metadata": {
    "collapsed": false
   },
   "outputs": [],
   "source": [
    "for i, tx in enumerate(data_lemmatized_tri):\n",
    "    if 'databig' in tx:\n",
    "        print(i)"
   ]
  },
  {
   "cell_type": "code",
   "execution_count": null,
   "metadata": {
    "collapsed": false
   },
   "outputs": [],
   "source": [
    "total_text[3836]"
   ]
  },
  {
   "cell_type": "code",
   "execution_count": null,
   "metadata": {
    "collapsed": false
   },
   "outputs": [],
   "source": [
    "for w in dicls:\n",
    "    if 'big' in w:\n",
    "        print(w)"
   ]
  },
  {
   "cell_type": "code",
   "execution_count": null,
   "metadata": {
    "collapsed": true
   },
   "outputs": [],
   "source": []
  },
  {
   "cell_type": "code",
   "execution_count": null,
   "metadata": {
    "collapsed": false
   },
   "outputs": [],
   "source": [
    "# for k, v in dictionary.token2id.items():\n",
    "#     print(k, v)"
   ]
  },
  {
   "cell_type": "code",
   "execution_count": 181,
   "metadata": {
    "collapsed": false,
    "scrolled": true
   },
   "outputs": [
    {
     "name": "stdout",
     "output_type": "stream",
     "text": [
      "CPU times: user 1.23 s, sys: 110 ms, total: 1.34 s\n",
      "Wall time: 1.38 s\n"
     ]
    }
   ],
   "source": [
    "#convert the dictionary to a bag of words corpus for reference\n",
    "%time corpus = [dictionary.doc2bow(text) for text in data_lemmatized_tri]"
   ]
  },
  {
   "cell_type": "code",
   "execution_count": null,
   "metadata": {
    "collapsed": true
   },
   "outputs": [],
   "source": [
    "#corpus"
   ]
  },
  {
   "cell_type": "code",
   "execution_count": 182,
   "metadata": {
    "collapsed": false
   },
   "outputs": [
    {
     "name": "stdout",
     "output_type": "stream",
     "text": [
      "CPU times: user 3min 22s, sys: 2.31 s, total: 3min 25s\n",
      "Wall time: 3min 24s\n"
     ]
    }
   ],
   "source": [
    "####### LDA model\n",
    "%time ldamodel = models.LdaModel(corpus, num_topics=10, \\\n",
    "                                   id2word=dictionary, update_every=5,\\\n",
    "                                 chunksize=3000, passes=20)"
   ]
  },
  {
   "cell_type": "code",
   "execution_count": 183,
   "metadata": {
    "collapsed": false
   },
   "outputs": [
    {
     "name": "stdout",
     "output_type": "stream",
     "text": [
      "['busi', 'compani', 'innov', 'market', 'bank', 'digit', 'fintech', 'partner', 'custom', 'product']\n",
      "['blockchain', 'platform', 'compani', 'market', 'bank', 'payment', 'transact', 'cryptocurr', 'investor', 'user']\n",
      "['custom', 'manag', 'busi', 'platform', 'process', 'compani', 'system', 'product', 'market', 'autom']\n",
      "['hospit', 'system', 'patient', 'organ', 'vendor', 'tool', 'work', 'manag', 'realli', 'inform']\n",
      "['platform', 'system', 'user', 'design', 'network', 'mobil', 'power', 'drone', 'compani', 'test']\n",
      "['research', 'precis_medicin', 'cancer', 'patient', 'clinic', 'project', 'genom', 'collabor', 'big_data', 'treatment']\n",
      "['program', 'patient', 'hospit', 'system', 'improv', 'communiti', 'state', 'report', 'qualiti', 'access']\n",
      "['patient', 'percent', 'research', 'clinic', 'system', 'manag', 'tool', 'studi', 'time', 'popul']\n",
      "['organ', 'system', 'patient', 'ehr', 'inform', 'provid', 'interoper', 'physician', 'tool', 'manag']\n",
      "['market', 'custom', 'compani', 'consum', 'brand', 'product', 'platform', 'content', 'person', 'sale']\n"
     ]
    }
   ],
   "source": [
    "# Get the topic related words \n",
    "topics_matrix = ldamodel.show_topics(formatted=False, num_words=10, num_topics=10)\n",
    "topics_matrix = np.array(topics_matrix, dtype=object)\n",
    "topic_words = topics_matrix[:,1]\n",
    "\n",
    "allls = []\n",
    "allls1 = []\n",
    "for k in range(len(topic_words)):\n",
    "    wordls = []\n",
    "    for i, v in topic_words[k]:\n",
    "        wordls.append(i)\n",
    "    print(wordls)\n",
    "    allls.append(wordls)\n",
    "    allls1.append([wordls])"
   ]
  },
  {
   "cell_type": "code",
   "execution_count": 186,
   "metadata": {
    "collapsed": false
   },
   "outputs": [
    {
     "data": {
      "text/html": [
       "<div>\n",
       "<style scoped>\n",
       "    .dataframe tbody tr th:only-of-type {\n",
       "        vertical-align: middle;\n",
       "    }\n",
       "\n",
       "    .dataframe tbody tr th {\n",
       "        vertical-align: top;\n",
       "    }\n",
       "\n",
       "    .dataframe thead th {\n",
       "        text-align: right;\n",
       "    }\n",
       "</style>\n",
       "<table border=\"1\" class=\"dataframe\">\n",
       "  <thead>\n",
       "    <tr style=\"text-align: right;\">\n",
       "      <th></th>\n",
       "      <th>0</th>\n",
       "      <th>1</th>\n",
       "      <th>2</th>\n",
       "      <th>3</th>\n",
       "      <th>4</th>\n",
       "      <th>5</th>\n",
       "      <th>6</th>\n",
       "      <th>7</th>\n",
       "      <th>8</th>\n",
       "      <th>9</th>\n",
       "    </tr>\n",
       "  </thead>\n",
       "  <tbody>\n",
       "    <tr>\n",
       "      <th>0</th>\n",
       "      <td>busi</td>\n",
       "      <td>compani</td>\n",
       "      <td>innov</td>\n",
       "      <td>market</td>\n",
       "      <td>bank</td>\n",
       "      <td>digit</td>\n",
       "      <td>fintech</td>\n",
       "      <td>partner</td>\n",
       "      <td>custom</td>\n",
       "      <td>product</td>\n",
       "    </tr>\n",
       "    <tr>\n",
       "      <th>1</th>\n",
       "      <td>blockchain</td>\n",
       "      <td>platform</td>\n",
       "      <td>compani</td>\n",
       "      <td>market</td>\n",
       "      <td>bank</td>\n",
       "      <td>payment</td>\n",
       "      <td>transact</td>\n",
       "      <td>cryptocurr</td>\n",
       "      <td>investor</td>\n",
       "      <td>user</td>\n",
       "    </tr>\n",
       "    <tr>\n",
       "      <th>2</th>\n",
       "      <td>custom</td>\n",
       "      <td>manag</td>\n",
       "      <td>busi</td>\n",
       "      <td>platform</td>\n",
       "      <td>process</td>\n",
       "      <td>compani</td>\n",
       "      <td>system</td>\n",
       "      <td>product</td>\n",
       "      <td>market</td>\n",
       "      <td>autom</td>\n",
       "    </tr>\n",
       "    <tr>\n",
       "      <th>3</th>\n",
       "      <td>hospit</td>\n",
       "      <td>system</td>\n",
       "      <td>patient</td>\n",
       "      <td>organ</td>\n",
       "      <td>vendor</td>\n",
       "      <td>tool</td>\n",
       "      <td>work</td>\n",
       "      <td>manag</td>\n",
       "      <td>realli</td>\n",
       "      <td>inform</td>\n",
       "    </tr>\n",
       "    <tr>\n",
       "      <th>4</th>\n",
       "      <td>platform</td>\n",
       "      <td>system</td>\n",
       "      <td>user</td>\n",
       "      <td>design</td>\n",
       "      <td>network</td>\n",
       "      <td>mobil</td>\n",
       "      <td>power</td>\n",
       "      <td>drone</td>\n",
       "      <td>compani</td>\n",
       "      <td>test</td>\n",
       "    </tr>\n",
       "    <tr>\n",
       "      <th>5</th>\n",
       "      <td>research</td>\n",
       "      <td>precis_medicin</td>\n",
       "      <td>cancer</td>\n",
       "      <td>patient</td>\n",
       "      <td>clinic</td>\n",
       "      <td>project</td>\n",
       "      <td>genom</td>\n",
       "      <td>collabor</td>\n",
       "      <td>big_data</td>\n",
       "      <td>treatment</td>\n",
       "    </tr>\n",
       "    <tr>\n",
       "      <th>6</th>\n",
       "      <td>program</td>\n",
       "      <td>patient</td>\n",
       "      <td>hospit</td>\n",
       "      <td>system</td>\n",
       "      <td>improv</td>\n",
       "      <td>communiti</td>\n",
       "      <td>state</td>\n",
       "      <td>report</td>\n",
       "      <td>qualiti</td>\n",
       "      <td>access</td>\n",
       "    </tr>\n",
       "    <tr>\n",
       "      <th>7</th>\n",
       "      <td>patient</td>\n",
       "      <td>percent</td>\n",
       "      <td>research</td>\n",
       "      <td>clinic</td>\n",
       "      <td>system</td>\n",
       "      <td>manag</td>\n",
       "      <td>tool</td>\n",
       "      <td>studi</td>\n",
       "      <td>time</td>\n",
       "      <td>popul</td>\n",
       "    </tr>\n",
       "    <tr>\n",
       "      <th>8</th>\n",
       "      <td>organ</td>\n",
       "      <td>system</td>\n",
       "      <td>patient</td>\n",
       "      <td>ehr</td>\n",
       "      <td>inform</td>\n",
       "      <td>provid</td>\n",
       "      <td>interoper</td>\n",
       "      <td>physician</td>\n",
       "      <td>tool</td>\n",
       "      <td>manag</td>\n",
       "    </tr>\n",
       "    <tr>\n",
       "      <th>9</th>\n",
       "      <td>market</td>\n",
       "      <td>custom</td>\n",
       "      <td>compani</td>\n",
       "      <td>consum</td>\n",
       "      <td>brand</td>\n",
       "      <td>product</td>\n",
       "      <td>platform</td>\n",
       "      <td>content</td>\n",
       "      <td>person</td>\n",
       "      <td>sale</td>\n",
       "    </tr>\n",
       "  </tbody>\n",
       "</table>\n",
       "</div>"
      ],
      "text/plain": [
       "            0               1         2         3        4          5  \\\n",
       "0        busi         compani     innov    market     bank      digit   \n",
       "1  blockchain        platform   compani    market     bank    payment   \n",
       "2      custom           manag      busi  platform  process    compani   \n",
       "3      hospit          system   patient     organ   vendor       tool   \n",
       "4    platform          system      user    design  network      mobil   \n",
       "5    research  precis_medicin    cancer   patient   clinic    project   \n",
       "6     program         patient    hospit    system   improv  communiti   \n",
       "7     patient         percent  research    clinic   system      manag   \n",
       "8       organ          system   patient       ehr   inform     provid   \n",
       "9      market          custom   compani    consum    brand    product   \n",
       "\n",
       "           6           7         8          9  \n",
       "0    fintech     partner    custom    product  \n",
       "1   transact  cryptocurr  investor       user  \n",
       "2     system     product    market      autom  \n",
       "3       work       manag    realli     inform  \n",
       "4      power       drone   compani       test  \n",
       "5      genom    collabor  big_data  treatment  \n",
       "6      state      report   qualiti     access  \n",
       "7       tool       studi      time      popul  \n",
       "8  interoper   physician      tool      manag  \n",
       "9   platform     content    person       sale  "
      ]
     },
     "execution_count": 186,
     "metadata": {},
     "output_type": "execute_result"
    }
   ],
   "source": [
    "pd.DataFrame(allls)"
   ]
  },
  {
   "cell_type": "code",
   "execution_count": 187,
   "metadata": {
    "collapsed": false,
    "scrolled": false
   },
   "outputs": [
    {
     "data": {
      "text/html": [
       "\n",
       "<link rel=\"stylesheet\" type=\"text/css\" href=\"https://cdn.rawgit.com/bmabey/pyLDAvis/files/ldavis.v1.0.0.css\">\n",
       "\n",
       "\n",
       "<div id=\"ldavis_el1775656637611765151991361\"></div>\n",
       "<script type=\"text/javascript\">\n",
       "\n",
       "var ldavis_el1775656637611765151991361_data = {\"tinfo\": {\"Term\": [\"patient\", \"research\", \"market\", \"blockchain\", \"custom\", \"hospit\", \"compani\", \"platform\", \"busi\", \"organ\", \"program\", \"clinic\", \"precis_medicin\", \"bank\", \"system\", \"cancer\", \"ehr\", \"brand\", \"cms\", \"consum\", \"vendor\", \"product\", \"cryptocurr\", \"physician\", \"fintech\", \"interoper\", \"user\", \"popul\", \"genom\", \"transact\", \"grace_period\", \"cms_onc\", \"ahima\", \"healthinfonet\", \"ep\", \"clinic_document_improv\", \"qualiti_report_program\", \"medic_scribe\", \"physician_qualiti_report\", \"stage_meaning_use\", \"repeal\", \"ccda\", \"pqrs\", \"payment_adjust\", \"ehr_incent_program\", \"aafp\", \"scribe\", \"desalvo\", \"compet_initi\", \"elig_profession\", \"certifi_ehr\", \"meritbas_incent_payment\", \"ehr_usabl\", \"interoper_standard\", \"safe_harbor\", \"inform_block\", \"state_line\", \"feder_mandat\", \"meaning_use\", \"mgma\", \"coder\", \"cmio\", \"macra\", \"mip\", \"wedi\", \"interoper\", \"hie\", \"onc\", \"fhir\", \"qualiti_report\", \"clinic_document\", \"attest\", \"ehr\", \"payer\", \"valueba\", \"organ\", \"code\", \"cms\", \"physician\", \"account_organ\", \"provid\", \"reform\", \"document\", \"big_data\", \"big_data_analyt\", \"inform\", \"requir\", \"popul_manag\", \"transit\", \"vendor\", \"practic\", \"system\", \"percent\", \"tool\", \"qualiti\", \"report\", \"success\", \"program\", \"patient\", \"plan\", \"improv\", \"clinic\", \"mani\", \"way\", \"manag\", \"time\", \"process\", \"hospit\", \"work\", \"particip\", \"continu\", \"help\", \"regtech\", \"luxembourg\", \"mediatek\", \"face_recognit\", \"railsbank\", \"dia\", \"innov_financ\", \"spotcap\", \"mobil_money\", \"mesh_network\", \"xero\", \"temeno\", \"axa\", \"servicenow\", \"starl\", \"sophia\", \"deutsch_telekom\", \"keynot\", \"bosch\", \"atom\", \"alumnus\", \"card_payment\", \"said_mr\", \"regulatori_sandbox\", \"bookkeep\", \"bestow\", \"money_europ\", \"ireland\", \"copenhagen\", \"stephan\", \"barclay\", \"uk_fintech\", \"visa\", \"mentor\", \"africa\", \"fintech\", \"financi_inclus\", \"finalist\", \"hong_kong\", \"asia\", \"manchest\", \"entrepreneuri\", \"startup\", \"entrepreneur\", \"programm\", \"thought_leader\", \"london\", \"talent\", \"softbank\", \"centr\", \"tech\", \"singapor\", \"sme\", \"china\", \"fintech_sector\", \"innov\", \"europ\", \"busi\", \"bank\", \"summit\", \"hub\", \"capit\", \"digit\", \"compani\", \"sector\", \"financ\", \"event\", \"citi\", \"client\", \"growth\", \"partner\", \"corpor\", \"award\", \"world\", \"ceo\", \"group\", \"product\", \"year\", \"market\", \"custom\", \"work\", \"support\", \"team\", \"servic\", \"financi\", \"peopl\", \"help\", \"collabor\", \"platform\", \"manag\", \"success\", \"network\", \"bitcoin\", \"smart_contract\", \"ethereum\", \"dlt\", \"cryptocurr\", \"decentralis\", \"bitcoin_cash\", \"wax\", \"cryptocurr_exchang\", \"yandexmoney\", \"token_sale\", \"yandexcheckout\", \"blockchainbas\", \"exscudo\", \"litecoin\", \"billon\", \"gibraltar\", \"trade_financ\", \"cryptocurr_mine\", \"cryptocurr_trade\", \"crypto_asset\", \"hashgraph\", \"middleman\", \"trader\", \"hashchain\", \"rig\", \"bitcoin_ethereum\", \"distribut_ledger\", \"interbit\", \"token_holder\", \"decentr\", \"wallet\", \"blockchain\", \"currenc\", \"penni\", \"coin\", \"digit_asset\", \"ledger\", \"transact\", \"trade\", \"miner\", \"loan\", \"cash\", \"chariti\", \"money\", \"tax\", \"investor\", \"payment\", \"crowdfund\", \"chain\", \"bank\", \"fraud\", \"ident\", \"exchang\", \"regul\", \"platform\", \"financi\", \"user\", \"compani\", \"market\", \"fund\", \"peopl\", \"project\", \"account\", \"world\", \"invest\", \"asset\", \"way\", \"busi\", \"time\", \"process\", \"network\", \"system\", \"access\", \"manag\", \"servic\", \"work\", \"medic_nonadher\", \"statin\", \"cholesterol\", \"studi_examin\", \"comorbid\", \"suicid\", \"offic_visit\", \"colonoscopi\", \"ptsd\", \"subpopul\", \"blood_pressur\", \"metformin\", \"prescript_fill\", \"control_group\", \"dermatologist\", \"clinic_pathway\", \"senior_author\", \"express_script\", \"pghd\", \"patient_higher_risk\", \"bodi_mass_index\", \"insulin\", \"osteoporosi\", \"studi_explain\", \"psychosoci\", \"cours_treatment\", \"clinic_guidelin\", \"better_medic_adher\", \"strep_throat\", \"hyperlipidemia\", \"symptom\", \"coronari_arteri_disea\", \"medic_adher\", \"depress\", \"cds\", \"pharmaci\", \"pharmacist\", \"pcps\", \"dentist\", \"prescript\", \"diabet\", \"selfcar\", \"patient\", \"studi_conclud\", \"chronic_disea\", \"studi\", \"discharg\", \"medic\", \"mhealth\", \"screen\", \"high_risk\", \"risk_factor\", \"adher\", \"pcmh\", \"chronic_condit\", \"hyperten\", \"surgeri\", \"percent\", \"readmiss\", \"condit\", \"chronic_diseas_manag\", \"identifi\", \"clinic\", \"popul\", \"treatment\", \"drug\", \"prevent\", \"physician\", \"cost\", \"effect\", \"age\", \"tool\", \"individu\", \"research\", \"provid\", \"time\", \"manag\", \"inform\", \"risk\", \"system\", \"team\", \"result\", \"help\", \"access\", \"improv\", \"ehr\", \"hospit\", \"import\", \"squirro\", \"blue_prism\", \"palo_alto_network\", \"willi_tower_watson\", \"willi\", \"contact_center\", \"hpe\", \"gartner\", \"celent\", \"predict_mainten\", \"cyber_insur\", \"rpa\", \"robot_autom\", \"cloudera\", \"unman_system\", \"attack_surfac\", \"univers_robot\", \"sa\", \"csp\", \"cede\", \"inform_builder\", \"turbin\", \"cool_vendor\", \"smart_build\", \"pega\", \"cycl_time\", \"iiot\", \"latest_relea\", \"sas\", \"pegasystem\", \"clausematch\", \"risk_transfer\", \"onpremis\", \"vms\", \"text_analyt\", \"autom\", \"downtim\", \"underwrit\", \"azur\", \"microsoft_azur\", \"cloud\", \"enterpris\", \"oracl\", \"deploy\", \"analyst\", \"custom\", \"artifici_intellig\", \"robot\", \"analysi\", \"intellig\", \"insight\", \"platform\", \"iot\", \"manag\", \"busi\", \"process\", \"manufactur\", \"ai\", \"machin_learn\", \"capabl\", \"oper\", \"risk\", \"product\", \"data_scienc\", \"compani\", \"model\", \"market\", \"client\", \"servic\", \"system\", \"enhanc\", \"organ\", \"report\", \"improv\", \"innov\", \"tool\", \"help\", \"inform\", \"design\", \"pcornet\", \"diagnost_error\", \"hac\", \"ccos\", \"rucker\", \"oig\", \"patient_harm\", \"ecri\", \"iom\", \"healthelink\", \"antibiot_prescript\", \"antibiot_use\", \"percent_drop\", \"califf\", \"cms_deputi_administr\", \"tobacco_use\", \"antibiot_stewardship_program\", \"technic_assist\", \"va_dod\", \"pennsylvania_patient_safeti\", \"prevent_infect\", \"geising_baylor\", \"cdc_director\", \"advers_patient_safeti\", \"bcbsa\", \"pew_charit_trust\", \"pcori\", \"itrel\", \"fact_sheet\", \"shulkin\", \"avoid_death\", \"pennsylvania\", \"save_medicar\", \"superbug\", \"antibiot_stewardship\", \"hospit_acquir_condit\", \"patient_safeti\", \"million_heart\", \"kansa\", \"cdc\", \"medic_error\", \"oregon\", \"prediabet\", \"beneficiari\", \"hhs\", \"program\", \"massachusett\", \"counti\", \"patient_safeti_event\", \"cms\", \"antibiot\", \"state\", \"disabl\", \"hospit\", \"nation\", \"death\", \"humana\", \"communiti\", \"qualiti\", \"medicar\", \"colorado\", \"improv\", \"amia\", \"popul\", \"report\", \"prevent\", \"effort\", \"particip\", \"measur\", \"educ\", \"safeti\", \"coordin\", \"patient\", \"center\", \"system\", \"access\", \"region\", \"percent\", \"support\", \"plan\", \"organ\", \"rate\", \"help\", \"inform\", \"servic\", \"includ\", \"research\", \"work\", \"collabor\", \"airspac\", \"aircraft\", \"gestur\", \"lidar\", \"pedestrian\", \"public_road\", \"daimler\", \"faa\", \"uav\", \"passeng\", \"autopilot\", \"underwat\", \"autonom_vehicl\", \"payload\", \"gestur_recognit\", \"autom_vehicl\", \"vuzix\", \"commerci_drone\", \"drone\", \"docker\", \"skyrunn\", \"moco\", \"form_factor\", \"gpus\", \"enterprisereadi\", \"lte\", \"hmi\", \"signal_process\", \"drone_pilot\", \"airport\", \"nvidia\", \"hortonwork\", \"truck\", \"flight\", \"camera\", \"vehicl\", \"sdk\", \"voyag\", \"gpu\", \"sensor\", \"autonom\", \"ce\", \"car\", \"fleet\", \"hardwar\", \"video\", \"fli\", \"batteri\", \"transport\", \"selfdriv\", \"devic\", \"mobil\", \"server\", \"traffic\", \"display\", \"app\", \"user\", \"attack\", \"featur\", \"test\", \"power\", \"design\", \"safeti\", \"platform\", \"comput\", \"network\", \"cloud\", \"system\", \"connect\", \"oper\", \"capabl\", \"control\", \"product\", \"compani\", \"robot\", \"world\", \"team\", \"custom\", \"support\", \"work\", \"servic\", \"includ\", \"base\", \"conversica\", \"marketo\", \"shopper\", \"divido\", \"moat\", \"instor\", \"crosschannel\", \"voic_search\", \"smart_speaker\", \"brand_safeti\", \"monster\", \"retail_brand\", \"relev_content\", \"radius\", \"recommend_engin\", \"martech\", \"amazon_echo\", \"duedil\", \"dealership\", \"virtual_realiti\", \"multichannel\", \"cx\", \"accountbas_market\", \"world_ether\", \"krantz\", \"magic_leap\", \"lawn\", \"dad\", \"alexa\", \"arkit\", \"viewabl\", \"cue\", \"mone\", \"advertis\", \"sale_team\", \"brand\", \"lotteri\", \"across_channel\", \"digit_advertis\", \"amazon\", \"omnichannel\", \"content\", \"campaign\", \"chatbot\", \"sale\", \"dealer\", \"audienc\", \"shop\", \"game\", \"tv\", \"market\", \"consum\", \"email\", \"music\", \"visitor\", \"custom\", \"fan\", \"channel\", \"person\", \"medium\", \"engag\", \"sport\", \"conver\", \"search\", \"experi\", \"compani\", \"product\", \"deal\", \"video\", \"platform\", \"googl\", \"ad\", \"onlin\", \"digit\", \"app\", \"mobil\", \"user\", \"time\", \"busi\", \"team\", \"base\", \"help\", \"way\", \"servic\", \"partner\", \"report\", \"pmi\", \"dna_sequenc\", \"genet_inform\", \"biomed_research\", \"cancer_research\", \"genom\", \"genom_medicin\", \"bioinformat\", \"gdc\", \"nih\", \"human_genom\", \"cure_cancer\", \"immunotherapi\", \"biomark\", \"pancreat_cancer\", \"biobank\", \"person_treatment\", \"precis_medicin_shift\", \"phenotyp\", \"genotyp\", \"person_medicin\", \"tumor\", \"enhanc_treatment\", \"precis_medicin\", \"cancer_moonshot\", \"genet\", \"dig_deeper_precis_medicin\", \"clinic_translat_scienc\", \"andm\", \"dcri\", \"biolog\", \"cancerlinq\", \"gene\", \"rare_disea\", \"cancer\", \"mutat\", \"pediatr_cancer\", \"tissu\", \"scientist\", \"research\", \"nation_institut\", \"sequenc\", \"watson\", \"alzheim\", \"scientif\", \"scienc\", \"research_institut\", \"dna\", \"disea\", \"medic_research\", \"therapi\", \"treatment\", \"sampl\", \"phd\", \"clinic\", \"project\", \"medicin\", \"big_data\", \"drug\", \"collabor\", \"center\", \"advanc\", \"patient\", \"studi\", \"precis\", \"effort\", \"test\", \"work\", \"inform\", \"individu\", \"access\", \"share\", \"fund\", \"partnership\", \"innov\", \"person\", \"particip\", \"tool\", \"system\", \"organ\", \"vipr\", \"meditech\", \"epic\", \"mindshar\", \"singularitynet\", \"jopp\", \"commonwel\", \"bordereaux\", \"medeanalyt\", \"rn_msn\", \"allscript_athenahealth\", \"behlendorf\", \"cerner\", \"app_orchard\", \"kla\", \"cpsi\", \"cerner_allscript\", \"strata_decis\", \"virtual_clipboard_initi\", \"judi_faulkner\", \"gormanklug\", \"merci\", \"allscript_cerner\", \"emc_corpor\", \"definit_databa\", \"phm_solut\", \"phytel\", \"klas_research\", \"relayhealth\", \"epic_system\", \"athenahealth\", \"allscript\", \"cerner_corpor\", \"nokia\", \"aetna\", \"optum\", \"greenway\", \"phm\", \"modex\", \"sepsi\", \"wire\", \"inovalon\", \"vendor\", \"directtrust\", \"realli\", \"hospit\", \"lot\", \"himss\", \"bed\", \"busi_intellig\", \"system\", \"organ\", \"thing\", \"patient\", \"tool\", \"physician\", \"network\", \"work\", \"way\", \"ehr\", \"abl\", \"manag\", \"inform\", \"interoper\", \"make_sure\", \"need\", \"partner\", \"clinic\", \"member\", \"peopl\", \"time\", \"help\", \"process\", \"access\", \"compani\", \"servic\", \"market\", \"improv\"], \"loglift\": [30.0, 29.0, 28.0, 27.0, 26.0, 25.0, 24.0, 23.0, 22.0, 21.0, 20.0, 19.0, 18.0, 17.0, 16.0, 15.0, 14.0, 13.0, 12.0, 11.0, 10.0, 9.0, 8.0, 7.0, 6.0, 5.0, 4.0, 3.0, 2.0, 1.0, 1.8388999700546265, 1.8372000455856323, 1.8360999822616577, 1.8320000171661377, 1.826799988746643, 1.8265000581741333, 1.8245999813079834, 1.8235000371932983, 1.8194999694824219, 1.8187999725341797, 1.81850004196167, 1.8171000480651855, 1.816100001335144, 1.8152999877929688, 1.8143999576568604, 1.812999963760376, 1.8121000528335571, 1.8121000528335571, 1.8065999746322632, 1.8065999746322632, 1.806399941444397, 1.8050999641418457, 1.804900050163269, 1.8029999732971191, 1.8029999732971191, 1.8013999462127686, 1.8000999689102173, 1.799399971961975, 1.799399971961975, 1.7991000413894653, 1.7991000413894653, 1.7965999841690063, 1.7776999473571777, 1.779099941253662, 1.7581000328063965, 1.582800030708313, 1.6440999507904053, 1.645799994468689, 1.646299958229065, 1.695099949836731, 1.673799991607666, 1.6822999715805054, 1.3003000020980835, 1.3386000394821167, 1.416200041770935, 1.0608999729156494, 1.3494999408721924, 1.2065000534057617, 1.11080002784729, 1.5317000150680542, 0.9545000195503235, 1.4464999437332153, 1.1694999933242798, 0.9243000149726868, 1.2417999505996704, 0.6865000128746033, 0.9650999903678894, 1.1578999757766724, 1.242799997329712, 0.9401999711990356, 0.964900016784668, 0.3172999918460846, 0.5986999869346619, 0.4844000041484833, 0.6963000297546387, 0.4961000084877014, 0.5916000008583069, 0.4097999930381775, -0.044199999421834946, 0.6032999753952026, 0.37220001220703125, 0.46889999508857727, 0.5723999738693237, 0.3366999924182892, 0.03550000116229057, 0.21160000562667847, 0.15189999341964722, 0.2847999930381775, 0.03350000083446503, 0.48840001225471497, 0.4309999942779541, -0.03370000049471855, 1.927299976348877, 1.9219000339508057, 1.9192999601364136, 1.9170000553131104, 1.9151999950408936, 1.9147000312805176, 1.912600040435791, 1.912500023841858, 1.9111000299453735, 1.9101999998092651, 1.909600019454956, 1.9079999923706055, 1.9078999757766724, 1.9068000316619873, 1.9052000045776367, 1.9049999713897705, 1.9048999547958374, 1.9031000137329102, 1.9023000001907349, 1.9002000093460083, 1.899899959564209, 1.8995000123977661, 1.8995000123977661, 1.8992999792099, 1.8990999460220337, 1.8968000411987305, 1.8967000246047974, 1.896399974822998, 1.894700050354004, 1.8940999507904053, 1.8806999921798706, 1.8869999647140503, 1.850100040435791, 1.8547999858856201, 1.8508000373840332, 1.7802000045776367, 1.8558000326156616, 1.854099988937378, 1.8345999717712402, 1.8385000228881836, 1.8698999881744385, 1.8351000547409058, 1.684999942779541, 1.7121000289916992, 1.7165000438690186, 1.8229999542236328, 1.6390999555587769, 1.6670000553131104, 1.826799988746643, 1.7285000085830688, 1.583299994468689, 1.7015000581741333, 1.7222000360488892, 1.549299955368042, 1.8224999904632568, 1.2410999536514282, 1.576300024986267, 1.104599952697754, 1.194700002670288, 1.559999942779541, 1.5529999732971191, 1.3561999797821045, 1.1419999599456787, 0.8705000281333923, 1.263200044631958, 1.281999945640564, 1.1756000518798828, 1.3783999681472778, 1.021399974822998, 1.1068999767303467, 0.8572999835014343, 1.2539000511169434, 1.2487000226974487, 0.8309000134468079, 0.963699996471405, 0.7757999897003174, 0.4797999858856201, 0.6549000144004822, 0.26489999890327454, 0.29580000042915344, 0.34369999170303345, 0.43970000743865967, 0.4726000130176544, 0.2953999936580658, 0.5091999769210815, 0.4781999886035919, 0.10140000283718109, 0.399399995803833, -0.27070000767707825, -0.3474999964237213, 0.3497999906539917, 0.3418000042438507, 2.006700038909912, 2.004499912261963, 2.0027999877929688, 2.001499891281128, 2.000200033187866, 1.996000051498413, 1.9955999851226807, 1.9948999881744385, 1.9944000244140625, 1.9931000471115112, 1.9922000169754028, 1.9918999671936035, 1.9914000034332275, 1.9905999898910522, 1.9904999732971191, 1.9900000095367432, 1.989799976348877, 1.9888999462127686, 1.9878000020980835, 1.9876999855041504, 1.9876999855041504, 1.9871000051498413, 1.9859999418258667, 1.9855999946594238, 1.9854999780654907, 1.9853999614715576, 1.9844000339508057, 1.983299970626831, 1.9804999828338623, 1.980299949645996, 1.9765000343322754, 1.9701000452041626, 1.9174000024795532, 1.9495999813079834, 1.9766000509262085, 1.9520000219345093, 1.957900047302246, 1.9610999822616577, 1.832200050354004, 1.8260999917984009, 1.951300024986267, 1.8479000329971313, 1.797700047492981, 1.8795000314712524, 1.6806000471115112, 1.8166999816894531, 1.5721999406814575, 1.4803999662399292, 1.891700029373169, 1.729200005531311, 1.3098000288009644, 1.6571999788284302, 1.6153000593185425, 1.3977999687194824, 1.1816999912261963, 0.6449000239372253, 0.8406999707221985, 0.7804999947547913, 0.4408999979496002, 0.4203999936580658, 0.8766000270843506, 0.6744999885559082, 0.6115000247955322, 0.8086000084877014, 0.65420001745224, 0.8712999820709229, 1.124400019645691, 0.3084999918937683, 0.02019999921321869, 0.14270000159740448, 0.12690000236034393, 0.4323999881744385, -0.29089999198913574, 0.06239999830722809, -0.2750999927520752, -0.013399999588727951, -0.1362999975681305, 2.087599992752075, 2.0815999507904053, 2.071199893951416, 2.071000099182129, 2.0694000720977783, 2.069000005722046, 2.0638999938964844, 2.0629000663757324, 2.0618999004364014, 2.0606000423431396, 2.060499906539917, 2.059999942779541, 2.059799909591675, 2.059000015258789, 2.0583999156951904, 2.055500030517578, 2.05430006980896, 2.049499988555908, 2.0485999584198, 2.047600030899048, 2.047100067138672, 2.043299913406372, 2.042799949645996, 2.0416998863220215, 2.04010009765625, 2.0397000312805176, 2.0380001068115234, 2.0374999046325684, 2.0348000526428223, 2.03439998626709, 2.0272998809814453, 2.0311999320983887, 2.0044000148773193, 2.005500078201294, 2.0053000450134277, 1.9594000577926636, 1.980299949645996, 2.000999927520752, 2.0241000652313232, 1.9093999862670898, 1.8264000415802002, 1.9809999465942383, 1.5327999591827393, 1.9573999643325806, 1.7411999702453613, 1.5721999406814575, 1.8596999645233154, 1.6061999797821045, 1.8381999731063843, 1.6390999555587769, 1.8645999431610107, 1.8033000230789185, 1.687600016593933, 1.6648000478744507, 1.8040000200271606, 1.8982000350952148, 1.73989999294281, 1.0276000499725342, 1.715499997138977, 1.3947999477386475, 1.5785000324249268, 1.0901999473571777, 0.951200008392334, 0.9854999780654907, 1.1576999425888062, 1.3589999675750732, 1.0729999542236328, 0.8130999803543091, 0.8758000135421753, 0.8230999708175659, 1.417799949645996, 0.5784000158309937, 0.8131999969482422, 0.3855000138282776, 0.5990999937057495, 0.4131999909877777, 0.20579999685287476, 0.2556999921798706, 0.618399977684021, -0.052799999713897705, 0.4090999960899353, 0.6848999857902527, 0.23549999296665192, 0.1899999976158142, 0.21220000088214874, 0.43540000915527344, 0.1987999975681305, 0.49129998683929443, 2.194999933242798, 2.190200090408325, 2.1819000244140625, 2.179500102996826, 2.1763999462127686, 2.1763999462127686, 2.175600051879883, 2.1723999977111816, 2.1703999042510986, 2.1633999347686768, 2.160799980163574, 2.1586999893188477, 2.158600091934204, 2.1572000980377197, 2.154900074005127, 2.153700113296509, 2.1505000591278076, 2.1500000953674316, 2.139899969100952, 2.137700080871582, 2.1373000144958496, 2.1328001022338867, 2.132499933242798, 2.1317999362945557, 2.1314001083374023, 2.131200075149536, 2.1305999755859375, 2.1289000511169434, 2.1278998851776123, 2.1229000091552734, 2.1210999488830566, 2.1150999069213867, 2.1022000312805176, 2.1201999187469482, 2.115000009536743, 1.8516000509262085, 2.0590999126434326, 1.9974000453948975, 1.9996000528335571, 2.007499933242798, 1.702299952507019, 1.582800030708313, 1.797700047492981, 1.54830002784729, 1.6756999492645264, 1.180999994277954, 1.375, 1.4527000188827515, 1.4394999742507935, 1.3726999759674072, 1.3026000261306763, 0.9965999722480774, 1.3797999620437622, 0.9580000042915344, 0.9653000235557556, 1.017300009727478, 1.5, 1.5211999416351318, 1.4544999599456787, 1.1571999788284302, 1.1162999868392944, 1.1164000034332275, 0.8393999934196472, 1.6066999435424805, 0.4235999882221222, 0.847599983215332, 0.4325000047683716, 0.8867999911308289, 0.5446000099182129, 0.24490000307559967, 1.1541999578475952, 0.21660000085830688, 0.3747999966144562, 0.25540000200271606, 0.13220000267028809, 0.17470000684261322, 0.15330000221729279, -0.19249999523162842, 0.6302000284194946, 2.4607999324798584, 2.4570000171661377, 2.448199987411499, 2.4472999572753906, 2.444200038909912, 2.444200038909912, 2.44350004196167, 2.44320011138916, 2.4407999515533447, 2.438499927520752, 2.43149995803833, 2.4305999279022217, 2.4247000217437744, 2.422499895095825, 2.419300079345703, 2.4191999435424805, 2.419100046157837, 2.4159998893737793, 2.4138998985290527, 2.4110000133514404, 2.410900115966797, 2.410399913787842, 2.40910005569458, 2.4084999561309814, 2.4082000255584717, 2.4072999954223633, 2.403899908065796, 2.4028000831604004, 2.402600049972534, 2.401599884033203, 2.3854000568389893, 2.34879994392395, 2.391700029373169, 2.368499994277954, 2.3594000339508057, 2.35260009765625, 2.1658999919891357, 2.352799892425537, 2.345400094985962, 2.2727999687194824, 2.288300037384033, 2.286900043487549, 2.216200113296509, 2.066999912261963, 2.071199893951416, 1.6548999547958374, 2.1524999141693115, 2.0810000896453857, 2.2909998893737793, 1.6815999746322632, 2.1171998977661133, 1.5190999507904053, 2.099600076675415, 1.395799994468689, 1.5507999658584595, 1.9016000032424927, 2.0599000453948975, 1.374899983406067, 1.3797999620437622, 1.6791000366210938, 2.1233999729156494, 1.1097999811172485, 2.1888999938964844, 1.1526000499725342, 1.0397000312805176, 1.3274999856948853, 1.0911999940872192, 0.9625999927520752, 1.1542999744415283, 1.1890000104904175, 1.544600009918213, 1.2174999713897705, 0.3919000029563904, 1.090999960899353, 0.4032999873161316, 0.6570000052452087, 1.31850004196167, 0.6244999766349792, 0.49950000643730164, 0.6757000088691711, 0.1923999935388565, 1.0157999992370605, 0.30070000886917114, 0.1761000007390976, 0.2653000056743622, 0.5773000121116638, -0.016899999231100082, 0.09719999879598618, 0.5008000135421753, 2.699899911880493, 2.694499969482422, 2.692199945449829, 2.6868999004364014, 2.6830999851226807, 2.68179988861084, 2.6816000938415527, 2.6796998977661133, 2.6796998977661133, 2.6756999492645264, 2.674099922180176, 2.67330002784729, 2.6731998920440674, 2.6707000732421875, 2.6691999435424805, 2.668299913406372, 2.6670000553131104, 2.6659998893737793, 2.664400100708008, 2.660799980163574, 2.6598000526428223, 2.6582000255584717, 2.6572999954223633, 2.656899929046631, 2.656899929046631, 2.6547999382019043, 2.653599977493286, 2.6522998809814453, 2.651700019836426, 2.650599956512451, 2.646199941635132, 2.6500000953674316, 2.6459999084472656, 2.635200023651123, 2.6119000911712646, 2.5922999382019043, 2.6198999881744385, 2.6184000968933105, 2.5782999992370605, 2.4045000076293945, 2.447999954223633, 2.609299898147583, 2.3415000438690186, 2.4946000576019287, 2.341900110244751, 2.159899950027466, 2.4356000423431396, 2.5204999446868896, 2.156100034713745, 2.5423998832702637, 1.9229999780654907, 1.8523999452590942, 2.240299940109253, 2.229099988937378, 2.0678999423980713, 1.5916999578475952, 1.336400032043457, 2.032599925994873, 1.5455000400543213, 1.3911000490188599, 1.3733999729156494, 1.2962000370025635, 1.8396999835968018, 0.8295000195503235, 1.7080999612808228, 1.0256999731063843, 1.2961000204086304, 0.3935000002384186, 1.0255000591278076, 0.8288999795913696, 0.8902000188827515, 1.2173999547958374, 0.38109999895095825, -0.027799999341368675, 1.301800012588501, 0.6222000122070312, 0.3061999976634979, -0.14830000698566437, 0.13689999282360077, -0.08720000088214874, -0.010099999606609344, 0.4194999933242798, 0.43799999356269836, 2.7137999534606934, 2.7105000019073486, 2.7100000381469727, 2.70740008354187, 2.6995999813079834, 2.698499917984009, 2.697000026702881, 2.694700002670288, 2.6926000118255615, 2.691699981689453, 2.690200090408325, 2.681999921798706, 2.6819000244140625, 2.6796000003814697, 2.678999900817871, 2.6763999462127686, 2.676100015640259, 2.6760001182556152, 2.6760001182556152, 2.671299934387207, 2.6661999225616455, 2.6624999046325684, 2.6619999408721924, 2.661400079727173, 2.6605000495910645, 2.6589999198913574, 2.6584999561309814, 2.656599998474121, 2.652899980545044, 2.651099920272827, 2.6452999114990234, 2.638400077819824, 2.638200044631958, 2.5843000411987305, 2.627700090408325, 2.496000051498413, 2.6312999725341797, 2.623300075531006, 2.609100103378296, 2.480299949645996, 2.5541999340057373, 2.328000068664551, 2.3931000232696533, 2.3850998878479004, 2.226099967956543, 2.5174999237060547, 2.315700054168701, 2.3717000484466553, 2.175299882888794, 2.496500015258789, 1.586400032043457, 1.7546000480651855, 2.094099998474121, 2.3424999713897705, 2.37280011177063, 1.4071999788284302, 2.345900058746338, 2.08489990234375, 1.4737000465393066, 1.8832999467849731, 1.3905999660491943, 2.1863999366760254, 1.7681000232696533, 1.7627999782562256, 1.5430999994277954, 0.8403000235557556, 0.9527999758720398, 1.6404999494552612, 1.6318999528884888, 0.6301000118255615, 1.8091000318527222, 1.014799952507019, 1.374400019645691, 0.8224999904632568, 1.13919997215271, 1.1904000043869019, 0.43290001153945923, 0.09709999710321426, -0.17309999465942383, 0.30550000071525574, 0.5378000140190125, 0.016300000250339508, 0.06019999831914902, -0.10679999738931656, 0.13449999690055847, 0.00019999999494757503, 2.734299898147583, 2.731800079345703, 2.730600118637085, 2.72979998588562, 2.7291998863220215, 2.72760009765625, 2.7269999980926514, 2.724299907684326, 2.7237000465393066, 2.7228000164031982, 2.72189998626709, 2.7211999893188477, 2.7202000617980957, 2.7181999683380127, 2.713599920272827, 2.7114999294281006, 2.7102999687194824, 2.710200071334839, 2.7098000049591064, 2.709199905395508, 2.708400011062622, 2.7074999809265137, 2.7074999809265137, 2.7063000202178955, 2.704900026321411, 2.703399896621704, 2.7014000415802, 2.698899984359741, 2.696899890899658, 2.6965999603271484, 2.694700002670288, 2.694000005722046, 2.6888999938964844, 2.691499948501587, 2.6303000450134277, 2.6882998943328857, 2.690000057220459, 2.647599935531616, 2.5490000247955322, 2.155400037765503, 2.576200008392334, 2.568000078201294, 2.4997000694274902, 2.624799966812134, 2.443700075149536, 2.259200096130371, 2.511899948120117, 2.477099895477295, 2.209199905395508, 2.4207000732421875, 2.1951000690460205, 1.8600000143051147, 2.200500011444092, 2.242500066757202, 1.3046000003814697, 1.3178999423980713, 1.9697999954223633, 1.3142999410629272, 1.854599952697754, 1.2307000160217285, 1.3479000329971313, 1.1548999547958374, 0.1509999930858612, 1.138700008392334, 1.9498000144958496, 0.8525999784469604, 0.9728000164031982, 0.3125, 0.2824999988079071, 0.8158000111579895, 0.2953000068664551, 0.5877000093460083, 0.8435999751091003, 0.8980000019073486, 0.08529999852180481, 0.6794000267982483, 0.5090000033378601, 0.04399999976158142, -0.5824000239372253, -0.34139999747276306, 2.779599905014038, 2.7664999961853027, 2.7499001026153564, 2.748800039291382, 2.748500108718872, 2.7421000003814697, 2.742000102996826, 2.7399001121520996, 2.7397000789642334, 2.7321999073028564, 2.726799964904785, 2.7184998989105225, 2.7146999835968018, 2.710099935531616, 2.7072999477386475, 2.706700086593628, 2.703399896621704, 2.7028000354766846, 2.6963000297546387, 2.690999984741211, 2.6888999938964844, 2.6874001026153564, 2.683500051498413, 2.6807000637054443, 2.680500030517578, 2.6800999641418457, 2.6733999252319336, 2.671999931335449, 2.671799898147583, 2.6679999828338623, 2.66510009765625, 2.654599905014038, 2.6398000717163086, 2.610100030899048, 2.5813000202178955, 2.573899984359741, 2.575700044631958, 2.484800100326538, 2.5215001106262207, 2.3320999145507812, 2.4270999431610107, 2.515899896621704, 1.9089000225067139, 2.5076000690460205, 1.8538999557495117, 1.59089994430542, 1.7236000299453735, 1.9289000034332275, 2.2483999729156494, 1.8698999881744385, 0.7864000201225281, 0.8641999959945679, 1.4061000347137451, 0.37439998984336853, 0.73580002784729, 0.8920999765396118, 0.8353999853134155, 0.508400022983551, 0.6104999780654907, 0.7472000122070312, 0.8529000282287598, 0.23510000109672546, 0.3386000096797943, 0.8593999743461609, 1.589900016784668, 0.6136999726295471, 0.4431000053882599, 0.42419999837875366, 0.9325000047683716, 0.516700029373169, 0.16030000150203705, 0.19099999964237213, 0.1257999986410141, 0.13019999861717224, -0.24869999289512634, 0.11010000109672546, -0.2207999974489212, 0.05640000104904175], \"Freq\": [10980.0, 5736.0, 6469.0, 3144.0, 5507.0, 3664.0, 7074.0, 5774.0, 5964.0, 6208.0, 4114.0, 3158.0, 1079.0, 2484.0, 8122.0, 1006.0, 2706.0, 1102.0, 1464.0, 2642.0, 1543.0, 4371.0, 1054.0, 2442.0, 1277.0, 1694.0, 2906.0, 2491.0, 641.0, 1334.0, 61.87150192260742, 52.1227912902832, 205.39889526367188, 38.41132354736328, 31.526031494140625, 76.3721694946289, 30.503341674804688, 28.56481170654297, 48.37506103515625, 134.5003662109375, 27.478803634643555, 54.88911819458008, 59.558990478515625, 26.44858169555664, 219.90011596679688, 25.44049835205078, 20.713788986206055, 25.42071533203125, 24.341527938842773, 19.66587257385254, 75.87908172607422, 38.34000015258789, 67.32601928710938, 17.72719383239746, 16.793411254882812, 84.79456329345703, 15.816819190979004, 18.596601486206055, 199.96446228027344, 29.75735855102539, 87.23446655273438, 31.52911949157715, 102.86177825927734, 67.50902557373047, 92.07844543457031, 1287.98046875, 299.4591979980469, 222.90966796875, 221.01283264160156, 110.7589340209961, 117.80496215820312, 85.26286315917969, 1551.273193359375, 638.10498046875, 386.3402099609375, 2800.864501953125, 525.0643920898438, 764.1544799804688, 1158.173583984375, 164.5714111328125, 1356.9835205078125, 212.34103393554688, 542.2575073242188, 954.6126098632812, 337.2751159667969, 1504.885498046875, 633.4691162109375, 390.95501708984375, 315.15020751953125, 617.0894775390625, 560.794921875, 1741.8953857421875, 972.870361328125, 1057.4864501953125, 683.4224243164062, 909.4923706054688, 767.4823608398438, 967.8569946289062, 1640.4171142578125, 735.6426391601562, 905.66357421875, 788.1328125, 683.7435302734375, 795.2369384765625, 1003.5365600585938, 868.81640625, 838.1956787109375, 760.705810546875, 769.7899780273438, 666.1138305664062, 661.431396484375, 638.4646606445312, 281.95135498046875, 51.239601135253906, 28.812896728515625, 28.749300003051758, 25.920337677001953, 28.689550399780273, 24.008655548095703, 28.62598419189453, 22.13203239440918, 23.956079483032227, 35.905033111572266, 51.51396560668945, 25.738948822021484, 22.95882797241211, 19.255434036254883, 24.751415252685547, 19.249265670776367, 32.02151870727539, 20.11595916748047, 18.249530792236328, 24.628074645996094, 17.325895309448242, 17.325252532958984, 17.323007583618164, 17.319612503051758, 16.371456146240234, 27.27473258972168, 44.527923583984375, 16.337255477905273, 15.420937538146973, 70.72941589355469, 35.12090301513672, 145.93450927734375, 101.29249572753906, 110.35972595214844, 1076.918701171875, 82.96498107910156, 63.747467041015625, 100.09092712402344, 87.6005859375, 40.76716232299805, 71.04154968261719, 605.4867553710938, 319.4291687011719, 284.03875732421875, 64.3905029296875, 439.3994140625, 325.46630859375, 56.96844482421875, 137.37942504882812, 441.8208923339844, 162.31756591796875, 120.28382110595703, 414.5686950683594, 57.488529205322266, 2265.572998046875, 267.8576354980469, 2557.8388671875, 1166.14208984375, 201.64515686035156, 207.84292602539062, 480.5840759277344, 1143.8492431640625, 2400.596923828125, 571.1903076171875, 499.5792236328125, 606.1500854492188, 307.62689208984375, 736.1031494140625, 578.6181640625, 1055.7200927734375, 379.9159240722656, 368.8121032714844, 743.5770874023438, 526.9926147460938, 681.4336547851562, 1003.6029052734375, 765.7296142578125, 1198.0074462890625, 1052.0277099609375, 955.2652587890625, 815.9529418945312, 749.5556640625, 780.7272338867188, 609.310302734375, 590.3670654296875, 665.0413208007812, 563.2474975585938, 626.0094604492188, 622.6530151367188, 548.402587890625, 534.1146240234375, 225.47119140625, 154.86607360839844, 147.79556274414062, 95.17597961425781, 1040.5772705078125, 95.59812927246094, 55.034324645996094, 52.10019302368164, 51.11033248901367, 46.228206634521484, 49.07585144042969, 43.28923797607422, 149.01394653320312, 57.64321517944336, 40.3481330871582, 54.724849700927734, 40.321434020996094, 38.36619567871094, 44.06452178955078, 37.36098098754883, 37.360694885253906, 38.29621124267578, 37.296546936035156, 138.5497589111328, 35.367801666259766, 39.187320709228516, 32.465641021728516, 38.15237808227539, 27.585657119750977, 28.531505584716797, 264.21630859375, 225.92767333984375, 2857.29052734375, 294.7637634277344, 70.15530395507812, 176.62884521484375, 113.51532745361328, 89.45260620117188, 1113.5980224609375, 769.3809204101562, 64.70361328125, 253.0820770263672, 257.5174865722656, 122.68630981445312, 611.73095703125, 191.08462524414062, 900.4382934570312, 1191.3289794921875, 89.39449310302734, 194.61122131347656, 1229.9354248046875, 242.8818359375, 271.260009765625, 513.6436157226562, 570.5986328125, 1470.0035400390625, 797.871826171875, 847.2064208984375, 1468.4442138671875, 1315.6826171875, 607.3335571289062, 675.27490234375, 692.4701538085938, 526.789306640625, 585.7536010742188, 458.5513916015625, 347.877685546875, 661.32373046875, 812.9496459960938, 693.7152099609375, 699.2313842773438, 549.7307739257812, 811.0421752929688, 594.6314697265625, 629.2301635742188, 538.9354858398438, 555.6431274414062, 75.97906494140625, 40.59880065917969, 42.99871826171875, 38.31769561767578, 28.925922393798828, 36.37627410888672, 22.27581787109375, 26.885969161987305, 22.232067108154297, 36.08270263671875, 111.01828002929688, 20.342187881469727, 20.33854103088379, 22.169021606445312, 21.233003616333008, 18.411388397216797, 18.390636444091797, 18.304569244384766, 76.77970886230469, 16.44427490234375, 15.52246379852295, 17.285499572753906, 14.54966926574707, 33.595760345458984, 31.744300842285156, 13.599035263061523, 47.97694778442383, 13.569212913513184, 12.63113784790039, 12.626863479614258, 212.28074645996094, 18.881067276000977, 155.89068603515625, 136.77943420410156, 85.90739440917969, 287.9495849609375, 140.37466430664062, 53.215965270996094, 30.31795883178711, 280.5950622558594, 702.3617553710938, 50.5326042175293, 6198.845703125, 56.081363677978516, 352.978515625, 903.0079956054688, 106.91447448730469, 615.9752807617188, 110.14762878417969, 374.4996337890625, 84.97931671142578, 115.36975860595703, 193.34414672851562, 196.31069946289062, 105.96865844726562, 67.96475219726562, 118.01914978027344, 1166.2548828125, 125.69779968261719, 337.08251953125, 192.24635314941406, 728.64013671875, 996.6286010742188, 813.6607055664062, 431.66900634765625, 271.4149475097656, 448.3355407714844, 671.3289794921875, 598.5628662109375, 633.4050903320312, 227.65945434570312, 906.9121704101562, 547.996337890625, 1028.1422119140625, 742.5303344726562, 829.7009887695312, 928.9314575195312, 763.6273193359375, 538.3115844726562, 939.2393188476562, 603.46826171875, 472.0583190917969, 652.4061889648438, 616.51611328125, 602.484130859375, 509.9280700683594, 544.947021484375, 478.3716735839844, 43.969482421875, 34.800933837890625, 50.260746002197266, 28.518203735351562, 27.44527244567871, 71.51551055908203, 38.214351654052734, 81.0235595703125, 19.48591423034668, 22.23900604248047, 24.111745834350586, 21.166316986083984, 15.398970603942871, 34.624412536621094, 14.382853507995605, 15.32183837890625, 13.361780166625977, 100.20469665527344, 29.291549682617188, 11.303082466125488, 16.93818473815918, 10.31006908416748, 10.306381225585938, 21.53536605834961, 61.7307243347168, 14.962286949157715, 45.73227310180664, 10.267719268798828, 22.387693405151367, 10.2036714553833, 36.958805084228516, 29.390670776367188, 39.08930587768555, 17.554922103881836, 19.33253288269043, 1069.3031005859375, 44.338993072509766, 92.62557983398438, 73.62145233154297, 56.106136322021484, 748.13623046875, 800.941162109375, 108.62308502197266, 400.05096435546875, 202.7356719970703, 1956.3095703125, 691.1554565429688, 432.0157470703125, 436.0032958984375, 533.915771484375, 656.60693359375, 1705.6771240234375, 433.5674743652344, 1762.831787109375, 1707.4830322265625, 1390.470947265625, 285.26348876953125, 264.0818176269531, 310.1570739746094, 753.3397216796875, 835.37890625, 792.183837890625, 1103.285888671875, 168.15708923339844, 1178.1478271484375, 557.7572021484375, 1087.00732421875, 493.7242431640625, 768.5997314453125, 1131.388671875, 318.5138244628906, 840.6253051757812, 562.5293579101562, 562.691162109375, 573.5171508789062, 541.7608032226562, 537.4931640625, 436.27398681640625, 435.025634765625, 32.032352447509766, 28.042598724365234, 22.044105529785156, 23.93978500366211, 21.956262588500977, 24.816932678222656, 49.57804489135742, 35.263954162597656, 20.927879333496094, 18.983335494995117, 17.902870178222656, 15.065443992614746, 14.041890144348145, 15.872037887573242, 13.033703804016113, 15.823319435119629, 13.031095504760742, 13.916863441467285, 12.962641716003418, 11.078422546386719, 11.077268600463867, 14.763989448547363, 11.057964324951172, 11.050091743469238, 12.886306762695312, 11.955479621887207, 39.432952880859375, 10.071663856506348, 10.070045471191406, 10.059168815612793, 27.033645629882812, 82.27265930175781, 15.38812255859375, 28.239622116088867, 31.472196578979492, 30.50075912475586, 566.4971923828125, 25.18599510192871, 26.770204544067383, 59.1628532409668, 43.94779968261719, 42.27334976196289, 59.58740997314453, 166.49588012695312, 154.50570678710938, 1786.722412109375, 80.14942932128906, 102.23291015625, 32.612831115722656, 653.1488037109375, 75.70272064208984, 847.8721313476562, 73.73072052001953, 1228.0933837890625, 647.8829345703125, 149.20587158203125, 84.88937377929688, 921.0587768554688, 719.4566650390625, 253.16026306152344, 61.403324127197266, 1006.4036254882812, 50.179134368896484, 654.6950073242188, 832.4840087890625, 393.6525573730469, 521.2608642578125, 568.8477783203125, 395.2944030761719, 365.3370056152344, 187.95164489746094, 335.6354675292969, 1348.462890625, 360.7226867675781, 1008.9588623046875, 669.5731201171875, 242.80117797851562, 530.5647583007812, 505.900634765625, 420.33721923828125, 624.551025390625, 294.6997375488281, 474.07373046875, 480.0938415527344, 442.4648742675781, 363.0492248535156, 468.03643798828125, 436.033447265625, 364.05474853515625, 49.12671661376953, 64.4833984375, 39.97332763671875, 36.83987045288086, 27.04667854309082, 25.083078384399414, 24.113433837890625, 23.10615348815918, 25.994070053100586, 34.50580978393555, 20.10219955444336, 43.05482482910156, 139.4725799560547, 34.35707092285156, 21.91409683227539, 21.892066955566406, 19.9608097076416, 28.468496322631836, 454.3889465332031, 15.112680435180664, 15.09689712524414, 19.790504455566406, 16.935209274291992, 45.20909881591797, 15.050773620605469, 32.82304763793945, 14.065903663635254, 14.044609069824219, 14.036872863769531, 77.59236145019531, 97.67761993408203, 47.690425872802734, 57.67015075683594, 143.25257873535156, 189.70779418945312, 426.9660339355469, 55.27010726928711, 34.34702682495117, 50.56863021850586, 291.05963134765625, 187.0703582763672, 35.846683502197266, 218.4032440185547, 73.86061096191406, 169.3699951171875, 389.21026611328125, 81.09101867675781, 54.8777961730957, 208.20188903808594, 46.17335891723633, 387.7236633300781, 458.9184265136719, 128.3722381591797, 114.94770812988281, 153.3724822998047, 439.83953857421875, 729.2896728515625, 153.8926239013672, 373.266845703125, 449.9908142089844, 457.89788818359375, 512.1244506835938, 200.62338256835938, 872.9603881835938, 234.8344268798828, 491.219482421875, 301.4738464355469, 793.9581909179688, 355.4604187011719, 379.0716247558594, 348.8798828125, 266.29644775390625, 422.00750732421875, 453.7154541015625, 224.7183074951172, 280.0871887207031, 294.5455017089844, 313.1653747558594, 279.7723388671875, 288.1517028808594, 266.96392822265625, 246.38645935058594, 243.2498779296875, 30.88382339477539, 32.70576477050781, 108.6511459350586, 23.01616668701172, 21.88323211669922, 20.90799331665039, 22.775583267211914, 17.041963577270508, 19.839069366455078, 17.934301376342773, 33.00950622558594, 17.762775421142578, 14.02139949798584, 31.714570999145508, 13.047883033752441, 34.412506103515625, 15.791341781616211, 17.650596618652344, 26.969329833984375, 14.791276931762695, 23.9371337890625, 35.70456314086914, 12.831877708435059, 22.883363723754883, 10.06355094909668, 11.871103286743164, 20.989351272583008, 10.934416770935059, 19.974502563476562, 9.06221866607666, 18.01310157775879, 31.25823402404785, 31.286596298217773, 210.7234344482422, 43.30315017700195, 858.61279296875, 31.95520782470703, 32.61825180053711, 39.050052642822266, 195.3964080810547, 70.7876968383789, 608.1356811523438, 270.8199768066406, 238.3327178955078, 552.0060424804688, 65.06180572509766, 216.95181274414062, 146.7616424560547, 422.3692321777344, 65.7378921508789, 2028.184326171875, 980.248779296875, 221.5933837890625, 84.2459487915039, 75.1754379272461, 1443.405517578125, 78.03331756591797, 162.97860717773438, 605.3800659179688, 205.63902282714844, 466.4180603027344, 90.66781616210938, 203.41244506835938, 200.1729278564453, 298.5229797363281, 1051.6993408203125, 727.2630615234375, 222.3518524169922, 223.33485412597656, 695.7745361328125, 157.425048828125, 412.6729431152344, 245.17762756347656, 375.2410583496094, 272.1853942871094, 230.3084259033203, 287.4841003417969, 318.3633728027344, 321.85931396484375, 286.3768615722656, 261.5176086425781, 275.81060791015625, 247.85092163085938, 235.78585815429688, 231.37728881835938, 227.6036834716797, 40.91947555541992, 34.983097076416016, 34.942298889160156, 41.7081413269043, 107.59005737304688, 621.1215209960938, 30.948501586914062, 26.04121971130371, 30.848209381103516, 297.63067626953125, 26.937753677368164, 30.767864227294922, 29.772443771362305, 64.1820068359375, 30.53069305419922, 92.40523529052734, 32.322139739990234, 19.01706886291504, 27.560331344604492, 19.945892333984375, 42.68744659423828, 134.51638793945312, 22.76129722595215, 1023.5341186523438, 24.594911575317383, 326.4173583984375, 30.163591384887695, 15.041509628295898, 24.38263511657715, 15.008567810058594, 132.79873657226562, 81.2881851196289, 114.39844512939453, 57.829002380371094, 884.6831665039062, 48.355812072753906, 37.301918029785156, 71.41622924804688, 157.3070831298828, 3134.9560546875, 97.06489562988281, 101.26717376708984, 168.74856567382812, 53.95720672607422, 131.47694396972656, 264.3091735839844, 75.17552185058594, 82.51990509033203, 208.5380401611328, 99.79647827148438, 202.69467163085938, 452.57635498046875, 153.8701629638672, 125.6712875366211, 737.1282348632812, 665.2937622070312, 200.01828002929688, 571.7754516601562, 231.40585327148438, 576.2936401367188, 355.82958984375, 336.8765563964844, 808.5822143554688, 304.0623779296875, 153.20504760742188, 313.26116943359375, 284.34771728515625, 412.619140625, 407.3945007324219, 285.38787841796875, 355.8132019042969, 309.02301025390625, 278.5477600097656, 271.8669128417969, 317.83251953125, 269.9853210449219, 275.7485656738281, 276.0669250488281, 287.2711181640625, 279.4197998046875, 52.825653076171875, 29.499286651611328, 84.06890869140625, 19.31524658203125, 36.651283264160156, 15.34367847442627, 52.728424072265625, 15.308679580688477, 18.18079948425293, 13.289405822753906, 12.272324562072754, 11.23177433013916, 127.69951629638672, 12.063161849975586, 51.803367614746094, 9.247966766357422, 9.217609405517578, 9.211800575256348, 8.235062599182129, 10.918149948120117, 9.080292701721191, 48.89727020263672, 9.036348342895508, 7.20398473739624, 7.202312469482422, 10.797157287597656, 16.983476638793945, 13.405618667602539, 8.921171188354492, 141.14404296875, 61.96992492675781, 97.20935821533203, 30.212299346923828, 56.405235290527344, 55.24126434326172, 50.882240295410156, 32.315914154052734, 55.8170280456543, 32.23017501831055, 110.91506958007812, 56.433780670166016, 31.91021156311035, 633.2981567382812, 32.3945198059082, 417.5200500488281, 1094.0953369140625, 302.41815185546875, 133.7718505859375, 56.48545455932617, 129.95457458496094, 1084.775146484375, 896.2337646484375, 242.6712646484375, 971.2070922851562, 529.6890869140625, 362.5559997558594, 374.5776672363281, 482.16912841796875, 407.3898620605469, 347.5572509765625, 297.8819274902344, 477.31817626953125, 413.99432373046875, 243.39535522460938, 126.38261413574219, 263.61456298828125, 298.6518859863281, 293.5953674316406, 199.54356384277344, 262.6450500488281, 321.5293273925781, 311.37420654296875, 318.1158752441406, 289.797607421875, 335.5850830078125, 277.68768310546875, 315.5646057128906, 257.2861633300781], \"Category\": [\"Default\", \"Default\", \"Default\", \"Default\", \"Default\", \"Default\", \"Default\", \"Default\", \"Default\", \"Default\", \"Default\", \"Default\", \"Default\", \"Default\", \"Default\", \"Default\", \"Default\", \"Default\", \"Default\", \"Default\", \"Default\", \"Default\", \"Default\", \"Default\", \"Default\", \"Default\", \"Default\", \"Default\", \"Default\", \"Default\", \"Topic1\", \"Topic1\", \"Topic1\", \"Topic1\", \"Topic1\", \"Topic1\", \"Topic1\", \"Topic1\", \"Topic1\", \"Topic1\", \"Topic1\", \"Topic1\", \"Topic1\", \"Topic1\", \"Topic1\", \"Topic1\", \"Topic1\", \"Topic1\", \"Topic1\", \"Topic1\", \"Topic1\", \"Topic1\", \"Topic1\", \"Topic1\", \"Topic1\", \"Topic1\", \"Topic1\", \"Topic1\", \"Topic1\", \"Topic1\", \"Topic1\", \"Topic1\", \"Topic1\", \"Topic1\", \"Topic1\", \"Topic1\", \"Topic1\", \"Topic1\", \"Topic1\", \"Topic1\", \"Topic1\", \"Topic1\", \"Topic1\", \"Topic1\", \"Topic1\", \"Topic1\", \"Topic1\", \"Topic1\", \"Topic1\", \"Topic1\", \"Topic1\", \"Topic1\", \"Topic1\", \"Topic1\", \"Topic1\", \"Topic1\", \"Topic1\", \"Topic1\", \"Topic1\", \"Topic1\", \"Topic1\", \"Topic1\", \"Topic1\", \"Topic1\", \"Topic1\", \"Topic1\", \"Topic1\", \"Topic1\", \"Topic1\", \"Topic1\", \"Topic1\", \"Topic1\", \"Topic1\", \"Topic1\", \"Topic1\", \"Topic1\", \"Topic1\", \"Topic1\", \"Topic1\", \"Topic1\", \"Topic1\", \"Topic1\", \"Topic2\", \"Topic2\", \"Topic2\", \"Topic2\", \"Topic2\", \"Topic2\", \"Topic2\", \"Topic2\", \"Topic2\", \"Topic2\", \"Topic2\", \"Topic2\", \"Topic2\", \"Topic2\", \"Topic2\", \"Topic2\", \"Topic2\", \"Topic2\", \"Topic2\", \"Topic2\", \"Topic2\", \"Topic2\", \"Topic2\", \"Topic2\", \"Topic2\", \"Topic2\", \"Topic2\", \"Topic2\", \"Topic2\", \"Topic2\", \"Topic2\", \"Topic2\", \"Topic2\", \"Topic2\", \"Topic2\", \"Topic2\", \"Topic2\", \"Topic2\", \"Topic2\", \"Topic2\", \"Topic2\", \"Topic2\", \"Topic2\", \"Topic2\", \"Topic2\", \"Topic2\", \"Topic2\", \"Topic2\", \"Topic2\", \"Topic2\", \"Topic2\", \"Topic2\", \"Topic2\", \"Topic2\", \"Topic2\", \"Topic2\", \"Topic2\", \"Topic2\", \"Topic2\", \"Topic2\", \"Topic2\", \"Topic2\", \"Topic2\", \"Topic2\", \"Topic2\", \"Topic2\", \"Topic2\", \"Topic2\", \"Topic2\", \"Topic2\", \"Topic2\", \"Topic2\", \"Topic2\", \"Topic2\", \"Topic2\", \"Topic2\", \"Topic2\", \"Topic2\", \"Topic2\", \"Topic2\", \"Topic2\", \"Topic2\", \"Topic2\", \"Topic2\", \"Topic2\", \"Topic2\", \"Topic2\", \"Topic2\", \"Topic2\", \"Topic2\", \"Topic2\", \"Topic2\", \"Topic3\", \"Topic3\", \"Topic3\", \"Topic3\", \"Topic3\", \"Topic3\", \"Topic3\", \"Topic3\", \"Topic3\", \"Topic3\", \"Topic3\", \"Topic3\", \"Topic3\", \"Topic3\", \"Topic3\", \"Topic3\", \"Topic3\", \"Topic3\", \"Topic3\", \"Topic3\", \"Topic3\", \"Topic3\", \"Topic3\", \"Topic3\", \"Topic3\", \"Topic3\", \"Topic3\", \"Topic3\", \"Topic3\", \"Topic3\", \"Topic3\", \"Topic3\", \"Topic3\", \"Topic3\", \"Topic3\", \"Topic3\", \"Topic3\", \"Topic3\", \"Topic3\", \"Topic3\", \"Topic3\", \"Topic3\", \"Topic3\", \"Topic3\", \"Topic3\", \"Topic3\", \"Topic3\", \"Topic3\", \"Topic3\", \"Topic3\", \"Topic3\", \"Topic3\", \"Topic3\", \"Topic3\", \"Topic3\", \"Topic3\", \"Topic3\", \"Topic3\", \"Topic3\", \"Topic3\", \"Topic3\", \"Topic3\", \"Topic3\", \"Topic3\", \"Topic3\", \"Topic3\", \"Topic3\", \"Topic3\", \"Topic3\", \"Topic3\", \"Topic3\", \"Topic3\", \"Topic3\", \"Topic3\", \"Topic3\", \"Topic3\", \"Topic3\", \"Topic4\", \"Topic4\", \"Topic4\", \"Topic4\", \"Topic4\", \"Topic4\", \"Topic4\", \"Topic4\", \"Topic4\", \"Topic4\", \"Topic4\", \"Topic4\", \"Topic4\", \"Topic4\", \"Topic4\", \"Topic4\", \"Topic4\", \"Topic4\", \"Topic4\", \"Topic4\", \"Topic4\", \"Topic4\", \"Topic4\", \"Topic4\", \"Topic4\", \"Topic4\", \"Topic4\", \"Topic4\", \"Topic4\", \"Topic4\", \"Topic4\", \"Topic4\", \"Topic4\", \"Topic4\", \"Topic4\", \"Topic4\", \"Topic4\", \"Topic4\", \"Topic4\", \"Topic4\", \"Topic4\", \"Topic4\", \"Topic4\", \"Topic4\", \"Topic4\", \"Topic4\", \"Topic4\", \"Topic4\", \"Topic4\", \"Topic4\", \"Topic4\", \"Topic4\", \"Topic4\", \"Topic4\", \"Topic4\", \"Topic4\", \"Topic4\", \"Topic4\", \"Topic4\", \"Topic4\", \"Topic4\", \"Topic4\", \"Topic4\", \"Topic4\", \"Topic4\", \"Topic4\", \"Topic4\", \"Topic4\", \"Topic4\", \"Topic4\", \"Topic4\", \"Topic4\", \"Topic4\", \"Topic4\", \"Topic4\", \"Topic4\", \"Topic4\", \"Topic4\", \"Topic4\", \"Topic4\", \"Topic4\", \"Topic4\", \"Topic4\", \"Topic4\", \"Topic4\", \"Topic4\", \"Topic4\", \"Topic4\", \"Topic5\", \"Topic5\", \"Topic5\", \"Topic5\", \"Topic5\", \"Topic5\", \"Topic5\", \"Topic5\", \"Topic5\", \"Topic5\", \"Topic5\", \"Topic5\", \"Topic5\", \"Topic5\", \"Topic5\", \"Topic5\", \"Topic5\", \"Topic5\", \"Topic5\", \"Topic5\", \"Topic5\", \"Topic5\", \"Topic5\", \"Topic5\", \"Topic5\", \"Topic5\", \"Topic5\", \"Topic5\", \"Topic5\", \"Topic5\", \"Topic5\", \"Topic5\", \"Topic5\", \"Topic5\", \"Topic5\", \"Topic5\", \"Topic5\", \"Topic5\", \"Topic5\", \"Topic5\", \"Topic5\", \"Topic5\", \"Topic5\", \"Topic5\", \"Topic5\", \"Topic5\", \"Topic5\", \"Topic5\", \"Topic5\", \"Topic5\", \"Topic5\", \"Topic5\", \"Topic5\", \"Topic5\", \"Topic5\", \"Topic5\", \"Topic5\", \"Topic5\", \"Topic5\", \"Topic5\", \"Topic5\", \"Topic5\", \"Topic5\", \"Topic5\", \"Topic5\", \"Topic5\", \"Topic5\", \"Topic5\", \"Topic5\", \"Topic5\", \"Topic5\", \"Topic5\", \"Topic5\", \"Topic5\", \"Topic5\", \"Topic5\", \"Topic5\", \"Topic5\", \"Topic5\", \"Topic6\", \"Topic6\", \"Topic6\", \"Topic6\", \"Topic6\", \"Topic6\", \"Topic6\", \"Topic6\", \"Topic6\", \"Topic6\", \"Topic6\", \"Topic6\", \"Topic6\", \"Topic6\", \"Topic6\", \"Topic6\", \"Topic6\", \"Topic6\", \"Topic6\", \"Topic6\", \"Topic6\", \"Topic6\", \"Topic6\", \"Topic6\", \"Topic6\", \"Topic6\", \"Topic6\", \"Topic6\", \"Topic6\", \"Topic6\", \"Topic6\", \"Topic6\", \"Topic6\", \"Topic6\", \"Topic6\", \"Topic6\", \"Topic6\", \"Topic6\", \"Topic6\", \"Topic6\", \"Topic6\", \"Topic6\", \"Topic6\", \"Topic6\", \"Topic6\", \"Topic6\", \"Topic6\", \"Topic6\", \"Topic6\", \"Topic6\", \"Topic6\", \"Topic6\", \"Topic6\", \"Topic6\", \"Topic6\", \"Topic6\", \"Topic6\", \"Topic6\", \"Topic6\", \"Topic6\", \"Topic6\", \"Topic6\", \"Topic6\", \"Topic6\", \"Topic6\", \"Topic6\", \"Topic6\", \"Topic6\", \"Topic6\", \"Topic6\", \"Topic6\", \"Topic6\", \"Topic6\", \"Topic6\", \"Topic6\", \"Topic6\", \"Topic6\", \"Topic6\", \"Topic6\", \"Topic6\", \"Topic6\", \"Topic6\", \"Topic6\", \"Topic6\", \"Topic6\", \"Topic6\", \"Topic6\", \"Topic6\", \"Topic6\", \"Topic7\", \"Topic7\", \"Topic7\", \"Topic7\", \"Topic7\", \"Topic7\", \"Topic7\", \"Topic7\", \"Topic7\", \"Topic7\", \"Topic7\", \"Topic7\", \"Topic7\", \"Topic7\", \"Topic7\", \"Topic7\", \"Topic7\", \"Topic7\", \"Topic7\", \"Topic7\", \"Topic7\", \"Topic7\", \"Topic7\", \"Topic7\", \"Topic7\", \"Topic7\", \"Topic7\", \"Topic7\", \"Topic7\", \"Topic7\", \"Topic7\", \"Topic7\", \"Topic7\", \"Topic7\", \"Topic7\", \"Topic7\", \"Topic7\", \"Topic7\", \"Topic7\", \"Topic7\", \"Topic7\", \"Topic7\", \"Topic7\", \"Topic7\", \"Topic7\", \"Topic7\", \"Topic7\", \"Topic7\", \"Topic7\", \"Topic7\", \"Topic7\", \"Topic7\", \"Topic7\", \"Topic7\", \"Topic7\", \"Topic7\", \"Topic7\", \"Topic7\", \"Topic7\", \"Topic7\", \"Topic7\", \"Topic7\", \"Topic7\", \"Topic7\", \"Topic7\", \"Topic7\", \"Topic7\", \"Topic7\", \"Topic7\", \"Topic7\", \"Topic7\", \"Topic7\", \"Topic7\", \"Topic7\", \"Topic7\", \"Topic7\", \"Topic7\", \"Topic7\", \"Topic7\", \"Topic7\", \"Topic7\", \"Topic7\", \"Topic7\", \"Topic8\", \"Topic8\", \"Topic8\", \"Topic8\", \"Topic8\", \"Topic8\", \"Topic8\", \"Topic8\", \"Topic8\", \"Topic8\", \"Topic8\", \"Topic8\", \"Topic8\", \"Topic8\", \"Topic8\", \"Topic8\", \"Topic8\", \"Topic8\", \"Topic8\", \"Topic8\", \"Topic8\", \"Topic8\", \"Topic8\", \"Topic8\", \"Topic8\", \"Topic8\", \"Topic8\", \"Topic8\", \"Topic8\", \"Topic8\", \"Topic8\", \"Topic8\", \"Topic8\", \"Topic8\", \"Topic8\", \"Topic8\", \"Topic8\", \"Topic8\", \"Topic8\", \"Topic8\", \"Topic8\", \"Topic8\", \"Topic8\", \"Topic8\", \"Topic8\", \"Topic8\", \"Topic8\", \"Topic8\", \"Topic8\", \"Topic8\", \"Topic8\", \"Topic8\", \"Topic8\", \"Topic8\", \"Topic8\", \"Topic8\", \"Topic8\", \"Topic8\", \"Topic8\", \"Topic8\", \"Topic8\", \"Topic8\", \"Topic8\", \"Topic8\", \"Topic8\", \"Topic8\", \"Topic8\", \"Topic8\", \"Topic8\", \"Topic8\", \"Topic8\", \"Topic8\", \"Topic8\", \"Topic8\", \"Topic8\", \"Topic8\", \"Topic8\", \"Topic8\", \"Topic8\", \"Topic8\", \"Topic8\", \"Topic8\", \"Topic8\", \"Topic8\", \"Topic8\", \"Topic8\", \"Topic9\", \"Topic9\", \"Topic9\", \"Topic9\", \"Topic9\", \"Topic9\", \"Topic9\", \"Topic9\", \"Topic9\", \"Topic9\", \"Topic9\", \"Topic9\", \"Topic9\", \"Topic9\", \"Topic9\", \"Topic9\", \"Topic9\", \"Topic9\", \"Topic9\", \"Topic9\", \"Topic9\", \"Topic9\", \"Topic9\", \"Topic9\", \"Topic9\", \"Topic9\", \"Topic9\", \"Topic9\", \"Topic9\", \"Topic9\", \"Topic9\", \"Topic9\", \"Topic9\", \"Topic9\", \"Topic9\", \"Topic9\", \"Topic9\", \"Topic9\", \"Topic9\", \"Topic9\", \"Topic9\", \"Topic9\", \"Topic9\", \"Topic9\", \"Topic9\", \"Topic9\", \"Topic9\", \"Topic9\", \"Topic9\", \"Topic9\", \"Topic9\", \"Topic9\", \"Topic9\", \"Topic9\", \"Topic9\", \"Topic9\", \"Topic9\", \"Topic9\", \"Topic9\", \"Topic9\", \"Topic9\", \"Topic9\", \"Topic9\", \"Topic9\", \"Topic9\", \"Topic9\", \"Topic9\", \"Topic9\", \"Topic9\", \"Topic9\", \"Topic9\", \"Topic9\", \"Topic9\", \"Topic9\", \"Topic9\", \"Topic9\", \"Topic9\", \"Topic9\", \"Topic9\", \"Topic9\", \"Topic10\", \"Topic10\", \"Topic10\", \"Topic10\", \"Topic10\", \"Topic10\", \"Topic10\", \"Topic10\", \"Topic10\", \"Topic10\", \"Topic10\", \"Topic10\", \"Topic10\", \"Topic10\", \"Topic10\", \"Topic10\", \"Topic10\", \"Topic10\", \"Topic10\", \"Topic10\", \"Topic10\", \"Topic10\", \"Topic10\", \"Topic10\", \"Topic10\", \"Topic10\", \"Topic10\", \"Topic10\", \"Topic10\", \"Topic10\", \"Topic10\", \"Topic10\", \"Topic10\", \"Topic10\", \"Topic10\", \"Topic10\", \"Topic10\", \"Topic10\", \"Topic10\", \"Topic10\", \"Topic10\", \"Topic10\", \"Topic10\", \"Topic10\", \"Topic10\", \"Topic10\", \"Topic10\", \"Topic10\", \"Topic10\", \"Topic10\", \"Topic10\", \"Topic10\", \"Topic10\", \"Topic10\", \"Topic10\", \"Topic10\", \"Topic10\", \"Topic10\", \"Topic10\", \"Topic10\", \"Topic10\", \"Topic10\", \"Topic10\", \"Topic10\", \"Topic10\", \"Topic10\", \"Topic10\", \"Topic10\", \"Topic10\", \"Topic10\", \"Topic10\", \"Topic10\", \"Topic10\", \"Topic10\", \"Topic10\", \"Topic10\", \"Topic10\", \"Topic10\"], \"Total\": [10980.0, 5736.0, 6469.0, 3144.0, 5507.0, 3664.0, 7074.0, 5774.0, 5964.0, 6208.0, 4114.0, 3158.0, 1079.0, 2484.0, 8122.0, 1006.0, 2706.0, 1102.0, 1464.0, 2642.0, 1543.0, 4371.0, 1054.0, 2442.0, 1277.0, 1694.0, 2906.0, 2491.0, 641.0, 1334.0, 62.99940490722656, 53.16020965576172, 209.7139434814453, 39.38001251220703, 32.490638732910156, 78.73130798339844, 31.505413055419922, 29.537446975708008, 50.22011947631836, 139.7245635986328, 28.55476951599121, 57.11784362792969, 62.04301834106445, 27.571855545043945, 229.4654541015625, 26.581937789916992, 21.662931442260742, 26.586963653564453, 25.597097396850586, 20.680328369140625, 79.8164291381836, 40.37976837158203, 70.91931915283203, 18.709308624267578, 17.724796295166016, 89.63731384277344, 16.741300582885742, 19.698657989501953, 211.81822204589844, 31.528820037841797, 92.42822265625, 33.490657806396484, 111.3402328491211, 72.97486877441406, 101.64905548095703, 1694.1650390625, 370.5047607421875, 275.3249816894531, 272.8265075683594, 130.22195434570312, 141.48704528808594, 101.53541564941406, 2706.564453125, 1071.4954833984375, 600.315185546875, 6208.57568359375, 872.1761474609375, 1464.4488525390625, 2442.411376953125, 227.8172149658203, 3345.8896484375, 320.100830078125, 1078.380126953125, 2425.981689453125, 623.9244384765625, 4850.7412109375, 1545.39111328125, 786.5306396484375, 582.3995361328125, 1543.3770751953125, 1368.4349365234375, 8122.3544921875, 3423.666748046875, 4172.21533203125, 2181.49658203125, 3546.58447265625, 2720.304931640625, 4114.4228515625, 10980.3046875, 2576.94873046875, 3997.531982421875, 3158.032958984375, 2470.4482421875, 3636.984130859375, 6202.73388671875, 4502.72412109375, 4611.224609375, 3664.4384765625, 4767.416015625, 2617.6455078125, 2752.75341796875, 4228.8623046875, 288.780029296875, 52.76599884033203, 29.748262405395508, 29.749677658081055, 26.873023986816406, 29.75688934326172, 24.95596694946289, 29.756610870361328, 23.037723541259766, 24.96035385131836, 37.431392669677734, 53.792850494384766, 26.880346298217773, 24.00182342529297, 20.162384033203125, 25.924083709716797, 20.162843704223633, 33.599952697753906, 21.125465393066406, 19.206140518188477, 25.92588996887207, 18.24596405029297, 18.24614906311035, 18.245847702026367, 18.24599266052246, 17.287416458129883, 28.804040908813477, 47.03923416137695, 17.288110733032227, 16.328460693359375, 75.90042114257812, 37.449974060058594, 161.4746551513672, 111.54536437988281, 122.02350616455078, 1277.79248046875, 91.270263671875, 70.25146484375, 112.47887420654297, 98.05485534667969, 44.223304748535156, 79.78946685791016, 790.2127685546875, 405.7189025878906, 359.179443359375, 73.1982650756836, 600.3541870117188, 432.4530944824219, 64.51881408691406, 171.6641845703125, 638.31689453125, 208.378173828125, 151.24832153320312, 619.6514892578125, 65.38554382324219, 4608.94677734375, 389.7212219238281, 5964.46435546875, 2484.96435546875, 298.2026672363281, 309.5326843261719, 871.3336181640625, 2569.393798828125, 7074.1650390625, 1136.570068359375, 975.5905151367188, 1316.515869140625, 545.5018920898438, 1865.4722900390625, 1346.103515625, 3152.306396484375, 763.0343017578125, 744.5647583007812, 2279.66845703125, 1414.8111572265625, 2207.626953125, 4371.2158203125, 2799.387939453125, 6469.22314453125, 5507.6708984375, 4767.416015625, 3699.3671875, 3288.294677734375, 4089.067138671875, 2576.977783203125, 2575.426025390625, 4228.8623046875, 2658.513671875, 5774.92138671875, 6202.73388671875, 2720.304931640625, 2670.734130859375, 226.93218994140625, 156.21231079101562, 149.32521057128906, 96.28546142578125, 1054.095458984375, 97.25102233886719, 56.00595474243164, 53.05826950073242, 52.07663345336914, 47.16434860229492, 50.1113395690918, 44.2176628112793, 152.2871551513672, 58.95663833618164, 41.27065658569336, 56.00713348388672, 41.27088928222656, 39.30637741088867, 45.19546890258789, 38.32304000854492, 38.323184967041016, 39.30571365356445, 38.322208404541016, 142.4086151123047, 36.357810974121094, 40.28789520263672, 33.41084289550781, 39.30868911743164, 28.49929428100586, 29.48219871520996, 274.0614013671875, 235.8491668701172, 3144.239013671875, 314.1024475097656, 72.7631607055664, 187.76263427734375, 119.9555892944336, 94.22730255126953, 1334.4300537109375, 927.6445922851562, 68.83065795898438, 298.5364990234375, 319.4322204589844, 140.21884155273438, 853.0849609375, 232.55242919921875, 1399.4381103515625, 2029.4415283203125, 100.93885803222656, 258.50396728515625, 2484.96435546875, 346.70806884765625, 403.80169677734375, 950.375, 1310.40771484375, 5774.92138671875, 2576.977783203125, 2906.0166015625, 7074.1650390625, 6469.22314453125, 1892.3460693359375, 2575.426025390625, 2812.685791015625, 1756.927734375, 2279.66845703125, 1436.4344482421875, 846.0339965820312, 3636.984130859375, 5964.46435546875, 4502.72412109375, 4611.224609375, 2670.734130859375, 8122.3544921875, 4182.47412109375, 6202.73388671875, 4089.067138671875, 4767.416015625, 77.2742919921875, 41.543033599853516, 44.45659255981445, 39.62446594238281, 29.961833953857422, 37.693424224853516, 23.19900894165039, 28.03059959411621, 23.200578689575195, 37.70372009277344, 116.01944732666016, 21.268136978149414, 21.268367767333984, 23.202585220336914, 22.235149383544922, 19.337631225585938, 19.338293075561523, 19.340856552124023, 81.19412994384766, 17.407669067382812, 16.440608978271484, 18.37738800048828, 15.475740432739258, 35.77494430541992, 33.858428955078125, 14.509488105773926, 51.27970886230469, 14.510433197021484, 13.54409122467041, 13.544066429138184, 229.3278350830078, 20.31741714477539, 172.3154296875, 151.01449584960938, 94.87527465820312, 332.9184875488281, 158.94554138183594, 59.02324676513672, 32.858970642089844, 341.0437927246094, 927.6085815429688, 57.18027877807617, 10980.3046875, 64.97126770019531, 507.6180419921875, 1537.7296142578125, 136.569580078125, 1013.9284057617188, 143.7624053955078, 596.4697265625, 108.023193359375, 155.9303741455078, 293.3758239746094, 304.720947265625, 143.12667846679688, 83.54481506347656, 169.95330810546875, 3423.666748046875, 185.48291015625, 685.4170532226562, 325.3154602050781, 2009.2239990234375, 3158.032958984375, 2491.423583984375, 1112.63916015625, 572.0250854492188, 1257.7025146484375, 2442.411376953125, 2045.281005859375, 2281.488525390625, 452.3968200683594, 4172.21533203125, 1993.4478759765625, 5736.08154296875, 3345.8896484375, 4502.72412109375, 6202.73388671875, 4850.7412109375, 2379.244873046875, 8122.3544921875, 3288.294677734375, 1952.29150390625, 4228.8623046875, 4182.47412109375, 3997.531982421875, 2706.564453125, 3664.4384765625, 2400.90771484375, 44.90678024291992, 35.716243743896484, 52.00785827636719, 29.582326889038086, 28.55633544921875, 74.4167251586914, 39.79428482055664, 84.64221954345703, 20.396892547607422, 23.442108154296875, 25.482891082763672, 22.41741943359375, 16.311290740966797, 36.72662353515625, 15.290644645690918, 16.309202194213867, 14.268630027770996, 107.05596923828125, 31.611961364746094, 12.225590705871582, 18.327045440673828, 11.2055082321167, 11.205312728881836, 23.43012237548828, 67.18527221679688, 16.288816452026367, 49.81471633911133, 11.203750610351562, 24.45319175720215, 11.200783729553223, 40.64313888549805, 32.51636505126953, 43.80683517456055, 19.32278060913086, 21.390214920043945, 1539.62158203125, 51.87910842895508, 115.27059173583984, 91.41450500488281, 69.12454986572266, 1250.6724853515625, 1508.9107666015625, 165.05262756347656, 780.1075439453125, 348.0406188964844, 5507.6708984375, 1602.786865234375, 926.957763671875, 947.91064453125, 1240.98583984375, 1637.04638671875, 5774.92138671875, 1000.6448974609375, 6202.73388671875, 5964.46435546875, 4611.224609375, 583.8027954101562, 529.1099243164062, 664.302978515625, 2171.966552734375, 2509.21533203125, 2379.244873046875, 4371.2158203125, 309.30218505859375, 7074.1650390625, 2191.643310546875, 6469.22314453125, 1865.4722900390625, 4089.067138671875, 8122.3544921875, 921.1558837890625, 6208.57568359375, 3546.58447265625, 3997.531982421875, 4608.94677734375, 4172.21533203125, 4228.8623046875, 4850.7412109375, 2124.51025390625, 32.950111389160156, 28.955604553222656, 22.963966369628906, 24.9592227935791, 22.96242332458496, 25.956331253051758, 51.88666915893555, 36.91968536376953, 21.962568283081055, 19.9677677154541, 18.963773727416992, 15.9727783203125, 14.97463607788086, 16.964773178100586, 13.975142478942871, 16.9677791595459, 13.974812507629395, 14.971675872802734, 13.97417163848877, 11.978046417236328, 11.978029251098633, 15.971574783325195, 11.97822093963623, 11.977240562438965, 13.97191333770752, 12.974461555480957, 42.93775177001953, 10.979287147521973, 10.979196548461914, 10.97872543334961, 29.984573364257812, 94.66136932373047, 16.96089744567871, 31.858848571777344, 35.82843780517578, 34.96075439453125, 782.5883178710938, 28.86142349243164, 30.906932830810547, 73.44727325439453, 53.71665573120117, 51.74467086791992, 78.27887725830078, 253.91807556152344, 234.64341735839844, 4114.4228515625, 112.22087097167969, 153.7420654296875, 39.75578689575195, 1464.4488525390625, 109.79611206054688, 2236.594970703125, 108.8422622680664, 3664.4384765625, 1655.625732421875, 268.4762268066406, 130.38638305664062, 2806.4775390625, 2181.49658203125, 569.0769653320312, 88.50963592529297, 3997.531982421875, 67.74178314208984, 2491.423583984375, 3546.58447265625, 1257.7025146484375, 2109.16650390625, 2617.6455078125, 1501.716552734375, 1340.61083984375, 483.30462646484375, 1196.9884033203125, 10980.3046875, 1459.9349365234375, 8122.3544921875, 4182.47412109375, 782.75, 3423.666748046875, 3699.3671875, 2576.94873046875, 6208.57568359375, 1285.8529052734375, 4228.8623046875, 4850.7412109375, 4089.067138671875, 2456.0400390625, 5736.08154296875, 4767.416015625, 2658.513671875, 50.06924057006836, 66.0727767944336, 41.054054260253906, 38.03824234008789, 28.03162956237793, 26.031536102294922, 25.029890060424805, 24.028865814208984, 27.033126831054688, 36.02864074707031, 21.02321434020996, 45.06498718261719, 145.99508666992188, 36.053375244140625, 23.031076431274414, 23.027812957763672, 21.0234375, 30.013378143310547, 479.8489990234375, 16.01602554321289, 16.015905380249023, 21.029224395751953, 18.011653900146484, 48.0987548828125, 16.013935089111328, 34.993717193603516, 15.014298439025879, 15.012324333190918, 15.011613845825195, 83.07628631591797, 105.04466247558594, 51.09097671508789, 62.02797317504883, 155.7601776123047, 211.13497924804688, 484.5989685058594, 61.022010803222656, 37.978816986083984, 58.201568603515625, 398.58721923828125, 245.26953125, 39.99656295776367, 318.53753662109375, 92.43419647216797, 246.92520141601562, 680.6925659179688, 107.6519775390625, 66.91641235351562, 365.5227355957031, 55.085025787353516, 859.343017578125, 1091.5523681640625, 207.16671752929688, 187.58522033691406, 294.0666198730469, 1357.7607421875, 2906.0166015625, 305.6897888183594, 1206.7509765625, 1697.587890625, 1758.3887939453125, 2124.51025390625, 483.30462646484375, 5774.92138671875, 645.2767944335938, 2670.734130859375, 1250.6724853515625, 8122.3544921875, 1933.0289306640625, 2509.21533203125, 2171.966552734375, 1195.25732421875, 4371.2158203125, 7074.1650390625, 926.957763671875, 2279.66845703125, 3288.294677734375, 5507.6708984375, 3699.3671875, 4767.416015625, 4089.067138671875, 2456.0400390625, 2380.317626953125, 31.90547752380371, 33.89717102050781, 112.66616821289062, 23.92868995666504, 22.928760528564453, 21.932594299316406, 23.926652908325195, 17.945241928100586, 20.93344497680664, 18.94086265563965, 34.91505813598633, 18.943458557128906, 14.953877449035645, 33.901885986328125, 13.956546783447266, 36.906349182128906, 16.939355850219727, 18.93649673461914, 28.9354190826416, 15.943245887756348, 25.933626174926758, 38.82704544067383, 13.961119651794434, 24.911710739135742, 10.964908599853516, 12.953702926635742, 22.916332244873047, 11.960376739501953, 21.931150436401367, 9.967512130737305, 19.92727279663086, 34.8206672668457, 34.85818862915039, 247.79335021972656, 48.75468826293945, 1102.8494873046875, 35.85054397583008, 36.887203216552734, 44.793731689453125, 254.94142150878906, 85.78324890136719, 924.00146484375, 385.558349609375, 342.0376281738281, 928.6500854492188, 81.7918472290039, 333.70025634765625, 213.46273803710938, 747.6455688476562, 84.39762878417969, 6469.22314453125, 2642.669677734375, 425.40655517578125, 126.16089630126953, 109.22026062011719, 5507.6708984375, 116.45648193359375, 315.7925109863281, 2161.376708984375, 487.4316101074219, 1809.482177734375, 158.7119903564453, 541.0408935546875, 535.2074584960938, 994.3087768554688, 7074.1650390625, 4371.2158203125, 671.8973388671875, 680.6925659179688, 5774.92138671875, 401.871337890625, 2331.38623046875, 966.7357788085938, 2569.393798828125, 1357.7607421875, 1091.5523681640625, 2906.0166015625, 4502.72412109375, 5964.46435546875, 3288.294677734375, 2380.317626953125, 4228.8623046875, 3636.984130859375, 4089.067138671875, 3152.306396484375, 3546.58447265625, 41.967498779296875, 35.969547271728516, 35.969085693359375, 42.966514587402344, 110.91157531738281, 641.2721557617188, 31.971696853637695, 26.97666358947754, 31.974044799804688, 308.7846984863281, 27.97268295288086, 31.972293853759766, 30.96847152709961, 66.89501190185547, 31.966842651367188, 96.9571533203125, 33.955204010009766, 19.98025894165039, 28.966468811035156, 20.977136611938477, 44.927101135253906, 141.69981384277344, 23.977622985839844, 1079.5289306640625, 25.97686004638672, 345.2611999511719, 31.971511840820312, 15.982817649841309, 25.96013069152832, 15.983359336853027, 141.70401000976562, 86.79793548583984, 122.77556610107422, 61.90282440185547, 1006.7686157226562, 51.928497314453125, 39.989646911621094, 79.878662109375, 194.18531799316406, 5736.08154296875, 116.59585571289062, 122.65280151367188, 218.82066345214844, 61.74250030517578, 180.322021484375, 435.9527893066406, 96.30684661865234, 109.45800018310547, 361.5784606933594, 140.05331420898438, 356.45428466796875, 1112.63916015625, 269.13153076171875, 210.76564025878906, 3158.032958984375, 2812.685791015625, 440.63031005859375, 2425.981689453125, 572.0250854492188, 2658.513671875, 1459.9349365234375, 1676.422607421875, 10980.3046875, 1537.7296142578125, 344.306396484375, 2109.16650390625, 1697.587890625, 4767.416015625, 4850.7412109375, 1993.4478759765625, 4182.47412109375, 2711.6748046875, 1892.3460693359375, 1749.144287109375, 4608.94677734375, 2161.376708984375, 2617.6455078125, 4172.21533203125, 8122.3544921875, 6208.57568359375, 53.89540481567383, 30.49460220336914, 88.361328125, 20.32352638244629, 38.57501220703125, 16.253170013427734, 55.857826232910156, 16.252426147460938, 19.305166244506836, 14.217497825622559, 13.200602531433105, 12.182002067565918, 139.0238494873047, 13.19339370727539, 56.81698989868164, 10.149113655090332, 10.148703575134277, 10.149246215820312, 9.131702423095703, 12.171323776245117, 10.143521308898926, 54.70796585083008, 10.14938735961914, 8.114049911499023, 8.114136695861816, 12.168009757995605, 19.269643783569336, 15.230594635009766, 10.138360977172852, 161.0108642578125, 70.89466094970703, 112.38529205322266, 35.451297760009766, 68.17630767822266, 68.7203140258789, 63.76996612548828, 40.42845916748047, 76.4745864868164, 42.56727600097656, 177.0322723388672, 81.91197967529297, 42.380523681640625, 1543.3770751953125, 43.38390350341797, 1075.036865234375, 3664.4384765625, 887.0501708984375, 319.55230712890625, 98.02642822265625, 329.2891540527344, 8122.3544921875, 6208.57568359375, 977.7896728515625, 10980.3046875, 4172.21533203125, 2442.411376953125, 2670.734130859375, 4767.416015625, 3636.984130859375, 2706.564453125, 2086.914794921875, 6202.73388671875, 4850.7412109375, 1694.1650390625, 423.732421875, 2346.056884765625, 3152.306396484375, 3158.032958984375, 1291.0355224609375, 2575.426025390625, 4502.72412109375, 4228.8623046875, 4611.224609375, 4182.47412109375, 7074.1650390625, 4089.067138671875, 6469.22314453125, 3997.531982421875], \"logprob\": [30.0, 29.0, 28.0, 27.0, 26.0, 25.0, 24.0, 23.0, 22.0, 21.0, 20.0, 19.0, 18.0, 17.0, 16.0, 15.0, 14.0, 13.0, 12.0, 11.0, 10.0, 9.0, 8.0, 7.0, 6.0, 5.0, 4.0, 3.0, 2.0, 1.0, -7.832300186157227, -8.003800392150879, -6.632400035858154, -8.309000015258789, -8.506600379943848, -7.621799945831299, -8.53950023651123, -8.605199813842773, -8.078399658203125, -7.055799961090088, -8.644000053405762, -7.952099800109863, -7.8703999519348145, -8.68220043182373, -6.564199924468994, -8.720999717712402, -8.926600456237793, -8.721799850463867, -8.765199661254883, -8.978500366210938, -7.628200054168701, -8.31089973449707, -7.747799873352051, -9.082300186157227, -9.13640022277832, -7.517099857330322, -9.19629955291748, -9.03439998626709, -6.659200191497803, -8.564299583435059, -7.488800048828125, -8.506500244140625, -7.323999881744385, -7.745100021362305, -7.434700012207031, -4.796599864959717, -6.25540018081665, -6.550600051879883, -6.559199810028076, -7.25, -7.188399791717529, -7.511600017547607, -4.610499858856201, -5.498899936676025, -6.000699996948242, -4.019700050354004, -5.693900108337402, -5.318600177764893, -4.9028000831604, -6.854000091552734, -4.7444000244140625, -6.5991997718811035, -5.661600112915039, -5.096099853515625, -6.136499881744385, -4.640900135040283, -5.506199836730957, -5.988800048828125, -6.2042999267578125, -5.532400131225586, -5.627999782562256, -4.494699954986572, -5.077099800109863, -4.99370002746582, -5.430300235748291, -5.144499778747559, -5.314300060272217, -5.082300186157227, -4.554699897766113, -5.356599807739258, -5.14870023727417, -5.287700176239014, -5.429800033569336, -5.27869987487793, -5.04610013961792, -5.190199851989746, -5.226099967956543, -5.3231000900268555, -5.311299800872803, -5.455900192260742, -5.4629998207092285, -5.498300075531006, -6.22130012512207, -7.926599979400635, -8.50220012664795, -8.504500389099121, -8.607999801635742, -8.506500244140625, -8.684700012207031, -8.50879955291748, -8.765999794006348, -8.686800003051758, -8.28219985961914, -7.921199798583984, -8.615099906921387, -8.729399681091309, -8.90530014038086, -8.654199600219727, -8.905599594116211, -8.396699905395508, -8.861599922180176, -8.958900451660156, -8.659199714660645, -9.010899543762207, -9.010899543762207, -9.01099967956543, -9.011199951171875, -9.067500114440918, -8.557100296020508, -8.067000389099121, -9.069600105285645, -9.127300262451172, -7.6041998863220215, -8.304300308227539, -6.879899978637695, -7.245100021362305, -7.159299850463867, -4.881199836730957, -7.444699764251709, -7.708099842071533, -7.256999969482422, -7.3902997970581055, -8.155200004577637, -7.599800109863281, -5.456999778747559, -6.096499919891357, -6.214000225067139, -7.6981000900268555, -5.777699947357178, -6.0777997970581055, -7.8206000328063965, -6.940299987792969, -5.772200107574463, -6.773499965667725, -7.073200225830078, -5.8358001708984375, -7.811500072479248, -4.137499809265137, -6.272600173950195, -4.016200065612793, -4.801599979400635, -6.556600093841553, -6.526299953460693, -5.6880998611450195, -4.820899963378906, -4.079599857330322, -5.5152997970581055, -5.6493000984191895, -5.455900192260742, -6.134200096130371, -5.26170015335083, -5.502399921417236, -4.901100158691406, -5.923099994659424, -5.9527997970581055, -5.2515997886657715, -5.595900058746338, -5.338900089263916, -4.951700210571289, -5.2221999168396, -4.774700164794922, -4.904600143432617, -5.001100063323975, -5.158699989318848, -5.243599891662598, -5.2027997970581055, -5.450699806213379, -5.4822998046875, -5.3632001876831055, -5.529399871826172, -5.423699855804443, -5.429100036621094, -5.556099891662598, -5.582499980926514, -6.382999897003174, -6.758600234985352, -6.8053998947143555, -7.245500087738037, -4.853700160980225, -7.241000175476074, -7.7932000160217285, -7.8480000495910645, -7.867199897766113, -7.967599868774414, -7.907800197601318, -8.033300399780273, -6.7972002029418945, -7.7469000816345215, -8.103699684143066, -7.798900127410889, -8.104299545288086, -8.154000282287598, -8.01550006866455, -8.1806001663208, -8.1806001663208, -8.155799865722656, -8.182299613952637, -6.869999885559082, -8.235400199890137, -8.132800102233887, -8.321000099182129, -8.159600257873535, -8.48390007019043, -8.450200080871582, -6.224400043487549, -6.38100004196167, -3.843600034713745, -6.114999771118164, -7.55049991607666, -6.627200126647949, -7.069300174713135, -7.307499885559082, -4.785799980163574, -5.155600070953369, -7.631400108337402, -6.267499923706055, -6.250100135803223, -6.991600036621094, -5.384900093078613, -6.548500061035156, -4.998300075531006, -4.718400001525879, -7.30810022354126, -6.530200004577637, -4.686500072479248, -6.308599948883057, -6.1981000900268555, -5.559700012207031, -5.454500198364258, -4.508200168609619, -5.11929988861084, -5.059299945831299, -4.509200096130371, -4.619100093841553, -5.392099857330322, -5.286099910736084, -5.260900020599365, -5.53439998626709, -5.428299903869629, -5.673099994659424, -5.949399948120117, -5.307000160217285, -5.100500106811523, -5.259099960327148, -5.251200199127197, -5.491799831390381, -5.10290002822876, -5.413300037384033, -5.3566999435424805, -5.511600017547607, -5.481100082397461, -7.379300117492676, -8.005999565124512, -7.948599815368652, -8.063899993896484, -8.345000267028809, -8.115900039672852, -8.606300354003906, -8.41819953918457, -8.608200073242188, -8.12399959564209, -7.000100135803223, -8.697099685668945, -8.69729995727539, -8.611100196838379, -8.654199600219727, -8.796799659729004, -8.797900199890137, -8.802599906921387, -7.368800163269043, -8.909799575805664, -8.967499732971191, -8.85990047454834, -9.03219985961914, -8.19540023803711, -8.252099990844727, -9.099800109863281, -7.839099884033203, -9.10200023651123, -9.173600196838379, -9.173999786376953, -6.351900100708008, -8.771599769592285, -6.660600185394287, -6.791399955749512, -7.256499767303467, -6.046999931335449, -6.765500068664551, -7.735400199890137, -8.29800033569336, -6.07289981842041, -5.155300140380859, -7.787199974060059, -2.9776999950408936, -7.683000087738037, -5.843400001525879, -4.9039998054504395, -7.037700176239014, -5.286600112915039, -7.007999897003174, -5.784200191497803, -7.267399787902832, -6.961599826812744, -6.445300102233887, -6.430099964141846, -7.046599864959717, -7.490799903869629, -6.938899993896484, -4.648200035095215, -6.875899791717529, -5.889400005340576, -6.451000213623047, -5.118599891662598, -4.8053998947143555, -5.008200168609619, -5.642099857330322, -6.106100082397461, -5.6041998863220215, -5.200500011444092, -5.315199851989746, -5.258699893951416, -6.281899929046631, -4.899700164794922, -5.403500080108643, -4.7743000984191895, -5.099699974060059, -4.988699913024902, -4.875699996948242, -5.071700096130371, -5.421299934387207, -4.864699840545654, -5.30709981918335, -5.552700042724609, -5.229100227355957, -5.285699844360352, -5.308700084686279, -5.475500106811523, -5.40910005569458, -5.539400100708008, -7.814700126647949, -8.048600196838379, -7.681000232696533, -8.247699737548828, -8.28600025177002, -7.3282999992370605, -7.954999923706055, -7.203499794006348, -8.628499984741211, -8.496399879455566, -8.415499687194824, -8.54580020904541, -8.863900184631348, -8.053600311279297, -8.93220043182373, -8.868900299072266, -9.005800247192383, -6.991000175476074, -8.22089958190918, -9.173100471496582, -8.768600463867188, -9.26509952545166, -9.265399932861328, -8.528499603271484, -7.475399971008301, -8.8927001953125, -7.775400161743164, -9.269200325012207, -8.489700317382812, -9.275500297546387, -7.988399982452393, -8.217499732971191, -7.932400226593018, -8.73289966583252, -8.63640022277832, -4.6234002113342285, -7.806300163269043, -7.0696001052856445, -7.299300193786621, -7.571000099182129, -4.980599880218506, -4.912399768829346, -6.910299777984619, -5.606599807739258, -6.286300182342529, -4.019400119781494, -5.059800148010254, -5.529699802398682, -5.520599842071533, -5.317999839782715, -5.111100196838379, -4.156499862670898, -5.526199817657471, -4.123499870300293, -4.155399799346924, -4.360799789428711, -5.944799900054932, -6.021900177001953, -5.861100196838379, -4.973700046539307, -4.870299816131592, -4.923399925231934, -4.592199802398682, -6.473299980163574, -4.526500225067139, -5.2743000984191895, -4.60699987411499, -5.396200180053711, -4.95359992980957, -4.566999912261963, -5.834499835968018, -4.864099979400635, -5.2657999992370605, -5.265500068664551, -5.246399879455566, -5.303400039672852, -5.311299800872803, -5.519899845123291, -5.522799968719482, -7.858500003814697, -7.991600036621094, -8.232199668884277, -8.149700164794922, -8.236200332641602, -8.113699913024902, -7.4217000007629395, -7.762400150299072, -8.284199714660645, -8.381699562072754, -8.440299987792969, -8.612899780273438, -8.683199882507324, -8.560700416564941, -8.757699966430664, -8.563799858093262, -8.75790023803711, -8.69219970703125, -8.763199806213379, -8.920299530029297, -8.92039966583252, -8.633099555969238, -8.922100067138672, -8.922800064086914, -8.769100189208984, -8.844099998474121, -7.650700092315674, -9.01550006866455, -9.015700340270996, -9.016799926757812, -8.028200149536133, -6.915200233459473, -8.591699600219727, -7.984499931335449, -7.876200199127197, -7.90749979019165, -4.985799789428711, -8.098999977111816, -8.038000106811523, -7.244999885559082, -7.542300224304199, -7.581099987030029, -7.237800121307373, -6.210299968719482, -6.284999847412109, -3.837100028991699, -6.941400051116943, -6.697999954223633, -7.84060001373291, -4.843500137329102, -6.998499870300293, -4.582499980926514, -7.024899959564209, -4.212100028991699, -4.851600170135498, -6.319900035858154, -6.883900165557861, -4.499800205230713, -4.746799945831299, -5.791299819946289, -7.207799911499023, -4.411099910736084, -7.4096999168396, -4.841100215911865, -4.600900173187256, -5.349800109863281, -5.068999767303467, -4.9816999435424805, -5.345600128173828, -5.424499988555908, -6.089099884033203, -5.509200096130371, -4.118599891662598, -5.43720006942749, -4.408599853515625, -4.818600177764893, -5.833000183105469, -5.051300048828125, -5.098899841308594, -5.284200191497803, -4.888199806213379, -5.6392998695373535, -5.163899898529053, -5.151299953460693, -5.232900142669678, -5.430699825286865, -5.176700115203857, -5.247600078582764, -5.427999973297119, -7.201000213623047, -6.928999900817871, -7.407199859619141, -7.488900184631348, -7.797900199890137, -7.873199939727783, -7.912700176239014, -7.9552998542785645, -7.837600231170654, -7.554299831390381, -8.094599723815918, -7.333000183105469, -6.157599925994873, -7.558599948883057, -8.008299827575684, -8.009300231933594, -8.101699829101562, -7.746600151062012, -4.976500034332275, -8.379899978637695, -8.380900382995605, -8.110199928283691, -8.265999794006348, -7.28410005569458, -8.383999824523926, -7.604300022125244, -8.451700210571289, -8.453200340270996, -8.453700065612793, -6.74399995803833, -6.513800144195557, -7.2307000160217285, -7.0406999588012695, -6.130799770355225, -5.849999904632568, -5.038700103759766, -7.083199977874756, -7.558899879455566, -7.172100067138672, -5.421899795532227, -5.863999843597412, -7.516200065612793, -5.709099769592285, -6.793300151824951, -5.963399887084961, -5.13129997253418, -6.699900150299072, -7.0903000831604, -5.756899833679199, -7.263000011444092, -5.1350998878479, -4.966599941253662, -6.240499973297119, -6.35099983215332, -6.062600135803223, -5.008999824523926, -4.503399848937988, -6.059199810028076, -5.173099994659424, -4.986199855804443, -4.968800067901611, -4.856900215148926, -5.794000148773193, -4.323500156402588, -5.636600017547607, -4.898499965667725, -5.3867998123168945, -4.418399810791016, -5.2220001220703125, -5.157700061798096, -5.240699768066406, -5.510799884796143, -5.0503997802734375, -4.978000164031982, -5.680600166320801, -5.460299968719482, -5.409999847412109, -5.348700046539307, -5.46150016784668, -5.4319000244140625, -5.508299827575684, -5.588500022888184, -5.60129976272583, -7.637800216674805, -7.58050012588501, -6.379899978637695, -7.93179988861084, -7.9822998046875, -8.027899742126465, -7.942299842834473, -8.2322998046875, -8.080400466918945, -8.181300163269043, -7.571199893951416, -8.190899848937988, -8.427399635314941, -7.611199855804443, -8.49940013885498, -7.529600143432617, -8.308500289916992, -8.197199821472168, -7.7733001708984375, -8.37399959564209, -7.892600059509277, -7.492700099945068, -8.51609992980957, -7.937600135803223, -8.759099960327148, -8.593899726867676, -8.02400016784668, -8.67609977722168, -8.07349967956543, -8.863900184631348, -8.176899909973145, -7.625699996948242, -7.624800205230713, -5.71750020980835, -7.299799919128418, -4.312699794769287, -7.603700160980225, -7.583099842071533, -7.403200149536133, -5.793000221252441, -6.808300018310547, -4.657599925994873, -5.4664998054504395, -5.594299793243408, -4.75439977645874, -6.8927001953125, -5.688300132751465, -6.07919979095459, -5.02209997177124, -6.882299900054932, -3.4530999660491943, -4.180200099945068, -5.667200088500977, -6.634300231933594, -6.748199939727783, -3.7932000160217285, -6.710899829864502, -5.974400043487549, -4.662099838256836, -5.7418999671936035, -4.922900199890137, -6.560800075531006, -5.752799987792969, -5.768799781799316, -5.369200229644775, -4.109799861907959, -4.478700160980225, -5.663700103759766, -5.659299850463867, -4.5229997634887695, -6.009099960327148, -5.045300006866455, -5.565999984741211, -5.140399932861328, -5.46150016784668, -5.628600120544434, -5.406799793243408, -5.304800033569336, -5.293900012969971, -5.410699844360352, -5.501500129699707, -5.448299884796143, -5.555200099945068, -5.605100154876709, -5.624000072479248, -5.640399932861328, -7.343100070953369, -7.499899864196777, -7.500999927520752, -7.324100017547607, -6.376399993896484, -4.623199939727783, -7.622399806976318, -7.795100212097168, -7.625699996948242, -5.35890007019043, -7.761199951171875, -7.628300189971924, -7.661200046539307, -6.89300012588501, -7.636000156402588, -6.528600215911865, -7.578999996185303, -8.109399795532227, -7.738399982452393, -8.061699867248535, -7.30079984664917, -6.15310001373291, -7.929699897766113, -4.123700141906738, -7.852200031280518, -5.266600131988525, -7.648099899291992, -8.343899726867676, -7.860899925231934, -8.346099853515625, -6.165900230407715, -6.656700134277344, -6.315100193023682, -6.997300148010254, -4.269499778747559, -7.176199913024902, -7.435699939727783, -6.786200046539307, -5.996500015258789, -3.0044000148773193, -6.479400157928467, -6.436999797821045, -5.926300048828125, -7.0665998458862305, -6.175899982452393, -5.47760009765625, -6.734899997711182, -6.64169979095459, -5.714600086212158, -6.451600074768066, -5.743000030517578, -4.939799785614014, -6.018599987030029, -6.221099853515625, -4.452000141143799, -4.554500102996826, -5.75629997253418, -4.705999851226807, -5.610599994659424, -4.6981000900268555, -5.180300235748291, -5.235000133514404, -4.359499931335449, -5.337500095367432, -6.0229997634887695, -5.307700157165527, -5.404600143432617, -5.032199859619141, -5.045000076293945, -5.400899887084961, -5.180300235748291, -5.321300029754639, -5.42519998550415, -5.449399948120117, -5.2932000160217285, -5.456399917602539, -5.435299873352051, -5.434100151062012, -5.3942999839782715, -5.421999931335449, -7.047599792480469, -7.630300045013428, -6.583000183105469, -8.053799629211426, -7.4131999015808105, -8.283900260925293, -7.049499988555908, -8.286199569702148, -8.114299774169922, -8.42770004272461, -8.50730037689209, -8.59589958190918, -6.164999961853027, -8.524499893188477, -7.067200183868408, -8.790200233459473, -8.793499946594238, -8.79419994354248, -8.906200408935547, -8.624199867248535, -8.808500289916992, -7.124899864196777, -8.813400268554688, -9.039999961853027, -9.040200233459473, -8.63539981842041, -8.18239974975586, -8.418999671936035, -8.826199531555176, -6.064899921417236, -6.888000011444092, -6.43779993057251, -7.606400012969971, -6.982100009918213, -7.002900123596191, -7.085100173950195, -7.539100170135498, -6.992599964141846, -7.5416998863220215, -6.3059000968933105, -6.981599807739258, -7.551700115203857, -4.563700199127197, -7.5366997718811035, -4.980299949645996, -4.017000198364258, -5.302800178527832, -6.118500232696533, -6.9807000160217285, -6.147500038146973, -4.0254998207092285, -4.216400146484375, -5.522900104522705, -4.136099815368652, -4.742400169372559, -5.121500015258789, -5.088799953460693, -4.836400032043457, -5.004899978637695, -5.163700103759766, -5.31790018081665, -4.846499919891357, -4.988800048828125, -5.519999980926514, -6.175300121307373, -5.440199851989746, -5.315400123596191, -5.332399845123291, -5.718599796295166, -5.44379997253418, -5.241600036621094, -5.273600101470947, -5.252200126647949, -5.3454999923706055, -5.198800086975098, -5.3881001472473145, -5.260300159454346, -5.4644999504089355]}, \"token.table\": {\"Freq\": [0.9404882192611694, 0.14950299263000488, 0.0776265487074852, 0.17777438461780548, 0.13896110653877258, 0.09631442278623581, 0.04887597635388374, 0.0517510361969471, 0.05031350627541542, 0.06612632423639297, 0.14279451966285706, 0.14919398725032806, 0.11500369757413864, 0.14226029813289642, 0.14752033352851868, 0.059534139931201935, 0.16019226610660553, 0.046144936233758926, 0.02582203596830368, 0.08511708676815033, 0.06933695077896118, 0.2595439851284027, 0.0785462036728859, 0.29995542764663696, 0.0796845555305481, 0.04098062589764595, 0.13091033697128296, 0.007399280089884996, 0.07171609997749329, 0.004553402774035931, 0.026751242578029633, 0.7242648601531982, 0.07023174315690994, 0.17996883392333984, 0.02194741927087307, 0.9311574101448059, 0.027109673246741295, 0.027109673246741295, 0.027109673246741295, 0.8946191668510437, 0.027109673246741295, 0.15698814392089844, 0.09221981465816498, 0.07592049986124039, 0.14326240122318268, 0.08964623510837555, 0.07849407196044922, 0.032169703394174576, 0.17714782059192657, 0.06176582723855972, 0.09221981465816498, 0.11248370260000229, 0.020451582968235016, 0.03749457001686096, 0.6578592658042908, 0.023860180750489235, 0.08521492779254913, 0.013634388335049152, 0.006817194167524576, 0.013634388335049152, 0.034085970371961594, 0.1151261031627655, 0.1228807121515274, 0.03758002445101738, 0.04056256264448166, 0.23323474824428558, 0.05786130577325821, 0.1342143714427948, 0.024456840008497238, 0.20102329552173615, 0.032807957381010056, 0.9184085130691528, 0.008071241900324821, 0.12106862664222717, 0.004035620950162411, 0.012106862850487232, 0.8515160083770752, 0.043655212968587875, 0.07275868952274323, 0.07275868952274323, 0.8003455996513367, 0.901465654373169, 0.07375627756118774, 0.008195142261683941, 0.04420897737145424, 0.10389108955860138, 0.07957615703344345, 0.5039823055267334, 0.055261220782995224, 0.05747166648507118, 0.019894039258360863, 0.07957615703344345, 0.030946282669901848, 0.024314936250448227, 0.9775220155715942, 0.004768399987369776, 0.004768399987369776, 0.009536799974739552, 0.00566989928483963, 0.2267959713935852, 0.00566989928483963, 0.0037799328565597534, 0.49895113706588745, 0.0037799328565597534, 0.14174748957157135, 0.09827825427055359, 0.01133979856967926, 0.0037799328565597534, 0.015134826302528381, 0.9686288833618164, 0.024074258282780647, 0.024074258282780647, 0.9388960599899292, 0.9786447882652283, 0.045597244054079056, 0.9119448661804199, 0.09787757694721222, 0.026693884283304214, 0.008897961117327213, 0.8631022572517395, 0.909049391746521, 0.8867530226707458, 0.9642870426177979, 0.09717779606580734, 0.016196299344301224, 0.8746001720428467, 0.007844939827919006, 0.05099210515618324, 0.027457287535071373, 0.031379759311676025, 0.10590668022632599, 0.7648816108703613, 0.003922469913959503, 0.003922469913959503, 0.9445459246635437, 0.17714326083660126, 0.7380968928337097, 0.05904775112867355, 0.014761937782168388, 0.03797826170921326, 0.05169263482093811, 0.054857492446899414, 0.07701148092746735, 0.4599589705467224, 0.052747588604688644, 0.06540700793266296, 0.040088165551424026, 0.14769324660301208, 0.013714373111724854, 0.10343620181083679, 0.06033778563141823, 0.03735196217894554, 0.045971646904945374, 0.5832652449607849, 0.022985823452472687, 0.04022518917918205, 0.02873227931559086, 0.048844873905181885, 0.025859050452709198, 0.038520608097314835, 0.9244945645332336, 0.01821558177471161, 0.28234151005744934, 0.6921920776367188, 0.009107790887355804, 0.949178159236908, 0.11164315789937973, 0.8652344942092896, 0.930245041847229, 0.9390977621078491, 0.03166979178786278, 0.08322526514530182, 0.1693965643644333, 0.13404422998428345, 0.008101575076580048, 0.0029460270889103413, 0.3240629732608795, 0.20032984018325806, 0.011784108355641365, 0.03461581841111183, 0.9095461368560791, 0.9029334187507629, 0.024956531822681427, 0.1921652853488922, 0.009358699433505535, 0.024956531822681427, 0.4311240613460541, 0.0012478264980018139, 0.09795438498258591, 0.10793699324131012, 0.0954587310552597, 0.01435000542551279, 0.8974568247795105, 0.09178535640239716, 0.010198373347520828, 0.0981048047542572, 0.06146325170993805, 0.4113309979438782, 0.005909928120672703, 0.33095598220825195, 0.0023639712017029524, 0.033095598220825195, 0.022457726299762726, 0.02127574011683464, 0.014183826744556427, 0.08463260531425476, 0.028210869058966637, 0.87453693151474, 0.9372002482414246, 0.02617032080888748, 0.02289903163909912, 0.17010708153247833, 0.04579806327819824, 0.20281998813152313, 0.009813870303332806, 0.5037786960601807, 0.003271290101110935, 0.01308516040444374, 0.003271290101110935, 0.9197261929512024, 0.8371463418006897, 0.0886390209197998, 0.009848779998719692, 0.009848779998719692, 0.03939511999487877, 0.03296371549367905, 0.15582847595214844, 0.05993402749300003, 0.002996701281517744, 0.08690433949232101, 0.6502841711044312, 0.00899010431021452, 0.0201348178088665, 0.05780641362071037, 0.040269635617733, 0.04351718723773956, 0.6943264603614807, 0.0058455923572182655, 0.08378682285547256, 0.041568655520677567, 0.0038970615714788437, 0.007794123142957687, 0.9553664326667786, 0.044848620891571045, 0.048925768584012985, 0.13862301409244537, 0.7624265551567078, 0.03424772620201111, 0.9520868062973022, 0.9513292908668518, 0.9004630446434021, 0.06670096516609192, 0.0067153326235711575, 0.49559155106544495, 0.013430665247142315, 0.0026861331425607204, 0.024175196886062622, 0.2363797128200531, 0.05372266098856926, 0.016116797924041748, 0.09267158806324005, 0.0577518604695797, 0.9672494530677795, 0.032817550003528595, 0.8094995617866516, 0.1531485617160797, 0.002012101234868169, 0.4692220091819763, 0.4949769079685211, 0.0012072607642039657, 0.0132798682898283, 0.003621782409027219, 0.002816941821947694, 0.0024145215284079313, 0.008450825698673725, 0.002012101234868169, 0.9354361891746521, 0.03952547162771225, 0.013175157830119133, 0.07099892944097519, 0.16594423353672028, 0.17980793118476868, 0.1071285605430603, 0.13317550718784332, 0.03528940677642822, 0.10208721458911896, 0.11006934195756912, 0.050833553075790405, 0.045372094959020615, 0.05977606773376465, 0.014944016933441162, 0.8219209313392639, 0.08966410160064697, 0.9304380416870117, 0.08161064237356186, 0.04080532118678093, 0.18362395465373993, 0.10201330482959747, 0.010201330296695232, 0.010201330296695232, 0.5712745189666748, 0.9029714465141296, 0.14571629464626312, 0.09058039635419846, 0.09451867640018463, 0.6537541747093201, 0.003938278183341026, 0.007876556366682053, 0.9255287051200867, 0.9648230075836182, 0.39365506172180176, 0.02019800990819931, 0.005358655471354723, 0.10057783871889114, 0.1030510663986206, 0.025968868285417557, 0.013602741062641144, 0.014427149668335915, 0.23578083515167236, 0.08697509765625, 0.5401294827461243, 0.10898755490779877, 0.022438613697886467, 0.02884964644908905, 0.0016027581878006458, 0.006411032751202583, 0.1426454782485962, 0.1458510011434555, 0.9820177555084229, 0.020627668127417564, 0.010313834063708782, 0.9488727450370789, 0.9637959599494934, 0.04234177991747856, 0.007056963164359331, 0.007056963164359331, 0.9385761022567749, 0.029897594824433327, 0.9567230343818665, 0.9775053858757019, 0.0044066025875508785, 0.991485595703125, 0.9820384383201599, 0.9577729105949402, 0.019718602299690247, 0.046434130519628525, 0.9086459279060364, 0.0009541259496472776, 0.012085595168173313, 0.0015902098966762424, 0.004452587570995092, 0.0009541259496472776, 0.002544335788115859, 0.002226293785497546, 0.006566542200744152, 0.97841477394104, 0.006566542200744152, 0.956736147403717, 0.034476976841688156, 0.9799462556838989, 0.9731999635696411, 0.9317114353179932, 0.922939121723175, 0.9467247128486633, 0.010880904272198677, 0.09430117160081863, 0.03264271467924118, 0.0018134841229766607, 0.013601130805909634, 0.0018134841229766607, 0.05168429762125015, 0.7788914442062378, 0.0009067420614883304, 0.014507872983813286, 0.9503263235092163, 0.04543576389551163, 0.4288733899593353, 0.13630729913711548, 0.004023831803351641, 0.2861950099468231, 0.002682554302737117, 0.020119158551096916, 0.053986407816410065, 0.0010059579508379102, 0.021460434421896935, 0.2702791690826416, 0.02429475635290146, 0.006073689088225365, 0.28242653608322144, 0.0030368445441126823, 0.009110533632338047, 0.009110533632338047, 0.39478981494903564, 0.9431307911872864, 0.014208920300006866, 0.009472613222897053, 0.004736306611448526, 0.014208920300006866, 0.8998982310295105, 0.056835681200027466, 0.038904618471860886, 0.06484103202819824, 0.07262194901704788, 0.012968205846846104, 0.03631097450852394, 0.06743466854095459, 0.7028767466545105, 0.0025936411693692207, 0.0025936411693692207, 0.003973107784986496, 0.07151593267917633, 0.04370418190956116, 0.879050076007843, 0.000993276946246624, 0.03849580138921738, 0.9623950123786926, 0.018032383173704147, 0.9737486839294434, 0.046084046363830566, 0.9332019090652466, 0.17495664954185486, 0.08057214319705963, 0.016574840992689133, 0.0248622614890337, 0.34669041633605957, 0.017956078052520752, 0.16068387031555176, 0.04650163650512695, 0.04005586728453636, 0.09070121496915817, 0.030986983329057693, 0.5520273447036743, 0.2387145310640335, 0.005738330073654652, 0.087222620844841, 0.016067324206233025, 0.004590664058923721, 0.057383302599191666, 0.004590664058923721, 0.004590664058923721, 0.0031393475364893675, 0.08476237952709198, 0.09731977432966232, 0.01255739014595747, 0.01255739014595747, 0.6843777298927307, 0.08790172636508942, 0.01255739014595747, 0.9317129254341125, 0.03130554407835007, 0.07200275361537933, 0.8076831102371216, 0.021913882344961166, 0.040697209537029266, 0.003130554687231779, 0.021913882344961166, 0.9629215002059937, 0.017507662996649742, 0.9615684151649475, 0.013615209609270096, 0.17699772119522095, 0.8032973408699036, 0.9183333516120911, 0.031620461493730545, 0.9064532518386841, 0.010540153831243515, 0.02108030766248703, 0.02108030766248703, 0.025002148002386093, 0.9000773429870605, 0.050004296004772186, 0.8997520208358765, 0.9315144419670105, 0.07534582167863846, 0.1109638512134552, 0.012329316698014736, 0.06233154609799385, 0.09931949526071548, 0.24727129936218262, 0.050687190145254135, 0.022603746503591537, 0.24384647607803345, 0.07671574503183365, 0.7980697751045227, 0.12815719842910767, 0.05242794379591942, 0.011650653555989265, 0.026151899248361588, 0.372487872838974, 0.17104756832122803, 0.008481697179377079, 0.1314663141965866, 0.021911051124334335, 0.07774889469146729, 0.1116756796836853, 0.019083818420767784, 0.05937188118696213, 0.07193010300397873, 0.9207053184509277, 0.8868128061294556, 0.11283084750175476, 0.8462313413619995, 0.9521849155426025, 0.01252874918282032, 0.02505749836564064, 0.015473650768399239, 0.011605237610638142, 0.7543404698371887, 0.05028936266899109, 0.023210475221276283, 0.007736825384199619, 0.01934206299483776, 0.0038684126920998096, 0.0038684126920998096, 0.11605237424373627, 0.025333089753985405, 0.15199853479862213, 0.1551651805639267, 0.015833180397748947, 0.07599926739931107, 0.05699945241212845, 0.5161616802215576, 0.035658545792102814, 0.08558051288127899, 0.8772002458572388, 0.20173218846321106, 0.09648061543703079, 0.0058473097160458565, 0.6958298683166504, 0.0016138104256242514, 0.6697313189506531, 0.12749101221561432, 0.0064552417024970055, 0.10328386723995209, 0.07100765407085419, 0.019365724176168442, 0.0016138104256242514, 0.9672356247901917, 0.02249385230243206, 0.013973635621368885, 0.7406026721000671, 0.22357816994190216, 0.013973635621368885, 0.11031916737556458, 0.6954047679901123, 0.14380891621112823, 0.0019699851982295513, 0.0177298653870821, 0.029549777507781982, 0.1690666675567627, 0.5901963710784912, 0.2059539407491684, 0.0030739393550902605, 0.030739393085241318, 0.0183317419141531, 0.5646176338195801, 0.06782744824886322, 0.023831265047192574, 0.003666348522529006, 0.12648901343345642, 0.17965106666088104, 0.003666348522529006, 0.010999045334756374, 0.001833174261264503, 0.07381319999694824, 0.9103627800941467, 0.010185088030993938, 0.39453816413879395, 0.18654793500900269, 0.0005360572831705213, 0.26481229066848755, 0.002144229132682085, 0.018762005493044853, 0.0627187043428421, 0.0005360572831705213, 0.06003841385245323, 0.24952241778373718, 0.3157028555870056, 0.0028498752508312464, 0.10481207817792892, 0.000316652818582952, 0.000316652818582952, 0.23337312042713165, 0.09309592843055725, 0.8339986205101013, 0.13428790867328644, 0.007067784667015076, 0.007067784667015076, 0.014135569334030151, 0.9653084874153137, 0.012701427564024925, 0.9360427260398865, 0.03900178149342537, 0.9308275580406189, 0.9385078549385071, 0.0167909674346447, 0.08075655251741409, 0.0023987095337361097, 0.0023987095337361097, 0.5980782508850098, 0.0007995698251761496, 0.24067051708698273, 0.02078881673514843, 0.012793117202818394, 0.02478666417300701, 0.9529871344566345, 0.027228204533457756, 0.9554903507232666, 0.02985907346010208, 0.02985907346010208, 0.521697998046875, 0.028679732233285904, 0.0006828507757745683, 0.4459015429019928, 0.0006828507757745683, 0.0013657015515491366, 0.9302230477333069, 0.9781752228736877, 0.6019425988197327, 0.03783639520406723, 0.1501990109682083, 0.07681934535503387, 0.02981049194931984, 0.00458622956648469, 0.07567279040813446, 0.0034396720584481955, 0.01146557368338108, 0.006879344116896391, 0.9412709474563599, 0.0432768240571022, 0.010651746764779091, 0.010651746764779091, 0.9426795840263367, 0.01597761921584606, 0.01597761921584606, 0.08425761014223099, 0.21177247166633606, 0.03347735106945038, 0.04664260521531105, 0.09629441052675247, 0.13691860437393188, 0.06808315217494965, 0.019935952499508858, 0.2166624218225479, 0.08576221019029617, 0.9632330536842346, 0.1016838401556015, 0.0338946133852005, 0.067789226770401, 0.022596409544348717, 0.6891905069351196, 0.045192819088697433, 0.022596409544348717, 0.022596409544348717, 0.033318474888801575, 0.9329172968864441, 0.03580518811941147, 0.9488375186920166, 0.12079198658466339, 0.1296999454498291, 0.14715956151485443, 0.08729804307222366, 0.008195326663553715, 0.3281693756580353, 0.033137623220682144, 0.011402193456888199, 0.07874640077352524, 0.05558569356799126, 0.9678980112075806, 0.005371658597141504, 0.33940401673316956, 0.2075156569480896, 0.0035339859314262867, 0.16652141511440277, 0.0031099077314138412, 0.06417718529701233, 0.14871013164520264, 0.014418662525713444, 0.047496773302555084, 0.9376063346862793, 0.040292784571647644, 0.0697375163435936, 0.1425744742155075, 0.060439180582761765, 0.08678445965051651, 0.0015497225103899837, 0.36418479681015015, 0.01549722533673048, 0.19681476056575775, 0.021696114912629128, 0.02334345132112503, 0.03355621173977852, 0.06711242347955704, 0.49167144298553467, 0.04085104167461395, 0.13860175013542175, 0.035015176981687546, 0.002917931415140629, 0.15465037524700165, 0.013130691833794117, 0.0993259847164154, 0.21882756054401398, 0.07345984131097794, 0.06207874044775963, 0.0936354324221611, 0.05018031597137451, 0.18364959955215454, 0.08897952735424042, 0.021210236474871635, 0.10812047123908997, 0.09460130333900452, 0.1471996307373047, 0.15741656720638275, 0.0620584562420845, 0.05184151604771614, 0.03027241677045822, 0.04313819482922554, 0.37083712220191956, 0.0056760781444609165, 0.037083711475133896, 0.026875678449869156, 0.9675244092941284, 0.013437839224934578, 0.031385231763124466, 0.05952371656894684, 0.03787872940301895, 0.005411246791481972, 0.05194796994328499, 0.00432899734005332, 0.13744567334651947, 0.6580076217651367, 0.0032467481214553118, 0.010822493582963943, 0.2401232123374939, 0.17037487030029297, 0.06248289346694946, 0.059213440865278244, 0.1271454244852066, 0.12605561316013336, 0.032694537192583084, 0.05630725994706154, 0.05957671254873276, 0.06575234979391098, 0.05270831659436226, 0.06525791436433792, 0.14222878217697144, 0.17318446934223175, 0.16732798516750336, 0.07613423466682434, 0.22254621982574463, 0.05187167599797249, 0.010039678774774075, 0.038485437631607056, 0.9481701850891113, 0.1515597105026245, 0.0942627489566803, 0.06099354103207588, 0.08317301422357559, 0.07577985525131226, 0.02587604708969593, 0.07208327949047089, 0.3752026855945587, 0.01663460209965706, 0.04620722681283951, 0.9716200232505798, 0.8924338221549988, 0.35589316487312317, 0.003341719973832369, 0.00501257972791791, 0.26065415143966675, 0.005848010070621967, 0.28070446848869324, 0.002506289863958955, 0.00501257972791791, 0.005848010070621967, 0.07518869638442993, 0.9254915118217468, 0.9351582527160645, 0.0065527851693332195, 0.49801167845726013, 0.24638472497463226, 0.0026211142539978027, 0.11008679121732712, 0.0013105571269989014, 0.04718005284667015, 0.051111724227666855, 0.011795013211667538, 0.026211140677332878, 0.1681920439004898, 0.04351480305194855, 0.126632958650589, 0.29286929965019226, 0.15841343998908997, 0.12174366414546967, 0.025424379855394363, 0.01466791145503521, 0.012223259545862675, 0.03715870901942253, 0.0195132028311491, 0.05203520506620407, 0.013008801266551018, 0.16911442577838898, 0.6634488701820374, 0.006504400633275509, 0.0780528113245964, 0.9648858904838562, 0.8867769241333008, 0.9612711071968079, 0.10897686332464218, 0.8817218542098999, 0.9654729962348938, 0.006640764884650707, 0.9875766038894653, 0.0018973613623529673, 0.0028460421599447727, 0.0009486806811764836, 0.9793259501457214, 0.973548948764801, 0.9654766321182251, 0.9173742532730103, 0.03163359686732292, 0.05743715167045593, 0.8902758955955505, 0.9695894718170166, 0.044571444392204285, 0.9391840100288391, 0.003183674765750766, 0.012734699063003063, 0.010712332092225552, 0.19100633263587952, 0.08134109526872635, 0.0025419092271476984, 0.3551410436630249, 0.0027234742883592844, 0.05682982876896858, 0.2619982361793518, 0.0007262597791850567, 0.036857686936855316, 0.051510486751794815, 0.025755243375897408, 0.9271887540817261, 0.9418083429336548, 0.92087721824646, 0.919703483581543, 0.9588536024093628, 0.1034586951136589, 0.038797009736299515, 0.016165420413017273, 0.5431581139564514, 0.0064661684446036816, 0.0064661684446036816, 0.022631589323282242, 0.25541365146636963, 0.009699252434074879, 0.938476026058197, 0.055067937821149826, 0.23069000244140625, 0.2187834233045578, 0.03571974113583565, 0.040184710174798965, 0.014883225783705711, 0.0059532904997467995, 0.33040761947631836, 0.004464967641979456, 0.06399787217378616, 0.012226157821714878, 0.18339236080646515, 0.7947002053260803, 0.9331124424934387, 0.034559719264507294, 0.003724724519997835, 0.011174174025654793, 0.01862362213432789, 0.33150050044059753, 0.5549839735031128, 0.011174174025654793, 0.01489889807999134, 0.04469669610261917, 0.01489889807999134, 0.01824408769607544, 0.9632877707481384, 0.0072976346127688885, 0.0072976346127688885, 0.01028266828507185, 0.9871361255645752, 0.8626918792724609, 0.030433090403676033, 0.030433090403676033, 0.9129927158355713, 0.04358373582363129, 0.06409372389316559, 0.04871123284101486, 0.012818745337426662, 0.5127497911453247, 0.02435561642050743, 0.21150930225849152, 0.035892486572265625, 0.019228117540478706, 0.028201239183545113, 0.033109404146671295, 0.9071976542472839, 0.033109404146671295, 0.019865643233060837, 0.9444506168365479, 0.9403104782104492, 0.10025840252637863, 0.1256760209798813, 0.07766495645046234, 0.05695430189371109, 0.2047530710697174, 0.06448545306921005, 0.24099671840667725, 0.07295799255371094, 0.03953852504491806, 0.016003688797354698, 0.9423273801803589, 0.024437272921204567, 0.05352926626801491, 0.03840142861008644, 0.14429627358913422, 0.1012401282787323, 0.026764633134007454, 0.45150771737098694, 0.10007645189762115, 0.023273592814803123, 0.037237748503685, 0.974564254283905, 0.012936490587890148, 0.7567847371101379, 0.1735645830631256, 0.04312163591384888, 0.011858450248837471, 0.9669976234436035, 0.031277846544981, 0.9383353590965271, 0.028411371633410454, 0.44524121284484863, 0.13544051349163055, 0.018292251974344254, 0.15995991230010986, 0.008562331087887287, 0.03502771630883217, 0.14594882726669312, 0.012843496166169643, 0.010119118727743626, 0.11162275820970535, 0.8706575632095337, 0.008336418308317661, 0.9503517150878906, 0.008336418308317661, 0.02500925585627556, 0.2305002361536026, 0.7376007437705994, 0.08268846571445465, 0.02756282314658165, 0.17456454038619995, 0.01837521605193615, 0.6798829436302185, 0.01837521605193615, 0.00732227461412549, 0.7834833860397339, 0.02928909845650196, 0.17573459446430206, 0.008296954445540905, 0.3318781852722168, 0.002765651559457183, 0.06084433197975159, 0.008296954445540905, 0.5780211687088013, 0.011062606237828732, 0.040807079523801804, 0.023804130032658577, 0.061210621148347855, 0.023804130032658577, 0.023804130032658577, 0.5202902555465698, 0.2856495678424835, 0.0034005900379270315, 0.013602360151708126, 0.9667074084281921, 0.9611892700195312, 0.9866494536399841, 0.09135924279689789, 0.07308739423751831, 0.027407772839069366, 0.045679621398448944, 0.009135924279689789, 0.7582817077636719, 0.9730453491210938, 0.9365619421005249, 0.502605676651001, 0.01947365328669548, 0.07233071327209473, 0.13075166940689087, 0.12518776953220367, 0.04729315638542175, 0.05842095613479614, 0.006491217762231827, 0.006491217762231827, 0.0315287709236145, 0.01927558146417141, 0.01927558146417141, 0.8481255769729614, 0.01927558146417141, 0.05782674625515938, 0.043763767927885056, 0.006251966580748558, 0.9461309909820557, 0.9326112270355225, 0.012237225659191608, 0.0017481751274317503, 0.0017481751274317503, 0.47375544905662537, 0.09090510755777359, 0.0017481751274317503, 0.4038284420967102, 0.010489050298929214, 0.9505454301834106, 0.027085822075605392, 0.9480037689208984, 0.12680786848068237, 0.18722808361053467, 0.057436503469944, 0.23795123398303986, 0.014172643423080444, 0.27226394414901733, 0.017156358808279037, 0.018648216500878334, 0.05818243324756622, 0.009697072207927704, 0.15516185760498047, 0.05741865560412407, 0.08152572065591812, 0.27745044231414795, 0.11089251190423965, 0.1459573358297348, 0.03374989703297615, 0.05698034539818764, 0.04777582734823227, 0.03331158682703972, 0.27309367060661316, 0.050256818532943726, 0.023231925442814827, 0.10478072613477707, 0.03650731220841408, 0.2470170110464096, 0.02560253068804741, 0.03081786073744297, 0.14839985966682434, 0.059739239513874054, 0.5730512142181396, 0.1884307563304901, 0.0003694720799103379, 0.0786975547671318, 0.0003694720799103379, 0.03029671125113964, 0.12857627868652344, 0.9587500095367432, 0.004357954487204552, 0.030505681410431862, 0.004357954487204552, 0.9447355270385742, 0.028201060369610786, 0.9671026468276978, 0.08697561919689178, 0.021156232804059982, 0.10813185572624207, 0.07287146896123886, 0.08462493121623993, 0.007052077446132898, 0.08462493121623993, 0.5218537449836731, 0.016454847529530525, 0.8627011179924011, 0.19950458407402039, 0.13926635682582855, 0.036474522203207016, 0.11108150333166122, 0.07460697740316391, 0.1000286191701889, 0.021553127095103264, 0.2575322389602661, 0.02044783905148506, 0.039237745106220245, 0.08576181530952454, 0.11832959204912186, 0.03799574077129364, 0.07816266268491745, 0.3463040292263031, 0.07924825698137283, 0.08684740960597992, 0.04016692563891411, 0.08033385127782822, 0.049937259405851364, 0.9592276811599731, 0.01458005327731371, 0.1955052614212036, 0.023858269676566124, 0.0026509189046919346, 0.5308464765548706, 0.004639108199626207, 0.15772967040538788, 0.031811024993658066, 0.003976378124207258, 0.03446194529533386, 0.9366841912269592, 0.004929521586745977, 0.7862586379051208, 0.19471609592437744, 0.0024647607933729887, 0.004929521586745977, 0.004929521586745977, 0.8898417353630066, 0.08773087710142136, 0.98489910364151, 0.022634336724877357, 0.011317168362438679, 0.9506421089172363, 0.05589684844017029, 0.043475326150655746, 0.006210761144757271, 0.012421522289514542, 0.875717282295227, 0.006696792785078287, 0.9911253452301025, 0.002565936651080847, 0.6876710653305054, 0.1308627724647522, 0.03592311590909958, 0.0641484186053276, 0.06671435385942459, 0.007697810418903828, 0.002565936651080847, 0.041017357259988785, 0.4603058695793152, 0.1602715253829956, 0.08507303148508072, 0.0516514852643013, 0.08659219741821289, 0.07823681086301804, 0.029623646289110184, 0.002278741914778948, 0.004557483829557896, 0.2735762298107147, 0.03156648576259613, 0.5408391356468201, 0.00736551359295845, 0.0063132974319159985, 0.03893199935555458, 0.00736551359295845, 0.010522162541747093, 0.00736551359295845, 0.07575956732034683, 0.11465251445770264, 0.1458299458026886, 0.07341783493757248, 0.0854865238070488, 0.06738349795341492, 0.0301717147231102, 0.09152086824178696, 0.30071142315864563, 0.02413737028837204, 0.06637777388095856, 0.9306723475456238, 0.9837738871574402, 0.9571821093559265, 0.9748004674911499, 0.9108134508132935, 0.025760695338249207, 0.008586898446083069, 0.12021657824516296, 0.1631510704755783, 0.6697781085968018, 0.06463636457920074, 0.09529720991849899, 0.15081819891929626, 0.0613216832280159, 0.1309300810098648, 0.017402099445462227, 0.3090944290161133, 0.1309300810098648, 0.016573427245020866, 0.023202799260616302, 0.964532732963562, 0.8100385665893555, 0.003665332915261388, 0.010995998978614807, 0.08430265635251999, 0.09163332730531693, 0.9110130071640015, 0.05693831294775009, 0.014234578236937523, 0.03177562728524208, 0.5125101208686829, 0.3157062232494354, 0.007175141479820013, 0.028700565919280052, 0.011275222525000572, 0.006150121334940195, 0.07585149258375168, 0.0030750606674700975, 0.008200162090361118, 0.24602462351322174, 0.23632334172725677, 0.3096650540828705, 0.052386946976184845, 0.04579007253050804, 0.03919319808483124, 0.0011641543824225664, 0.010477389208972454, 0.004268566146492958, 0.05471525713801384, 0.9093871116638184, 0.07669530063867569, 0.8428598642349243, 0.1541721373796463, 0.0007825996726751328, 0.0007825996726751328, 0.8717523217201233, 0.10705730319023132, 0.010818506591022015, 0.16227760910987854, 0.8005695343017578, 0.02163701318204403, 0.04644596576690674, 0.06502435356378555, 0.027867579832673073, 0.018578385934233665, 0.009289192967116833, 0.7524246573448181, 0.018578385934233665, 0.055735159665346146, 0.009289192967116833, 0.006420126184821129, 0.06420126557350159, 0.9180780649185181, 0.9438333511352539, 0.05480114743113518, 0.03749552369117737, 0.700877845287323, 0.0028842708561569452, 0.13844500482082367, 0.046148333698511124, 0.0028842708561569452, 0.014421354979276657, 0.049673788249492645, 0.2631653845310211, 0.3207658529281616, 0.0036991119850426912, 0.0073982239700853825, 0.15853336453437805, 0.0031706674490123987, 0.04386089742183685, 0.14743603765964508, 0.0021137783769518137, 0.03076324053108692, 0.04413856193423271, 0.2862318754196167, 0.0013375321868807077, 0.006687660701572895, 0.02675064280629158, 0.5644385814666748, 0.010700257495045662, 0.028088174760341644, 0.023628870025277138, 0.9569692611694336, 0.011814435012638569, 0.9695363640785217, 0.9391685128211975, 0.008144943043589592, 0.03257977217435837, 0.008144943043589592, 0.008144943043589592, 0.9285235404968262, 0.043445367366075516, 0.0028963577933609486, 0.9442126750946045, 0.0028963577933609486, 0.9730578064918518, 0.010915801860392094, 0.010915801860392094, 0.006237601395696402, 0.0015594003489241004, 0.9683876037597656, 0.0015594003489241004, 0.9696075916290283, 0.9534189701080322, 0.9743251800537109, 0.9552310705184937, 0.9692061543464661, 0.004976717289537191, 0.09455762803554535, 0.03234866261482239, 0.11446449905633926, 0.04976717382669449, 0.15178987383842468, 0.3906722962856293, 0.10699941962957382, 0.05474388971924782, 0.8872658610343933, 0.12027167528867722, 0.8762650489807129, 0.04158111661672592, 0.9355751276016235, 0.9841362833976746, 0.1731453537940979, 0.7915216088294983, 0.12003839761018753, 0.3084760308265686, 0.07292898744344711, 0.15763533115386963, 0.05299808457493782, 0.09331286698579788, 0.033520154654979706, 0.03895585611462593, 0.04982725903391838, 0.07292898744344711, 0.06611675769090652, 0.43013036251068115, 0.11811870336532593, 0.00965750403702259, 0.144862562417984, 0.01857212372124195, 0.008914618752896786, 0.1567487120628357, 0.024515202268958092, 0.02154366299510002, 0.9580226540565491, 0.06479694694280624, 0.0728965699672699, 0.00809961836785078, 0.12554408609867096, 0.6844177842140198, 0.01619923673570156, 0.024298856034874916, 0.9626542329788208, 0.9667805433273315, 0.9515334963798523, 0.964956521987915, 0.1508679986000061, 0.157252699136734, 0.06644812971353531, 0.15417858958244324, 0.12698450684547424, 0.11208688467741013, 0.039726998656988144, 0.06526578217744827, 0.05320579931139946, 0.07354223728179932, 0.31111037731170654, 0.00426178565248847, 0.6605768203735352, 0.00852357130497694, 0.01704714260995388, 0.8070071935653687, 0.008097061887383461, 0.10796082764863968, 0.072873555123806, 0.009257270954549313, 0.7868680357933044, 0.04628635570406914, 0.09257271140813828, 0.009257270954549313, 0.04628635570406914, 0.009257270954549313, 0.5257354974746704, 0.003129378193989396, 0.003129378193989396, 0.05007005110383034, 0.4193366765975952, 0.9324445128440857, 0.8890558481216431, 0.08890558034181595, 0.008890558034181595, 0.008890558034181595, 0.019572928547859192, 0.039145857095718384, 0.9395005106925964, 0.207671657204628, 0.00054578622803092, 0.00027289311401546, 0.14872674643993378, 0.00163735868409276, 0.33511272072792053, 0.00109157245606184, 0.00163735868409276, 0.00491207605227828, 0.29854506254196167, 0.057207003235816956, 0.8867085576057434, 0.057207003235816956, 0.9549109935760498, 0.02512923628091812, 0.01938406005501747, 0.6719807386398315, 0.05169082432985306, 0.02584541216492653, 0.01938406005501747, 0.029076090082526207, 0.090458944439888, 0.012922706082463264, 0.06138285622000694, 0.016153382137417793, 0.9652274250984192, 0.030678050592541695, 0.1687292754650116, 0.6519085764884949, 0.15339024364948273, 0.9598299264907837, 0.8139343857765198, 0.14363548159599304, 0.03590887039899826, 0.02476463094353676, 0.12629961967468262, 0.6711214780807495, 0.04952926188707352, 0.07429389655590057, 0.022288167849183083, 0.01238231547176838, 0.004952926188707352, 0.014858778566122055, 0.1333848237991333, 0.033843912184238434, 0.03483932092785835, 0.3628266453742981, 0.13985498249530792, 0.10849960148334503, 0.027373751625418663, 0.03882095590233803, 0.080130435526371, 0.041309479624032974, 0.06022316589951515, 0.9234219193458557, 0.968727171421051, 0.2549035847187042, 0.12120416015386581, 0.0907989889383316, 0.1990913599729538, 0.07247258722782135, 0.07872022688388824, 0.015827346593141556, 0.029572147876024246, 0.06039382517337799, 0.07705418765544891, 0.22663983702659607, 0.046528708189725876, 0.028017286211252213, 0.15059292316436768, 0.1408368945121765, 0.2516552805900574, 0.028767749667167664, 0.020012347027659416, 0.042276084423065186, 0.06428966671228409, 0.14047002792358398, 0.151056170463562, 0.0671813115477562, 0.1091187447309494, 0.1217406839132309, 0.14779889583587646, 0.10016123205423355, 0.07043859362602234, 0.05333789438009262, 0.03827299177646637, 0.10785333067178726, 0.07223664969205856, 0.1329355090856552, 0.2749005854129791, 0.06069885194301605, 0.09982703626155853, 0.010032868012785912, 0.05016434192657471, 0.14296837151050568, 0.04865941032767296, 0.31026187539100647, 0.04246773570775986, 0.06823699176311493, 0.1575016975402832, 0.08988317102193832, 0.09895394742488861, 0.025356950238347054, 0.037932347506284714, 0.0839047059416771, 0.08534777909517288, 0.948265790939331, 0.011156068183481693, 0.033468205481767654, 0.9275908470153809, 0.057713836431503296, 0.4916524589061737, 0.0672604888677597, 0.01366906613111496, 0.12454038113355637, 0.05858171358704567, 0.04469567909836769, 0.03623387590050697, 0.06899624317884445, 0.03688478097319603, 0.9616938233375549, 0.023595744743943214, 0.09438297897577286, 0.09438297897577286, 0.023595744743943214, 0.7550638318061829, 0.06963761150836945, 0.09773699939250946, 0.012217124924063683, 0.08429816365242004, 0.4013325572013855, 0.013438837602734566, 0.015882262960076332, 0.12889066338539124, 0.102623850107193, 0.07452446222305298, 0.9574790596961975, 0.9250498414039612, 0.020951084792613983, 0.1273181289434433, 0.008058109320700169, 0.005640676710754633, 0.43030306696891785, 0.0016116219339892268, 0.19097720086574554, 0.16922029852867126, 0.009669731371104717, 0.03626149520277977, 0.9824804663658142, 0.7602565288543701, 0.002951306290924549, 0.008263657800853252, 0.0035415675956755877, 0.010624703019857407, 0.038366980850696564, 0.010034441947937012, 0.021839667111635208, 0.14343348145484924, 0.9620879292488098, 0.1468914896249771, 0.26872092485427856, 0.31954121589660645, 0.018796540796756744, 0.0835401862859726, 0.025758223608136177, 0.0027846728917211294, 0.07936317473649979, 0.02923906408250332, 0.02506205625832081, 0.0007145724957808852, 0.2908309996128082, 0.6431152820587158, 0.013576877303421497, 0.0007145724957808852, 0.002858289983123541, 0.045732639729976654, 0.0014291449915617704, 0.0007145724957808852, 0.9561723470687866, 0.0559639073908329, 0.17588657140731812, 0.011992266401648521, 0.08494521677494049, 0.43372029066085815, 0.0029980666004121304, 0.21785950660705566, 0.008994199335575104, 0.0049967775121331215, 0.0029980666004121304, 0.9566482305526733, 0.04251769930124283, 0.9108059406280518, 0.9228968620300293, 0.9037636518478394, 0.09706559777259827, 0.8735904097557068, 0.029761945828795433, 0.9523822665214539, 0.07040147483348846, 0.9152191877365112, 0.06565731763839722, 0.8535451292991638, 0.912000298500061, 0.892558217048645, 0.043637000024318695, 0.9163770079612732, 0.04245053976774216, 0.9445245265960693, 0.9727053046226501, 0.9692116379737854, 0.14738565683364868, 0.8474675416946411, 0.7312350273132324, 0.24818682670593262, 0.0066627333872020245, 0.0016656833468005061, 0.009994100779294968, 0.0016656833468005061, 0.22772105038166046, 0.06538525223731995, 0.1995377540588379, 0.08116789907217026, 0.022546639665961266, 0.00676399189978838, 0.020291974768042564, 0.014655315317213535, 0.020291974768042564, 0.34045425057411194, 0.08368074148893356, 0.8925945162773132, 0.028576558455824852, 0.9430264234542847, 0.96653151512146, 0.018951598554849625, 0.022580059245228767, 0.018064046278595924, 0.004516011569648981, 0.14752304553985596, 0.46665453910827637, 0.0075266859494149685, 0.04064410552382469, 0.057202816009521484, 0.2092418670654297, 0.02709607034921646, 0.9250923991203308, 0.06287035346031189, 0.9263760447502136, 0.3752368092536926, 0.03303971886634827, 0.15103872120380402, 0.08023931831121445, 0.011799899861216545, 0.011799899861216545, 0.0023599800188094378, 0.03303971886634827, 0.00707993982359767, 0.2973574697971344, 0.16186411678791046, 0.10043958574533463, 0.10140689462423325, 0.14977267384529114, 0.2842295169830322, 0.05304112657904625, 0.03466213494539261, 0.030309215188026428, 0.007416084874421358, 0.07690157741308212, 0.9271129965782166, 0.06783753633499146, 0.276872843503952, 0.10443449020385742, 0.1542230248451233, 0.14450818300247192, 0.07286126911640167, 0.06517036259174347, 0.023477520793676376, 0.04088326916098595, 0.04978853464126587, 0.06800385564565659, 0.0034258144441992044, 0.1918456107378006, 0.017129071056842804, 0.008564535528421402, 0.488178551197052, 0.010277442634105682, 0.20554886758327484, 0.05652593821287155, 0.010277442634105682, 0.0034258144441992044, 0.04189065471291542, 0.1851845234632492, 0.20342473685741425, 0.002473249100148678, 0.16802635788917542, 0.0030915613751858473, 0.02658742666244507, 0.3134843111038208, 0.007110591046512127, 0.04884666949510574, 0.9735325574874878, 0.027095608413219452, 0.027095608413219452, 0.9212507009506226, 0.08910998702049255, 0.07128798961639404, 0.06237698718905449, 0.01782199740409851, 0.7128798961639404, 0.01782199740409851, 0.026732994243502617, 0.9442058205604553, 0.009442058391869068, 0.018884116783738136, 0.023605145514011383, 0.34693631529808044, 0.016647616401314735, 0.037956561893224716, 0.11986283212900162, 0.049276940524578094, 0.26303231716156006, 0.041951991617679596, 0.08257217705249786, 0.009988569654524326, 0.03262932598590851, 0.9323928952217102, 0.9748468399047852, 0.09073618799448013, 0.003945051692426205, 0.003945051692426205, 0.6075379848480225, 0.0029587887693196535, 0.12821418046951294, 0.020711520686745644, 0.0019725258462131023, 0.09270871430635452, 0.047340620309114456, 0.04062317684292793, 0.9053164720535278, 0.04062317684292793, 0.00580331077799201, 0.13031339645385742, 0.8191127777099609, 0.037232398986816406, 0.9835094809532166, 0.09996193647384644, 0.014280276373028755, 0.12138234823942184, 0.042840827256441116, 0.7140138149261475, 0.9818045496940613, 0.40767771005630493, 0.14233575761318207, 0.4445795714855194, 0.0035144630819559097, 0.11120433360338211, 0.2904929518699646, 0.11574328690767288, 0.45389524102211, 0.024964237585663795, 0.9509879946708679, 0.016412558034062386, 0.21951797604560852, 0.1169394850730896, 0.030773548409342766, 0.008206279017031193, 0.006154709495604038, 0.17438343167304993, 0.4226233959197998, 0.008206279017031193, 0.10301808267831802, 0.22617502510547638, 0.15259069204330444, 0.06971148401498795, 0.02168801613152027, 0.20061415433883667, 0.006971148308366537, 0.020913444459438324, 0.04415060579776764, 0.15491440892219543, 0.0089649623259902, 0.9054611921310425, 0.0179299246519804, 0.0179299246519804, 0.0089649623259902, 0.026894887909293175, 0.05483661964535713, 0.036557748913764954, 0.8956648111343384, 0.9410653114318848, 0.024764876812696457, 0.9615248441696167, 0.9403738379478455, 0.9515103697776794, 0.03171701356768608, 0.15303027629852295, 0.7651513814926147, 0.006955921649932861, 0.006955921649932861, 0.006955921649932861, 0.03477960824966431, 0.020867764949798584, 0.014466640539467335, 0.810131847858429, 0.15913304686546326, 0.965497612953186, 0.10394497960805893, 0.8662081360816956, 0.9348771572113037, 0.014528409577906132, 0.9443466067314148, 0.014528409577906132, 0.029056819155812263, 0.9318276643753052, 0.04111004248261452, 0.02740669623017311, 0.9594936370849609, 0.020154781639575958, 0.19605106115341187, 0.04855470359325409, 0.04489019513130188, 0.025651540607213974, 0.015574149787425995, 0.42050203680992126, 0.2107090801000595, 0.0027483792509883642, 0.013741896487772465, 0.9549554586410522, 0.9510574340820312, 0.1355147510766983, 0.07391713559627533, 0.07711108773946762, 0.1560472846031189, 0.25460347533226013, 0.1323208063840866, 0.0661604031920433, 0.02737671695649624, 0.040152519941329956, 0.03741484880447388, 0.09396889805793762, 0.11746112257242203, 0.751751184463501, 0.08606299012899399, 0.8893175721168518, 0.09026064723730087, 0.09846615791320801, 0.7173963189125061, 0.011722161434590816, 0.0011722161434590816, 0.022272108122706413, 0.023444322869181633, 0.010549945756793022, 0.024616539478302002, 0.9373684525489807, 0.03471735119819641, 0.9451509118080139, 0.02864093706011772, 0.03855997696518898, 0.9254394173622131, 0.01585277169942856, 0.00792638584971428, 0.24571797251701355, 0.06341108679771423, 0.6658164262771606, 0.01925724931061268, 0.03851449862122536, 0.9243479371070862, 0.14677229523658752, 0.11536423861980438, 0.05617211386561394, 0.05677611753344536, 0.0030200062319636345, 0.3913927972316742, 0.022952048107981682, 0.01570403203368187, 0.13106827437877655, 0.06100412458181381, 0.017153268679976463, 0.06861307471990585, 0.06861307471990585, 0.8319334983825684, 0.2608632445335388, 0.07160951942205429, 0.11679171025753021, 0.15558020770549774, 0.10229931026697159, 0.06351082026958466, 0.039214733988046646, 0.049444667994976044, 0.02770606242120266, 0.11252924054861069, 0.04118717834353447, 0.19994501769542694, 0.20593588054180145, 0.015726013109087944, 0.04231046512722969, 0.0913606509566307, 0.18384458124637604, 0.019095873460173607, 0.06028304994106293, 0.14041082561016083, 0.00323850242421031, 0.029146522283554077, 0.9650737047195435, 0.16134637594223022, 0.8213997483253479, 0.03807904198765755, 0.028559280559420586, 0.9329364895820618, 0.9483163952827454, 0.9631561636924744, 0.05828643962740898, 0.10491558909416199, 0.8276674151420593, 0.809951901435852, 0.007264142856001854, 0.1743394285440445, 0.007264142856001854, 0.0496516227722168, 0.10654410719871521, 0.34032049775123596, 0.14067959785461426, 0.017584949731826782, 0.03930753469467163, 0.028963446617126465, 0.25343015789985657, 0.016550540924072266, 0.0062064528465271, 0.8902720212936401, 0.09130994975566864, 0.07970619201660156, 0.16260063648223877, 0.14267408847808838, 0.01514417678117752, 0.332773357629776, 0.020723609253764153, 0.15104323625564575, 0.018730955198407173, 0.005579433403909206, 0.07093851268291473, 0.07840681821107864, 0.047044090926647186, 0.06272545456886292, 0.799749493598938, 0.006058673840016127, 0.15752550959587097, 0.018176021054387093, 0.6603954434394836, 0.006058673840016127, 0.12117347121238708, 0.024234695360064507, 0.13527962565422058, 0.038651324808597565, 0.8116778135299683, 0.45115017890930176, 0.025287603959441185, 0.008536579087376595, 0.06555448472499847, 0.13545779883861542, 0.10066720843315125, 0.008375512436032295, 0.015784619376063347, 0.04493784159421921, 0.14431650936603546, 0.9692589640617371, 0.01922786422073841, 0.9613931775093079, 0.9697548151016235, 0.25442710518836975, 0.09359556436538696, 0.1375281661748886, 0.11766298860311508, 0.023303383961319923, 0.2173709124326706, 0.011078658513724804, 0.014898885041475296, 0.10543826222419739, 0.02483147569000721, 0.0875549390912056, 0.33499282598495483, 0.07137630879878998, 0.030453892424702644, 0.13038071990013123, 0.06788679957389832, 0.056466590613126755, 0.07327967882156372, 0.05297708511352539, 0.09485118836164474, 0.036017611622810364, 0.2361154556274414, 0.08747134357690811, 0.03315906971693039, 0.09947721660137177, 0.1394967883825302, 0.06288789212703705, 0.08346938341856003, 0.15550461411476135, 0.06574643403291702, 0.027755696326494217, 0.9714493751525879, 0.149358332157135, 0.00018214431474916637, 9.107215737458318e-05, 0.5645563006401062, 0.0005464329151436687, 0.12276526540517807, 9.107215737458318e-05, 0.0002732164575718343, 0.07367737591266632, 0.08843106031417847, 0.01927277259528637, 0.9636386632919312, 0.9191350936889648, 0.16867105662822723, 0.07155741751194, 0.7232410311698914, 0.0012778110103681684, 0.03322308883070946, 0.05030713975429535, 0.12576785683631897, 0.8300678133964539, 0.5954294800758362, 0.001866550068370998, 0.18385519087314606, 0.004666375461965799, 0.060662876814603806, 0.001866550068370998, 0.15025728940963745, 0.02773665450513363, 0.9430462121963501, 0.1483166664838791, 0.18872186541557312, 0.5868609547615051, 0.01034767460078001, 0.001478239195421338, 0.05814407393336296, 0.000492746417876333, 0.00344922486692667, 0.001970985671505332, 0.9429906010627747, 0.2526901960372925, 0.6432114243507385, 0.09516903758049011, 0.003281691111624241, 0.9082916378974915, 0.06986858695745468, 0.9711651802062988, 0.06776990741491318, 0.8979513049125671, 0.016942476853728294, 0.963197648525238, 0.025006473064422607, 0.025006473064422607, 0.9252395033836365, 0.05953685939311981, 0.014884214848279953, 0.9228212833404541, 0.892794668674469, 0.9620252847671509, 0.027486436069011688, 0.010563971474766731, 0.021127942949533463, 0.05281985551118851, 0.8662456274032593, 0.031691912561655045, 0.021127942949533463, 0.9183467626571655, 0.07610391080379486, 0.22908830642700195, 0.26209256052970886, 0.09008218348026276, 0.027956539765000343, 0.05863107740879059, 0.05474822223186493, 0.05591307953000069, 0.04309966415166855, 0.10211902856826782, 0.28419822454452515, 0.006133774761110544, 0.01664881594479084, 0.3405705392360687, 0.09434329718351364, 0.1550968736410141, 0.004381267353892326, 0.05228312686085701, 0.006133774761110544, 0.0403076596558094, 0.934914231300354, 0.07911624014377594, 0.08050424605607986, 0.14897912740707397, 0.17026184499263763, 0.02729741670191288, 0.02544674463570118, 0.031461428850889206, 0.27991417050361633, 0.12492038309574127, 0.03192409873008728, 0.022258279845118523, 0.9571060538291931, 0.029450567439198494, 0.9424181580543518, 0.924893856048584, 0.04926464334130287, 0.9483444094657898, 0.02402990683913231, 0.8650766015052795, 0.03904859721660614, 0.006007476709783077, 0.06608223915100098, 0.012582926079630852, 0.8808048367500305, 0.08808048069477081, 0.012582926079630852, 0.08065830916166306, 0.056935276836156845, 0.0047446065582334995, 0.18029503524303436, 0.07116909325122833, 0.5978204011917114, 0.0047446065582334995, 0.03452267497777939, 0.9666349291801453, 0.09153367578983307, 0.0130762392655015, 0.13076239824295044, 0.0130762392655015, 0.7322694063186646, 0.08218270540237427, 0.9040098190307617, 0.4741216003894806, 0.2747285068035126, 0.0008188628708012402, 0.07246936112642288, 0.0004094314354006201, 0.0008188628708012402, 0.027841337025165558, 0.14862361550331116, 0.955792248249054, 0.019912337884306908, 0.05189509689807892, 0.8822166323661804, 0.28560909628868103, 0.09507367759943008, 0.0845961719751358, 0.1148645281791687, 0.06480532139539719, 0.16298344731330872, 0.0422980859875679, 0.03647724911570549, 0.04268614202737808, 0.06985004991292953, 0.006580176297575235, 0.10839974135160446, 0.25454890727996826, 0.002943763043731451, 0.2954152822494507, 0.002943763043731451, 0.15117089450359344, 0.12052112072706223, 0.02961079217493534, 0.02787916734814644, 0.9769464731216431, 0.2464454472064972, 0.014449570327997208, 0.017660586163401604, 0.32672083377838135, 0.003612392581999302, 0.2629019021987915, 0.0012041308218613267, 0.0032110156025737524, 0.04254595562815666, 0.0814795196056366, 0.49711984395980835, 0.23648156225681305, 0.0012714063050225377, 0.13476906716823578, 0.012714062817394733, 0.11696937680244446, 0.02672901563346386, 0.12397713214159012, 0.11772140860557556, 0.025591609999537468, 0.2121260166168213, 0.01706107333302498, 0.26046571135520935, 0.12056491523981094, 0.05800765007734299, 0.03696565702557564, 0.9670709371566772, 0.03223569691181183, 0.4099573791027069, 0.07161466032266617, 0.06649932265281677, 0.1454215943813324, 0.07088389992713928, 0.1607675999403, 0.010961427353322506, 0.012422950938344002, 0.02046133019030094, 0.030691996216773987, 0.020330728963017464, 0.020330728963017464, 0.031948287039995193, 0.09874925762414932, 0.15102827548980713, 0.005808779504150152, 0.12488876283168793, 0.0842273086309433, 0.44437164068222046, 0.02323511801660061, 0.030568888410925865, 0.008336969651281834, 0.009263299405574799, 0.0009263299871236086, 0.9485619068145752, 0.0018526599742472172, 0.9509386420249939, 0.22994709014892578, 0.7664902806282043, 0.9384821653366089, 0.03811827301979065, 0.8239411115646362, 0.026389572769403458, 0.08210089057683945, 0.005864349659532309, 0.026389572769403458, 0.9403636455535889, 0.13437199592590332, 0.00715590501204133, 0.03418932482600212, 0.3562050461769104, 0.059632543474435806, 0.31326961517333984, 0.01749221235513687, 0.002385301748290658, 0.04850113391876221, 0.027033420279622078, 0.9183480739593506, 0.1817304641008377, 0.08566053956747055, 0.1515866369009018, 0.07850409299135208, 0.3014383614063263, 0.0325293205678463, 0.03816773369908333, 0.01019251998513937, 0.050962600857019424, 0.06896215677261353, 0.09493926167488098, 0.22968438267707825, 0.07663771510124207, 0.012582311406731606, 0.25233253836631775, 0.010294619016349316, 0.09654064476490021, 0.16631528735160828, 0.010752157308161259, 0.050100479274988174, 0.2352699339389801, 0.06537976861000061, 0.014582847245037556, 0.10280907154083252, 0.03208226338028908, 0.43432581424713135, 0.03426969051361084, 0.019200749695301056, 0.04180416092276573, 0.020659033209085464, 0.7906911373138428, 0.1030125766992569, 0.0167047418653965, 0.0723872184753418, 0.00835237093269825, 0.0055682472884655, 0.11874771118164062, 0.07501726597547531, 0.24602818489074707, 0.03413107991218567, 0.06435130536556244, 0.09599366039037704, 0.054751940071582794, 0.013510218821465969, 0.23642882704734802, 0.06044045090675354, 0.4055722653865814, 0.05469397455453873, 0.04632549732923508, 0.22206351161003113, 0.06874106079339981, 0.07232754677534103, 0.0331750325858593, 0.022714437916874886, 0.013748211786150932, 0.06067145615816116, 0.9451117515563965, 0.02953474223613739, 0.9482522010803223, 0.96037358045578, 0.3130878210067749, 0.02200324274599552, 0.02200324274599552, 0.10543220490217209, 0.07517775148153305, 0.3295902609825134, 0.022920046001672745, 0.02062804065644741, 0.005042409989982843, 0.08480416983366013, 0.8523908257484436, 0.023037590086460114, 0.0614335723221302, 0.053754378110170364, 0.9839578866958618, 0.02949688397347927, 0.9439002871513367, 0.9675130248069763, 0.04846305400133133, 0.016154352575540543, 0.9369524121284485, 0.08399094641208649, 0.05366088077425957, 0.1228756383061409, 0.26985979080200195, 0.08165786415338516, 0.22941970825195312, 0.027219288051128387, 0.06999245285987854, 0.00544385751709342, 0.05599396303296089, 0.07008732110261917, 0.6793078780174255, 0.172522634267807, 0.07547865062952042, 0.3004548251628876, 0.07069525122642517, 0.10790327936410904, 0.06976504623889923, 0.009302007034420967, 0.0046510035172104836, 0.00558120384812355, 0.028836220502853394, 0.013953009620308876, 0.38882386684417725, 0.9314625263214111, 0.6622912883758545, 0.04998425021767616, 0.08122440427541733, 0.04373621940612793, 0.00624803127720952, 0.12496062368154526, 0.031240155920386314, 0.07920791953802109, 0.35515809059143066, 0.03193867951631546, 0.06259980797767639, 0.042159054428339005, 0.3104439377784729, 0.01533056516200304, 0.012775471433997154, 0.039603959769010544, 0.05110188573598862, 0.9765218496322632, 0.006925686728209257, 0.006925686728209257, 0.006925686728209257, 0.13049373030662537, 0.31440597772598267, 0.43574225902557373, 0.0083943335339427, 0.05876033753156662, 0.023656759411096573, 0.009157455526292324, 0.002289363881573081, 0.014499303884804249, 0.002289363881573081, 0.9317188262939453, 0.8877174258232117, 0.9362120032310486, 0.945551335811615, 0.25630292296409607, 0.051598940044641495, 0.04088440537452698, 0.11475829780101776, 0.15874427556991577, 0.23459190130233765, 0.016635723412036896, 0.0642872005701065, 0.010150611400604248, 0.052162863314151764, 0.4096050560474396, 0.04270763695240021, 0.09059195220470428, 0.09512154757976532, 0.13459375500679016, 0.07506190240383148, 0.08088567107915878, 0.004529597703367472, 0.036236781626939774, 0.031060097739100456, 0.0190025195479393, 0.037133362144231796, 0.02039719931781292, 0.1792164146900177, 0.066072978079319, 0.08158879727125168, 0.013946803286671638, 0.027544936165213585, 0.5465403199195862, 0.008542416617274284, 0.03115043416619301, 0.06230086833238602, 0.10383477807044983, 0.010383477434515953, 0.010383477434515953, 0.7787608504295349, 0.13471348583698273, 0.04148970544338226, 0.08400385081768036, 0.24176716804504395, 0.15059226751327515, 0.1065414696931839, 0.027147585526108742, 0.06863728910684586, 0.10295593738555908, 0.04200192540884018, 0.9501960873603821, 0.968032717704773, 0.07187154144048691, 0.08111817389726639, 0.14962731301784515, 0.2261221706867218, 0.3328787386417389, 0.0655670240521431, 0.0037827128544449806, 0.0025218084920197725, 0.04833466187119484, 0.018072960898280144, 0.012826237827539444, 0.012826237827539444, 0.7375086545944214, 0.051304951310157776, 0.08978366106748581, 0.08978366106748581, 0.061507489532232285, 0.8918585777282715, 0.9143662452697754, 0.28264501690864563, 0.00215759570710361, 0.46604064106941223, 0.24272949993610382, 0.00215759570710361, 0.0032363934442400932, 0.9196084141731262, 0.9367715120315552, 0.9580870270729065, 0.9340908527374268, 0.009340908378362656, 0.04670454189181328, 0.9591083526611328, 0.01655270718038082, 0.02896723710000515, 0.014483618550002575, 0.03517450392246246, 0.06621082872152328, 0.3889886140823364, 0.4158867597579956, 0.0020690883975476027, 0.020690884441137314, 0.00827635359019041, 0.9317034482955933, 0.004307327326387167, 0.13568080961704254, 0.16044794023036957, 0.06030258536338806, 0.0010768318315967917, 0.03230495750904083, 0.5944111943244934, 0.011845150031149387, 0.06153254583477974, 0.020510848611593246, 0.8819664716720581, 0.026009587571024895, 0.014862621203064919, 0.014862621203064919, 0.11146965622901917, 0.03715655207633972, 0.03344089910387993, 0.059450484812259674, 0.03344089910387993, 0.5722109079360962, 0.10032269358634949, 0.8996780514717102, 0.04089445620775223, 0.05895914509892464, 0.8843871355056763, 0.034407395869493484, 0.15368635952472687, 0.013762958347797394, 0.05734565854072571, 0.02064443752169609, 0.02981974184513092, 0.055051833391189575, 0.022938264533877373, 0.6055701375007629, 0.009175305254757404, 0.011091268621385098, 0.06654760986566544, 0.038819439709186554, 0.0610019788146019, 0.049910709261894226, 0.03327380493283272, 0.005545634310692549, 0.726478099822998, 0.010299439541995525, 0.0669463574886322, 0.02059887908399105, 0.010299439541995525, 0.010299439541995525, 0.005149719770997763, 0.0566469207406044, 0.005149719770997763, 0.8085060119628906, 0.02514796517789364, 0.01844184100627899, 0.006706124171614647, 0.6270226240158081, 0.055325523018836975, 0.10729798674583435, 0.06873777508735657, 0.03856021165847778, 0.04526633769273758, 0.005029593128710985, 0.9693979024887085, 0.03277505934238434, 0.01638752967119217, 0.9013141393661499, 0.03277505934238434, 0.05418459698557854, 0.06539519876241684, 0.042973991483449936, 0.07473737746477127, 0.17750126123428345, 0.0168159082531929, 0.10650075972080231, 0.37368687987327576, 0.02242121286690235, 0.061658333986997604, 0.035193607211112976, 0.5023887157440186, 0.24723508954048157, 0.0017596803372725844, 0.11877842247486115, 0.007038721349090338, 0.008798401802778244, 0.04047264903783798, 0.016716962680220604, 0.02023632451891899, 0.8919159173965454, 0.10493128001689911, 0.03630750626325607, 0.09076876938343048, 0.8350726962089539, 0.018153753131628036, 0.9307956695556641, 0.03763291612267494, 0.09031900018453598, 0.12293419986963272, 0.7300785779953003, 0.002508861245587468, 0.007526583503931761, 0.005017722491174936, 0.2880830764770508, 0.07343293726444244, 0.005648687481880188, 0.6270043253898621, 0.032612383365631104, 0.02445928566157818, 0.032612383365631104, 0.032612383365631104, 0.04076547548174858, 0.8234626650810242, 0.03378921002149582, 0.019308120012283325, 0.13032981753349304, 0.13515684008598328, 0.6178598403930664, 0.014481090940535069, 0.004827030003070831, 0.04344327002763748, 0.080703005194664, 0.19099710881710052, 0.13181491196155548, 0.10320202261209488, 0.18806245923042297, 0.10809311270713806, 0.06529606878757477, 0.05771487578749657, 0.0063584186136722565, 0.06798616796731949, 0.9582605361938477, 0.20614565908908844, 0.10325721651315689, 0.17148074507713318, 0.03318982198834419, 0.03945900872349739, 0.1331280618906021, 0.051997385919094086, 0.06121677905321121, 0.11395172029733658, 0.08592475950717926, 0.023423291742801666, 0.04216192662715912, 0.16396304965019226, 0.023423291742801666, 0.014053975231945515, 0.009369316510856152, 0.6886447668075562, 0.03279260918498039, 0.008875778876245022, 0.017751557752490044, 0.9674599170684814, 0.9108525514602661, 0.9325671195983887, 0.7774326801300049, 0.1871597170829773, 0.02399483509361744, 0.00479896692559123, 0.02592351660132408, 0.9591701626777649, 0.9365689754486084, 0.9389622211456299, 0.04268009960651398, 0.9922393560409546, 0.9554089307785034, 0.7933972477912903, 0.19834931194782257, 0.8834632039070129, 0.03099871054291725, 0.0619974210858345, 0.03099871054291725, 0.9643542170524597, 0.006300721317529678, 0.13861586153507233, 0.03780432790517807, 0.22682596743106842, 0.5733656287193298, 0.018902163952589035, 0.9745733737945557, 0.9798074960708618, 0.9661865830421448, 0.028627751395106316, 0.9423488974571228, 0.00506192771717906, 0.7656165957450867, 0.13287560641765594, 0.02024771086871624, 0.003796445904299617, 0.008858373388648033, 0.044291868805885315, 0.007592891808599234, 0.011389337480068207, 0.26871204376220703, 0.06751333922147751, 0.08226791024208069, 0.09657537937164307, 0.026379385963082314, 0.3791477680206299, 0.016095895320177078, 0.02146119438111782, 0.02280251868069172, 0.019672762602567673, 0.9557202458381653, 0.986928403377533, 0.9186413884162903, 0.8867653608322144, 0.9598281383514404, 0.01625773496925831, 0.02536206692457199, 0.011705568991601467, 0.5872293710708618, 0.0273129940032959, 0.10730104893445969, 0.002601237501949072, 0.021460209041833878, 0.19769404828548431, 0.0032515469938516617, 0.03078283742070198, 0.8619194626808167, 0.0769570916891098, 0.01539141871035099, 0.9590034484863281, 0.0279525239020586, 0.9503858089447021, 0.9548129439353943, 0.02652258239686489, 0.28195369243621826, 0.2014480084180832, 0.10366485267877579, 0.06690426170825958, 0.10109160840511322, 0.07241835445165634, 0.020585928112268448, 0.06543383747339249, 0.023894380778074265, 0.06212538853287697, 0.9550737738609314, 0.020120544359087944, 0.6773916482925415, 0.03688766434788704, 0.0033534241374582052, 0.03018081746995449, 0.03353423997759819, 0.05700821056962013, 0.04024108871817589, 0.08383560180664062, 0.023473968729376793, 0.0941653624176979, 0.8788766860961914, 0.14732249081134796, 0.22057826817035675, 0.09190761297941208, 0.06298374384641647, 0.11704704910516739, 0.13678015768527985, 0.07568862289190292, 0.030005130916833878, 0.0619024783372879, 0.05568519979715347, 0.023535875603556633, 0.694308340549469, 0.005883968900889158, 0.1529831886291504, 0.02941984497010708, 0.08825953304767609, 0.017442278563976288, 0.9244407415390015, 0.017442278563976288, 0.034884557127952576, 0.21446983516216278, 0.032256655395030975, 0.09984789788722992, 0.1156068742275238, 0.13924533128738403, 0.12422506511211395, 0.09775490313768387, 0.007633254397660494, 0.03533458337187767, 0.1335819512605667, 0.06705929338932037, 0.7515265941619873, 0.04624779149889946, 0.016186727210879326, 0.018499115481972694, 0.04393539950251579, 0.016186727210879326, 0.039310622960329056, 0.12040295451879501, 0.8213201761245728, 0.025800634175539017, 0.008600210770964622, 0.008600210770964622, 0.017200421541929245, 0.037405405193567276, 0.22808174788951874, 0.108262799680233, 0.1833777278661728, 0.1286381036043167, 0.043791696429252625, 0.08971215784549713, 0.08697517216205597, 0.04896154999732971, 0.04500813037157059, 0.018799439072608948, 0.6924460530281067, 0.0971304401755333, 0.004699859768152237, 0.021932680159807205, 0.0015666199615225196, 0.018799439072608948, 0.07989761978387833, 0.06423141807317734, 0.9350990653038025, 0.9666712284088135, 0.01858983188867569, 0.1584601253271103, 0.03534426540136337, 0.06656503677368164, 0.18084482848644257, 0.048892904072999954, 0.05596175789833069, 0.2650820016860962, 0.007657924667000771, 0.16729620099067688, 0.013548635877668858, 0.8882566094398499, 0.046750348061323166, 0.002805408788844943, 0.34225988388061523, 0.002805408788844943, 0.08135685324668884, 0.5694980025291443, 0.26590585708618164, 0.08590804785490036, 0.2556787133216858, 0.06545375287532806, 0.012272577732801437, 0.008181719109416008, 0.01738615147769451, 0.02965872921049595, 0.011249863542616367, 0.24851970374584198, 0.027323052287101746, 0.8743376731872559, 0.013661526143550873, 0.013661526143550873, 0.013661526143550873, 0.013661526143550873, 0.027323052287101746, 0.19299428164958954, 0.10971136391162872, 0.15412892401218414, 0.18433286249637604, 0.09083390235900879, 0.03842118754982948, 0.04908140003681183, 0.07062391191720963, 0.03864327445626259, 0.07151226699352264, 0.012518987990915775, 0.0375569649040699, 0.8888481259346008, 0.0375569649040699, 0.942963719367981, 0.983644425868988, 0.9778226017951965, 0.2533426284790039, 0.02157127484679222, 0.04050605744123459, 0.2173905074596405, 0.1299070119857788, 0.0608789287507534, 0.03355531394481659, 0.0498536117374897, 0.06615190953016281, 0.12703083455562592, 0.0053899954073131084, 0.1401398777961731, 0.8289812803268433, 0.0010779990116134286, 0.008623992092907429, 0.002155998023226857, 0.008623992092907429, 0.002155998023226857, 0.0010779990116134286, 0.0010779990116134286, 0.9667642116546631, 0.02106614038348198, 0.9760645627975464, 0.037316374480724335, 0.07463274896144867, 0.005330910440534353, 0.6130546927452087, 0.2398909628391266, 0.026654552668333054, 0.014987671747803688, 0.06294821947813034, 0.8348133563995361, 0.0007493835873901844, 0.04046671465039253, 0.0014987671747803688, 0.02697780914604664, 0.002248150762170553, 0.015737054869532585, 0.5408658385276794, 0.07726654410362244, 0.04635992646217346, 0.0721154436469078, 0.05322806537151337, 0.08241764456033707, 0.044642891734838486, 0.0034340687561780214, 0.005151102785021067, 0.07383247464895248, 0.027358079329133034, 0.16141267120838165, 0.021886464208364487, 0.10396070033311844, 0.04924454167485237, 0.060187775641679764, 0.5690480470657349, 0.005471616052091122, 0.03055797517299652, 0.002696292009204626, 0.0017975280061364174, 0.38826602697372437, 0.0008987640030682087, 0.15099234879016876, 0.0035950560122728348, 0.4071400761604309, 0.01527898758649826, 0.0322435162961483, 0.0322435162961483, 0.9350619912147522, 0.04234303534030914, 0.9527182579040527, 0.8924182653427124, 0.023697348311543465, 0.10663806647062302, 0.07109204679727554, 0.7820124626159668, 0.011848674155771732, 0.9617829322814941, 0.9345800876617432, 0.026702288538217545, 0.02219017595052719, 0.9541775584220886, 0.09542763233184814, 0.09542763233184814, 0.8067972660064697, 0.9110895991325378, 0.9155925512313843, 0.06951095908880234, 0.03097022883594036, 0.29146426916122437, 0.0660698190331459, 0.12009566277265549, 0.011011636815965176, 0.2508588433265686, 0.09876061975955963, 0.007570500485599041, 0.053337614983320236, 0.9302877187728882, 0.6429955363273621, 0.09328433126211166, 0.004997374955564737, 0.10661066323518753, 0.0016657916130498052, 0.1499212384223938, 0.010317809879779816, 0.04746192693710327, 0.016508495435118675, 0.0020635619293898344, 0.02063561975955963, 0.881140947341919, 0.02063561975955963, 0.39977267384529114, 0.003887578845024109, 0.004535508807748556, 0.009071017615497112, 0.13476939499378204, 0.0032396491151303053, 0.005183438304811716, 0.010366876609623432, 0.01878996379673481, 0.4101395606994629, 0.010283644311130047, 0.020567288622260094, 0.020567288622260094, 0.020567288622260094, 0.011752735823392868, 0.008814551867544651, 0.5714767575263977, 0.32760751247406006, 0.005876367911696434, 0.0014690919779241085, 0.05018248036503792, 0.9032846689224243, 0.9833862781524658, 0.8760688304901123, 0.9408372640609741, 0.9041666388511658, 0.06812214851379395, 0.024771688506007195, 0.13733716309070587, 0.009155810810625553, 0.018311621621251106, 0.04577905312180519, 0.05493486300110817, 0.6866858005523682, 0.03662324324250221, 0.05175238475203514, 0.9315429329872131, 0.9473263025283813, 0.02633046731352806, 0.02633046731352806, 0.02633046731352806, 0.8952358961105347, 0.9513192176818848, 0.021199990063905716, 0.008479995653033257, 0.9582395553588867, 0.01271999441087246, 0.004569952376186848, 0.004569952376186848, 0.004569952376186848, 0.027419714257121086, 0.04569952189922333, 0.132528617978096, 0.7723219394683838, 0.009139904752373695, 0.9800545573234558, 0.2185876965522766, 0.09210928529500961, 0.18174399435520172, 0.10723169893026352, 0.0783616304397583, 0.04124296084046364, 0.031069697812199593, 0.06818836182355881, 0.06928817927837372, 0.11190590262413025, 0.9050748348236084, 0.009837769903242588, 0.0787021592259407, 0.9454994797706604, 0.9803150296211243, 0.04883290454745293, 0.012208226136863232, 0.04883290454745293, 0.04883290454745293, 0.14649872481822968, 0.6836606860160828, 0.1615130752325058, 0.20031815767288208, 0.11662502586841583, 0.0700589194893837, 0.06796134263277054, 0.0914541557431221, 0.06041008234024048, 0.04404902085661888, 0.08662974089384079, 0.10110298544168472, 0.06404440104961395, 0.3263632357120514, 0.2570549249649048, 0.01842373237013817, 0.07106296718120575, 0.005263923201709986, 0.12282487750053406, 0.053516555577516556, 0.035531483590602875, 0.04649798944592476, 0.040141765028238297, 0.9232605695724487, 0.026715543121099472, 0.9617595672607422, 0.9724620580673218, 0.9753129482269287, 0.16467885673046112, 0.2736312448978424, 0.14360281825065613, 0.10216519236564636, 0.05251147970557213, 0.08716191351413727, 0.030006559565663338, 0.05251147970557213, 0.03179266303777695, 0.06215644255280495], \"Term\": [\"aafp\", \"abl\", \"abl\", \"abl\", \"abl\", \"abl\", \"abl\", \"abl\", \"abl\", \"abl\", \"abl\", \"access\", \"access\", \"access\", \"access\", \"access\", \"access\", \"access\", \"access\", \"access\", \"access\", \"account\", \"account\", \"account\", \"account\", \"account\", \"account\", \"account\", \"account\", \"account\", \"account\", \"account_organ\", \"account_organ\", \"account_organ\", \"account_organ\", \"accountbas_market\", \"across_channel\", \"across_channel\", \"across_channel\", \"across_channel\", \"across_channel\", \"ad\", \"ad\", \"ad\", \"ad\", \"ad\", \"ad\", \"ad\", \"ad\", \"ad\", \"ad\", \"adher\", \"adher\", \"adher\", \"adher\", \"adher\", \"adher\", \"adher\", \"adher\", \"adher\", \"adher\", \"advanc\", \"advanc\", \"advanc\", \"advanc\", \"advanc\", \"advanc\", \"advanc\", \"advanc\", \"advanc\", \"advanc\", \"advers_patient_safeti\", \"advertis\", \"advertis\", \"advertis\", \"advertis\", \"advertis\", \"aetna\", \"aetna\", \"aetna\", \"aetna\", \"africa\", \"africa\", \"africa\", \"age\", \"age\", \"age\", \"age\", \"age\", \"age\", \"age\", \"age\", \"age\", \"age\", \"ahima\", \"ahima\", \"ahima\", \"ahima\", \"ai\", \"ai\", \"ai\", \"ai\", \"ai\", \"ai\", \"ai\", \"ai\", \"ai\", \"ai\", \"aircraft\", \"aircraft\", \"airport\", \"airport\", \"airport\", \"airspac\", \"alexa\", \"alexa\", \"allscript\", \"allscript\", \"allscript\", \"allscript\", \"allscript_athenahealth\", \"allscript_cerner\", \"alumnus\", \"alzheim\", \"alzheim\", \"alzheim\", \"amazon\", \"amazon\", \"amazon\", \"amazon\", \"amazon\", \"amazon\", \"amazon\", \"amazon\", \"amazon_echo\", \"amia\", \"amia\", \"amia\", \"amia\", \"analysi\", \"analysi\", \"analysi\", \"analysi\", \"analysi\", \"analysi\", \"analysi\", \"analysi\", \"analysi\", \"analysi\", \"analyst\", \"analyst\", \"analyst\", \"analyst\", \"analyst\", \"analyst\", \"analyst\", \"analyst\", \"analyst\", \"analyst\", \"andm\", \"andm\", \"antibiot\", \"antibiot\", \"antibiot\", \"antibiot\", \"antibiot_prescript\", \"antibiot_stewardship\", \"antibiot_stewardship\", \"antibiot_stewardship_program\", \"antibiot_use\", \"app\", \"app\", \"app\", \"app\", \"app\", \"app\", \"app\", \"app\", \"app\", \"app\", \"app_orchard\", \"arkit\", \"artifici_intellig\", \"artifici_intellig\", \"artifici_intellig\", \"artifici_intellig\", \"artifici_intellig\", \"artifici_intellig\", \"artifici_intellig\", \"artifici_intellig\", \"artifici_intellig\", \"artifici_intellig\", \"asia\", \"asia\", \"asia\", \"asset\", \"asset\", \"asset\", \"asset\", \"asset\", \"asset\", \"asset\", \"asset\", \"asset\", \"asset\", \"athenahealth\", \"athenahealth\", \"athenahealth\", \"atom\", \"attack\", \"attack\", \"attack\", \"attack\", \"attack\", \"attack\", \"attack\", \"attack\", \"attack\", \"attack\", \"attack_surfac\", \"attest\", \"attest\", \"attest\", \"attest\", \"attest\", \"audienc\", \"audienc\", \"audienc\", \"audienc\", \"audienc\", \"audienc\", \"audienc\", \"autom\", \"autom\", \"autom\", \"autom\", \"autom\", \"autom\", \"autom\", \"autom\", \"autom\", \"autom\", \"autom_vehicl\", \"autonom\", \"autonom\", \"autonom\", \"autonom\", \"autonom_vehicl\", \"autonom_vehicl\", \"autopilot\", \"avoid_death\", \"avoid_death\", \"award\", \"award\", \"award\", \"award\", \"award\", \"award\", \"award\", \"award\", \"award\", \"award\", \"axa\", \"azur\", \"azur\", \"azur\", \"bank\", \"bank\", \"bank\", \"bank\", \"bank\", \"bank\", \"bank\", \"bank\", \"bank\", \"bank\", \"barclay\", \"barclay\", \"barclay\", \"base\", \"base\", \"base\", \"base\", \"base\", \"base\", \"base\", \"base\", \"base\", \"base\", \"batteri\", \"batteri\", \"batteri\", \"batteri\", \"bcbsa\", \"bed\", \"bed\", \"bed\", \"bed\", \"bed\", \"bed\", \"bed\", \"behlendorf\", \"beneficiari\", \"beneficiari\", \"beneficiari\", \"beneficiari\", \"beneficiari\", \"beneficiari\", \"bestow\", \"better_medic_adher\", \"big_data\", \"big_data\", \"big_data\", \"big_data\", \"big_data\", \"big_data\", \"big_data\", \"big_data\", \"big_data\", \"big_data\", \"big_data_analyt\", \"big_data_analyt\", \"big_data_analyt\", \"big_data_analyt\", \"big_data_analyt\", \"big_data_analyt\", \"big_data_analyt\", \"big_data_analyt\", \"billon\", \"biobank\", \"biobank\", \"biobank\", \"bioinformat\", \"biolog\", \"biolog\", \"biolog\", \"biolog\", \"biomark\", \"biomark\", \"biomed_research\", \"bitcoin\", \"bitcoin\", \"bitcoin_cash\", \"bitcoin_ethereum\", \"blockchain\", \"blockchain\", \"blockchain\", \"blockchain\", \"blockchain\", \"blockchain\", \"blockchain\", \"blockchain\", \"blockchain\", \"blockchain\", \"blockchainbas\", \"blockchainbas\", \"blockchainbas\", \"blood_pressur\", \"blood_pressur\", \"blue_prism\", \"bodi_mass_index\", \"bookkeep\", \"bordereaux\", \"bosch\", \"brand\", \"brand\", \"brand\", \"brand\", \"brand\", \"brand\", \"brand\", \"brand\", \"brand\", \"brand\", \"brand_safeti\", \"busi\", \"busi\", \"busi\", \"busi\", \"busi\", \"busi\", \"busi\", \"busi\", \"busi\", \"busi\", \"busi_intellig\", \"busi_intellig\", \"busi_intellig\", \"busi_intellig\", \"busi_intellig\", \"busi_intellig\", \"busi_intellig\", \"busi_intellig\", \"califf\", \"camera\", \"camera\", \"camera\", \"camera\", \"camera\", \"camera\", \"campaign\", \"campaign\", \"campaign\", \"campaign\", \"campaign\", \"campaign\", \"campaign\", \"campaign\", \"campaign\", \"cancer\", \"cancer\", \"cancer\", \"cancer\", \"cancer\", \"cancer_moonshot\", \"cancer_moonshot\", \"cancer_research\", \"cancer_research\", \"cancerlinq\", \"cancerlinq\", \"capabl\", \"capabl\", \"capabl\", \"capabl\", \"capabl\", \"capabl\", \"capabl\", \"capabl\", \"capabl\", \"capabl\", \"capit\", \"capit\", \"capit\", \"capit\", \"capit\", \"capit\", \"capit\", \"capit\", \"capit\", \"capit\", \"car\", \"car\", \"car\", \"car\", \"car\", \"car\", \"car\", \"car\", \"card_payment\", \"cash\", \"cash\", \"cash\", \"cash\", \"cash\", \"cash\", \"cash\", \"ccda\", \"ccda\", \"ccos\", \"cdc\", \"cdc\", \"cdc\", \"cdc_director\", \"cds\", \"cds\", \"cds\", \"cds\", \"cds\", \"ce\", \"ce\", \"ce\", \"cede\", \"celent\", \"center\", \"center\", \"center\", \"center\", \"center\", \"center\", \"center\", \"center\", \"center\", \"center\", \"centr\", \"centr\", \"centr\", \"centr\", \"ceo\", \"ceo\", \"ceo\", \"ceo\", \"ceo\", \"ceo\", \"ceo\", \"ceo\", \"ceo\", \"ceo\", \"cerner\", \"cerner\", \"cerner_allscript\", \"cerner_corpor\", \"cerner_corpor\", \"certifi_ehr\", \"certifi_ehr\", \"certifi_ehr\", \"chain\", \"chain\", \"chain\", \"chain\", \"chain\", \"chain\", \"chain\", \"chain\", \"chain\", \"chain\", \"channel\", \"channel\", \"channel\", \"channel\", \"channel\", \"channel\", \"channel\", \"chariti\", \"chariti\", \"chariti\", \"chatbot\", \"chatbot\", \"chatbot\", \"chatbot\", \"china\", \"china\", \"china\", \"china\", \"china\", \"china\", \"china\", \"china\", \"cholesterol\", \"cholesterol\", \"chronic_condit\", \"chronic_condit\", \"chronic_condit\", \"chronic_condit\", \"chronic_disea\", \"chronic_disea\", \"chronic_disea\", \"chronic_disea\", \"chronic_disea\", \"chronic_disea\", \"chronic_diseas_manag\", \"chronic_diseas_manag\", \"chronic_diseas_manag\", \"chronic_diseas_manag\", \"chronic_diseas_manag\", \"citi\", \"citi\", \"citi\", \"citi\", \"citi\", \"citi\", \"citi\", \"citi\", \"citi\", \"citi\", \"clausematch\", \"clausematch\", \"client\", \"client\", \"client\", \"client\", \"client\", \"client\", \"client\", \"client\", \"client\", \"client\", \"clinic\", \"clinic\", \"clinic\", \"clinic\", \"clinic\", \"clinic\", \"clinic\", \"clinic\", \"clinic_document\", \"clinic_document\", \"clinic_document\", \"clinic_document\", \"clinic_document\", \"clinic_document_improv\", \"clinic_document_improv\", \"clinic_guidelin\", \"clinic_guidelin\", \"clinic_pathway\", \"clinic_translat_scienc\", \"cloud\", \"cloud\", \"cloud\", \"cloud\", \"cloud\", \"cloud\", \"cloud\", \"cloud\", \"cloud\", \"cloud\", \"cloudera\", \"cloudera\", \"cmio\", \"cmio\", \"cmio\", \"cms\", \"cms\", \"cms\", \"cms\", \"cms\", \"cms\", \"cms_deputi_administr\", \"cms_onc\", \"code\", \"code\", \"code\", \"code\", \"code\", \"code\", \"code\", \"code\", \"code\", \"code\", \"coder\", \"coder\", \"coin\", \"coin\", \"coin\", \"coin\", \"coin\", \"collabor\", \"collabor\", \"collabor\", \"collabor\", \"collabor\", \"collabor\", \"collabor\", \"collabor\", \"collabor\", \"collabor\", \"colonoscopi\", \"colorado\", \"colorado\", \"colorado\", \"colorado\", \"colorado\", \"colorado\", \"colorado\", \"colorado\", \"commerci_drone\", \"commerci_drone\", \"commonwel\", \"commonwel\", \"communiti\", \"communiti\", \"communiti\", \"communiti\", \"communiti\", \"communiti\", \"communiti\", \"communiti\", \"communiti\", \"communiti\", \"comorbid\", \"compani\", \"compani\", \"compani\", \"compani\", \"compani\", \"compani\", \"compani\", \"compani\", \"compani\", \"compani\", \"compet_initi\", \"comput\", \"comput\", \"comput\", \"comput\", \"comput\", \"comput\", \"comput\", \"comput\", \"comput\", \"comput\", \"condit\", \"condit\", \"condit\", \"condit\", \"condit\", \"condit\", \"condit\", \"condit\", \"condit\", \"condit\", \"connect\", \"connect\", \"connect\", \"connect\", \"connect\", \"connect\", \"connect\", \"connect\", \"connect\", \"connect\", \"consum\", \"consum\", \"consum\", \"consum\", \"consum\", \"consum\", \"consum\", \"consum\", \"consum\", \"consum\", \"contact_center\", \"contact_center\", \"contact_center\", \"content\", \"content\", \"content\", \"content\", \"content\", \"content\", \"content\", \"content\", \"content\", \"content\", \"continu\", \"continu\", \"continu\", \"continu\", \"continu\", \"continu\", \"continu\", \"continu\", \"continu\", \"continu\", \"control\", \"control\", \"control\", \"control\", \"control\", \"control\", \"control\", \"control\", \"control\", \"control\", \"control_group\", \"conver\", \"conver\", \"conver\", \"conver\", \"conver\", \"conver\", \"conver\", \"conver\", \"conver\", \"conver\", \"conversica\", \"cool_vendor\", \"coordin\", \"coordin\", \"coordin\", \"coordin\", \"coordin\", \"coordin\", \"coordin\", \"coordin\", \"coordin\", \"coordin\", \"copenhagen\", \"coronari_arteri_disea\", \"corpor\", \"corpor\", \"corpor\", \"corpor\", \"corpor\", \"corpor\", \"corpor\", \"corpor\", \"corpor\", \"corpor\", \"cost\", \"cost\", \"cost\", \"cost\", \"cost\", \"cost\", \"cost\", \"cost\", \"cost\", \"cost\", \"counti\", \"counti\", \"counti\", \"counti\", \"counti\", \"counti\", \"counti\", \"cours_treatment\", \"cpsi\", \"crosschannel\", \"crowdfund\", \"crowdfund\", \"crypto_asset\", \"cryptocurr\", \"cryptocurr\", \"cryptocurr\", \"cryptocurr\", \"cryptocurr\", \"cryptocurr_exchang\", \"cryptocurr_mine\", \"cryptocurr_trade\", \"csp\", \"csp\", \"cue\", \"cue\", \"cure_cancer\", \"currenc\", \"currenc\", \"currenc\", \"currenc\", \"custom\", \"custom\", \"custom\", \"custom\", \"custom\", \"custom\", \"custom\", \"custom\", \"custom\", \"custom\", \"cx\", \"cx\", \"cx\", \"cyber_insur\", \"cycl_time\", \"dad\", \"daimler\", \"data_scienc\", \"data_scienc\", \"data_scienc\", \"data_scienc\", \"data_scienc\", \"data_scienc\", \"data_scienc\", \"data_scienc\", \"data_scienc\", \"dcri\", \"deal\", \"deal\", \"deal\", \"deal\", \"deal\", \"deal\", \"deal\", \"deal\", \"deal\", \"deal\", \"dealer\", \"dealer\", \"dealer\", \"dealership\", \"dealership\", \"death\", \"death\", \"death\", \"death\", \"death\", \"death\", \"death\", \"death\", \"death\", \"decentr\", \"decentr\", \"decentr\", \"decentr\", \"decentralis\", \"decentralis\", \"definit_databa\", \"dentist\", \"dentist\", \"dentist\", \"deploy\", \"deploy\", \"deploy\", \"deploy\", \"deploy\", \"deploy\", \"deploy\", \"deploy\", \"deploy\", \"deploy\", \"depress\", \"depress\", \"depress\", \"depress\", \"dermatologist\", \"desalvo\", \"design\", \"design\", \"design\", \"design\", \"design\", \"design\", \"design\", \"design\", \"design\", \"design\", \"deutsch_telekom\", \"devic\", \"devic\", \"devic\", \"devic\", \"devic\", \"devic\", \"devic\", \"devic\", \"devic\", \"devic\", \"dia\", \"diabet\", \"diabet\", \"diabet\", \"diabet\", \"diabet\", \"diagnost_error\", \"dig_deeper_precis_medicin\", \"dig_deeper_precis_medicin\", \"digit\", \"digit\", \"digit\", \"digit\", \"digit\", \"digit\", \"digit\", \"digit\", \"digit\", \"digit\", \"digit_advertis\", \"digit_advertis\", \"digit_asset\", \"digit_asset\", \"digit_asset\", \"digit_asset\", \"directtrust\", \"directtrust\", \"disabl\", \"disabl\", \"disabl\", \"disabl\", \"disabl\", \"disabl\", \"discharg\", \"discharg\", \"discharg\", \"discharg\", \"disea\", \"disea\", \"disea\", \"disea\", \"disea\", \"disea\", \"disea\", \"display\", \"display\", \"display\", \"display\", \"display\", \"display\", \"display\", \"display\", \"display\", \"distribut_ledger\", \"divido\", \"dlt\", \"dna\", \"dna\", \"dna\", \"dna\", \"dna\", \"dna\", \"dna_sequenc\", \"docker\", \"document\", \"document\", \"document\", \"document\", \"document\", \"document\", \"document\", \"document\", \"document\", \"document\", \"downtim\", \"downtim\", \"downtim\", \"downtim\", \"downtim\", \"drone\", \"drone\", \"drone\", \"drone_pilot\", \"drug\", \"drug\", \"drug\", \"drug\", \"drug\", \"drug\", \"drug\", \"drug\", \"duedil\", \"ecri\", \"ecri\", \"educ\", \"educ\", \"educ\", \"educ\", \"educ\", \"educ\", \"educ\", \"educ\", \"educ\", \"educ\", \"effect\", \"effect\", \"effect\", \"effect\", \"effect\", \"effect\", \"effect\", \"effect\", \"effect\", \"effect\", \"effort\", \"effort\", \"effort\", \"effort\", \"effort\", \"effort\", \"effort\", \"effort\", \"effort\", \"effort\", \"ehr\", \"ehr\", \"ehr\", \"ehr\", \"ehr\", \"ehr\", \"ehr\", \"ehr_incent_program\", \"ehr_incent_program\", \"ehr_incent_program\", \"ehr_incent_program\", \"ehr_usabl\", \"ehr_usabl\", \"elig_profession\", \"email\", \"email\", \"email\", \"email\", \"email\", \"email\", \"email\", \"email\", \"email\", \"emc_corpor\", \"engag\", \"engag\", \"engag\", \"engag\", \"engag\", \"engag\", \"engag\", \"engag\", \"engag\", \"engag\", \"enhanc\", \"enhanc\", \"enhanc\", \"enhanc\", \"enhanc\", \"enhanc\", \"enhanc\", \"enhanc\", \"enhanc\", \"enhanc\", \"enhanc_treatment\", \"enterpris\", \"enterpris\", \"enterpris\", \"enterpris\", \"enterpris\", \"enterpris\", \"enterpris\", \"enterpris\", \"enterpris\", \"enterpris\", \"enterprisereadi\", \"entrepreneur\", \"entrepreneur\", \"entrepreneur\", \"entrepreneur\", \"entrepreneur\", \"entrepreneur\", \"entrepreneuri\", \"entrepreneuri\", \"ep\", \"epic\", \"epic\", \"epic\", \"epic_system\", \"epic_system\", \"epic_system\", \"epic_system\", \"epic_system\", \"ethereum\", \"ethereum\", \"europ\", \"europ\", \"europ\", \"europ\", \"europ\", \"europ\", \"europ\", \"europ\", \"event\", \"event\", \"event\", \"event\", \"event\", \"event\", \"event\", \"event\", \"event\", \"event\", \"exchang\", \"exchang\", \"exchang\", \"exchang\", \"exchang\", \"exchang\", \"exchang\", \"exchang\", \"exchang\", \"exchang\", \"experi\", \"experi\", \"experi\", \"experi\", \"experi\", \"experi\", \"experi\", \"experi\", \"experi\", \"experi\", \"express_script\", \"exscudo\", \"faa\", \"face_recognit\", \"fact_sheet\", \"fan\", \"fan\", \"fan\", \"fan\", \"fan\", \"featur\", \"featur\", \"featur\", \"featur\", \"featur\", \"featur\", \"featur\", \"featur\", \"featur\", \"featur\", \"feder_mandat\", \"fhir\", \"fhir\", \"fhir\", \"fhir\", \"fhir\", \"finalist\", \"finalist\", \"finalist\", \"financ\", \"financ\", \"financ\", \"financ\", \"financ\", \"financ\", \"financ\", \"financ\", \"financ\", \"financ\", \"financi\", \"financi\", \"financi\", \"financi\", \"financi\", \"financi\", \"financi\", \"financi\", \"financi\", \"financi\", \"financi_inclus\", \"financi_inclus\", \"fintech\", \"fintech\", \"fintech\", \"fintech\", \"fintech_sector\", \"fintech_sector\", \"fleet\", \"fleet\", \"fleet\", \"fleet\", \"fli\", \"fli\", \"fli\", \"fli\", \"fli\", \"fli\", \"fli\", \"fli\", \"fli\", \"flight\", \"flight\", \"flight\", \"form_factor\", \"fraud\", \"fraud\", \"fraud\", \"fraud\", \"fraud\", \"fraud\", \"fraud\", \"fraud\", \"fund\", \"fund\", \"fund\", \"fund\", \"fund\", \"fund\", \"fund\", \"fund\", \"fund\", \"fund\", \"game\", \"game\", \"game\", \"game\", \"game\", \"game\", \"game\", \"game\", \"game\", \"gartner\", \"gartner\", \"gartner\", \"gdc\", \"geising_baylor\", \"gene\", \"gene\", \"gene\", \"gene\", \"gene\", \"genet\", \"genet\", \"genet\", \"genet\", \"genet_inform\", \"genom\", \"genom\", \"genom\", \"genom\", \"genom\", \"genom\", \"genom_medicin\", \"genotyp\", \"gestur\", \"gestur_recognit\", \"gibraltar\", \"googl\", \"googl\", \"googl\", \"googl\", \"googl\", \"googl\", \"googl\", \"googl\", \"googl\", \"gormanklug\", \"gpu\", \"gpu\", \"gpus\", \"gpus\", \"grace_period\", \"greenway\", \"greenway\", \"group\", \"group\", \"group\", \"group\", \"group\", \"group\", \"group\", \"group\", \"group\", \"group\", \"growth\", \"growth\", \"growth\", \"growth\", \"growth\", \"growth\", \"growth\", \"growth\", \"growth\", \"growth\", \"hac\", \"hardwar\", \"hardwar\", \"hardwar\", \"hardwar\", \"hardwar\", \"hardwar\", \"hardwar\", \"hashchain\", \"hashgraph\", \"healthelink\", \"healthinfonet\", \"help\", \"help\", \"help\", \"help\", \"help\", \"help\", \"help\", \"help\", \"help\", \"help\", \"hhs\", \"hhs\", \"hhs\", \"hhs\", \"hhs\", \"hie\", \"hie\", \"hie\", \"hie\", \"high_risk\", \"high_risk\", \"high_risk\", \"high_risk\", \"high_risk\", \"high_risk\", \"high_risk\", \"himss\", \"himss\", \"himss\", \"himss\", \"himss\", \"hmi\", \"hong_kong\", \"hong_kong\", \"hong_kong\", \"hong_kong\", \"hortonwork\", \"hortonwork\", \"hortonwork\", \"hospit\", \"hospit\", \"hospit\", \"hospit\", \"hospit\", \"hospit\", \"hospit\", \"hospit\", \"hospit\", \"hospit\", \"hospit_acquir_condit\", \"hospit_acquir_condit\", \"hospit_acquir_condit\", \"hpe\", \"hpe\", \"hub\", \"hub\", \"hub\", \"hub\", \"hub\", \"hub\", \"hub\", \"hub\", \"hub\", \"hub\", \"human_genom\", \"humana\", \"humana\", \"humana\", \"humana\", \"hyperlipidemia\", \"hyperten\", \"hyperten\", \"hyperten\", \"ident\", \"ident\", \"ident\", \"ident\", \"ident\", \"ident\", \"ident\", \"ident\", \"ident\", \"identifi\", \"identifi\", \"identifi\", \"identifi\", \"identifi\", \"identifi\", \"identifi\", \"identifi\", \"identifi\", \"identifi\", \"iiot\", \"iiot\", \"immunotherapi\", \"import\", \"import\", \"import\", \"import\", \"import\", \"import\", \"import\", \"import\", \"import\", \"import\", \"improv\", \"improv\", \"improv\", \"improv\", \"improv\", \"improv\", \"improv\", \"improv\", \"improv\", \"improv\", \"includ\", \"includ\", \"includ\", \"includ\", \"includ\", \"includ\", \"includ\", \"includ\", \"includ\", \"includ\", \"individu\", \"individu\", \"individu\", \"individu\", \"individu\", \"individu\", \"individu\", \"individu\", \"individu\", \"individu\", \"inform\", \"inform\", \"inform\", \"inform\", \"inform\", \"inform\", \"inform\", \"inform\", \"inform\", \"inform\", \"inform_block\", \"inform_block\", \"inform_block\", \"inform_builder\", \"innov\", \"innov\", \"innov\", \"innov\", \"innov\", \"innov\", \"innov\", \"innov\", \"innov\", \"innov\", \"innov_financ\", \"inovalon\", \"inovalon\", \"inovalon\", \"inovalon\", \"inovalon\", \"insight\", \"insight\", \"insight\", \"insight\", \"insight\", \"insight\", \"insight\", \"insight\", \"insight\", \"insight\", \"instor\", \"insulin\", \"intellig\", \"intellig\", \"intellig\", \"intellig\", \"intellig\", \"intellig\", \"intellig\", \"intellig\", \"intellig\", \"intellig\", \"interbit\", \"interoper\", \"interoper\", \"interoper\", \"interoper\", \"interoper\", \"interoper\", \"interoper\", \"interoper\", \"interoper\", \"interoper_standard\", \"invest\", \"invest\", \"invest\", \"invest\", \"invest\", \"invest\", \"invest\", \"invest\", \"invest\", \"invest\", \"investor\", \"investor\", \"investor\", \"investor\", \"investor\", \"investor\", \"investor\", \"investor\", \"investor\", \"iom\", \"iot\", \"iot\", \"iot\", \"iot\", \"iot\", \"iot\", \"iot\", \"iot\", \"iot\", \"iot\", \"ireland\", \"ireland\", \"itrel\", \"jopp\", \"judi_faulkner\", \"kansa\", \"kansa\", \"keynot\", \"keynot\", \"kla\", \"kla\", \"klas_research\", \"klas_research\", \"krantz\", \"latest_relea\", \"lawn\", \"lawn\", \"ledger\", \"ledger\", \"lidar\", \"litecoin\", \"loan\", \"loan\", \"london\", \"london\", \"london\", \"london\", \"london\", \"london\", \"lot\", \"lot\", \"lot\", \"lot\", \"lot\", \"lot\", \"lot\", \"lot\", \"lot\", \"lot\", \"lotteri\", \"lotteri\", \"lte\", \"lte\", \"luxembourg\", \"luxembourg\", \"machin_learn\", \"machin_learn\", \"machin_learn\", \"machin_learn\", \"machin_learn\", \"machin_learn\", \"machin_learn\", \"machin_learn\", \"machin_learn\", \"machin_learn\", \"macra\", \"macra\", \"magic_leap\", \"make_sure\", \"make_sure\", \"make_sure\", \"make_sure\", \"make_sure\", \"make_sure\", \"make_sure\", \"make_sure\", \"make_sure\", \"make_sure\", \"manag\", \"manag\", \"manag\", \"manag\", \"manag\", \"manag\", \"manag\", \"manag\", \"manag\", \"manag\", \"manchest\", \"manchest\", \"mani\", \"mani\", \"mani\", \"mani\", \"mani\", \"mani\", \"mani\", \"mani\", \"mani\", \"mani\", \"manufactur\", \"manufactur\", \"manufactur\", \"manufactur\", \"manufactur\", \"manufactur\", \"manufactur\", \"manufactur\", \"manufactur\", \"manufactur\", \"market\", \"market\", \"market\", \"market\", \"market\", \"market\", \"market\", \"market\", \"market\", \"market\", \"marketo\", \"martech\", \"martech\", \"martech\", \"massachusett\", \"massachusett\", \"massachusett\", \"massachusett\", \"massachusett\", \"massachusett\", \"massachusett\", \"meaning_use\", \"meaning_use\", \"meaning_use\", \"meaning_use\", \"measur\", \"measur\", \"measur\", \"measur\", \"measur\", \"measur\", \"measur\", \"measur\", \"measur\", \"measur\", \"medeanalyt\", \"mediatek\", \"medic\", \"medic\", \"medic\", \"medic\", \"medic\", \"medic\", \"medic\", \"medic\", \"medic\", \"medic\", \"medic_adher\", \"medic_adher\", \"medic_adher\", \"medic_adher\", \"medic_error\", \"medic_error\", \"medic_error\", \"medic_nonadher\", \"medic_research\", \"medic_research\", \"medic_research\", \"medic_research\", \"medic_research\", \"medic_scribe\", \"medicar\", \"medicar\", \"medicar\", \"medicar\", \"medicin\", \"medicin\", \"medicin\", \"medicin\", \"medicin\", \"meditech\", \"medium\", \"medium\", \"medium\", \"medium\", \"medium\", \"medium\", \"medium\", \"medium\", \"medium\", \"member\", \"member\", \"member\", \"member\", \"member\", \"member\", \"member\", \"member\", \"member\", \"member\", \"mentor\", \"mentor\", \"mentor\", \"mentor\", \"mentor\", \"mentor\", \"merci\", \"merci\", \"merci\", \"meritbas_incent_payment\", \"meritbas_incent_payment\", \"mesh_network\", \"metformin\", \"mgma\", \"mgma\", \"mhealth\", \"mhealth\", \"mhealth\", \"mhealth\", \"mhealth\", \"mhealth\", \"mhealth\", \"microsoft_azur\", \"microsoft_azur\", \"microsoft_azur\", \"middleman\", \"million_heart\", \"million_heart\", \"mindshar\", \"miner\", \"miner\", \"miner\", \"miner\", \"mip\", \"mip\", \"mip\", \"moat\", \"mobil\", \"mobil\", \"mobil\", \"mobil\", \"mobil\", \"mobil\", \"mobil\", \"mobil\", \"mobil\", \"mobil\", \"mobil_money\", \"moco\", \"model\", \"model\", \"model\", \"model\", \"model\", \"model\", \"model\", \"model\", \"model\", \"model\", \"modex\", \"modex\", \"modex\", \"mone\", \"mone\", \"money\", \"money\", \"money\", \"money\", \"money\", \"money\", \"money\", \"money\", \"money\", \"money_europ\", \"money_europ\", \"monster\", \"monster\", \"multichannel\", \"multichannel\", \"music\", \"music\", \"music\", \"music\", \"music\", \"mutat\", \"mutat\", \"mutat\", \"nation\", \"nation\", \"nation\", \"nation\", \"nation\", \"nation\", \"nation\", \"nation\", \"nation\", \"nation\", \"nation_institut\", \"nation_institut\", \"nation_institut\", \"nation_institut\", \"need\", \"need\", \"need\", \"need\", \"need\", \"need\", \"need\", \"need\", \"need\", \"need\", \"network\", \"network\", \"network\", \"network\", \"network\", \"network\", \"network\", \"network\", \"network\", \"network\", \"nih\", \"nih\", \"nih\", \"nokia\", \"nokia\", \"nvidia\", \"nvidia\", \"nvidia\", \"offic_visit\", \"oig\", \"omnichannel\", \"omnichannel\", \"omnichannel\", \"onc\", \"onc\", \"onc\", \"onc\", \"onlin\", \"onlin\", \"onlin\", \"onlin\", \"onlin\", \"onlin\", \"onlin\", \"onlin\", \"onlin\", \"onlin\", \"onpremis\", \"onpremis\", \"oper\", \"oper\", \"oper\", \"oper\", \"oper\", \"oper\", \"oper\", \"oper\", \"oper\", \"oper\", \"optum\", \"optum\", \"optum\", \"optum\", \"oracl\", \"oracl\", \"oracl\", \"oracl\", \"oracl\", \"oracl\", \"oracl\", \"oregon\", \"oregon\", \"oregon\", \"organ\", \"organ\", \"organ\", \"organ\", \"organ\", \"organ\", \"organ\", \"organ\", \"organ\", \"organ\", \"osteoporosi\", \"palo_alto_network\", \"palo_alto_network\", \"pancreat_cancer\", \"particip\", \"particip\", \"particip\", \"particip\", \"particip\", \"particip\", \"particip\", \"particip\", \"particip\", \"particip\", \"partner\", \"partner\", \"partner\", \"partner\", \"partner\", \"partner\", \"partner\", \"partner\", \"partner\", \"partner\", \"partnership\", \"partnership\", \"partnership\", \"partnership\", \"partnership\", \"partnership\", \"partnership\", \"partnership\", \"partnership\", \"partnership\", \"passeng\", \"passeng\", \"patient\", \"patient\", \"patient\", \"patient\", \"patient\", \"patient\", \"patient\", \"patient\", \"patient\", \"patient\", \"patient_harm\", \"patient_harm\", \"patient_higher_risk\", \"patient_safeti\", \"patient_safeti\", \"patient_safeti\", \"patient_safeti\", \"patient_safeti\", \"patient_safeti_event\", \"patient_safeti_event\", \"patient_safeti_event\", \"payer\", \"payer\", \"payer\", \"payer\", \"payer\", \"payer\", \"payer\", \"payload\", \"payload\", \"payment\", \"payment\", \"payment\", \"payment\", \"payment\", \"payment\", \"payment\", \"payment\", \"payment\", \"payment_adjust\", \"pcmh\", \"pcmh\", \"pcmh\", \"pcmh\", \"pcori\", \"pcori\", \"pcornet\", \"pcps\", \"pcps\", \"pcps\", \"pedestrian\", \"pediatr_cancer\", \"pediatr_cancer\", \"pediatr_cancer\", \"pega\", \"pega\", \"pega\", \"pegasystem\", \"penni\", \"penni\", \"pennsylvania\", \"pennsylvania\", \"pennsylvania\", \"pennsylvania\", \"pennsylvania\", \"pennsylvania\", \"pennsylvania_patient_safeti\", \"peopl\", \"peopl\", \"peopl\", \"peopl\", \"peopl\", \"peopl\", \"peopl\", \"peopl\", \"peopl\", \"peopl\", \"percent\", \"percent\", \"percent\", \"percent\", \"percent\", \"percent\", \"percent\", \"percent\", \"percent\", \"percent\", \"percent_drop\", \"person\", \"person\", \"person\", \"person\", \"person\", \"person\", \"person\", \"person\", \"person\", \"person\", \"person_medicin\", \"person_medicin\", \"person_treatment\", \"person_treatment\", \"pew_charit_trust\", \"pghd\", \"pghd\", \"pharmaci\", \"pharmaci\", \"pharmaci\", \"pharmaci\", \"pharmaci\", \"pharmacist\", \"pharmacist\", \"pharmacist\", \"pharmacist\", \"phd\", \"phd\", \"phd\", \"phd\", \"phd\", \"phd\", \"phd\", \"phenotyp\", \"phenotyp\", \"phm\", \"phm\", \"phm\", \"phm\", \"phm\", \"phm_solut\", \"phm_solut\", \"physician\", \"physician\", \"physician\", \"physician\", \"physician\", \"physician\", \"physician\", \"physician\", \"physician_qualiti_report\", \"physician_qualiti_report\", \"phytel\", \"phytel\", \"plan\", \"plan\", \"plan\", \"plan\", \"plan\", \"plan\", \"plan\", \"plan\", \"plan\", \"plan\", \"platform\", \"platform\", \"platform\", \"platform\", \"platform\", \"platform\", \"platform\", \"platform\", \"platform\", \"platform\", \"pmi\", \"popul\", \"popul\", \"popul\", \"popul\", \"popul\", \"popul\", \"popul\", \"popul\", \"popul\", \"popul\", \"popul_manag\", \"popul_manag\", \"popul_manag\", \"popul_manag\", \"popul_manag\", \"popul_manag\", \"power\", \"power\", \"power\", \"power\", \"power\", \"power\", \"power\", \"power\", \"power\", \"power\", \"pqrs\", \"pqrs\", \"practic\", \"practic\", \"practic\", \"practic\", \"practic\", \"practic\", \"practic\", \"practic\", \"practic\", \"practic\", \"precis\", \"precis\", \"precis\", \"precis\", \"precis\", \"precis\", \"precis\", \"precis\", \"precis\", \"precis\", \"precis_medicin\", \"precis_medicin\", \"precis_medicin\", \"precis_medicin\", \"precis_medicin\", \"precis_medicin\", \"precis_medicin_shift\", \"prediabet\", \"prediabet\", \"predict_mainten\", \"prescript\", \"prescript\", \"prescript\", \"prescript\", \"prescript\", \"prescript\", \"prescript_fill\", \"prevent\", \"prevent\", \"prevent\", \"prevent\", \"prevent\", \"prevent\", \"prevent\", \"prevent\", \"prevent\", \"prevent\", \"prevent_infect\", \"process\", \"process\", \"process\", \"process\", \"process\", \"process\", \"process\", \"process\", \"process\", \"process\", \"product\", \"product\", \"product\", \"product\", \"product\", \"product\", \"product\", \"product\", \"product\", \"product\", \"program\", \"program\", \"program\", \"program\", \"program\", \"program\", \"program\", \"program\", \"program\", \"program\", \"programm\", \"programm\", \"programm\", \"programm\", \"programm\", \"programm\", \"project\", \"project\", \"project\", \"project\", \"project\", \"project\", \"project\", \"project\", \"project\", \"project\", \"provid\", \"provid\", \"provid\", \"provid\", \"provid\", \"provid\", \"provid\", \"provid\", \"provid\", \"provid\", \"psychosoci\", \"psychosoci\", \"ptsd\", \"public_road\", \"qualiti\", \"qualiti\", \"qualiti\", \"qualiti\", \"qualiti\", \"qualiti\", \"qualiti\", \"qualiti\", \"qualiti\", \"qualiti\", \"qualiti_report\", \"qualiti_report\", \"qualiti_report\", \"qualiti_report\", \"qualiti_report_program\", \"radius\", \"radius\", \"railsbank\", \"rare_disea\", \"rare_disea\", \"rare_disea\", \"rate\", \"rate\", \"rate\", \"rate\", \"rate\", \"rate\", \"rate\", \"rate\", \"rate\", \"rate\", \"readmiss\", \"readmiss\", \"readmiss\", \"readmiss\", \"realli\", \"realli\", \"realli\", \"realli\", \"realli\", \"realli\", \"realli\", \"realli\", \"realli\", \"realli\", \"recommend_engin\", \"reform\", \"reform\", \"reform\", \"reform\", \"reform\", \"reform\", \"reform\", \"region\", \"region\", \"region\", \"region\", \"region\", \"region\", \"region\", \"region\", \"region\", \"region\", \"regtech\", \"regtech\", \"regtech\", \"regtech\", \"regul\", \"regul\", \"regul\", \"regul\", \"regul\", \"regul\", \"regul\", \"regul\", \"regul\", \"regul\", \"regulatori_sandbox\", \"relayhealth\", \"relev_content\", \"repeal\", \"report\", \"report\", \"report\", \"report\", \"report\", \"report\", \"report\", \"report\", \"report\", \"report\", \"requir\", \"requir\", \"requir\", \"requir\", \"requir\", \"requir\", \"requir\", \"requir\", \"requir\", \"requir\", \"research\", \"research\", \"research\", \"research\", \"research\", \"research\", \"research\", \"research\", \"research\", \"research\", \"research_institut\", \"research_institut\", \"research_institut\", \"research_institut\", \"research_institut\", \"research_institut\", \"result\", \"result\", \"result\", \"result\", \"result\", \"result\", \"result\", \"result\", \"result\", \"result\", \"retail_brand\", \"rig\", \"risk\", \"risk\", \"risk\", \"risk\", \"risk\", \"risk\", \"risk\", \"risk\", \"risk\", \"risk\", \"risk_factor\", \"risk_factor\", \"risk_factor\", \"risk_factor\", \"risk_factor\", \"risk_factor\", \"risk_transfer\", \"risk_transfer\", \"rn_msn\", \"robot\", \"robot\", \"robot\", \"robot\", \"robot\", \"robot\", \"robot_autom\", \"rpa\", \"rucker\", \"sa\", \"sa\", \"sa\", \"safe_harbor\", \"safeti\", \"safeti\", \"safeti\", \"safeti\", \"safeti\", \"safeti\", \"safeti\", \"safeti\", \"safeti\", \"safeti\", \"said_mr\", \"sale\", \"sale\", \"sale\", \"sale\", \"sale\", \"sale\", \"sale\", \"sale\", \"sale_team\", \"sale_team\", \"sale_team\", \"sampl\", \"sampl\", \"sampl\", \"sampl\", \"sampl\", \"sampl\", \"sampl\", \"sampl\", \"sampl\", \"sampl\", \"sas\", \"sas\", \"save_medicar\", \"save_medicar\", \"scienc\", \"scienc\", \"scienc\", \"scienc\", \"scienc\", \"scienc\", \"scienc\", \"scienc\", \"scienc\", \"scienc\", \"scientif\", \"scientif\", \"scientif\", \"scientif\", \"scientif\", \"scientif\", \"scientif\", \"scientif\", \"scientist\", \"scientist\", \"scientist\", \"scientist\", \"scientist\", \"scientist\", \"scientist\", \"scientist\", \"scientist\", \"screen\", \"screen\", \"screen\", \"screen\", \"screen\", \"screen\", \"screen\", \"screen\", \"screen\", \"screen\", \"scribe\", \"sdk\", \"sdk\", \"sdk\", \"sdk\", \"search\", \"search\", \"search\", \"search\", \"search\", \"search\", \"search\", \"search\", \"search\", \"search\", \"sector\", \"sector\", \"sector\", \"sector\", \"sector\", \"sector\", \"sector\", \"sector\", \"sector\", \"sector\", \"selfcar\", \"selfcar\", \"selfdriv\", \"selfdriv\", \"selfdriv\", \"selfdriv\", \"senior_author\", \"sensor\", \"sensor\", \"sensor\", \"sensor\", \"sensor\", \"sensor\", \"sensor\", \"sepsi\", \"sepsi\", \"sepsi\", \"sepsi\", \"sequenc\", \"sequenc\", \"sequenc\", \"sequenc\", \"sequenc\", \"sequenc\", \"server\", \"server\", \"server\", \"server\", \"server\", \"server\", \"server\", \"server\", \"servic\", \"servic\", \"servic\", \"servic\", \"servic\", \"servic\", \"servic\", \"servic\", \"servic\", \"servic\", \"servicenow\", \"share\", \"share\", \"share\", \"share\", \"share\", \"share\", \"share\", \"share\", \"share\", \"share\", \"shop\", \"shop\", \"shop\", \"shop\", \"shop\", \"shop\", \"shop\", \"shop\", \"shopper\", \"shopper\", \"shopper\", \"shulkin\", \"signal_process\", \"singapor\", \"singapor\", \"singapor\", \"singapor\", \"singularitynet\", \"singularitynet\", \"skyrunn\", \"smart_build\", \"smart_build\", \"smart_contract\", \"smart_speaker\", \"sme\", \"sme\", \"softbank\", \"softbank\", \"softbank\", \"softbank\", \"sophia\", \"sport\", \"sport\", \"sport\", \"sport\", \"sport\", \"sport\", \"spotcap\", \"squirro\", \"stage_meaning_use\", \"stage_meaning_use\", \"starl\", \"startup\", \"startup\", \"startup\", \"startup\", \"startup\", \"startup\", \"startup\", \"startup\", \"startup\", \"state\", \"state\", \"state\", \"state\", \"state\", \"state\", \"state\", \"state\", \"state\", \"state\", \"state_line\", \"statin\", \"stephan\", \"strata_decis\", \"strep_throat\", \"studi\", \"studi\", \"studi\", \"studi\", \"studi\", \"studi\", \"studi\", \"studi\", \"studi\", \"studi\", \"studi_conclud\", \"studi_conclud\", \"studi_conclud\", \"studi_conclud\", \"studi_examin\", \"studi_explain\", \"studi_explain\", \"subpopul\", \"subpopul\", \"success\", \"success\", \"success\", \"success\", \"success\", \"success\", \"success\", \"success\", \"success\", \"success\", \"suicid\", \"summit\", \"summit\", \"summit\", \"summit\", \"summit\", \"summit\", \"summit\", \"summit\", \"summit\", \"summit\", \"superbug\", \"superbug\", \"support\", \"support\", \"support\", \"support\", \"support\", \"support\", \"support\", \"support\", \"support\", \"support\", \"surgeri\", \"surgeri\", \"surgeri\", \"surgeri\", \"surgeri\", \"surgeri\", \"symptom\", \"symptom\", \"symptom\", \"symptom\", \"system\", \"system\", \"system\", \"system\", \"system\", \"system\", \"system\", \"system\", \"system\", \"system\", \"talent\", \"talent\", \"talent\", \"talent\", \"talent\", \"talent\", \"talent\", \"talent\", \"tax\", \"tax\", \"tax\", \"tax\", \"tax\", \"tax\", \"team\", \"team\", \"team\", \"team\", \"team\", \"team\", \"team\", \"team\", \"team\", \"team\", \"tech\", \"tech\", \"tech\", \"tech\", \"tech\", \"tech\", \"tech\", \"tech\", \"tech\", \"technic_assist\", \"temeno\", \"temeno\", \"test\", \"test\", \"test\", \"test\", \"test\", \"test\", \"test\", \"test\", \"test\", \"test\", \"text_analyt\", \"text_analyt\", \"therapi\", \"therapi\", \"therapi\", \"therapi\", \"therapi\", \"thing\", \"thing\", \"thing\", \"thing\", \"thing\", \"thing\", \"thing\", \"thing\", \"thing\", \"thing\", \"thought_leader\", \"thought_leader\", \"thought_leader\", \"thought_leader\", \"thought_leader\", \"thought_leader\", \"thought_leader\", \"time\", \"time\", \"time\", \"time\", \"time\", \"time\", \"time\", \"time\", \"time\", \"time\", \"tissu\", \"tissu\", \"tissu\", \"tissu\", \"tobacco_use\", \"token_holder\", \"token_sale\", \"tool\", \"tool\", \"tool\", \"tool\", \"tool\", \"tool\", \"tool\", \"tool\", \"tool\", \"tool\", \"trade\", \"trade\", \"trade\", \"trade\", \"trade\", \"trade\", \"trade\", \"trade\", \"trade\", \"trade\", \"trade_financ\", \"trader\", \"trader\", \"traffic\", \"traffic\", \"traffic\", \"traffic\", \"traffic\", \"traffic\", \"transact\", \"transact\", \"transact\", \"transact\", \"transact\", \"transact\", \"transact\", \"transact\", \"transact\", \"transit\", \"transit\", \"transit\", \"transit\", \"transit\", \"transit\", \"transit\", \"transit\", \"transit\", \"transit\", \"transport\", \"transport\", \"transport\", \"transport\", \"transport\", \"transport\", \"transport\", \"transport\", \"treatment\", \"treatment\", \"treatment\", \"treatment\", \"treatment\", \"treatment\", \"treatment\", \"treatment\", \"treatment\", \"truck\", \"truck\", \"truck\", \"tumor\", \"tumor\", \"turbin\", \"tv\", \"tv\", \"tv\", \"tv\", \"tv\", \"uav\", \"uk_fintech\", \"uk_fintech\", \"underwat\", \"underwat\", \"underwrit\", \"underwrit\", \"underwrit\", \"univers_robot\", \"unman_system\", \"user\", \"user\", \"user\", \"user\", \"user\", \"user\", \"user\", \"user\", \"user\", \"user\", \"va_dod\", \"valueba\", \"valueba\", \"valueba\", \"valueba\", \"valueba\", \"valueba\", \"vehicl\", \"vehicl\", \"vehicl\", \"vehicl\", \"vehicl\", \"vehicl\", \"vehicl\", \"vendor\", \"vendor\", \"vendor\", \"vendor\", \"vendor\", \"vendor\", \"vendor\", \"vendor\", \"vendor\", \"vendor\", \"video\", \"video\", \"video\", \"video\", \"video\", \"video\", \"video\", \"video\", \"video\", \"video\", \"viewabl\", \"viewabl\", \"vipr\", \"virtual_clipboard_initi\", \"virtual_realiti\", \"visa\", \"visa\", \"visa\", \"visitor\", \"visitor\", \"visitor\", \"visitor\", \"visitor\", \"visitor\", \"visitor\", \"vms\", \"vms\", \"voic_search\", \"voyag\", \"voyag\", \"voyag\", \"voyag\", \"vuzix\", \"wallet\", \"wallet\", \"wallet\", \"wallet\", \"watson\", \"watson\", \"watson\", \"watson\", \"watson\", \"watson\", \"watson\", \"watson\", \"wax\", \"way\", \"way\", \"way\", \"way\", \"way\", \"way\", \"way\", \"way\", \"way\", \"way\", \"wedi\", \"wedi\", \"wedi\", \"willi\", \"willi_tower_watson\", \"wire\", \"wire\", \"wire\", \"wire\", \"wire\", \"wire\", \"work\", \"work\", \"work\", \"work\", \"work\", \"work\", \"work\", \"work\", \"work\", \"work\", \"world\", \"world\", \"world\", \"world\", \"world\", \"world\", \"world\", \"world\", \"world\", \"world\", \"world_ether\", \"world_ether\", \"xero\", \"xero\", \"yandexcheckout\", \"yandexmoney\", \"year\", \"year\", \"year\", \"year\", \"year\", \"year\", \"year\", \"year\", \"year\", \"year\"], \"Topic\": [1, 1, 2, 3, 4, 5, 6, 7, 8, 9, 10, 1, 2, 3, 4, 5, 6, 7, 8, 9, 10, 1, 2, 3, 4, 5, 6, 7, 8, 9, 10, 1, 4, 6, 10, 8, 2, 5, 7, 8, 10, 1, 2, 3, 4, 5, 6, 7, 8, 9, 10, 1, 2, 3, 4, 5, 6, 7, 8, 9, 10, 1, 2, 3, 4, 5, 6, 7, 8, 9, 10, 6, 2, 3, 5, 7, 8, 1, 4, 6, 10, 2, 3, 4, 1, 2, 3, 4, 5, 6, 7, 8, 9, 10, 1, 4, 6, 10, 1, 2, 3, 4, 5, 6, 7, 8, 9, 10, 2, 7, 2, 5, 7, 7, 7, 8, 1, 4, 8, 10, 10, 10, 2, 4, 6, 9, 1, 2, 3, 5, 7, 8, 9, 10, 8, 1, 6, 9, 10, 1, 2, 3, 4, 5, 6, 7, 8, 9, 10, 1, 2, 3, 4, 5, 6, 7, 8, 9, 10, 4, 9, 1, 4, 6, 10, 6, 4, 6, 6, 6, 1, 2, 3, 4, 5, 6, 7, 8, 9, 10, 10, 8, 1, 2, 3, 4, 5, 6, 7, 8, 9, 10, 2, 3, 5, 1, 2, 3, 4, 5, 6, 7, 8, 9, 10, 1, 4, 10, 2, 1, 2, 3, 4, 5, 6, 7, 8, 9, 10, 5, 1, 3, 7, 8, 10, 1, 2, 3, 5, 7, 8, 10, 1, 2, 3, 4, 5, 6, 7, 8, 9, 10, 7, 2, 3, 5, 7, 2, 7, 7, 6, 10, 1, 2, 3, 4, 5, 6, 7, 8, 9, 10, 2, 2, 5, 7, 1, 2, 3, 4, 5, 6, 7, 8, 9, 10, 2, 3, 5, 1, 2, 3, 4, 5, 6, 7, 8, 9, 10, 2, 5, 7, 8, 6, 1, 2, 4, 6, 8, 9, 10, 10, 1, 3, 4, 6, 7, 10, 2, 4, 1, 2, 3, 4, 5, 6, 7, 8, 9, 10, 1, 4, 5, 6, 7, 8, 9, 10, 3, 5, 6, 9, 9, 4, 5, 7, 9, 4, 9, 9, 2, 3, 3, 3, 1, 2, 3, 4, 5, 6, 7, 8, 9, 10, 2, 3, 5, 4, 6, 5, 4, 2, 10, 2, 1, 2, 3, 4, 5, 6, 7, 8, 9, 10, 8, 1, 2, 3, 4, 5, 6, 7, 8, 9, 10, 1, 2, 4, 5, 6, 7, 8, 10, 6, 2, 3, 4, 5, 7, 8, 1, 2, 3, 5, 6, 7, 8, 9, 10, 1, 4, 6, 9, 10, 6, 9, 6, 9, 4, 9, 1, 2, 3, 4, 5, 6, 7, 8, 9, 10, 1, 2, 3, 4, 5, 6, 7, 8, 9, 10, 1, 2, 3, 4, 5, 7, 8, 10, 2, 1, 2, 3, 5, 8, 9, 10, 1, 7, 6, 1, 4, 6, 6, 1, 4, 5, 6, 9, 2, 7, 8, 5, 5, 1, 2, 3, 4, 5, 6, 7, 8, 9, 10, 2, 3, 7, 9, 1, 2, 3, 4, 5, 6, 7, 8, 9, 10, 1, 10, 10, 1, 10, 1, 6, 10, 1, 2, 3, 4, 5, 6, 7, 8, 9, 10, 1, 2, 3, 4, 5, 7, 8, 1, 2, 3, 2, 5, 7, 8, 1, 2, 3, 5, 7, 8, 9, 10, 4, 6, 1, 4, 6, 9, 1, 4, 6, 8, 9, 10, 1, 4, 6, 9, 10, 1, 2, 3, 4, 5, 6, 7, 8, 9, 10, 2, 5, 1, 2, 3, 4, 5, 6, 7, 8, 9, 10, 1, 4, 5, 6, 7, 8, 9, 10, 1, 4, 6, 9, 10, 1, 4, 4, 6, 4, 9, 1, 2, 3, 4, 5, 6, 7, 8, 9, 10, 5, 10, 1, 6, 10, 1, 4, 5, 6, 8, 10, 6, 1, 1, 2, 3, 4, 5, 6, 7, 8, 9, 10, 1, 2, 1, 2, 3, 7, 10, 1, 2, 3, 4, 5, 6, 7, 8, 9, 10, 4, 1, 2, 3, 4, 6, 7, 8, 10, 2, 7, 1, 10, 1, 2, 3, 4, 5, 6, 7, 8, 9, 10, 4, 1, 2, 3, 4, 5, 6, 7, 8, 9, 10, 1, 1, 2, 3, 4, 5, 6, 7, 8, 9, 10, 1, 2, 3, 4, 5, 6, 7, 8, 9, 10, 1, 2, 3, 4, 5, 6, 7, 8, 9, 10, 1, 2, 3, 4, 5, 6, 7, 8, 9, 10, 2, 5, 8, 1, 2, 3, 4, 5, 6, 7, 8, 9, 10, 1, 2, 3, 4, 5, 6, 7, 8, 9, 10, 1, 2, 3, 4, 5, 6, 7, 8, 9, 10, 4, 1, 2, 3, 4, 5, 6, 7, 8, 9, 10, 8, 5, 1, 2, 3, 4, 5, 6, 7, 8, 9, 10, 2, 4, 1, 2, 3, 4, 5, 6, 7, 8, 9, 10, 1, 2, 3, 4, 5, 6, 7, 8, 9, 10, 1, 2, 3, 4, 6, 7, 10, 4, 10, 8, 2, 3, 3, 2, 3, 5, 7, 8, 3, 3, 3, 5, 10, 4, 8, 9, 2, 3, 7, 8, 1, 2, 3, 4, 5, 6, 7, 8, 9, 10, 2, 5, 8, 5, 5, 8, 7, 1, 2, 4, 5, 6, 7, 8, 9, 10, 9, 1, 2, 3, 4, 5, 6, 7, 8, 9, 10, 2, 7, 8, 8, 10, 1, 2, 3, 4, 6, 7, 8, 9, 10, 2, 3, 7, 10, 2, 3, 10, 1, 2, 4, 1, 2, 3, 4, 5, 6, 7, 8, 9, 10, 1, 4, 6, 9, 4, 1, 1, 2, 3, 4, 5, 6, 7, 8, 9, 10, 2, 1, 2, 3, 4, 5, 6, 7, 8, 9, 10, 2, 1, 4, 6, 9, 10, 6, 6, 9, 1, 2, 3, 4, 5, 6, 7, 8, 9, 10, 3, 8, 2, 3, 5, 7, 1, 10, 2, 3, 4, 5, 6, 9, 1, 4, 6, 10, 1, 4, 5, 6, 7, 9, 10, 1, 2, 4, 5, 6, 7, 8, 9, 10, 3, 8, 3, 2, 3, 5, 7, 8, 9, 9, 7, 1, 2, 3, 4, 5, 6, 7, 8, 9, 10, 1, 3, 5, 6, 7, 2, 5, 7, 7, 1, 2, 3, 4, 6, 8, 9, 10, 8, 4, 6, 1, 2, 3, 4, 5, 6, 7, 8, 9, 10, 1, 2, 3, 4, 5, 6, 7, 8, 9, 10, 1, 2, 3, 4, 5, 6, 7, 8, 9, 10, 1, 4, 5, 6, 8, 9, 10, 1, 4, 6, 10, 1, 6, 1, 1, 2, 3, 4, 5, 6, 7, 8, 10, 10, 1, 2, 3, 4, 5, 6, 7, 8, 9, 10, 1, 2, 3, 4, 5, 6, 7, 8, 9, 10, 9, 1, 2, 3, 4, 5, 6, 7, 8, 9, 10, 7, 1, 2, 3, 5, 7, 8, 2, 3, 1, 1, 4, 10, 1, 4, 6, 9, 10, 2, 3, 1, 2, 3, 5, 7, 8, 9, 10, 1, 2, 3, 4, 5, 6, 7, 8, 9, 10, 1, 2, 3, 4, 5, 6, 7, 8, 9, 10, 1, 2, 3, 4, 5, 6, 7, 8, 9, 10, 4, 3, 7, 2, 6, 1, 2, 3, 7, 8, 1, 2, 3, 4, 5, 6, 7, 8, 9, 10, 1, 1, 4, 6, 9, 10, 2, 6, 10, 1, 2, 3, 4, 5, 6, 7, 8, 9, 10, 1, 2, 3, 4, 5, 6, 7, 8, 9, 10, 2, 3, 2, 3, 6, 8, 2, 3, 2, 5, 7, 10, 1, 2, 3, 4, 5, 7, 8, 9, 10, 1, 2, 7, 7, 1, 2, 3, 4, 5, 6, 7, 8, 1, 2, 3, 4, 5, 6, 7, 8, 9, 10, 1, 2, 3, 4, 5, 7, 8, 9, 10, 1, 5, 8, 9, 6, 2, 3, 4, 6, 9, 4, 6, 9, 10, 9, 1, 4, 6, 8, 9, 10, 9, 9, 7, 7, 3, 1, 2, 3, 4, 5, 7, 8, 9, 10, 10, 5, 7, 5, 7, 1, 1, 10, 1, 2, 3, 4, 5, 6, 7, 8, 9, 10, 1, 2, 3, 4, 5, 6, 7, 8, 9, 10, 6, 2, 3, 4, 5, 7, 8, 10, 3, 3, 6, 1, 1, 2, 3, 4, 5, 6, 7, 8, 9, 10, 1, 4, 6, 9, 10, 1, 4, 6, 10, 1, 4, 5, 6, 7, 9, 10, 1, 4, 5, 6, 10, 7, 2, 3, 8, 9, 2, 5, 7, 1, 2, 3, 4, 5, 6, 7, 8, 9, 10, 1, 6, 10, 5, 10, 1, 2, 3, 4, 5, 6, 7, 8, 9, 10, 9, 1, 4, 6, 10, 4, 4, 6, 9, 1, 2, 3, 4, 5, 6, 7, 9, 10, 1, 2, 3, 4, 5, 6, 7, 8, 9, 10, 2, 5, 9, 1, 2, 3, 4, 5, 6, 7, 8, 9, 10, 1, 2, 3, 4, 5, 6, 7, 8, 9, 10, 1, 2, 3, 4, 5, 6, 7, 8, 9, 10, 1, 2, 3, 4, 5, 6, 7, 8, 9, 10, 1, 2, 3, 4, 5, 6, 7, 8, 9, 10, 1, 6, 9, 5, 1, 2, 3, 4, 5, 6, 7, 8, 9, 10, 2, 1, 4, 6, 8, 10, 1, 2, 3, 4, 5, 6, 7, 8, 9, 10, 8, 4, 1, 2, 3, 4, 5, 6, 7, 8, 9, 10, 3, 1, 2, 3, 4, 5, 6, 7, 9, 10, 1, 1, 2, 3, 4, 5, 6, 7, 8, 9, 10, 1, 2, 3, 5, 6, 7, 8, 9, 10, 6, 1, 2, 3, 4, 5, 6, 7, 8, 9, 10, 2, 3, 6, 10, 10, 1, 6, 1, 2, 1, 10, 5, 10, 8, 5, 3, 8, 2, 3, 7, 3, 2, 3, 2, 3, 5, 7, 8, 10, 1, 2, 3, 4, 5, 6, 7, 8, 9, 10, 3, 8, 2, 7, 2, 3, 1, 2, 3, 4, 5, 6, 7, 8, 9, 10, 1, 6, 8, 1, 2, 3, 4, 5, 6, 7, 8, 9, 10, 1, 2, 3, 4, 5, 6, 7, 8, 9, 10, 2, 8, 1, 2, 3, 4, 5, 6, 7, 8, 9, 10, 1, 2, 3, 4, 5, 6, 7, 8, 9, 10, 1, 2, 3, 4, 5, 6, 7, 8, 9, 10, 8, 5, 7, 8, 1, 2, 4, 5, 6, 9, 10, 1, 4, 6, 10, 1, 2, 3, 4, 5, 6, 7, 8, 9, 10, 10, 2, 1, 2, 3, 4, 5, 6, 7, 8, 9, 10, 1, 4, 6, 10, 4, 6, 10, 4, 1, 3, 4, 6, 9, 1, 1, 4, 6, 10, 1, 4, 6, 9, 10, 10, 1, 2, 3, 4, 5, 6, 7, 8, 10, 1, 2, 3, 4, 5, 6, 7, 8, 9, 10, 1, 2, 3, 6, 8, 9, 4, 6, 10, 1, 6, 2, 4, 1, 10, 1, 4, 5, 6, 8, 9, 10, 2, 5, 7, 3, 4, 6, 10, 2, 3, 5, 7, 1, 5, 6, 8, 1, 2, 3, 4, 5, 6, 7, 8, 9, 10, 2, 7, 1, 2, 3, 4, 5, 6, 7, 8, 9, 10, 3, 5, 10, 3, 8, 1, 2, 3, 4, 5, 6, 8, 9, 10, 2, 3, 8, 10, 5, 8, 1, 2, 3, 7, 8, 4, 6, 9, 1, 2, 3, 4, 5, 6, 7, 8, 9, 10, 1, 4, 6, 9, 1, 2, 3, 4, 5, 6, 7, 8, 9, 10, 1, 2, 3, 4, 5, 6, 7, 8, 9, 10, 4, 6, 9, 5, 10, 2, 5, 7, 4, 6, 2, 5, 8, 1, 4, 6, 10, 1, 2, 3, 4, 5, 6, 7, 8, 9, 10, 5, 7, 1, 2, 3, 4, 5, 6, 7, 8, 9, 10, 1, 6, 8, 10, 1, 2, 3, 5, 7, 8, 10, 1, 2, 6, 1, 2, 3, 4, 5, 6, 7, 8, 9, 10, 4, 2, 5, 9, 1, 2, 3, 4, 5, 6, 7, 8, 9, 10, 1, 2, 3, 4, 5, 6, 7, 8, 9, 10, 1, 2, 3, 4, 5, 6, 7, 8, 9, 10, 2, 7, 1, 2, 3, 4, 5, 6, 7, 8, 9, 10, 4, 6, 4, 1, 4, 6, 9, 10, 1, 4, 6, 1, 3, 4, 5, 6, 9, 10, 5, 7, 1, 2, 3, 4, 5, 6, 7, 8, 10, 1, 1, 4, 6, 10, 6, 9, 6, 1, 4, 6, 7, 5, 6, 9, 1, 2, 5, 5, 3, 10, 1, 2, 4, 6, 9, 10, 6, 1, 2, 3, 4, 5, 6, 7, 8, 9, 10, 1, 2, 3, 4, 5, 6, 7, 8, 9, 10, 6, 1, 2, 3, 4, 5, 6, 7, 8, 9, 10, 4, 9, 4, 9, 6, 1, 4, 1, 4, 6, 8, 10, 1, 4, 6, 10, 1, 2, 3, 4, 6, 9, 10, 1, 9, 1, 3, 4, 5, 10, 1, 10, 1, 4, 5, 6, 7, 8, 9, 10, 1, 6, 1, 10, 1, 2, 3, 4, 5, 6, 7, 8, 9, 10, 1, 2, 3, 4, 5, 6, 7, 8, 9, 10, 9, 1, 2, 3, 4, 5, 6, 7, 8, 9, 10, 1, 4, 5, 6, 9, 10, 1, 2, 3, 4, 5, 6, 7, 8, 9, 10, 1, 6, 1, 2, 3, 4, 5, 6, 7, 8, 9, 10, 1, 2, 3, 4, 5, 6, 7, 8, 9, 10, 1, 4, 6, 8, 9, 10, 9, 4, 6, 5, 1, 4, 5, 6, 8, 10, 4, 1, 2, 3, 4, 5, 6, 7, 8, 9, 10, 6, 1, 2, 3, 4, 5, 6, 7, 8, 9, 10, 1, 2, 3, 4, 5, 6, 7, 8, 9, 10, 1, 2, 3, 4, 5, 6, 7, 8, 9, 10, 2, 3, 5, 7, 8, 9, 1, 2, 3, 4, 5, 6, 7, 8, 9, 10, 1, 2, 3, 4, 5, 6, 7, 8, 9, 10, 4, 6, 4, 7, 1, 2, 3, 4, 5, 6, 7, 8, 9, 10, 1, 4, 6, 10, 1, 6, 8, 2, 1, 4, 9, 1, 2, 3, 4, 5, 6, 7, 8, 9, 10, 1, 4, 6, 10, 1, 2, 3, 4, 5, 6, 7, 8, 9, 10, 8, 1, 2, 3, 4, 5, 6, 10, 1, 2, 3, 4, 5, 6, 7, 8, 9, 10, 2, 3, 5, 8, 1, 2, 3, 4, 5, 6, 7, 8, 9, 10, 2, 10, 8, 1, 1, 2, 3, 4, 5, 6, 7, 8, 9, 10, 1, 2, 3, 4, 5, 6, 7, 8, 9, 10, 1, 2, 3, 4, 5, 6, 7, 8, 9, 10, 1, 2, 4, 6, 7, 9, 1, 2, 3, 4, 5, 6, 7, 8, 9, 10, 8, 3, 1, 2, 3, 4, 5, 6, 7, 8, 9, 10, 1, 3, 4, 5, 6, 9, 2, 5, 10, 2, 3, 5, 7, 8, 9, 5, 5, 6, 5, 6, 8, 1, 1, 2, 3, 4, 5, 6, 7, 8, 9, 10, 2, 1, 2, 3, 5, 6, 7, 8, 10, 2, 5, 8, 1, 2, 3, 4, 5, 6, 7, 8, 9, 10, 5, 8, 1, 6, 1, 2, 3, 4, 5, 6, 7, 8, 9, 10, 1, 2, 4, 5, 6, 7, 8, 9, 1, 2, 3, 4, 5, 6, 7, 8, 9, 1, 2, 3, 4, 5, 6, 7, 8, 9, 10, 1, 2, 5, 7, 8, 1, 2, 3, 4, 5, 6, 7, 8, 9, 10, 1, 2, 3, 4, 5, 6, 7, 8, 9, 10, 4, 6, 2, 5, 7, 8, 4, 2, 4, 5, 7, 8, 9, 10, 4, 6, 9, 10, 1, 3, 4, 7, 8, 9, 1, 2, 3, 5, 7, 8, 9, 10, 1, 2, 3, 4, 5, 6, 7, 8, 9, 10, 2, 1, 2, 3, 4, 5, 6, 7, 8, 9, 10, 1, 2, 3, 4, 5, 7, 8, 10, 3, 6, 8, 6, 7, 2, 3, 5, 9, 2, 10, 7, 5, 7, 3, 8, 2, 3, 2, 7, 8, 9, 2, 1, 2, 3, 7, 8, 9, 2, 5, 1, 4, 2, 1, 2, 3, 5, 6, 7, 8, 9, 10, 1, 2, 3, 4, 5, 6, 7, 8, 9, 10, 1, 4, 2, 10, 4, 1, 2, 3, 4, 5, 6, 7, 8, 9, 10, 1, 4, 6, 10, 4, 1, 4, 4, 6, 1, 2, 3, 4, 5, 6, 7, 8, 9, 10, 4, 1, 2, 3, 4, 5, 6, 7, 8, 9, 10, 4, 6, 1, 2, 3, 4, 5, 6, 7, 8, 9, 10, 1, 4, 5, 6, 9, 10, 1, 4, 6, 9, 1, 2, 3, 4, 5, 6, 7, 8, 9, 10, 1, 2, 3, 5, 7, 8, 9, 10, 2, 3, 5, 6, 9, 10, 1, 2, 3, 4, 5, 6, 7, 8, 9, 10, 1, 2, 3, 4, 5, 6, 7, 8, 10, 6, 2, 5, 1, 2, 3, 4, 5, 6, 7, 8, 9, 10, 5, 8, 1, 4, 5, 6, 9, 1, 2, 3, 4, 5, 6, 7, 8, 9, 10, 1, 2, 3, 5, 7, 9, 10, 1, 2, 3, 4, 5, 6, 7, 8, 9, 10, 1, 4, 9, 10, 6, 3, 3, 1, 2, 3, 4, 5, 6, 7, 8, 9, 10, 1, 2, 3, 4, 5, 6, 7, 8, 9, 10, 3, 2, 3, 2, 3, 5, 7, 8, 10, 1, 2, 3, 4, 5, 7, 8, 9, 10, 1, 2, 3, 4, 5, 6, 7, 8, 9, 10, 1, 2, 3, 4, 5, 6, 7, 10, 1, 2, 3, 4, 5, 6, 8, 9, 10, 2, 5, 7, 4, 9, 5, 1, 2, 7, 8, 10, 7, 2, 3, 5, 7, 2, 3, 5, 5, 5, 1, 2, 3, 4, 5, 6, 7, 8, 9, 10, 6, 1, 4, 5, 6, 9, 10, 1, 2, 3, 4, 5, 7, 8, 1, 2, 3, 4, 5, 6, 7, 8, 9, 10, 1, 2, 3, 4, 5, 6, 7, 8, 9, 10, 1, 8, 10, 10, 8, 2, 3, 8, 2, 3, 4, 5, 7, 8, 10, 2, 5, 8, 2, 4, 6, 7, 7, 1, 2, 3, 10, 1, 4, 5, 6, 7, 8, 9, 10, 3, 1, 2, 3, 4, 5, 6, 7, 8, 9, 10, 1, 6, 10, 5, 5, 1, 2, 3, 5, 7, 10, 1, 2, 3, 4, 5, 6, 7, 8, 9, 10, 1, 2, 3, 4, 5, 6, 7, 8, 9, 10, 3, 8, 1, 2, 3, 3, 1, 2, 3, 4, 5, 6, 7, 8, 9, 10]}, \"mdsDat\": {\"Freq\": [15.614977836608887, 14.209626197814941, 13.35713005065918, 12.19012451171875, 10.903160095214844, 8.29891300201416, 6.594827175140381, 6.416372299194336, 6.331882476806641, 6.082983493804932], \"topics\": [1, 2, 3, 4, 5, 6, 7, 8, 9, 10], \"cluster\": [1, 1, 1, 1, 1, 1, 1, 1, 1, 1], \"x\": [-0.10058748738010544, 0.12234061845245431, 0.09403116118915056, -0.15587190755989272, 0.08385660742184861, -0.15731054230071018, 0.13050038695405297, 0.13710108890933606, -0.10304269147934028, -0.051017234206793834], \"y\": [-0.07990470602038034, -0.0028268712475649402, -0.06688971189844564, -0.011321353289420718, 0.010065125581798923, -0.023561549631682464, 0.07213695366086897, -0.014864198603198398, 0.17521316286330874, -0.05804685141528455]}, \"topic.order\": [9, 1, 2, 8, 3, 7, 5, 10, 6, 4], \"plot.opts\": {\"ylab\": \"PC2\", \"xlab\": \"PC1\"}, \"R\": 30, \"lambda.step\": 0.01};\n",
       "\n",
       "function LDAvis_load_lib(url, callback){\n",
       "  var s = document.createElement('script');\n",
       "  s.src = url;\n",
       "  s.async = true;\n",
       "  s.onreadystatechange = s.onload = callback;\n",
       "  s.onerror = function(){console.warn(\"failed to load library \" + url);};\n",
       "  document.getElementsByTagName(\"head\")[0].appendChild(s);\n",
       "}\n",
       "\n",
       "if(typeof(LDAvis) !== \"undefined\"){\n",
       "   // already loaded: just create the visualization\n",
       "   !function(LDAvis){\n",
       "       new LDAvis(\"#\" + \"ldavis_el1775656637611765151991361\", ldavis_el1775656637611765151991361_data);\n",
       "   }(LDAvis);\n",
       "}else if(typeof define === \"function\" && define.amd){\n",
       "   // require.js is available: use it to load d3/LDAvis\n",
       "   require.config({paths: {d3: \"https://cdnjs.cloudflare.com/ajax/libs/d3/3.5.5/d3.min\"}});\n",
       "   require([\"d3\"], function(d3){\n",
       "      window.d3 = d3;\n",
       "      LDAvis_load_lib(\"https://cdn.rawgit.com/bmabey/pyLDAvis/files/ldavis.v1.0.0.js\", function(){\n",
       "        new LDAvis(\"#\" + \"ldavis_el1775656637611765151991361\", ldavis_el1775656637611765151991361_data);\n",
       "      });\n",
       "    });\n",
       "}else{\n",
       "    // require.js not available: dynamically load d3 & LDAvis\n",
       "    LDAvis_load_lib(\"https://cdnjs.cloudflare.com/ajax/libs/d3/3.5.5/d3.min.js\", function(){\n",
       "         LDAvis_load_lib(\"https://cdn.rawgit.com/bmabey/pyLDAvis/files/ldavis.v1.0.0.js\", function(){\n",
       "                 new LDAvis(\"#\" + \"ldavis_el1775656637611765151991361\", ldavis_el1775656637611765151991361_data);\n",
       "            })\n",
       "         });\n",
       "}\n",
       "</script>"
      ],
      "text/plain": [
       "<IPython.core.display.HTML object>"
      ]
     },
     "execution_count": 187,
     "metadata": {},
     "output_type": "execute_result"
    }
   ],
   "source": [
    "dataprepared = pyLDAvis.gensim.prepare(ldamodel, corpus, dictionary)\n",
    "pyLDAvis.display(dataprepared)"
   ]
  },
  {
   "cell_type": "code",
   "execution_count": null,
   "metadata": {
    "collapsed": true
   },
   "outputs": [],
   "source": [
    "pyLDAvis.save_html(dataprepared, 'lda_tri.html')"
   ]
  },
  {
   "cell_type": "code",
   "execution_count": 192,
   "metadata": {
    "collapsed": true
   },
   "outputs": [],
   "source": [
    "## SAVE \n",
    "dictionary.save('dictionary_tri.dict')\n",
    "corpora.MmCorpus.serialize('corpus_tri.mm', corpus)"
   ]
  },
  {
   "cell_type": "code",
   "execution_count": 193,
   "metadata": {
    "collapsed": true
   },
   "outputs": [],
   "source": [
    "## SAVE TEXTS\n",
    "with open(\"data_lemmetized_tri.txt\", \"wb\") as fp:   #Pickling\n",
    "    pickle.dump(data_lemmatized, fp)"
   ]
  },
  {
   "cell_type": "code",
   "execution_count": 194,
   "metadata": {
    "collapsed": true
   },
   "outputs": [],
   "source": [
    "### SAVE MODEL\n",
    "ldamodel.save('ldamodel_tri.model')"
   ]
  },
  {
   "cell_type": "code",
   "execution_count": null,
   "metadata": {
    "collapsed": true
   },
   "outputs": [],
   "source": [
    "## LOAD\n",
    "dictionary = gensim.corpora.Dictionary.load('dictionary_tri.dict')\n",
    "corpus = gensim.corpora.MmCorpus('corpus_tri.mm')\n",
    "ldamodel = gensim.models.ldamodel.LdaModel.load('ldamodel_tri.model')\n",
    "with open(\"data_lemmetized_tri.txt\",'rb')as f:\n",
    "    data_lemmatized = pickle.load(f)\n",
    "    f.close()"
   ]
  },
  {
   "cell_type": "code",
   "execution_count": null,
   "metadata": {
    "collapsed": false
   },
   "outputs": [],
   "source": [
    "dictionary.num_pos"
   ]
  },
  {
   "cell_type": "code",
   "execution_count": null,
   "metadata": {
    "collapsed": false
   },
   "outputs": [],
   "source": [
    "dictionary.num_nnz"
   ]
  },
  {
   "cell_type": "code",
   "execution_count": null,
   "metadata": {
    "collapsed": false,
    "scrolled": false
   },
   "outputs": [],
   "source": []
  },
  {
   "cell_type": "markdown",
   "metadata": {},
   "source": [
    "# Finding optimal number of topics"
   ]
  },
  {
   "cell_type": "code",
   "execution_count": null,
   "metadata": {
    "collapsed": true
   },
   "outputs": [],
   "source": [
    "def compute_optimal_tp_num(dictionary, corpus, texts, limit, start=2, step=1):\n",
    "    \"\"\"\n",
    "    Compute c_v coherence for various number of topics\n",
    "\n",
    "    Parameters:\n",
    "    ----------\n",
    "    dictionary : Gensim dictionary\n",
    "    corpus : Gensim corpus s\n",
    "    texts : List of input texts\n",
    "    limit : Max num of topics\n",
    "\n",
    "    Returns:\n",
    "    -------\n",
    "    model_list : List of LDA topic models\n",
    "    coherence_values : Coherence values corresponding to the LDA model with respective number of topics\n",
    "    \"\"\"\n",
    "    coherence_values = []\n",
    "    model_list = []\n",
    "    parameter_list = list(range(0, limit, 5))\n",
    "    parameter_list[0] = start\n",
    "    grid ={}\n",
    "    cv_dic = {}\n",
    "    for num_topics in parameter_list:\n",
    "        print(num_topics)\n",
    "\n",
    "        model = models.LdaModel(corpus, num_topics=num_topics,\\\n",
    "                                id2word=dictionary, \\\n",
    "                                      update_every=5, chunksize=500,  passes=20)\n",
    "        model_list.append(model)\n",
    "        perplex = model.log_perplexity(corpus, total_docs=len(corpus))\n",
    "        grid[num_topics]=[]\n",
    "        grid[num_topics].append(perplex)\n",
    "        coherencemodel = CoherenceModel(model=model, texts=texts,\\\n",
    "                                              dictionary=dictionary, coherence='c_v')\n",
    "        cv_dic[num_topics]=[]\n",
    "        cv_dic[num_topics].append(coherencemodel.get_coherence())\n",
    "\n",
    "    return model_list, cv_dic, grid"
   ]
  },
  {
   "cell_type": "code",
   "execution_count": null,
   "metadata": {
    "collapsed": false,
    "scrolled": true
   },
   "outputs": [],
   "source": [
    "%time model_list_rev, coherence_values_rev, grid_rev = compute_optimal_tp_num(dictionary=dictionary,\\\n",
    "                                                                           corpus=corpus,\\\n",
    "                                                       texts=data_lemmatized, start=2, limit=50, step=5)"
   ]
  },
  {
   "cell_type": "code",
   "execution_count": null,
   "metadata": {
    "collapsed": false
   },
   "outputs": [],
   "source": [
    "coherence_values_rev"
   ]
  },
  {
   "cell_type": "code",
   "execution_count": null,
   "metadata": {
    "collapsed": false
   },
   "outputs": [],
   "source": [
    "grid_rev"
   ]
  },
  {
   "cell_type": "code",
   "execution_count": null,
   "metadata": {
    "collapsed": false
   },
   "outputs": [],
   "source": [
    "# Show CV\n",
    "#x = range(start, limit, step)\n",
    "dfcv = pd.DataFrame(coherence_values_rev)\n",
    "\n",
    "axcv = plt.figure(figsize=(6,4)).add_subplot(111)\n",
    "plt.plot(dfcv.iloc[0].transpose())"
   ]
  },
  {
   "cell_type": "code",
   "execution_count": null,
   "metadata": {
    "collapsed": false
   },
   "outputs": [],
   "source": [
    "# perplexity\n",
    "dfp = pd.DataFrame(grid_rev)\n",
    "plt.plot(dfp.iloc[0].transpose())"
   ]
  },
  {
   "cell_type": "markdown",
   "metadata": {},
   "source": [
    "# simple_process\n"
   ]
  },
  {
   "cell_type": "code",
   "execution_count": null,
   "metadata": {
    "collapsed": false
   },
   "outputs": [],
   "source": [
    "# Build the bigram and trigram models\n",
    "%time bigram2 = gensim.models.Phrases(tokenized_text,\\\n",
    "                                     min_count=5, threshold=100) \n",
    "# higher threshold fewer phrases.\n",
    "#trigram = gensim.models.Phrases(bigram[data_words], threshold=100)  \n",
    "\n",
    "# Faster way to get a sentence clubbed as a trigram/bigram\n",
    "%time bigram_mod2 = gensim.models.phrases.Phraser(bigram2)\n",
    "#trigram_mod = gensim.models.phrases.Phraser(trigram)"
   ]
  },
  {
   "cell_type": "code",
   "execution_count": null,
   "metadata": {
    "collapsed": false
   },
   "outputs": [],
   "source": [
    "# Remove Stop Words\n",
    "%time data_words_nostops2 = remove_stopwords(tokenized_text)\n",
    "# Form Bigrams\n",
    "%time data_words_bigrams2 = make_bigrams(bigram_mod2, data_words_nostops2)"
   ]
  },
  {
   "cell_type": "code",
   "execution_count": null,
   "metadata": {
    "collapsed": false
   },
   "outputs": [],
   "source": [
    "# Do lemmatization keeping only noun, adj, vb, adv\n",
    "%time data_lemmatized2 = lemmatization(data_words_bigrams2,\\\n",
    "                                      allowed_postags=['NOUN', 'ADJ', 'VERB', 'ADV'])"
   ]
  },
  {
   "cell_type": "code",
   "execution_count": null,
   "metadata": {
    "collapsed": false
   },
   "outputs": [],
   "source": [
    "#create a Gensim dictionary from the texts\n",
    "%time dictionary2= corpora.Dictionary(data_lemmatized2)\n",
    "#remove extremes (similar to the min/max df step used when creating the tf-idf matrix)\n",
    "%time dictionary2.filter_extremes(no_below=5, no_above=0.7)"
   ]
  },
  {
   "cell_type": "code",
   "execution_count": null,
   "metadata": {
    "collapsed": false
   },
   "outputs": [],
   "source": [
    "#convert the dictionary to a bag of words corpus for reference\n",
    "%time corpus2 = [dictionary2.doc2bow(text2) for text2 in data_lemmatized2]"
   ]
  },
  {
   "cell_type": "code",
   "execution_count": null,
   "metadata": {
    "collapsed": false
   },
   "outputs": [],
   "source": [
    "####### LDA model\n",
    "%time ldamodel2 = models.LdaModel(corpus2, num_topics=20, \\\n",
    "                                   id2word=dictionary2, update_every=5,\\\n",
    "                                 chunksize=500, passes=20)"
   ]
  },
  {
   "cell_type": "code",
   "execution_count": null,
   "metadata": {
    "collapsed": false
   },
   "outputs": [],
   "source": [
    "# Get the topic related words \n",
    "topics_matrix2 = ldamodel2.show_topics(formatted=False, num_words=15, num_topics=15)\n",
    "topics_matrix2 = np.array(topics_matrix2, dtype=object)\n",
    "topic_words2 = topics_matrix2[:,1]\n",
    "\n",
    "allls2 = []\n",
    "allls12 = []\n",
    "for k2 in range(len(topic_words2)):\n",
    "    wordls2 = []\n",
    "    for i2, v2 in topic_words2[k2]:\n",
    "        wordls2.append(i2)\n",
    "    print(wordls2)\n",
    "    allls.append(wordls2)\n",
    "    allls1.append([wordls2])"
   ]
  },
  {
   "cell_type": "code",
   "execution_count": null,
   "metadata": {
    "collapsed": false
   },
   "outputs": [],
   "source": [
    "dataprepared2 = pyLDAvis.gensim.prepare(ldamodel2, corpus2, dictionary2)\n",
    "pyLDAvis.display(dataprepared2)"
   ]
  },
  {
   "cell_type": "markdown",
   "metadata": {},
   "source": [
    "# calculate topic distribution"
   ]
  },
  {
   "cell_type": "code",
   "execution_count": 195,
   "metadata": {
    "collapsed": true
   },
   "outputs": [],
   "source": [
    "from __future__ import absolute_import\n",
    "import funcy as fp\n",
    "import numpy as np\n",
    "import pandas as pd\n",
    "from scipy.sparse import issparse\n",
    "from past.builtins import xrange\n",
    "#from . import prepare as vis_prepare\n",
    "\n",
    "\n",
    "def _extract_data(topic_model, corpus, dictionary, doc_topic_dists=None):\n",
    "    import gensim\n",
    "    if not gensim.matutils.ismatrix(corpus):\n",
    "        corpus_csc = gensim.matutils.corpus2csc(corpus, num_terms=len(dictionary))\n",
    "    else:\n",
    "        corpus_csc = corpus\n",
    "        # Need corpus to be a streaming gensim list corpus for len and inference functions below:\n",
    "        corpus = gensim.matutils.Sparse2Corpus(corpus_csc)\n",
    "\n",
    "    vocab = list(dictionary.token2id.keys())\n",
    "     # TODO: add the hyperparam to smooth it out? no beta in online LDA impl.. hmm..\n",
    "    # for now, I'll just make sure we don't ever get zeros...\n",
    "    beta = 0.01\n",
    "    fnames_argsort = np.asarray(list(dictionary.token2id.values()), dtype=np.int_)\n",
    "    term_freqs = corpus_csc.sum(axis=1).A.ravel()[fnames_argsort]\n",
    "    term_freqs[term_freqs == 0] = beta\n",
    "    doc_lengths = corpus_csc.sum(axis=0).A.ravel()\n",
    "\n",
    "    assert term_freqs.shape[0] == len(dictionary), 'Term frequencies and dictionary have different shape {} != {}'.format(term_freqs.shape[0], len(dictionary))\n",
    "    assert doc_lengths.shape[0] == len(corpus), 'Document lengths and corpus have different sizes {} != {}'.format(doc_lengths.shape[0], len(corpus))\n",
    "\n",
    "    if hasattr(topic_model, 'lda_alpha'):\n",
    "        num_topics = len(topic_model.lda_alpha)\n",
    "    else:\n",
    "        num_topics = topic_model.num_topics\n",
    "\n",
    "    if doc_topic_dists is None:\n",
    "        # If its an HDP model.\n",
    "        if hasattr(topic_model, 'lda_beta'):\n",
    "            gamma = topic_model.inference(corpus)\n",
    "        else:\n",
    "            gamma, _ = topic_model.inference(corpus)\n",
    "        doc_topic_dists = gamma / gamma.sum(axis=1)[:, None]\n",
    "    else:\n",
    "        if isinstance(doc_topic_dists, list):\n",
    "            doc_topic_dists = gensim.matutils.corpus2dense(doc_topic_dists, num_topics).T\n",
    "        elif issparse(doc_topic_dists):\n",
    "            doc_topic_dists = doc_topic_dists.T.todense()\n",
    "        doc_topic_dists = doc_topic_dists / doc_topic_dists.sum(axis=1)\n",
    "\n",
    "    assert doc_topic_dists.shape[1] == num_topics, 'Document topics and number of topics do not match {} != {}'.format(doc_topic_dists.shape[1], num_topics)\n",
    "\n",
    "    # get the topic-term distribution straight from gensim without\n",
    "    # iterating over tuples\n",
    "    if hasattr(topic_model, 'lda_beta'):\n",
    "        topic = topic_model.lda_beta\n",
    "    else:\n",
    "        topic = topic_model.state.get_lambda()\n",
    "    topic = topic / topic.sum(axis=1)[:, None]\n",
    "    topic_term_dists = topic[:, fnames_argsort]\n",
    "\n",
    "    assert topic_term_dists.shape[0] == doc_topic_dists.shape[1]\n",
    "\n",
    "    d =  {'topic_term_dists': topic_term_dists, 'doc_topic_dists': doc_topic_dists,\n",
    "           'doc_lengths': doc_lengths, 'vocab': vocab, 'term_frequency': term_freqs}\n",
    "    return d"
   ]
  },
  {
   "cell_type": "code",
   "execution_count": 196,
   "metadata": {
    "collapsed": true
   },
   "outputs": [],
   "source": [
    "do = _extract_data(ldamodel, corpus, dictionary)"
   ]
  },
  {
   "cell_type": "code",
   "execution_count": 197,
   "metadata": {
    "collapsed": true
   },
   "outputs": [],
   "source": [
    "dtt = pd.DataFrame(do['doc_topic_dists']).reset_index()"
   ]
  },
  {
   "cell_type": "code",
   "execution_count": 198,
   "metadata": {
    "collapsed": true
   },
   "outputs": [],
   "source": [
    "dtt['year'] = df_clean['year']"
   ]
  },
  {
   "cell_type": "code",
   "execution_count": null,
   "metadata": {
    "collapsed": true
   },
   "outputs": [],
   "source": []
  },
  {
   "cell_type": "code",
   "execution_count": 199,
   "metadata": {
    "collapsed": true
   },
   "outputs": [],
   "source": [
    "dttm = pd.melt(dtt, id_vars=['index','year'], value_vars=[0,1,2,3,4,5,6,7,8,9])"
   ]
  },
  {
   "cell_type": "code",
   "execution_count": 200,
   "metadata": {
    "collapsed": true
   },
   "outputs": [],
   "source": [
    "dttm.rename(columns={'index':'doc_index','variable':'topic_no','value':'topic_weight'}, inplace = True)"
   ]
  },
  {
   "cell_type": "code",
   "execution_count": 201,
   "metadata": {
    "collapsed": true
   },
   "outputs": [],
   "source": [
    "dtm1 = dttm.pivot(index='doc_index', columns='topic_no', values='topic_weight').fillna(0)"
   ]
  },
  {
   "cell_type": "code",
   "execution_count": 202,
   "metadata": {
    "collapsed": true
   },
   "outputs": [],
   "source": [
    "dtm2 = dtm1.div(dtm1.sum(axis=1), axis=0)\n",
    "\n",
    "# Shift back to a long dataframe\n",
    "dt_norm2 = dtm2.stack().reset_index()\n",
    "dt_norm2.columns = ['doc_index', 'topic_id', 'norm_topic_weight']"
   ]
  },
  {
   "cell_type": "code",
   "execution_count": null,
   "metadata": {
    "collapsed": false
   },
   "outputs": [],
   "source": [
    "len(text_ls)"
   ]
  },
  {
   "cell_type": "code",
   "execution_count": 203,
   "metadata": {
    "collapsed": true
   },
   "outputs": [],
   "source": [
    "dt_norm21 = dt_norm2.merge(dttm[['year','doc_index']] ,on = 'doc_index').drop_duplicates()"
   ]
  },
  {
   "cell_type": "code",
   "execution_count": null,
   "metadata": {
    "collapsed": true
   },
   "outputs": [],
   "source": [
    "#text_ls[674]"
   ]
  },
  {
   "cell_type": "code",
   "execution_count": null,
   "metadata": {
    "collapsed": true
   },
   "outputs": [],
   "source": [
    "#wh[235]"
   ]
  },
  {
   "cell_type": "code",
   "execution_count": 204,
   "metadata": {
    "collapsed": true
   },
   "outputs": [],
   "source": [
    "max_df = dt_norm21[dt_norm21.groupby(['doc_index'])['norm_topic_weight'].transform(max) == dt_norm21['norm_topic_weight']]"
   ]
  },
  {
   "cell_type": "code",
   "execution_count": 205,
   "metadata": {
    "collapsed": false
   },
   "outputs": [
    {
     "data": {
      "text/html": [
       "<div>\n",
       "<style scoped>\n",
       "    .dataframe tbody tr th:only-of-type {\n",
       "        vertical-align: middle;\n",
       "    }\n",
       "\n",
       "    .dataframe tbody tr th {\n",
       "        vertical-align: top;\n",
       "    }\n",
       "\n",
       "    .dataframe thead th {\n",
       "        text-align: right;\n",
       "    }\n",
       "</style>\n",
       "<table border=\"1\" class=\"dataframe\">\n",
       "  <thead>\n",
       "    <tr style=\"text-align: right;\">\n",
       "      <th></th>\n",
       "      <th>doc_index</th>\n",
       "      <th>topic_id</th>\n",
       "      <th>norm_topic_weight</th>\n",
       "      <th>year</th>\n",
       "    </tr>\n",
       "  </thead>\n",
       "  <tbody>\n",
       "    <tr>\n",
       "      <th>478000</th>\n",
       "      <td>4780</td>\n",
       "      <td>0</td>\n",
       "      <td>0.998217</td>\n",
       "      <td>2018</td>\n",
       "    </tr>\n",
       "    <tr>\n",
       "      <th>255200</th>\n",
       "      <td>2552</td>\n",
       "      <td>0</td>\n",
       "      <td>0.997527</td>\n",
       "      <td>2018</td>\n",
       "    </tr>\n",
       "    <tr>\n",
       "      <th>236900</th>\n",
       "      <td>2369</td>\n",
       "      <td>0</td>\n",
       "      <td>0.997264</td>\n",
       "      <td>2018</td>\n",
       "    </tr>\n",
       "    <tr>\n",
       "      <th>490600</th>\n",
       "      <td>4906</td>\n",
       "      <td>0</td>\n",
       "      <td>0.997115</td>\n",
       "      <td>2018</td>\n",
       "    </tr>\n",
       "    <tr>\n",
       "      <th>287500</th>\n",
       "      <td>2875</td>\n",
       "      <td>0</td>\n",
       "      <td>0.996928</td>\n",
       "      <td>2018</td>\n",
       "    </tr>\n",
       "    <tr>\n",
       "      <th>329400</th>\n",
       "      <td>3294</td>\n",
       "      <td>0</td>\n",
       "      <td>0.996715</td>\n",
       "      <td>2018</td>\n",
       "    </tr>\n",
       "    <tr>\n",
       "      <th>295200</th>\n",
       "      <td>2952</td>\n",
       "      <td>0</td>\n",
       "      <td>0.996703</td>\n",
       "      <td>2017</td>\n",
       "    </tr>\n",
       "    <tr>\n",
       "      <th>323800</th>\n",
       "      <td>3238</td>\n",
       "      <td>0</td>\n",
       "      <td>0.996666</td>\n",
       "      <td>2017</td>\n",
       "    </tr>\n",
       "    <tr>\n",
       "      <th>313100</th>\n",
       "      <td>3131</td>\n",
       "      <td>0</td>\n",
       "      <td>0.996577</td>\n",
       "      <td>2017</td>\n",
       "    </tr>\n",
       "    <tr>\n",
       "      <th>286800</th>\n",
       "      <td>2868</td>\n",
       "      <td>0</td>\n",
       "      <td>0.996470</td>\n",
       "      <td>2017</td>\n",
       "    </tr>\n",
       "    <tr>\n",
       "      <th>322400</th>\n",
       "      <td>3224</td>\n",
       "      <td>0</td>\n",
       "      <td>0.996069</td>\n",
       "      <td>2017</td>\n",
       "    </tr>\n",
       "    <tr>\n",
       "      <th>323100</th>\n",
       "      <td>3231</td>\n",
       "      <td>0</td>\n",
       "      <td>0.995889</td>\n",
       "      <td>2018</td>\n",
       "    </tr>\n",
       "    <tr>\n",
       "      <th>259900</th>\n",
       "      <td>2599</td>\n",
       "      <td>0</td>\n",
       "      <td>0.995889</td>\n",
       "      <td>2018</td>\n",
       "    </tr>\n",
       "    <tr>\n",
       "      <th>480100</th>\n",
       "      <td>4801</td>\n",
       "      <td>0</td>\n",
       "      <td>0.995734</td>\n",
       "      <td>2018</td>\n",
       "    </tr>\n",
       "    <tr>\n",
       "      <th>298500</th>\n",
       "      <td>2985</td>\n",
       "      <td>0</td>\n",
       "      <td>0.995714</td>\n",
       "      <td>2017</td>\n",
       "    </tr>\n",
       "    <tr>\n",
       "      <th>275700</th>\n",
       "      <td>2757</td>\n",
       "      <td>0</td>\n",
       "      <td>0.995714</td>\n",
       "      <td>2018</td>\n",
       "    </tr>\n",
       "    <tr>\n",
       "      <th>321700</th>\n",
       "      <td>3217</td>\n",
       "      <td>0</td>\n",
       "      <td>0.995672</td>\n",
       "      <td>2017</td>\n",
       "    </tr>\n",
       "    <tr>\n",
       "      <th>257900</th>\n",
       "      <td>2579</td>\n",
       "      <td>0</td>\n",
       "      <td>0.995651</td>\n",
       "      <td>2018</td>\n",
       "    </tr>\n",
       "    <tr>\n",
       "      <th>252100</th>\n",
       "      <td>2521</td>\n",
       "      <td>0</td>\n",
       "      <td>0.995453</td>\n",
       "      <td>2018</td>\n",
       "    </tr>\n",
       "    <tr>\n",
       "      <th>441600</th>\n",
       "      <td>4416</td>\n",
       "      <td>0</td>\n",
       "      <td>0.995430</td>\n",
       "      <td>2017</td>\n",
       "    </tr>\n",
       "    <tr>\n",
       "      <th>239300</th>\n",
       "      <td>2393</td>\n",
       "      <td>0</td>\n",
       "      <td>0.995336</td>\n",
       "      <td>2016</td>\n",
       "    </tr>\n",
       "    <tr>\n",
       "      <th>275300</th>\n",
       "      <td>2753</td>\n",
       "      <td>0</td>\n",
       "      <td>0.995107</td>\n",
       "      <td>2018</td>\n",
       "    </tr>\n",
       "    <tr>\n",
       "      <th>287300</th>\n",
       "      <td>2873</td>\n",
       "      <td>0</td>\n",
       "      <td>0.994886</td>\n",
       "      <td>2017</td>\n",
       "    </tr>\n",
       "    <tr>\n",
       "      <th>239000</th>\n",
       "      <td>2390</td>\n",
       "      <td>0</td>\n",
       "      <td>0.994826</td>\n",
       "      <td>2016</td>\n",
       "    </tr>\n",
       "    <tr>\n",
       "      <th>266900</th>\n",
       "      <td>2669</td>\n",
       "      <td>0</td>\n",
       "      <td>0.994797</td>\n",
       "      <td>2018</td>\n",
       "    </tr>\n",
       "    <tr>\n",
       "      <th>520300</th>\n",
       "      <td>5203</td>\n",
       "      <td>0</td>\n",
       "      <td>0.994796</td>\n",
       "      <td>2018</td>\n",
       "    </tr>\n",
       "    <tr>\n",
       "      <th>278500</th>\n",
       "      <td>2785</td>\n",
       "      <td>0</td>\n",
       "      <td>0.994674</td>\n",
       "      <td>2018</td>\n",
       "    </tr>\n",
       "    <tr>\n",
       "      <th>324900</th>\n",
       "      <td>3249</td>\n",
       "      <td>0</td>\n",
       "      <td>0.994642</td>\n",
       "      <td>2017</td>\n",
       "    </tr>\n",
       "    <tr>\n",
       "      <th>316200</th>\n",
       "      <td>3162</td>\n",
       "      <td>0</td>\n",
       "      <td>0.994577</td>\n",
       "      <td>2017</td>\n",
       "    </tr>\n",
       "    <tr>\n",
       "      <th>299700</th>\n",
       "      <td>2997</td>\n",
       "      <td>0</td>\n",
       "      <td>0.994545</td>\n",
       "      <td>2017</td>\n",
       "    </tr>\n",
       "    <tr>\n",
       "      <th>...</th>\n",
       "      <td>...</td>\n",
       "      <td>...</td>\n",
       "      <td>...</td>\n",
       "      <td>...</td>\n",
       "    </tr>\n",
       "    <tr>\n",
       "      <th>527800</th>\n",
       "      <td>5278</td>\n",
       "      <td>0</td>\n",
       "      <td>0.378911</td>\n",
       "      <td>2018</td>\n",
       "    </tr>\n",
       "    <tr>\n",
       "      <th>99800</th>\n",
       "      <td>998</td>\n",
       "      <td>0</td>\n",
       "      <td>0.378442</td>\n",
       "      <td>2014</td>\n",
       "    </tr>\n",
       "    <tr>\n",
       "      <th>345800</th>\n",
       "      <td>3458</td>\n",
       "      <td>0</td>\n",
       "      <td>0.378206</td>\n",
       "      <td>2018</td>\n",
       "    </tr>\n",
       "    <tr>\n",
       "      <th>400200</th>\n",
       "      <td>4002</td>\n",
       "      <td>0</td>\n",
       "      <td>0.378160</td>\n",
       "      <td>2018</td>\n",
       "    </tr>\n",
       "    <tr>\n",
       "      <th>40200</th>\n",
       "      <td>402</td>\n",
       "      <td>0</td>\n",
       "      <td>0.377797</td>\n",
       "      <td>2018</td>\n",
       "    </tr>\n",
       "    <tr>\n",
       "      <th>511400</th>\n",
       "      <td>5114</td>\n",
       "      <td>0</td>\n",
       "      <td>0.372639</td>\n",
       "      <td>2018</td>\n",
       "    </tr>\n",
       "    <tr>\n",
       "      <th>458100</th>\n",
       "      <td>4581</td>\n",
       "      <td>0</td>\n",
       "      <td>0.372265</td>\n",
       "      <td>2018</td>\n",
       "    </tr>\n",
       "    <tr>\n",
       "      <th>484300</th>\n",
       "      <td>4843</td>\n",
       "      <td>0</td>\n",
       "      <td>0.369655</td>\n",
       "      <td>2018</td>\n",
       "    </tr>\n",
       "    <tr>\n",
       "      <th>375900</th>\n",
       "      <td>3759</td>\n",
       "      <td>0</td>\n",
       "      <td>0.366663</td>\n",
       "      <td>2018</td>\n",
       "    </tr>\n",
       "    <tr>\n",
       "      <th>248200</th>\n",
       "      <td>2482</td>\n",
       "      <td>0</td>\n",
       "      <td>0.366587</td>\n",
       "      <td>2015</td>\n",
       "    </tr>\n",
       "    <tr>\n",
       "      <th>323000</th>\n",
       "      <td>3230</td>\n",
       "      <td>0</td>\n",
       "      <td>0.365866</td>\n",
       "      <td>2017</td>\n",
       "    </tr>\n",
       "    <tr>\n",
       "      <th>555000</th>\n",
       "      <td>5550</td>\n",
       "      <td>0</td>\n",
       "      <td>0.362908</td>\n",
       "      <td>2018</td>\n",
       "    </tr>\n",
       "    <tr>\n",
       "      <th>319100</th>\n",
       "      <td>3191</td>\n",
       "      <td>0</td>\n",
       "      <td>0.362125</td>\n",
       "      <td>2018</td>\n",
       "    </tr>\n",
       "    <tr>\n",
       "      <th>483100</th>\n",
       "      <td>4831</td>\n",
       "      <td>0</td>\n",
       "      <td>0.354219</td>\n",
       "      <td>2018</td>\n",
       "    </tr>\n",
       "    <tr>\n",
       "      <th>501200</th>\n",
       "      <td>5012</td>\n",
       "      <td>0</td>\n",
       "      <td>0.338645</td>\n",
       "      <td>2018</td>\n",
       "    </tr>\n",
       "    <tr>\n",
       "      <th>313600</th>\n",
       "      <td>3136</td>\n",
       "      <td>0</td>\n",
       "      <td>0.333568</td>\n",
       "      <td>2018</td>\n",
       "    </tr>\n",
       "    <tr>\n",
       "      <th>321500</th>\n",
       "      <td>3215</td>\n",
       "      <td>0</td>\n",
       "      <td>0.331591</td>\n",
       "      <td>2017</td>\n",
       "    </tr>\n",
       "    <tr>\n",
       "      <th>407500</th>\n",
       "      <td>4075</td>\n",
       "      <td>0</td>\n",
       "      <td>0.326024</td>\n",
       "      <td>2018</td>\n",
       "    </tr>\n",
       "    <tr>\n",
       "      <th>405200</th>\n",
       "      <td>4052</td>\n",
       "      <td>0</td>\n",
       "      <td>0.316299</td>\n",
       "      <td>2018</td>\n",
       "    </tr>\n",
       "    <tr>\n",
       "      <th>81100</th>\n",
       "      <td>811</td>\n",
       "      <td>0</td>\n",
       "      <td>0.315988</td>\n",
       "      <td>2014</td>\n",
       "    </tr>\n",
       "    <tr>\n",
       "      <th>351800</th>\n",
       "      <td>3518</td>\n",
       "      <td>0</td>\n",
       "      <td>0.314362</td>\n",
       "      <td>2018</td>\n",
       "    </tr>\n",
       "    <tr>\n",
       "      <th>346400</th>\n",
       "      <td>3464</td>\n",
       "      <td>0</td>\n",
       "      <td>0.309463</td>\n",
       "      <td>2018</td>\n",
       "    </tr>\n",
       "    <tr>\n",
       "      <th>449700</th>\n",
       "      <td>4497</td>\n",
       "      <td>0</td>\n",
       "      <td>0.307631</td>\n",
       "      <td>2018</td>\n",
       "    </tr>\n",
       "    <tr>\n",
       "      <th>339600</th>\n",
       "      <td>3396</td>\n",
       "      <td>0</td>\n",
       "      <td>0.302199</td>\n",
       "      <td>2018</td>\n",
       "    </tr>\n",
       "    <tr>\n",
       "      <th>376400</th>\n",
       "      <td>3764</td>\n",
       "      <td>0</td>\n",
       "      <td>0.297403</td>\n",
       "      <td>2018</td>\n",
       "    </tr>\n",
       "    <tr>\n",
       "      <th>381900</th>\n",
       "      <td>3819</td>\n",
       "      <td>0</td>\n",
       "      <td>0.294448</td>\n",
       "      <td>2018</td>\n",
       "    </tr>\n",
       "    <tr>\n",
       "      <th>367100</th>\n",
       "      <td>3671</td>\n",
       "      <td>0</td>\n",
       "      <td>0.290265</td>\n",
       "      <td>2018</td>\n",
       "    </tr>\n",
       "    <tr>\n",
       "      <th>482600</th>\n",
       "      <td>4826</td>\n",
       "      <td>0</td>\n",
       "      <td>0.283390</td>\n",
       "      <td>2018</td>\n",
       "    </tr>\n",
       "    <tr>\n",
       "      <th>317800</th>\n",
       "      <td>3178</td>\n",
       "      <td>0</td>\n",
       "      <td>0.278473</td>\n",
       "      <td>2017</td>\n",
       "    </tr>\n",
       "    <tr>\n",
       "      <th>542000</th>\n",
       "      <td>5420</td>\n",
       "      <td>0</td>\n",
       "      <td>0.277939</td>\n",
       "      <td>2018</td>\n",
       "    </tr>\n",
       "  </tbody>\n",
       "</table>\n",
       "<p>955 rows × 4 columns</p>\n",
       "</div>"
      ],
      "text/plain": [
       "        doc_index  topic_id  norm_topic_weight  year\n",
       "478000       4780         0           0.998217  2018\n",
       "255200       2552         0           0.997527  2018\n",
       "236900       2369         0           0.997264  2018\n",
       "490600       4906         0           0.997115  2018\n",
       "287500       2875         0           0.996928  2018\n",
       "329400       3294         0           0.996715  2018\n",
       "295200       2952         0           0.996703  2017\n",
       "323800       3238         0           0.996666  2017\n",
       "313100       3131         0           0.996577  2017\n",
       "286800       2868         0           0.996470  2017\n",
       "322400       3224         0           0.996069  2017\n",
       "323100       3231         0           0.995889  2018\n",
       "259900       2599         0           0.995889  2018\n",
       "480100       4801         0           0.995734  2018\n",
       "298500       2985         0           0.995714  2017\n",
       "275700       2757         0           0.995714  2018\n",
       "321700       3217         0           0.995672  2017\n",
       "257900       2579         0           0.995651  2018\n",
       "252100       2521         0           0.995453  2018\n",
       "441600       4416         0           0.995430  2017\n",
       "239300       2393         0           0.995336  2016\n",
       "275300       2753         0           0.995107  2018\n",
       "287300       2873         0           0.994886  2017\n",
       "239000       2390         0           0.994826  2016\n",
       "266900       2669         0           0.994797  2018\n",
       "520300       5203         0           0.994796  2018\n",
       "278500       2785         0           0.994674  2018\n",
       "324900       3249         0           0.994642  2017\n",
       "316200       3162         0           0.994577  2017\n",
       "299700       2997         0           0.994545  2017\n",
       "...           ...       ...                ...   ...\n",
       "527800       5278         0           0.378911  2018\n",
       "99800         998         0           0.378442  2014\n",
       "345800       3458         0           0.378206  2018\n",
       "400200       4002         0           0.378160  2018\n",
       "40200         402         0           0.377797  2018\n",
       "511400       5114         0           0.372639  2018\n",
       "458100       4581         0           0.372265  2018\n",
       "484300       4843         0           0.369655  2018\n",
       "375900       3759         0           0.366663  2018\n",
       "248200       2482         0           0.366587  2015\n",
       "323000       3230         0           0.365866  2017\n",
       "555000       5550         0           0.362908  2018\n",
       "319100       3191         0           0.362125  2018\n",
       "483100       4831         0           0.354219  2018\n",
       "501200       5012         0           0.338645  2018\n",
       "313600       3136         0           0.333568  2018\n",
       "321500       3215         0           0.331591  2017\n",
       "407500       4075         0           0.326024  2018\n",
       "405200       4052         0           0.316299  2018\n",
       "81100         811         0           0.315988  2014\n",
       "351800       3518         0           0.314362  2018\n",
       "346400       3464         0           0.309463  2018\n",
       "449700       4497         0           0.307631  2018\n",
       "339600       3396         0           0.302199  2018\n",
       "376400       3764         0           0.297403  2018\n",
       "381900       3819         0           0.294448  2018\n",
       "367100       3671         0           0.290265  2018\n",
       "482600       4826         0           0.283390  2018\n",
       "317800       3178         0           0.278473  2017\n",
       "542000       5420         0           0.277939  2018\n",
       "\n",
       "[955 rows x 4 columns]"
      ]
     },
     "execution_count": 205,
     "metadata": {},
     "output_type": "execute_result"
    }
   ],
   "source": [
    "topic1 = max_df[max_df['topic_id'] == 0]\n",
    "topic1.sort_values('norm_topic_weight', ascending=False)"
   ]
  },
  {
   "cell_type": "code",
   "execution_count": 206,
   "metadata": {
    "collapsed": true
   },
   "outputs": [],
   "source": [
    "max_counts = max_df[['doc_index', 'year', 'topic_id']].groupby(['year', 'topic_id']).agg({'doc_index' : 'count'}).reset_index()\n",
    "max_counts.columns = ['year', 'topic_id', 'max_count']"
   ]
  },
  {
   "cell_type": "code",
   "execution_count": 207,
   "metadata": {
    "collapsed": true
   },
   "outputs": [],
   "source": [
    "# Count the number of individual documents per year\n",
    "total_docs = max_df[['year', 'doc_index']].groupby('year').agg({'doc_index' : 'count'}).reset_index()\n",
    "total_docs.columns = ['year', 'total_docs']"
   ]
  },
  {
   "cell_type": "code",
   "execution_count": null,
   "metadata": {
    "collapsed": false
   },
   "outputs": [],
   "source": [
    "total_docs"
   ]
  },
  {
   "cell_type": "code",
   "execution_count": 208,
   "metadata": {
    "collapsed": true
   },
   "outputs": [],
   "source": [
    "# Combine the two dataframes\n",
    "max_counts = max_counts.merge(total_docs, on='year', how='left')"
   ]
  },
  {
   "cell_type": "code",
   "execution_count": 209,
   "metadata": {
    "collapsed": true
   },
   "outputs": [],
   "source": [
    "max_counts['prevalence'] = max_counts['max_count']/max_counts['total_docs']\n"
   ]
  },
  {
   "cell_type": "code",
   "execution_count": 212,
   "metadata": {
    "collapsed": false
   },
   "outputs": [],
   "source": [
    "cm = plt.cm.get_cmap('tab10')\n",
    "cm_skip = [cm.colors[i] for i in range(len(cm.colors))]"
   ]
  },
  {
   "cell_type": "code",
   "execution_count": 213,
   "metadata": {
    "collapsed": true
   },
   "outputs": [],
   "source": [
    "xi = [\n",
    " 2013,\n",
    " 2014,\n",
    " 2015,\n",
    " 2016,\n",
    " 2017]"
   ]
  },
  {
   "cell_type": "code",
   "execution_count": 214,
   "metadata": {
    "collapsed": true
   },
   "outputs": [],
   "source": [
    "# ### TOPIC PREVALENCE\n",
    "# #for key, data in max_counts.groupby('topic_id'):\n",
    "# for i in range(0,10):\n",
    "#     data = dy.merge(max_counts[max_counts['topic_id'] == i],\n",
    "#                     on = 'year', how = 'left').fillna(0)\n",
    "#     ax3 = data.plot(x='year', y='prevalence', \n",
    "#               label=key, color = cm_skip[i], legend = False, figsize = (11,2))\n",
    "#     ax3.set_ylim(0,0.5)\n",
    "#     #ax3.set_xlim(-0.5,0.5)\n",
    "#     ax3.set_facecolor(\"white\")\n",
    "#     ax3.spines['left'].set_visible(False)\n",
    "#     ax3.spines['right'].set_visible(False)\n",
    "#     ax3.spines['top'].set_visible(False)\n",
    "#     #ax2.set_ylim(0,250)\n",
    "#     ax3.set_xlabel('')\n",
    "#     plt.xticks(data['year'])\n",
    "#     name = \"Topic #\" + str(i+1) +'pv_by_year21'\n",
    "#     plt.grid(True, 'major', 'y', ls='--', lw=.5, c='k', alpha=.3)\n",
    "#     #plt.savefig('Figures/'+str(name)+'.png',dpi=800,facecolor='w',bbox_inches = 'tight')    \n",
    "#     #plt.close()"
   ]
  },
  {
   "cell_type": "code",
   "execution_count": 216,
   "metadata": {
    "collapsed": false
   },
   "outputs": [],
   "source": [
    "#max_counts"
   ]
  },
  {
   "cell_type": "code",
   "execution_count": 223,
   "metadata": {
    "collapsed": false
   },
   "outputs": [
    {
     "data": {
      "image/png": "[encoded data removed]",
      "text/plain": [
       "<matplotlib.figure.Figure at 0x11a6964a8>"
      ]
     },
     "metadata": {},
     "output_type": "display_data"
    }
   ],
   "source": [
    "fig, ax4 =plt.subplots()\n",
    "mylabels = ['Topic 1','Topic 2',\n",
    "           'Topic 3','Topic 4',\n",
    "           'Topic 5','Topic 6',\n",
    "           'Topic 7','Topic 8',\n",
    "           'Topic 9','Topic 10']\n",
    "for key, data in max_counts.groupby('topic_id'):\n",
    "    #data.plot(x='year', y='prevalence', ax=ax, label=key)\n",
    "    #data = nn1\n",
    "    ax4 = data.plot(x='year', y='prevalence', ax = ax4,\n",
    "              label=key, color = cm_skip[key], figsize = (10,5))\n",
    "    ax4.set_ylim(0,0.5)\n",
    "    #ax3.set_xlim(-0.5,0.5)\n",
    "    ax4.set_facecolor(\"white\")\n",
    "    ax4.spines['left'].set_visible(False)\n",
    "    ax4.spines['right'].set_visible(False)\n",
    "    ax4.spines['top'].set_visible(False)\n",
    "    #ax2.set_ylim(0,250)\n",
    "    ax4.set_xlabel('')\n",
    "    plt.xticks(data['year'])\n",
    "    plt.legend(bbox_to_anchor=(1.05, 1), loc=2, borderaxespad=0., \n",
    "               labels=mylabels,frameon=False)\n",
    "    #name = str(i+1) +'pv_by_p'\n",
    "    plt.grid(True, 'major', 'y', ls='--', lw=.5, c='k', alpha=.3)\n",
    "    #plt.savefig('Figures/'+'90-97.png', dpi=800,facecolor='w',bbox_inches='tight')    \n",
    "    #plt.close()"
   ]
  },
  {
   "cell_type": "code",
   "execution_count": null,
   "metadata": {
    "collapsed": true
   },
   "outputs": [],
   "source": []
  },
  {
   "cell_type": "code",
   "execution_count": null,
   "metadata": {
    "collapsed": true
   },
   "outputs": [],
   "source": []
  },
  {
   "cell_type": "code",
   "execution_count": null,
   "metadata": {
    "collapsed": true
   },
   "outputs": [],
   "source": []
  },
  {
   "cell_type": "code",
   "execution_count": null,
   "metadata": {
    "collapsed": true
   },
   "outputs": [],
   "source": []
  },
  {
   "cell_type": "code",
   "execution_count": null,
   "metadata": {
    "collapsed": true
   },
   "outputs": [],
   "source": []
  },
  {
   "cell_type": "markdown",
   "metadata": {},
   "source": [
    "# Graph"
   ]
  },
  {
   "cell_type": "code",
   "execution_count": null,
   "metadata": {
    "collapsed": true
   },
   "outputs": [],
   "source": [
    "NUMDOCS = 60 # number of subreddits OR number of BBC documents per category\n",
    "NUMTOPICS = 10\n",
    "def toVector(l):\n",
    "    ''' inserts 0s for unrepresented topics in a document\n",
    "        input: return value from ldamodel.get_document_topics(corpus[i])\n",
    "        output: document topics with 0s for unrepresented topics'''\n",
    "    ret = []\n",
    "    t = 0\n",
    "    for i in range(NUMTOPICS):\n",
    "        if t == len(l):\n",
    "            ret += [0]\n",
    "        elif l[t][0] == i + 1:\n",
    "            ret += [l[t][1]]\n",
    "            t = t + 1\n",
    "        else:\n",
    "            ret += [0]\n",
    "    return ret"
   ]
  },
  {
   "cell_type": "code",
   "execution_count": null,
   "metadata": {
    "collapsed": true
   },
   "outputs": [],
   "source": [
    "#text_ls#"
   ]
  },
  {
   "cell_type": "code",
   "execution_count": null,
   "metadata": {
    "collapsed": true
   },
   "outputs": [],
   "source": [
    "EPS = 0.001\n",
    "numDocs = len(text_ls)\n",
    "# note: this can take a long time on large corpora\n",
    "similarity = [[0 for x in range(numDocs)] for y in range(numDocs)]\n",
    "\n",
    "for i in range(numDocs):\n",
    "    itops = toVector(ldamodel.get_document_topics(corpus[i]))\n",
    "    for j in range(numDocs)[i:]:\n",
    "        jtops = toVector(ldamodel.get_document_topics(corpus[j]))\n",
    "        sim = 1.0 - gensim.matutils.hellinger(itops, jtops)\n",
    "        sim = min(sim + EPS, 1.0)\n",
    "        \n",
    "        similarity[i][j] = sim\n"
   ]
  },
  {
   "cell_type": "code",
   "execution_count": null,
   "metadata": {
    "collapsed": false
   },
   "outputs": [],
   "source": [
    "type(similarity)"
   ]
  },
  {
   "cell_type": "code",
   "execution_count": null,
   "metadata": {
    "collapsed": true
   },
   "outputs": [],
   "source": [
    "import pickle"
   ]
  },
  {
   "cell_type": "code",
   "execution_count": null,
   "metadata": {
    "collapsed": true
   },
   "outputs": [],
   "source": [
    "with open('similarity','wb') as f:\n",
    "    pickle.dump(similarity,f)"
   ]
  },
  {
   "cell_type": "code",
   "execution_count": null,
   "metadata": {
    "collapsed": true
   },
   "outputs": [],
   "source": [
    "d = pickle.load(open('similarity', 'rb'))"
   ]
  },
  {
   "cell_type": "code",
   "execution_count": null,
   "metadata": {
    "collapsed": false
   },
   "outputs": [],
   "source": [
    "len(d)"
   ]
  },
  {
   "cell_type": "code",
   "execution_count": null,
   "metadata": {
    "collapsed": true
   },
   "outputs": [],
   "source": [
    "# Wordclouds\n",
    "wc = WordCloud(\n",
    "    background_color=\"white\",\n",
    "    max_words=200,\n",
    "    width=800,\n",
    "    height=600,\n",
    "    stopwords= stops#stopwords.words('english')\n",
    ")\n",
    "#WordCloud().fit_words(dict(lda.show_topic(t, 200)))\n",
    "for t in range(ldamodel.num_topics):\n",
    "    name = \"Topic #\" + str(t+1)\n",
    "    plt.figure().subplots_adjust(bottom=0, top=1, left=0, right=1)\n",
    "    plt.imshow(wc.fit_words(dict(ldamodel.show_topic(t, 200))))\n",
    "    plt.axis(\"off\")\n",
    "    #plt.title(\"Topic #\" + str(t))\n",
    "    \n",
    "    plt.savefig(str(name)+'.png', dpi=300,facecolor='w',bbox_inches=\"tight\", pad_inches = 0)\n",
    "    plt.close()\n",
    "    #plt.close()\n",
    "    #plt.show()"
   ]
  },
  {
   "cell_type": "code",
   "execution_count": null,
   "metadata": {
    "collapsed": true
   },
   "outputs": [],
   "source": []
  }
 ],
 "metadata": {
  "anaconda-cloud": {},
  "kernelspec": {
   "display_name": "Python [default]",
   "language": "python",
   "name": "python3"
  },
  "language_info": {
   "codemirror_mode": {
    "name": "ipython",
    "version": 3
   },
   "file_extension": ".py",
   "mimetype": "text/x-python",
   "name": "python",
   "nbconvert_exporter": "python",
   "pygments_lexer": "ipython3",
   "version": "3.5.2"
  }
 },
 "nbformat": 4,
 "nbformat_minor": 2
}
